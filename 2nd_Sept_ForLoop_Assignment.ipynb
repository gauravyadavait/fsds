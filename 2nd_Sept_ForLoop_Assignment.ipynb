{
 "cells": [
  {
   "cell_type": "markdown",
   "id": "309547b5",
   "metadata": {},
   "source": [
    "# For Loop - Assignment Questions"
   ]
  },
  {
   "cell_type": "markdown",
   "id": "f432d66a",
   "metadata": {},
   "source": [
    "# Basic Level:"
   ]
  },
  {
   "cell_type": "markdown",
   "id": "f03dec69",
   "metadata": {},
   "source": [
    "1. Write a Python program to print the numbers from 1 to 10 using a `for` loop."
   ]
  },
  {
   "cell_type": "code",
   "execution_count": 3,
   "id": "0aa31ae9",
   "metadata": {},
   "outputs": [
    {
     "name": "stdout",
     "output_type": "stream",
     "text": [
      "1\n",
      "2\n",
      "3\n",
      "4\n",
      "5\n",
      "6\n",
      "7\n",
      "8\n",
      "9\n",
      "10\n"
     ]
    }
   ],
   "source": [
    "for i in range(1,11):\n",
    "    print(i)"
   ]
  },
  {
   "cell_type": "markdown",
   "id": "1fe07af2",
   "metadata": {},
   "source": [
    "2. Create a program that calculates the sum of all numbers in a list using a `for` loop."
   ]
  },
  {
   "cell_type": "code",
   "execution_count": 4,
   "id": "8b99e9b6",
   "metadata": {},
   "outputs": [
    {
     "name": "stdout",
     "output_type": "stream",
     "text": [
      "45\n"
     ]
    }
   ],
   "source": [
    "list_2 = [1,2,3,4,5,6,7,8,9]\n",
    "sum_2 = 0\n",
    "for item in list_2:\n",
    "    sum_2 += item\n",
    "print(sum_2)"
   ]
  },
  {
   "cell_type": "markdown",
   "id": "f120a5c2",
   "metadata": {},
   "source": [
    "3. Write a program to print the characters of a string in reverse order using a `for` loop."
   ]
  },
  {
   "cell_type": "code",
   "execution_count": 14,
   "id": "fb2e717f",
   "metadata": {},
   "outputs": [
    {
     "name": "stdout",
     "output_type": "stream",
     "text": [
      "senilria"
     ]
    }
   ],
   "source": [
    "str_3 = \"airlines\"\n",
    "\n",
    "for i in range(len(str_3)-1, -1, -1):\n",
    "    print(str_3[i], end=\"\")"
   ]
  },
  {
   "cell_type": "markdown",
   "id": "4ad85224",
   "metadata": {},
   "source": [
    "4. Develop a program that finds the factorial of a given number using a `for` loop."
   ]
  },
  {
   "cell_type": "code",
   "execution_count": 24,
   "id": "3e95111b",
   "metadata": {},
   "outputs": [
    {
     "name": "stdout",
     "output_type": "stream",
     "text": [
      "The factorial of 4 is 120\n"
     ]
    }
   ],
   "source": [
    "def factorial(number: int) -> int:\n",
    "    fact = 5\n",
    "    for i in range(1, number+1):\n",
    "        fact *= i\n",
    "    return fact\n",
    "\n",
    "number_4 = 4    \n",
    "print(f\"The factorial of {number_4} is {factorial(number_4)}\")"
   ]
  },
  {
   "cell_type": "markdown",
   "id": "930c3282",
   "metadata": {},
   "source": [
    "5. Create a program to print the multiplication table of a given number using a `for` loop."
   ]
  },
  {
   "cell_type": "code",
   "execution_count": 7,
   "id": "ffcb6ff6",
   "metadata": {},
   "outputs": [
    {
     "name": "stdout",
     "output_type": "stream",
     "text": [
      "Enter a number: 9\n",
      "The multiplication table of 9 is:\n",
      "9 X 1 = 9\n",
      "9 X 2 = 18\n",
      "9 X 3 = 27\n",
      "9 X 4 = 36\n",
      "9 X 5 = 45\n",
      "9 X 6 = 54\n",
      "9 X 7 = 63\n",
      "9 X 8 = 72\n",
      "9 X 9 = 81\n",
      "9 X 10 = 90\n"
     ]
    }
   ],
   "source": [
    "def mult_table(num: int):\n",
    "    for i in range(1,11):\n",
    "        print(f\"{num} X {i} = {num*i}\")\n",
    "\n",
    "number_5 = int(input(\"Enter a number: \"))\n",
    "\n",
    "print(f\"The multiplication table of {number_5} is:\")\n",
    "mult_table(number_5)"
   ]
  },
  {
   "cell_type": "markdown",
   "id": "135e589d",
   "metadata": {},
   "source": [
    "6. Write a program that counts the number of even and odd numbers in a list using a `for` loop."
   ]
  },
  {
   "cell_type": "code",
   "execution_count": 9,
   "id": "1cdb189f",
   "metadata": {},
   "outputs": [
    {
     "name": "stdout",
     "output_type": "stream",
     "text": [
      "Even number count: 4\n",
      "Odd  number count: 5\n"
     ]
    }
   ],
   "source": [
    "list_6 = [1,2,3,4,5,6,7,8,9]\n",
    "\n",
    "count_even = 0\n",
    "count_odd  = 0\n",
    "for item in list_6:\n",
    "    if item%2==0:\n",
    "        count_even += 1\n",
    "    else:\n",
    "        count_odd += 1\n",
    "        \n",
    "print(f\"Even number count: {count_even}\")\n",
    "print(f\"Odd  number count: {count_odd}\")"
   ]
  },
  {
   "cell_type": "markdown",
   "id": "e4a8e2a7",
   "metadata": {},
   "source": [
    "7. Develop a program that prints the squares of numbers from 1 to 5 using a `for` loop."
   ]
  },
  {
   "cell_type": "code",
   "execution_count": 10,
   "id": "8a9c406d",
   "metadata": {},
   "outputs": [
    {
     "name": "stdout",
     "output_type": "stream",
     "text": [
      "Enter a number: 5\n",
      "1\n",
      "4\n",
      "9\n",
      "16\n",
      "25\n"
     ]
    }
   ],
   "source": [
    "number_7 = int(input(\"Enter a number: \"))\n",
    "\n",
    "for i in range(1, 6):\n",
    "    print(i ** 2)"
   ]
  },
  {
   "cell_type": "markdown",
   "id": "c07899de",
   "metadata": {},
   "source": [
    "8. Create a program to find the length of a string without using the `len()` function."
   ]
  },
  {
   "cell_type": "code",
   "execution_count": 11,
   "id": "2a1fa5a4",
   "metadata": {},
   "outputs": [
    {
     "name": "stdout",
     "output_type": "stream",
     "text": [
      "The string length is: 9\n"
     ]
    }
   ],
   "source": [
    "str_8 = \"Delicious\"\n",
    "\n",
    "length = 0\n",
    "for char in str_8:\n",
    "    length += 1\n",
    "\n",
    "print(f\"The string length is: {length}\")"
   ]
  },
  {
   "cell_type": "markdown",
   "id": "fa932b71",
   "metadata": {},
   "source": [
    "9. Write a program that calculates the average of a list of numbers using a `for` loop."
   ]
  },
  {
   "cell_type": "code",
   "execution_count": 14,
   "id": "300b25a4",
   "metadata": {},
   "outputs": [
    {
     "name": "stdout",
     "output_type": "stream",
     "text": [
      "The average is: 3.0\n"
     ]
    }
   ],
   "source": [
    "list_9 = [1,2,3,4,5]\n",
    "\n",
    "num_total = 0\n",
    "num_count = 0\n",
    "for item in list_9:\n",
    "    num_total += item\n",
    "    num_count += 1\n",
    "\n",
    "average = num_total/num_count\n",
    "print(f\"The average is: {average}\")"
   ]
  },
  {
   "cell_type": "markdown",
   "id": "330e0236",
   "metadata": {},
   "source": [
    "10. Develop a program that prints the first `n` Fibonacci numbers using a `for` loop."
   ]
  },
  {
   "cell_type": "code",
   "execution_count": 24,
   "id": "8a637149",
   "metadata": {},
   "outputs": [
    {
     "name": "stdout",
     "output_type": "stream",
     "text": [
      "Enter the value of n: 6\n",
      "Fibonacci sequence upto 6: \n",
      "0\n",
      "1\n",
      "1\n",
      "2\n",
      "3\n",
      "5\n"
     ]
    }
   ],
   "source": [
    "def addition(x: int, y: int):\n",
    "    return x + y\n",
    "\n",
    "def fibonacci_sequence(x: int):\n",
    "    # initialize the first two terms\n",
    "    a, b = 0, 1\n",
    "\n",
    "    # check if n is a valid number\n",
    "    if n <= 0:\n",
    "        print(\"Please enter a positive integer greater than 0\")\n",
    "    elif n == 1:\n",
    "        print(f\"Fibonacci sequence upto {n}: \")\n",
    "        print(a)\n",
    "    else:\n",
    "        print(f\"Fibonacci sequence upto {n}: \")\n",
    "        for i in range(n):\n",
    "            print(a)\n",
    "            c = addition(a, b)\n",
    "            # update values\n",
    "            a = b\n",
    "            b = c\n",
    "\n",
    "n = int(input(\"Enter the value of n: \"))\n",
    "fibonacci_sequence(n)\n"
   ]
  },
  {
   "cell_type": "markdown",
   "id": "f65c60cf",
   "metadata": {},
   "source": [
    "# Intermediate Level:"
   ]
  },
  {
   "cell_type": "markdown",
   "id": "258ef242",
   "metadata": {},
   "source": [
    "11. Write a program to check if a given list contains any duplicates using a `for` loop."
   ]
  },
  {
   "cell_type": "code",
   "execution_count": 33,
   "id": "1734763b",
   "metadata": {},
   "outputs": [
    {
     "name": "stdout",
     "output_type": "stream",
     "text": [
      "The list contains duplicates\n"
     ]
    }
   ],
   "source": [
    "def contains_duplicates(my_list: list):\n",
    "    # initialize flag to False\n",
    "    contains_duplicates = False\n",
    "\n",
    "    #comparing consecutive elements of list\n",
    "    # outer FOR loop starting from 1st element\n",
    "    for i in range(len(my_list)):\n",
    "        # inner FOR loop starting from 2nd element\n",
    "        for j in range(i + 1, len(my_list)):\n",
    "            if my_list[i] == my_list[j]:\n",
    "                contains_duplicates = True\n",
    "                break\n",
    "    return contains_duplicates\n",
    "\n",
    "list_11 = [1, 2, 3, 4, 5, 6, 7, 8, 9, 10, 1]\n",
    "\n",
    "print(\"The list contains duplicates\" if contains_duplicates(list_11) else \"The list doesn't contain duplicates\")\n",
    "\n"
   ]
  },
  {
   "cell_type": "markdown",
   "id": "0281efb2",
   "metadata": {},
   "source": [
    "12. Create a program that prints the prime numbers in a given range using a `for` loop."
   ]
  },
  {
   "cell_type": "code",
   "execution_count": 35,
   "id": "8f22ce64",
   "metadata": {},
   "outputs": [
    {
     "name": "stdout",
     "output_type": "stream",
     "text": [
      "Enter lower range: 1\n",
      "Enter upper range: 5\n",
      "Prime numbers between 1 and 5 are:\n",
      "2\n",
      "3\n",
      "5\n"
     ]
    }
   ],
   "source": [
    "l_range = int(input(\"Enter lower range: \"))\n",
    "u_range = int(input(\"Enter upper range: \"))\n",
    "\n",
    "print(\"Prime numbers between\", l_range, \"and\", u_range, \"are:\")\n",
    "\n",
    "for num in range(l_range, u_range + 1):\n",
    "    # prime numbers are greater than 1\n",
    "    if num > 1:\n",
    "        for i in range(2, num):\n",
    "            if (num % i) == 0:\n",
    "                break\n",
    "        else:\n",
    "            print(num)\n"
   ]
  },
  {
   "cell_type": "markdown",
   "id": "fac0b868",
   "metadata": {},
   "source": [
    "13. Develop a program that counts the number of vowels in a string using a `for` loop"
   ]
  },
  {
   "cell_type": "code",
   "execution_count": 44,
   "id": "1ec14112",
   "metadata": {},
   "outputs": [
    {
     "name": "stdout",
     "output_type": "stream",
     "text": [
      "Enter a string: Questions\n",
      "The number of vowels in the string is: 4\n"
     ]
    }
   ],
   "source": [
    "str_13 = input(\"Enter a string: \")\n",
    "vowels = set('aeiouAEIOU')\n",
    "count = 0\n",
    "\n",
    "for char in str_13:\n",
    "    if char in vowels:\n",
    "        count += 1\n",
    "\n",
    "print(\"The number of vowels in the string is:\", count)\n"
   ]
  },
  {
   "cell_type": "markdown",
   "id": "d6aa1526",
   "metadata": {},
   "source": [
    "14. Write a program to find the maximum element in a 2D list using a nested `for` loop."
   ]
  },
  {
   "cell_type": "code",
   "execution_count": 58,
   "id": "9a05392f",
   "metadata": {},
   "outputs": [
    {
     "name": "stdout",
     "output_type": "stream",
     "text": [
      "The maximum element in the 2D array is: 12\n"
     ]
    }
   ],
   "source": [
    "list_2d = [[1, 2, 3, 10]\n",
    "          ,[9, 7, 8, 12]\n",
    "          ,[6, 5, 4, 11]]\n",
    "\n",
    "#initialize the max value to 0\n",
    "maximum_element = 0\n",
    "\n",
    "#outer loop iterates over each row\n",
    "for row in list_2d:\n",
    "    #inner loop iterates over each column\n",
    "    for row_item in row:\n",
    "        if row_item > maximum_element:\n",
    "            maximum_element = row_item\n",
    "            \n",
    "print(f\"The maximum element in the 2D array is: {maximum_element}\")\n"
   ]
  },
  {
   "cell_type": "markdown",
   "id": "c0b1d186",
   "metadata": {},
   "source": [
    "15. Create a program that removes all occurrences of a specific element from a list using a `for` loop."
   ]
  },
  {
   "cell_type": "code",
   "execution_count": 60,
   "id": "c81af883",
   "metadata": {},
   "outputs": [
    {
     "name": "stdout",
     "output_type": "stream",
     "text": [
      "Enter a list item to be deleted: 1\n",
      "The modified list is: [3, 4, 5, 6, 2]\n"
     ]
    }
   ],
   "source": [
    "list_15 = [1, 3, 4, 1, 5, 6, 1, 2]\n",
    "item_to_be_deleted = int(input(\"Enter a list item to be deleted: \"))\n",
    "\n",
    "for item in list_15:\n",
    "    if item == item_to_be_deleted:\n",
    "        list_15.remove(item_to_be_deleted)\n",
    "\n",
    "print(\"The modified list is:\", list_15)"
   ]
  },
  {
   "cell_type": "markdown",
   "id": "0eb20ba2",
   "metadata": {},
   "source": [
    "16. Develop a program that generates a multiplication table for numbers from 1 to 5 using a nested `for` loop."
   ]
  },
  {
   "cell_type": "code",
   "execution_count": 73,
   "id": "39de4c36",
   "metadata": {},
   "outputs": [
    {
     "name": "stdout",
     "output_type": "stream",
     "text": [
      "The multiplication table of 1 is:\n",
      "1 X 1 = 1\n",
      "1 X 2 = 2\n",
      "1 X 3 = 3\n",
      "1 X 4 = 4\n",
      "1 X 5 = 5\n",
      "1 X 6 = 6\n",
      "1 X 7 = 7\n",
      "1 X 8 = 8\n",
      "1 X 9 = 9\n",
      "1 X 10 = 10\n",
      "\n",
      "The multiplication table of 2 is:\n",
      "2 X 1 = 2\n",
      "2 X 2 = 4\n",
      "2 X 3 = 6\n",
      "2 X 4 = 8\n",
      "2 X 5 = 10\n",
      "2 X 6 = 12\n",
      "2 X 7 = 14\n",
      "2 X 8 = 16\n",
      "2 X 9 = 18\n",
      "2 X 10 = 20\n",
      "\n",
      "The multiplication table of 3 is:\n",
      "3 X 1 = 3\n",
      "3 X 2 = 6\n",
      "3 X 3 = 9\n",
      "3 X 4 = 12\n",
      "3 X 5 = 15\n",
      "3 X 6 = 18\n",
      "3 X 7 = 21\n",
      "3 X 8 = 24\n",
      "3 X 9 = 27\n",
      "3 X 10 = 30\n",
      "\n",
      "The multiplication table of 4 is:\n",
      "4 X 1 = 4\n",
      "4 X 2 = 8\n",
      "4 X 3 = 12\n",
      "4 X 4 = 16\n",
      "4 X 5 = 20\n",
      "4 X 6 = 24\n",
      "4 X 7 = 28\n",
      "4 X 8 = 32\n",
      "4 X 9 = 36\n",
      "4 X 10 = 40\n",
      "\n",
      "The multiplication table of 5 is:\n",
      "5 X 1 = 5\n",
      "5 X 2 = 10\n",
      "5 X 3 = 15\n",
      "5 X 4 = 20\n",
      "5 X 5 = 25\n",
      "5 X 6 = 30\n",
      "5 X 7 = 35\n",
      "5 X 8 = 40\n",
      "5 X 9 = 45\n",
      "5 X 10 = 50\n",
      "\n"
     ]
    }
   ],
   "source": [
    "def multiplication_table():\n",
    "    for number in range(1,6):\n",
    "        print(f\"The multiplication table of {number} is:\")\n",
    "        for i in range(1,11):\n",
    "            print(f\"{number} X {i} = {number*i}\")\n",
    "        print()\n",
    "\n",
    "multiplication_table()"
   ]
  },
  {
   "cell_type": "markdown",
   "id": "12978de4",
   "metadata": {},
   "source": [
    "17. Write a program that converts a list of Fahrenheit temperatures to Celsius using a `for` loop"
   ]
  },
  {
   "cell_type": "code",
   "execution_count": 74,
   "id": "e0dcbbe5",
   "metadata": {},
   "outputs": [
    {
     "name": "stdout",
     "output_type": "stream",
     "text": [
      "Fahrenheit temperatures: [32, 68, 77, 104, 122]\n",
      "Celsius temperatures: [0.0, 20.0, 25.0, 40.0, 50.0]\n"
     ]
    }
   ],
   "source": [
    "fahrenheit_temperatures = [32, 68, 77, 104, 122]\n",
    "celsius_temperatures = []\n",
    "\n",
    "for temp in fahrenheit_temperatures:\n",
    "    celsius = (temp - 32) * 5 / 9\n",
    "    celsius_temperatures.append(celsius)\n",
    "\n",
    "print(\"Fahrenheit temperatures:\", fahrenheit_temperatures)\n",
    "print(\"Celsius temperatures:\", celsius_temperatures)\n"
   ]
  },
  {
   "cell_type": "markdown",
   "id": "b2b77de3",
   "metadata": {},
   "source": [
    "18. Create a program to print the common elements from two lists using a `for` loop."
   ]
  },
  {
   "cell_type": "code",
   "execution_count": 78,
   "id": "b98f0fce",
   "metadata": {},
   "outputs": [
    {
     "name": "stdout",
     "output_type": "stream",
     "text": [
      "The common elements form both lists are: \n",
      "2\n",
      "1\n",
      "4\n",
      "9\n"
     ]
    }
   ],
   "source": [
    "first_list  = [2, 1, 4, 3, 16, 5, 7, 9]\n",
    "second_list = [6, 1, 8, 10, 2, 15, 9, 4]\n",
    "\n",
    "print(\"The common elements form both lists are: \")\n",
    "for item in first_list:\n",
    "    if item in second_list:\n",
    "        print (item)"
   ]
  },
  {
   "cell_type": "markdown",
   "id": "7f168645",
   "metadata": {},
   "source": [
    "19. Develop a program that prints the pattern of right-angled triangles using a `for` loop. Use ‘*’ to draw the pattern"
   ]
  },
  {
   "cell_type": "code",
   "execution_count": 82,
   "id": "b54331c3",
   "metadata": {},
   "outputs": [
    {
     "name": "stdout",
     "output_type": "stream",
     "text": [
      "Enter the number of rows: 5\n",
      "*\n",
      "**\n",
      "***\n",
      "****\n",
      "*****\n"
     ]
    }
   ],
   "source": [
    "n = int(input(\"Enter the number of rows: \"))\n",
    "\n",
    "for i in range(1, n + 1):\n",
    "    for j in range(1, i + 1):\n",
    "        print(\"*\", end=\"\")\n",
    "    print()"
   ]
  },
  {
   "cell_type": "markdown",
   "id": "aaa6ee10",
   "metadata": {},
   "source": [
    "20. Write a program to find the greatest common divisor (GCD) of two numbers using a `for` loop."
   ]
  },
  {
   "cell_type": "code",
   "execution_count": 11,
   "id": "6687db7b",
   "metadata": {},
   "outputs": [
    {
     "name": "stdout",
     "output_type": "stream",
     "text": [
      "Enter two numbers separated by a comma: 12,30\n",
      "The greatest common divisor of 12 and 30 is: 6\n"
     ]
    }
   ],
   "source": [
    "def greatest_common_divisor(x: int, y: int):\n",
    "    gcd = 0\n",
    "    for i in range(1, x + 1):\n",
    "        if (x % i == 0) & (y % i == 0):\n",
    "            gcd = i\n",
    "    return gcd\n",
    "\n",
    "num1, num2 = input(\"Enter two numbers separated by a comma: \").split(',')\n",
    "print(f\"The greatest common divisor of {num1} and {num2} is:\", greatest_common_divisor(int(num1), int(num2)))"
   ]
  },
  {
   "cell_type": "markdown",
   "id": "58245e36",
   "metadata": {},
   "source": [
    "# Advanced Level:"
   ]
  },
  {
   "cell_type": "markdown",
   "id": "ea20600c",
   "metadata": {},
   "source": [
    "21. Create a program that calculates the sum of the digits of numbers in a list using a list comprehension."
   ]
  },
  {
   "cell_type": "code",
   "execution_count": 18,
   "id": "d3d18a7a",
   "metadata": {},
   "outputs": [
    {
     "name": "stdout",
     "output_type": "stream",
     "text": [
      "The sum of the digits of numbers in list [123, 234, 345, 456] is:   [6, 9, 12, 15]\n"
     ]
    }
   ],
   "source": [
    "list_21 = [123, 234, 345, 456]\n",
    "\n",
    "sum_21 = [sum(int(digit) for digit in str(number)) for number in list_21]\n",
    "print(f\"The sum of the digits of numbers in list {list_21} is:   {sum_21}\")"
   ]
  },
  {
   "cell_type": "markdown",
   "id": "38eb26c4",
   "metadata": {},
   "source": [
    "22. Write a program to find the prime factors of a given number using a `for` loop and list comprehension."
   ]
  },
  {
   "cell_type": "code",
   "execution_count": 21,
   "id": "df3a62c9",
   "metadata": {},
   "outputs": [
    {
     "name": "stdout",
     "output_type": "stream",
     "text": [
      "Enter a positive integer: 24\n",
      "The prime factors of 24 are: [2, 3]\n"
     ]
    }
   ],
   "source": [
    "num_22 = int(input(\"Enter a positive integer: \"))\n",
    "\n",
    "prime_factors = [i for i in range(2, num_22 + 1) if num_22 % i == 0 \n",
    "                 and all(i % j != 0 for j in range(2, i))]\n",
    "\n",
    "print(\"The prime factors of\", num_22, \"are:\", prime_factors)\n"
   ]
  },
  {
   "cell_type": "markdown",
   "id": "ee85d047",
   "metadata": {},
   "source": [
    "23. Develop a program that extracts unique elements from a list and stores them in a new list using a list comprehension."
   ]
  },
  {
   "cell_type": "code",
   "execution_count": 27,
   "id": "71886fde",
   "metadata": {},
   "outputs": [
    {
     "name": "stdout",
     "output_type": "stream",
     "text": [
      "Unique elements:  [1, 2, 3, 4, 5, 6]\n"
     ]
    }
   ],
   "source": [
    "list_23 = [1, 2, 2, 3, 4, 3, 5, 6, 5]\n",
    "\n",
    "unique_elements = [item for i, item in enumerate(list_23) if item not in list_23[:i]]\n",
    "\n",
    "print(f\"Unique elements: \", unique_elements)"
   ]
  },
  {
   "cell_type": "markdown",
   "id": "a3fa29b6",
   "metadata": {},
   "source": [
    "24. Create a program that generates a list of all palindromic numbers up to a specified limit using a list comprehension."
   ]
  },
  {
   "cell_type": "code",
   "execution_count": 31,
   "id": "9e345665",
   "metadata": {},
   "outputs": [
    {
     "name": "stdout",
     "output_type": "stream",
     "text": [
      "Enter the limit: 121\n",
      "The palindromic numbers up to 121 are: [1, 2, 3, 4, 5, 6, 7, 8, 9, 11, 22, 33, 44, 55, 66, 77, 88, 99, 101, 111, 121]\n"
     ]
    }
   ],
   "source": [
    "limit = int(input(\"Enter the limit: \"))\n",
    "\n",
    "palindromic_numbers = [num for num in range(1, limit + 1) if str(num) == str(num)[::-1]]\n",
    "\n",
    "print(\"The palindromic numbers up to\", limit, \"are:\", palindromic_numbers)\n"
   ]
  },
  {
   "cell_type": "markdown",
   "id": "a256fc5a",
   "metadata": {},
   "source": [
    "25. Write a program to flatten a nested list using list comprehension."
   ]
  },
  {
   "cell_type": "code",
   "execution_count": 36,
   "id": "27fdf247",
   "metadata": {},
   "outputs": [
    {
     "name": "stdout",
     "output_type": "stream",
     "text": [
      "The flattened list is: [1, 6, 3, 5, 2, 4, 8]\n"
     ]
    }
   ],
   "source": [
    "list_25 = [[1, 6], [3, 5, 2], [4, 8]]\n",
    "\n",
    "flattened_list = [item for sublist in list_25 for item in sublist]\n",
    "print(f\"The flattened list is: {flattened_list}\")"
   ]
  },
  {
   "cell_type": "markdown",
   "id": "92401ee1",
   "metadata": {},
   "source": [
    "26. Develop a program that computes the sum of even and odd numbers in a list separately using list \n",
    "comprehension."
   ]
  },
  {
   "cell_type": "code",
   "execution_count": 48,
   "id": "3e274c8c",
   "metadata": {},
   "outputs": [
    {
     "name": "stdout",
     "output_type": "stream",
     "text": [
      "The sum of even numbers is: 14\n",
      "The sum of odd numbers is: 17\n"
     ]
    }
   ],
   "source": [
    "list_26 = [1, 2, 2, 3, 4, 3, 5, 6, 5]\n",
    "\n",
    "sum_even = sum([item for item in list_26 if item % 2 == 0])\n",
    "sum_odd  = sum([item for item in list_26 if item % 2 != 0])\n",
    "\n",
    "print(f\"The sum of even numbers is: {sum_even}\")\n",
    "print(f\"The sum of odd numbers is: {sum_odd}\")"
   ]
  },
  {
   "cell_type": "markdown",
   "id": "33b82119",
   "metadata": {},
   "source": [
    "27. Create a program that generates a list of squares of odd numbers between 1 and 10 using list \n",
    "comprehension."
   ]
  },
  {
   "cell_type": "code",
   "execution_count": 52,
   "id": "340cb1d0",
   "metadata": {},
   "outputs": [
    {
     "name": "stdout",
     "output_type": "stream",
     "text": [
      "The list of squares of odd numbers between 1 to 10 is: [1, 9, 25, 49, 81]\n"
     ]
    }
   ],
   "source": [
    "squares_of_odd_num = [num ** 2 for num in range(1,11) if num % 2 != 0]\n",
    "print(f\"The list of squares of odd numbers between 1 to 10 is: {squares_of_odd_num}\")"
   ]
  },
  {
   "cell_type": "markdown",
   "id": "fae29306",
   "metadata": {},
   "source": [
    "28. Write a program that combines two lists into a dictionary using list comprehension."
   ]
  },
  {
   "cell_type": "code",
   "execution_count": 55,
   "id": "68205290",
   "metadata": {},
   "outputs": [
    {
     "name": "stdout",
     "output_type": "stream",
     "text": [
      "The combined dictionary is: {'a': 1, 'b': 2, 'c': 3, 'd': 4}\n"
     ]
    }
   ],
   "source": [
    "keys_list   = ['a', 'b', 'c', 'd']\n",
    "values_list = [1, 2, 3, 4]\n",
    "\n",
    "dictionary = {keys_list[i]: values_list[i] for i in range(len(keys_list))}\n",
    "print(f\"The combined dictionary is: {dictionary}\")"
   ]
  },
  {
   "cell_type": "markdown",
   "id": "9860b852",
   "metadata": {},
   "source": [
    "29. Develop a program that extracts the vowels from a string and stores them in a list using list comprehension."
   ]
  },
  {
   "cell_type": "code",
   "execution_count": 57,
   "id": "05aa064c",
   "metadata": {},
   "outputs": [
    {
     "name": "stdout",
     "output_type": "stream",
     "text": [
      "The list with vowels is: ['A', 'a', 'i', 'a', 'i', 'o']\n"
     ]
    }
   ],
   "source": [
    "str_29 = \"Assassination\"\n",
    "vowels = \"aeiouAEIOU\"\n",
    "\n",
    "list_with_vowels = [char for char in str_29 if char in vowels]\n",
    "print(f\"The list with vowels is: {list_with_vowels}\")"
   ]
  },
  {
   "cell_type": "markdown",
   "id": "2d53aca5",
   "metadata": {},
   "source": [
    "30. Create a program that removes all non-numeric characters from a list of strings using list comprehension."
   ]
  },
  {
   "cell_type": "code",
   "execution_count": 64,
   "id": "f7b077e4",
   "metadata": {},
   "outputs": [
    {
     "name": "stdout",
     "output_type": "stream",
     "text": [
      "The list with numeric characters is: ['11', '4', '5', '88']\n"
     ]
    }
   ],
   "source": [
    "list_of_strings = ['a1b1', 'b4c!', '@5&', '88*']\n",
    "\n",
    "numeric_characters = [''.join(char for char in string if char.isdigit()) for string in list_of_strings]\n",
    "print(f\"The list with numeric characters is: {numeric_characters}\")"
   ]
  },
  {
   "cell_type": "markdown",
   "id": "d7123c92",
   "metadata": {},
   "source": [
    "# Challenge Level:"
   ]
  },
  {
   "cell_type": "markdown",
   "id": "ff019ffd",
   "metadata": {},
   "source": [
    "31. Write a program to generate a list of prime numbers using the Sieve of Eratosthenes algorithm and list comprehension."
   ]
  },
  {
   "cell_type": "code",
   "execution_count": 7,
   "id": "3337dbe7",
   "metadata": {},
   "outputs": [
    {
     "name": "stdout",
     "output_type": "stream",
     "text": [
      "Following are the prime numbers upto 50: [2, 3, 5, 7, 11, 13, 17, 19, 23, 29, 31, 37, 41, 43, 47]\n"
     ]
    }
   ],
   "source": [
    "def sieve_of_eratosthenes(num):\n",
    "    #initialize a list of size 'num' with True values. \n",
    "    list_all = [True for i in range(num+1)]\n",
    "    \n",
    "    #we can ignore 0 and 1 as both are neither prime nor composite. So start the loop from 2\n",
    "    p = 2\n",
    "    \n",
    "    #check multiples of p number until the limit is reached \n",
    "    while (p * p <= num):\n",
    "        if (list_all[p] == True):\n",
    "            #loop through the multiples of p, excluding p itself\n",
    "            for i in range(p * p, num+1, p):\n",
    "                #We will mark all composite values to false\n",
    "                list_all[i] = False\n",
    "        p += 1\n",
    "        \n",
    "    #return all indexes that contain true values\n",
    "    return [p for p in range(2, num+1) if list_all[p]]\n",
    "\n",
    "\n",
    "num_limit = 50\n",
    "print(f\"Following are the prime numbers upto {num_limit}: {sieve_of_eratosthenes(num_limit)}\")"
   ]
  },
  {
   "cell_type": "markdown",
   "id": "f4fdeaa4",
   "metadata": {},
   "source": [
    "32. Create a program that generates a list of all Pythagorean triplets up to a specified limit using list comprehension."
   ]
  },
  {
   "cell_type": "code",
   "execution_count": 14,
   "id": "9584929e",
   "metadata": {},
   "outputs": [
    {
     "name": "stdout",
     "output_type": "stream",
     "text": [
      "Enter the upper limit: 10\n",
      "[(3, 4, 5), (6, 8, 10)]\n"
     ]
    }
   ],
   "source": [
    "limit_32 = int(input(\"Enter the upper limit: \"))\n",
    "pythagorean_triplets = [(a, b, c) for c in range(1, limit_32 + 1) for b in range(1, c) for a in range(1, b) \n",
    "                        if a**2 + b**2 == c**2]\n",
    "print(pythagorean_triplets)\n"
   ]
  },
  {
   "cell_type": "markdown",
   "id": "0bd7de79",
   "metadata": {},
   "source": [
    "33. Develop a program that generates a list of all possible combinations of two lists using list comprehension."
   ]
  },
  {
   "cell_type": "code",
   "execution_count": 18,
   "id": "4735bb79",
   "metadata": {},
   "outputs": [
    {
     "name": "stdout",
     "output_type": "stream",
     "text": [
      "All possible combinations of two lists are: [('a', 1), ('a', 2), ('a', 3), ('a', 4), ('b', 1), ('b', 2), ('b', 3), ('b', 4), ('c', 1), ('c', 2), ('c', 3), ('c', 4), ('d', 1), ('d', 2), ('d', 3), ('d', 4)]\n"
     ]
    }
   ],
   "source": [
    "first_lst = ['a', 'b', 'c', 'd']\n",
    "second_lst = [1, 2, 3, 4]\n",
    "\n",
    "combined_lst = [(i, j) for i in first_lst for j in second_lst]\n",
    "print(f\"All possible combinations of two lists are: {combined_lst}\")"
   ]
  },
  {
   "cell_type": "markdown",
   "id": "d238f05a",
   "metadata": {},
   "source": [
    "34. Write a program that calculates the mean, median, and mode of a list of numbers using list \n",
    "comprehension."
   ]
  },
  {
   "cell_type": "code",
   "execution_count": 32,
   "id": "11f722f2",
   "metadata": {},
   "outputs": [
    {
     "name": "stdout",
     "output_type": "stream",
     "text": [
      "The mean of the list is: 3.7142857142857144\n",
      "The median of the list is: 4\n",
      "The mode of the list is: 5\n"
     ]
    }
   ],
   "source": [
    "numbers_list = [1, 2, 3, 4, 5, 5, 6]\n",
    "\n",
    "# n = number of values\n",
    "n = len(numbers_list)\n",
    "\n",
    "#Calculate Mean\n",
    "mean = sum(numbers_list)/n\n",
    "print(f\"The mean of the list is: {mean}\")\n",
    "\n",
    "#Calculate Median\n",
    "median = (numbers_list[n//2] if n % 2 == 1 else sum(numbers_list[n//2-1:n//2+1])/2)\n",
    "print(f\"The median of the list is: {median}\")\n",
    "\n",
    "#Calculate Mode\n",
    "mode = max(numbers_list, key=numbers_list.count)\n",
    "print(f\"The mode of the list is: {mode}\")"
   ]
  },
  {
   "cell_type": "markdown",
   "id": "9e15b969",
   "metadata": {},
   "source": [
    "35. Create a program that generates Pascal's triangle up to a specified number of rows using list \n",
    "comprehension."
   ]
  },
  {
   "cell_type": "code",
   "execution_count": 77,
   "id": "da22e5c0",
   "metadata": {},
   "outputs": [
    {
     "name": "stdout",
     "output_type": "stream",
     "text": [
      "Enter the number of rows: 6\n",
      "Pascal's triangle up to 6 rows is: \n",
      "[[1], [1, 1], [1, 2, 1], [1, 3, 3, 1], [1, 4, 6, 4, 1], [1, 5, 10, 10, 5, 1]]\n"
     ]
    }
   ],
   "source": [
    "rows = int(input(\"Enter the number of rows: \"))\n",
    "\n",
    "#make a skeleton for pascal triangle with all 1's \n",
    "p_triangle = [[1] * (i + 1) for i in range(rows)]\n",
    "\n",
    "for i in range(rows):\n",
    "    for j in range(1, i):\n",
    "        p_triangle[i][j] = p_triangle[i-1][j-1] + p_triangle[i-1][j]\n",
    "print(f\"Pascal's triangle up to {rows} rows is: \\n{p_triangle}\")"
   ]
  },
  {
   "cell_type": "markdown",
   "id": "f4be4a5f",
   "metadata": {},
   "source": [
    "36. Develop a program that calculates the sum of the digits of a factorial of numbers from 1 to 5 using list comprehension."
   ]
  },
  {
   "cell_type": "code",
   "execution_count": 108,
   "id": "599d392b",
   "metadata": {},
   "outputs": [
    {
     "name": "stdout",
     "output_type": "stream",
     "text": [
      "Sum of factorial digits: [1, 2, 6, 6, 3]\n"
     ]
    }
   ],
   "source": [
    "#factorials\n",
    "factorials = []\n",
    "for i in range(1, 6):\n",
    "    if i == 1:\n",
    "        factorials.append(1)\n",
    "    else:\n",
    "        factorials.append(factorials[-1] * i)\n",
    "\n",
    "#sum of digits of factorials\n",
    "sum_of_digits = [sum(int(digit) for digit in str(factorial)) for factorial in factorials]\n",
    "print(f\"Sum of factorial digits: {sum_of_digits}\")"
   ]
  },
  {
   "cell_type": "markdown",
   "id": "34ca5765",
   "metadata": {},
   "source": [
    "37. Write a program that finds the longest word in a sentence using list comprehension."
   ]
  },
  {
   "cell_type": "code",
   "execution_count": 115,
   "id": "df01fd0a",
   "metadata": {},
   "outputs": [
    {
     "name": "stdout",
     "output_type": "stream",
     "text": [
      "The longest word is: Honesty\n"
     ]
    }
   ],
   "source": [
    "sentence = \"Honesty is the best policy\"\n",
    "words = sentence.split()\n",
    "words\n",
    "longest_word = max(words, key=len)\n",
    "print(f\"The longest word is: {longest_word}\")"
   ]
  },
  {
   "cell_type": "markdown",
   "id": "b2f6a3c5",
   "metadata": {},
   "source": [
    "38. Create a program that filters a list of strings to include only those with more than three vowels using list comprehension."
   ]
  },
  {
   "cell_type": "code",
   "execution_count": 116,
   "id": "220b517a",
   "metadata": {},
   "outputs": [
    {
     "name": "stdout",
     "output_type": "stream",
     "text": [
      "The words with more the 3 vowels are: ['pomegranate', 'pineapple']\n"
     ]
    }
   ],
   "source": [
    "list_of_strings = [\"banana\", \"grapes\", \"pomegranate\", \"apple\", \"pineapple\"]\n",
    "vowels = \"aeiouAEIOU\"\n",
    "\n",
    "filtered_list = [string for string in list_of_strings if sum(string.count(vowel) for vowel in vowels) > 3]\n",
    "print(f\"The words with more the 3 vowels are: {filtered_list}\")"
   ]
  },
  {
   "cell_type": "markdown",
   "id": "18ba99a0",
   "metadata": {},
   "source": [
    "39. Develop a program that calculates the sum of the digits of numbers from 1 to 1000 using list \n",
    "comprehension."
   ]
  },
  {
   "cell_type": "code",
   "execution_count": 118,
   "id": "5b35e275",
   "metadata": {},
   "outputs": [
    {
     "name": "stdout",
     "output_type": "stream",
     "text": [
      "The sum of digits from 1 to 1000: [1, 2, 3, 4, 5, 6, 7, 8, 9, 1, 2, 3, 4, 5, 6, 7, 8, 9, 10, 2, 3, 4, 5, 6, 7, 8, 9, 10, 11, 3, 4, 5, 6, 7, 8, 9, 10, 11, 12, 4, 5, 6, 7, 8, 9, 10, 11, 12, 13, 5, 6, 7, 8, 9, 10, 11, 12, 13, 14, 6, 7, 8, 9, 10, 11, 12, 13, 14, 15, 7, 8, 9, 10, 11, 12, 13, 14, 15, 16, 8, 9, 10, 11, 12, 13, 14, 15, 16, 17, 9, 10, 11, 12, 13, 14, 15, 16, 17, 18, 1, 2, 3, 4, 5, 6, 7, 8, 9, 10, 2, 3, 4, 5, 6, 7, 8, 9, 10, 11, 3, 4, 5, 6, 7, 8, 9, 10, 11, 12, 4, 5, 6, 7, 8, 9, 10, 11, 12, 13, 5, 6, 7, 8, 9, 10, 11, 12, 13, 14, 6, 7, 8, 9, 10, 11, 12, 13, 14, 15, 7, 8, 9, 10, 11, 12, 13, 14, 15, 16, 8, 9, 10, 11, 12, 13, 14, 15, 16, 17, 9, 10, 11, 12, 13, 14, 15, 16, 17, 18, 10, 11, 12, 13, 14, 15, 16, 17, 18, 19, 2, 3, 4, 5, 6, 7, 8, 9, 10, 11, 3, 4, 5, 6, 7, 8, 9, 10, 11, 12, 4, 5, 6, 7, 8, 9, 10, 11, 12, 13, 5, 6, 7, 8, 9, 10, 11, 12, 13, 14, 6, 7, 8, 9, 10, 11, 12, 13, 14, 15, 7, 8, 9, 10, 11, 12, 13, 14, 15, 16, 8, 9, 10, 11, 12, 13, 14, 15, 16, 17, 9, 10, 11, 12, 13, 14, 15, 16, 17, 18, 10, 11, 12, 13, 14, 15, 16, 17, 18, 19, 11, 12, 13, 14, 15, 16, 17, 18, 19, 20, 3, 4, 5, 6, 7, 8, 9, 10, 11, 12, 4, 5, 6, 7, 8, 9, 10, 11, 12, 13, 5, 6, 7, 8, 9, 10, 11, 12, 13, 14, 6, 7, 8, 9, 10, 11, 12, 13, 14, 15, 7, 8, 9, 10, 11, 12, 13, 14, 15, 16, 8, 9, 10, 11, 12, 13, 14, 15, 16, 17, 9, 10, 11, 12, 13, 14, 15, 16, 17, 18, 10, 11, 12, 13, 14, 15, 16, 17, 18, 19, 11, 12, 13, 14, 15, 16, 17, 18, 19, 20, 12, 13, 14, 15, 16, 17, 18, 19, 20, 21, 4, 5, 6, 7, 8, 9, 10, 11, 12, 13, 5, 6, 7, 8, 9, 10, 11, 12, 13, 14, 6, 7, 8, 9, 10, 11, 12, 13, 14, 15, 7, 8, 9, 10, 11, 12, 13, 14, 15, 16, 8, 9, 10, 11, 12, 13, 14, 15, 16, 17, 9, 10, 11, 12, 13, 14, 15, 16, 17, 18, 10, 11, 12, 13, 14, 15, 16, 17, 18, 19, 11, 12, 13, 14, 15, 16, 17, 18, 19, 20, 12, 13, 14, 15, 16, 17, 18, 19, 20, 21, 13, 14, 15, 16, 17, 18, 19, 20, 21, 22, 5, 6, 7, 8, 9, 10, 11, 12, 13, 14, 6, 7, 8, 9, 10, 11, 12, 13, 14, 15, 7, 8, 9, 10, 11, 12, 13, 14, 15, 16, 8, 9, 10, 11, 12, 13, 14, 15, 16, 17, 9, 10, 11, 12, 13, 14, 15, 16, 17, 18, 10, 11, 12, 13, 14, 15, 16, 17, 18, 19, 11, 12, 13, 14, 15, 16, 17, 18, 19, 20, 12, 13, 14, 15, 16, 17, 18, 19, 20, 21, 13, 14, 15, 16, 17, 18, 19, 20, 21, 22, 14, 15, 16, 17, 18, 19, 20, 21, 22, 23, 6, 7, 8, 9, 10, 11, 12, 13, 14, 15, 7, 8, 9, 10, 11, 12, 13, 14, 15, 16, 8, 9, 10, 11, 12, 13, 14, 15, 16, 17, 9, 10, 11, 12, 13, 14, 15, 16, 17, 18, 10, 11, 12, 13, 14, 15, 16, 17, 18, 19, 11, 12, 13, 14, 15, 16, 17, 18, 19, 20, 12, 13, 14, 15, 16, 17, 18, 19, 20, 21, 13, 14, 15, 16, 17, 18, 19, 20, 21, 22, 14, 15, 16, 17, 18, 19, 20, 21, 22, 23, 15, 16, 17, 18, 19, 20, 21, 22, 23, 24, 7, 8, 9, 10, 11, 12, 13, 14, 15, 16, 8, 9, 10, 11, 12, 13, 14, 15, 16, 17, 9, 10, 11, 12, 13, 14, 15, 16, 17, 18, 10, 11, 12, 13, 14, 15, 16, 17, 18, 19, 11, 12, 13, 14, 15, 16, 17, 18, 19, 20, 12, 13, 14, 15, 16, 17, 18, 19, 20, 21, 13, 14, 15, 16, 17, 18, 19, 20, 21, 22, 14, 15, 16, 17, 18, 19, 20, 21, 22, 23, 15, 16, 17, 18, 19, 20, 21, 22, 23, 24, 16, 17, 18, 19, 20, 21, 22, 23, 24, 25, 8, 9, 10, 11, 12, 13, 14, 15, 16, 17, 9, 10, 11, 12, 13, 14, 15, 16, 17, 18, 10, 11, 12, 13, 14, 15, 16, 17, 18, 19, 11, 12, 13, 14, 15, 16, 17, 18, 19, 20, 12, 13, 14, 15, 16, 17, 18, 19, 20, 21, 13, 14, 15, 16, 17, 18, 19, 20, 21, 22, 14, 15, 16, 17, 18, 19, 20, 21, 22, 23, 15, 16, 17, 18, 19, 20, 21, 22, 23, 24, 16, 17, 18, 19, 20, 21, 22, 23, 24, 25, 17, 18, 19, 20, 21, 22, 23, 24, 25, 26, 9, 10, 11, 12, 13, 14, 15, 16, 17, 18, 10, 11, 12, 13, 14, 15, 16, 17, 18, 19, 11, 12, 13, 14, 15, 16, 17, 18, 19, 20, 12, 13, 14, 15, 16, 17, 18, 19, 20, 21, 13, 14, 15, 16, 17, 18, 19, 20, 21, 22, 14, 15, 16, 17, 18, 19, 20, 21, 22, 23, 15, 16, 17, 18, 19, 20, 21, 22, 23, 24, 16, 17, 18, 19, 20, 21, 22, 23, 24, 25, 17, 18, 19, 20, 21, 22, 23, 24, 25, 26, 18, 19, 20, 21, 22, 23, 24, 25, 26, 27, 1]\n"
     ]
    }
   ],
   "source": [
    "digits_sum = [sum(int(digit) for digit in str(num)) for num in range(1,1001)]\n",
    "print(f\"The sum of digits from 1 to 1000: {digits_sum}\")"
   ]
  },
  {
   "cell_type": "markdown",
   "id": "7935a912",
   "metadata": {},
   "source": [
    "40. Write a program that generates a list of prime palindromic numbers using list comprehension."
   ]
  },
  {
   "cell_type": "code",
   "execution_count": 4,
   "id": "9981628b",
   "metadata": {},
   "outputs": [
    {
     "name": "stdout",
     "output_type": "stream",
     "text": [
      "Enter the limit: 110\n",
      "The palindromic numbers up to 110 are: [1, 2, 3, 4, 5, 6, 7, 8, 9, 11, 22, 33, 44, 55, 66, 77, 88, 99, 101]\n",
      "The prime palindromic numbers up to 110 are: [1, 2, 3, 5, 7, 11, 101]\n"
     ]
    }
   ],
   "source": [
    "limit_40 = int(input(\"Enter the limit: \"))\n",
    "\n",
    "# list of palindrome numbers\n",
    "palind_num = [num for num in range(1, limit_40 + 1) if str(num) == str(num)[::-1]]\n",
    "print(\"The palindromic numbers up to\", limit_40, \"are:\", palind_num)\n",
    "\n",
    "# prime palindrome numbers\n",
    "prime_palind_num = [num for num in palind_num if all(num % i != 0 for i in range(2, num))]\n",
    "print(\"The prime palindromic numbers up to\", limit_40, \"are:\", prime_palind_num)"
   ]
  }
 ],
 "metadata": {
  "kernelspec": {
   "display_name": "Python 3 (ipykernel)",
   "language": "python",
   "name": "python3"
  },
  "language_info": {
   "codemirror_mode": {
    "name": "ipython",
    "version": 3
   },
   "file_extension": ".py",
   "mimetype": "text/x-python",
   "name": "python",
   "nbconvert_exporter": "python",
   "pygments_lexer": "ipython3",
   "version": "3.9.12"
  }
 },
 "nbformat": 4,
 "nbformat_minor": 5
}
