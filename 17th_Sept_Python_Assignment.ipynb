{
 "cells": [
  {
   "cell_type": "markdown",
   "id": "e3478040",
   "metadata": {},
   "source": [
    "## For Loop:"
   ]
  },
  {
   "cell_type": "markdown",
   "id": "0d66f2c7",
   "metadata": {},
   "source": [
    "1. Write a Python program to print numbers from 1 to 10 using a for loop."
   ]
  },
  {
   "cell_type": "code",
   "execution_count": 1,
   "id": "f03e9571",
   "metadata": {},
   "outputs": [
    {
     "name": "stdout",
     "output_type": "stream",
     "text": [
      "1\n",
      "2\n",
      "3\n",
      "4\n",
      "5\n",
      "6\n",
      "7\n",
      "8\n",
      "9\n",
      "10\n"
     ]
    }
   ],
   "source": [
    "for i in range(1,11):\n",
    "    print(i)"
   ]
  },
  {
   "cell_type": "markdown",
   "id": "045a420c",
   "metadata": {},
   "source": [
    "2. Explain the difference between a for loop and a while loop in Python."
   ]
  },
  {
   "cell_type": "markdown",
   "id": "e75ce794",
   "metadata": {},
   "source": [
    "The FOR loop is used to iterate over a sequence of items, such as a tuple, list, string, or range. The loop will execute a block of statements for each item in the sequence. \n",
    "\n",
    "The WHILE loop is used to repeatedly execute a block of statements while a condition is true. The loop will continue to run as long as the condition remains true."
   ]
  },
  {
   "cell_type": "markdown",
   "id": "01852753",
   "metadata": {},
   "source": [
    "3. Write a Python program to calculate the sum of all numbers from 1 to 100 using a for loop."
   ]
  },
  {
   "cell_type": "code",
   "execution_count": 2,
   "id": "a834b60e",
   "metadata": {},
   "outputs": [
    {
     "name": "stdout",
     "output_type": "stream",
     "text": [
      "The sum of all numbers from 1 to 100 is:  5050\n"
     ]
    }
   ],
   "source": [
    "sum_3 = 0\n",
    "for i in range(1, 101):\n",
    "    sum_3 += i\n",
    "print(\"The sum of all numbers from 1 to 100 is: \", sum_3)"
   ]
  },
  {
   "cell_type": "markdown",
   "id": "871d4334",
   "metadata": {},
   "source": [
    "4. How do you iterate through a list using a for loop in Python?"
   ]
  },
  {
   "cell_type": "code",
   "execution_count": 4,
   "id": "194bb48a",
   "metadata": {},
   "outputs": [
    {
     "name": "stdout",
     "output_type": "stream",
     "text": [
      "1\n",
      "2\n",
      "3\n",
      "4\n",
      "5\n"
     ]
    }
   ],
   "source": [
    "# Here is how we can iterate\n",
    "list_4 = [1, 2, 3, 4, 5]\n",
    "\n",
    "\n",
    "#The for loop iterates over each item in the list and assigns it to the variable item. \n",
    "#You can then perform any desired operations on item within the loop. \n",
    "#In this case, we are simply printing each item.\n",
    "for item in list_4:\n",
    "    # process the item\n",
    "    print(item)\n"
   ]
  },
  {
   "cell_type": "markdown",
   "id": "2d75a3e9",
   "metadata": {},
   "source": [
    "5. Write a Python program to find the product of all elements in a list using a for loop."
   ]
  },
  {
   "cell_type": "code",
   "execution_count": 7,
   "id": "e0ed7b8a",
   "metadata": {},
   "outputs": [
    {
     "name": "stdout",
     "output_type": "stream",
     "text": [
      "120\n"
     ]
    }
   ],
   "source": [
    "list_5 = [1, 2, 3, 4, 5]\n",
    "\n",
    "result = 1\n",
    "for item in list_5:\n",
    "    result = result * item\n",
    "    \n",
    "print(result)"
   ]
  },
  {
   "cell_type": "markdown",
   "id": "3ec28773",
   "metadata": {},
   "source": [
    "6. Create a Python program that prints all even numbers from 1 to 20 using a for loop."
   ]
  },
  {
   "cell_type": "code",
   "execution_count": 8,
   "id": "751adb14",
   "metadata": {},
   "outputs": [
    {
     "name": "stdout",
     "output_type": "stream",
     "text": [
      "2\n",
      "4\n",
      "6\n",
      "8\n",
      "10\n",
      "12\n",
      "14\n",
      "16\n",
      "18\n",
      "20\n"
     ]
    }
   ],
   "source": [
    "for i in range(2, 21, 2):\n",
    "    print(i)"
   ]
  },
  {
   "cell_type": "markdown",
   "id": "69f427cf",
   "metadata": {},
   "source": [
    "7. Write a Python program that calculates the factorial of a number using a for loop."
   ]
  },
  {
   "cell_type": "code",
   "execution_count": 12,
   "id": "203f71eb",
   "metadata": {},
   "outputs": [
    {
     "name": "stdout",
     "output_type": "stream",
     "text": [
      "The factorial of 5 is 120\n"
     ]
    }
   ],
   "source": [
    "def factorial(number: int) -> int:\n",
    "    fact = 1\n",
    "    for i in range(1, number+1):\n",
    "        fact *= i\n",
    "    return fact\n",
    "\n",
    "number_7 = 5    \n",
    "print(f\"The factorial of {number_7} is {factorial(number_7)}\")"
   ]
  },
  {
   "cell_type": "markdown",
   "id": "6d4c53ac",
   "metadata": {},
   "source": [
    "8. How can you iterate through the characters of a string using a for loop in Python?"
   ]
  },
  {
   "cell_type": "code",
   "execution_count": 13,
   "id": "6ede582c",
   "metadata": {},
   "outputs": [
    {
     "name": "stdout",
     "output_type": "stream",
     "text": [
      "N\n",
      "a\n",
      "t\n",
      "i\n",
      "o\n",
      "n\n",
      "a\n",
      "l\n"
     ]
    }
   ],
   "source": [
    "# Here is how we can iterate\n",
    "string_8 = \"National\"\n",
    "\n",
    "\n",
    "#The for loop iterates over each character in the string and assigns it to the variable item. \n",
    "#You can then perform any desired operations on character within the loop. \n",
    "#In this case, we are simply printing each character.\n",
    "for char in string_8:\n",
    "    # process the char item\n",
    "    print(char)\n"
   ]
  },
  {
   "cell_type": "markdown",
   "id": "4748d53c",
   "metadata": {},
   "source": [
    "9. Write a Python program to find the largest number in a list using a for loop."
   ]
  },
  {
   "cell_type": "code",
   "execution_count": 15,
   "id": "3a8e4c93",
   "metadata": {},
   "outputs": [
    {
     "name": "stdout",
     "output_type": "stream",
     "text": [
      "71\n"
     ]
    }
   ],
   "source": [
    "def largest_num(numbers):\n",
    "    largest = numbers[0]\n",
    "    for number in numbers:\n",
    "        if number > largest:\n",
    "            largest = number\n",
    "    return largest\n",
    "\n",
    "numbers = [7, 4, 13, 62, 71, 2, 8]\n",
    "print(largest_num(numbers))\n"
   ]
  },
  {
   "cell_type": "markdown",
   "id": "bac0ad8c",
   "metadata": {},
   "source": [
    "10. Create a Python program that prints the Fibonacci sequence up to a specified limit using a for loop."
   ]
  },
  {
   "cell_type": "code",
   "execution_count": 18,
   "id": "7eae2f5d",
   "metadata": {},
   "outputs": [
    {
     "name": "stdout",
     "output_type": "stream",
     "text": [
      "Enter the limit value n: 7\n",
      "Fibonacci sequence upto 7: \n",
      "0\n",
      "1\n",
      "1\n",
      "2\n",
      "3\n",
      "5\n",
      "8\n"
     ]
    }
   ],
   "source": [
    "def fibonacci_sequence(x: int):\n",
    "    # initialize the first two terms\n",
    "    a, b = 0, 1\n",
    "\n",
    "    # check if n is a valid number\n",
    "    if n <= 0:\n",
    "        print(\"Please enter a positive integer greater than 0\")\n",
    "    elif n == 1:\n",
    "        print(f\"Fibonacci sequence upto {n}: \")\n",
    "        print(a)\n",
    "    else:\n",
    "        print(f\"Fibonacci sequence upto {n}: \")\n",
    "        for i in range(n):\n",
    "            print(a)\n",
    "            c = a + b\n",
    "            # update values\n",
    "            a = b\n",
    "            b = c\n",
    "\n",
    "n = int(input(\"Enter the limit value n: \"))\n",
    "fibonacci_sequence(n)\n"
   ]
  },
  {
   "cell_type": "markdown",
   "id": "31d79ee8",
   "metadata": {},
   "source": [
    "11. Write a Python program to count the number of vowels in a given string using a for loop."
   ]
  },
  {
   "cell_type": "code",
   "execution_count": 19,
   "id": "13108f34",
   "metadata": {},
   "outputs": [
    {
     "name": "stdout",
     "output_type": "stream",
     "text": [
      "Enter a string: Namaste\n",
      "The number of vowels in the string is: 3\n"
     ]
    }
   ],
   "source": [
    "str_11 = input(\"Enter a string: \")\n",
    "vowels = set('aeiouAEIOU')\n",
    "count = 0\n",
    "\n",
    "for char in str_11:\n",
    "    if char in vowels:\n",
    "        count += 1\n",
    "\n",
    "print(\"The number of vowels in the string is:\", count)\n"
   ]
  },
  {
   "cell_type": "markdown",
   "id": "c5210f3c",
   "metadata": {},
   "source": [
    "12. Create a Python program that generates a multiplication table for a given number using a for loop."
   ]
  },
  {
   "cell_type": "code",
   "execution_count": 25,
   "id": "3bef2f29",
   "metadata": {},
   "outputs": [
    {
     "name": "stdout",
     "output_type": "stream",
     "text": [
      "Enter a number: 10\n",
      "The multiplication table of 10 is:\n",
      "10 X 1 = 10\n",
      "10 X 2 = 20\n",
      "10 X 3 = 30\n",
      "10 X 4 = 40\n",
      "10 X 5 = 50\n",
      "10 X 6 = 60\n",
      "10 X 7 = 70\n",
      "10 X 8 = 80\n",
      "10 X 9 = 90\n",
      "10 X 10 = 100\n"
     ]
    }
   ],
   "source": [
    "def mult_table(num: int):\n",
    "    for i in range(1,11):\n",
    "        print(f\"{num} X {i} = {num*i}\")\n",
    "\n",
    "number_12 = int(input(\"Enter a number: \"))\n",
    "\n",
    "print(f\"The multiplication table of {number_12} is:\")\n",
    "mult_table(number_12)"
   ]
  },
  {
   "cell_type": "markdown",
   "id": "f78758fa",
   "metadata": {},
   "source": [
    "13. Write a Python program to reverse a list using a for loop."
   ]
  },
  {
   "cell_type": "code",
   "execution_count": 11,
   "id": "2069c6c9",
   "metadata": {},
   "outputs": [
    {
     "name": "stdout",
     "output_type": "stream",
     "text": [
      "The reverse list is: [6, 5, 4, 3, 2, 1]\n"
     ]
    }
   ],
   "source": [
    "list_13 = [1, 2, 3, 4, 5, 6]\n",
    "\n",
    "reverse_list = []\n",
    "for i in range(len(list_13)-1, -1, -1):\n",
    "    reverse_list.append(list_13[i])\n",
    "    \n",
    "print(f\"The reverse list is: {reverse_list}\")"
   ]
  },
  {
   "cell_type": "markdown",
   "id": "bdd303a5",
   "metadata": {},
   "source": [
    "14. Write a Python program to find the common elements between two lists using a for loop."
   ]
  },
  {
   "cell_type": "code",
   "execution_count": 13,
   "id": "74cbfac4",
   "metadata": {},
   "outputs": [
    {
     "name": "stdout",
     "output_type": "stream",
     "text": [
      "The common elements are: [1, 3, 5]\n"
     ]
    }
   ],
   "source": [
    "lst1 = [1, 3, 4, 6, 5]\n",
    "lst2 = [2, 5, 1, 3, 9]\n",
    "\n",
    "common_items = [i for i in lst1 for j in lst2 if i == j]\n",
    "\n",
    "print(f\"The common elements are: {common_items}\")"
   ]
  },
  {
   "cell_type": "markdown",
   "id": "40e2d0fd",
   "metadata": {},
   "source": [
    "15. Explain how to use a for loop to iterate through the keys and values of a dictionary in Python."
   ]
  },
  {
   "cell_type": "code",
   "execution_count": 15,
   "id": "929c52c4",
   "metadata": {},
   "outputs": [
    {
     "name": "stdout",
     "output_type": "stream",
     "text": [
      "The key '1' refers to value 'lion'\n",
      "The key '2' refers to value 'rabbit'\n",
      "The key '3' refers to value 'buffalo'\n",
      "The key '4' refers to value 'tiger'\n"
     ]
    }
   ],
   "source": [
    "animals = {1: \"lion\", 2: \"rabbit\", 3: \"buffalo\", 4: \"tiger\"}\n",
    "\n",
    "for key, value in animals.items():\n",
    "    print(f\"The key '{key}' refers to value '{value}'\")"
   ]
  },
  {
   "cell_type": "markdown",
   "id": "cf3794ca",
   "metadata": {},
   "source": [
    "16. Write a Python program to find the GCD (Greatest Common Divisor) of two numbers using a for loop."
   ]
  },
  {
   "cell_type": "code",
   "execution_count": 18,
   "id": "b10eb9c6",
   "metadata": {},
   "outputs": [
    {
     "name": "stdout",
     "output_type": "stream",
     "text": [
      "Enter two numbers separated by a comma: 24,16\n",
      "The greatest common divisor of 24 and 16 is: 8\n"
     ]
    }
   ],
   "source": [
    "def greatest_common_divisor(x: int, y: int):\n",
    "    gcd = 0\n",
    "    for i in range(1, x + 1):\n",
    "        if (x % i == 0) & (y % i == 0):\n",
    "            gcd = i\n",
    "    return gcd\n",
    "\n",
    "num1, num2 = input(\"Enter two numbers separated by a comma: \").split(',')\n",
    "print(f\"The greatest common divisor of {num1} and {num2} is:\", greatest_common_divisor(int(num1), int(num2)))"
   ]
  },
  {
   "cell_type": "markdown",
   "id": "2ec06a28",
   "metadata": {},
   "source": [
    "17. Create a Python program that checks if a string is a palindrome using a for loop."
   ]
  },
  {
   "cell_type": "code",
   "execution_count": 21,
   "id": "2702bd5e",
   "metadata": {},
   "outputs": [
    {
     "name": "stdout",
     "output_type": "stream",
     "text": [
      "The string is a palindrome.\n"
     ]
    }
   ],
   "source": [
    "def is_palindrome(string: str) -> bool:\n",
    "    for i in range(len(string) // 2):\n",
    "        if string[i] != string[-i - 1]:\n",
    "            return False\n",
    "    return True\n",
    "\n",
    "string17 = \"radar\"\n",
    "\n",
    "print(\"The string is\", \"a palindrome.\" if is_palindrome(string17) else \"not a palindrome.\")"
   ]
  },
  {
   "cell_type": "markdown",
   "id": "cf3ebd50",
   "metadata": {},
   "source": [
    "18. Write a Python program to remove duplicates from a list using a for loop."
   ]
  },
  {
   "cell_type": "code",
   "execution_count": 23,
   "id": "872662b2",
   "metadata": {},
   "outputs": [
    {
     "name": "stdout",
     "output_type": "stream",
     "text": [
      "The list after removing duplicates is:  [9, 7, 5, 4, 6]\n"
     ]
    }
   ],
   "source": [
    "def remove_duplicates(lst):\n",
    "    new_list = []\n",
    "    for item in lst:\n",
    "        if item not in new_list:\n",
    "            new_list.append(item)\n",
    "    return new_list\n",
    "\n",
    "list18 = [9, 7, 5, 9, 4, 7, 6]\n",
    "print(\"The list after removing duplicates is: \", remove_duplicates(list18))\n"
   ]
  },
  {
   "cell_type": "markdown",
   "id": "944889a8",
   "metadata": {},
   "source": [
    "19. Create a Python program that counts the number of words in a sentence using a for loop."
   ]
  },
  {
   "cell_type": "code",
   "execution_count": 27,
   "id": "3eea0249",
   "metadata": {},
   "outputs": [
    {
     "name": "stdout",
     "output_type": "stream",
     "text": [
      "Word count is:  4\n"
     ]
    }
   ],
   "source": [
    "def count_words(sentence):\n",
    "    word_count = 0\n",
    "    for _ in sentence.split():\n",
    "        word_count += 1\n",
    "    return word_count\n",
    "\n",
    "my_sentence = \"twinkle twinkle little star\"\n",
    "print(\"Word count is: \", count_words(my_sentence))\n"
   ]
  },
  {
   "cell_type": "markdown",
   "id": "c1583610",
   "metadata": {},
   "source": [
    "20. Write a Python program to find the sum of all odd numbers from 1 to 50 using a for loop."
   ]
  },
  {
   "cell_type": "code",
   "execution_count": 29,
   "id": "6cd020ec",
   "metadata": {},
   "outputs": [
    {
     "name": "stdout",
     "output_type": "stream",
     "text": [
      "The sum of all odd numbers from 1 to 50 is: 625\n"
     ]
    }
   ],
   "source": [
    "total = 0\n",
    "for number in range(1, 51):\n",
    "    if number % 2 != 0:\n",
    "        total += number\n",
    "\n",
    "print(\"The sum of all odd numbers from 1 to 50 is:\", total)"
   ]
  },
  {
   "cell_type": "markdown",
   "id": "6d4663cb",
   "metadata": {},
   "source": [
    "21. Write a Python program that checks if a given year is a leap year using a for loop."
   ]
  },
  {
   "cell_type": "code",
   "execution_count": 31,
   "id": "6e0d0406",
   "metadata": {},
   "outputs": [
    {
     "name": "stdout",
     "output_type": "stream",
     "text": [
      "Enter a year: 1900\n",
      "1900 is not a leap year\n"
     ]
    }
   ],
   "source": [
    "year = int(input(\"Enter a year: \"))\n",
    "\n",
    "if (year % 400 == 0) and (year % 100 == 0):\n",
    "    print(\"{0} is a leap year\".format(year))\n",
    "elif (year % 4 == 0) and (year % 100 != 0):\n",
    "    print(\"{0} is a leap year\".format(year))\n",
    "else:\n",
    "    print(\"{0} is not a leap year\".format(year))\n"
   ]
  },
  {
   "cell_type": "markdown",
   "id": "a2e492dc",
   "metadata": {},
   "source": [
    "22. Create a Python program that calculates the square root of a number using a for loop."
   ]
  },
  {
   "cell_type": "code",
   "execution_count": 30,
   "id": "1c0d73b0",
   "metadata": {},
   "outputs": [
    {
     "name": "stdout",
     "output_type": "stream",
     "text": [
      "Enter a number: 64\n",
      "The square root of 64 is 8\n"
     ]
    }
   ],
   "source": [
    "# Get number from the user\n",
    "num = int(input(\"Enter a number: \"))\n",
    "\n",
    "sqrt = 0\n",
    "\n",
    "# Iterate through each number from 1 to half of the given number\n",
    "for i in range(1, num // 2 + 1):\n",
    "    # Check if the square of the current number is equal to the given number\n",
    "    if i * i == num:\n",
    "        sqrt = i\n",
    "        break\n",
    "\n",
    "# Print the square root of the number\n",
    "print(f\"The square root of {num} is {sqrt}\")\n"
   ]
  },
  {
   "cell_type": "markdown",
   "id": "f595fc6e",
   "metadata": {},
   "source": [
    "23. Write a Python program to find the LCM (Least Common Multiple) of two numbers using a for loop."
   ]
  },
  {
   "cell_type": "code",
   "execution_count": 33,
   "id": "3a7554bc",
   "metadata": {},
   "outputs": [
    {
     "name": "stdout",
     "output_type": "stream",
     "text": [
      "Enter the first number: 4\n",
      "Enter the second number: 5\n",
      "The LCM of 4 and 5 is 20\n"
     ]
    }
   ],
   "source": [
    "num1 = int(input(\"Enter the first number: \"))\n",
    "num2 = int(input(\"Enter the second number: \"))\n",
    "\n",
    "# Choose the greater number\n",
    "if num1 > num2:\n",
    "    greater = num1\n",
    "else:\n",
    "    greater = num2\n",
    "\n",
    "# Iterate through each number from the greater number to the product of the two numbers\n",
    "for i in range(greater, num1 * num2 + 1):\n",
    "    # Check if the current number is divisible by both numbers\n",
    "    if i % num1 == 0 and i % num2 == 0:\n",
    "        lcm = i\n",
    "        break\n",
    "\n",
    "# Print the LCM of the two numbers\n",
    "print(f\"The LCM of {num1} and {num2} is {lcm}\")\n"
   ]
  },
  {
   "cell_type": "markdown",
   "id": "2fc843d0",
   "metadata": {},
   "source": [
    "## If - else:"
   ]
  },
  {
   "cell_type": "markdown",
   "id": "8891b3f3",
   "metadata": {},
   "source": [
    "1. Write a Python program to check if a number is positive, negative, or zero using an if-else\n",
    "statement."
   ]
  },
  {
   "cell_type": "code",
   "execution_count": 2,
   "id": "b673150c",
   "metadata": {},
   "outputs": [
    {
     "name": "stdout",
     "output_type": "stream",
     "text": [
      "Enter a number: -4\n",
      "Negative number\n"
     ]
    }
   ],
   "source": [
    "num = int(input(\"Enter a number: \"))\n",
    "\n",
    "if num == 0:\n",
    "    print(\"Zero\")\n",
    "elif num > 0:\n",
    "    print(\"Positive number\")\n",
    "else:\n",
    "    print(\"Negative number\")\n"
   ]
  },
  {
   "cell_type": "markdown",
   "id": "c4864b47",
   "metadata": {},
   "source": [
    "2. Create a Python program that checks if a given number is even or odd using an if-else statement."
   ]
  },
  {
   "cell_type": "code",
   "execution_count": 3,
   "id": "faec4abf",
   "metadata": {},
   "outputs": [
    {
     "name": "stdout",
     "output_type": "stream",
     "text": [
      "Enter a number: 5\n",
      "5 is odd\n"
     ]
    }
   ],
   "source": [
    "num = int(input(\"Enter a number: \"))\n",
    "\n",
    "if num % 2 == 0:\n",
    "    print(num, \"is even\")\n",
    "else:\n",
    "    print(num, \"is odd\")\n"
   ]
  },
  {
   "cell_type": "markdown",
   "id": "8c302058",
   "metadata": {},
   "source": [
    "3. How can you use nested if-else statements in Python, and provide an example?"
   ]
  },
  {
   "cell_type": "code",
   "execution_count": 5,
   "id": "0a394f47",
   "metadata": {},
   "outputs": [
    {
     "name": "stdout",
     "output_type": "stream",
     "text": [
      "Enter the student's score: 45\n",
      "The student's grade is D\n"
     ]
    }
   ],
   "source": [
    "# Following is an example of nested if else.\n",
    "# grading based on marks\n",
    "score = int(input(\"Enter the student's score: \"))\n",
    "\n",
    "if score < 0 or score > 100:\n",
    "    print(\"Invalid score. Please enter again.\")\n",
    "else:\n",
    "    if score > 90:\n",
    "        print(\"The student's grade is A\")\n",
    "    elif score > 80:\n",
    "        print(\"The student's grade is B\")\n",
    "    elif score > 60:\n",
    "        print(\"The student's grade is C\")\n",
    "    elif score > 40:\n",
    "        print(\"The student's grade is D\")\n",
    "    else:\n",
    "        print(\"The student's grade is E\")\n"
   ]
  },
  {
   "cell_type": "markdown",
   "id": "d2037931",
   "metadata": {},
   "source": [
    "4. Write a Python program to determine the largest of three numbers using if-else."
   ]
  },
  {
   "cell_type": "code",
   "execution_count": 6,
   "id": "0070f6d4",
   "metadata": {},
   "outputs": [
    {
     "name": "stdout",
     "output_type": "stream",
     "text": [
      "The largest number is 19\n"
     ]
    }
   ],
   "source": [
    "number1 = 19\n",
    "number2 = 11\n",
    "number3 = 9\n",
    "\n",
    "if (number1 >= number2) and (number1 >= number3):\n",
    "    largest = number1\n",
    "elif (number2 >= number1) and (number2 >= number3):\n",
    "    largest = number2\n",
    "else:\n",
    "    largest = number3\n",
    "\n",
    "print(f\"The largest number is {largest}\")\n"
   ]
  },
  {
   "cell_type": "markdown",
   "id": "7cbce4e2",
   "metadata": {},
   "source": [
    "5. Write a Python program that calculates the absolute value of a number using if-else."
   ]
  },
  {
   "cell_type": "code",
   "execution_count": 7,
   "id": "e3c94ae2",
   "metadata": {},
   "outputs": [
    {
     "name": "stdout",
     "output_type": "stream",
     "text": [
      "Enter a number: -9\n",
      "The absolute value of -9 is: 9\n"
     ]
    }
   ],
   "source": [
    "def my_abs(num):\n",
    "    if num < 0:\n",
    "        return -num\n",
    "    else:\n",
    "        return num\n",
    "\n",
    "num7 = int(input(\"Enter a number: \"))\n",
    "print(f\"The absolute value of {num7} is: {my_abs(num7)}\")"
   ]
  },
  {
   "cell_type": "markdown",
   "id": "052b3e87",
   "metadata": {},
   "source": [
    "6. Create a Python program that checks if a given character is a vowel or consonant using if-else."
   ]
  },
  {
   "cell_type": "code",
   "execution_count": 8,
   "id": "7afe9afb",
   "metadata": {},
   "outputs": [
    {
     "name": "stdout",
     "output_type": "stream",
     "text": [
      "Enter a character: t\n",
      "t is a consonant.\n"
     ]
    }
   ],
   "source": [
    "def is_vowel(char):\n",
    "    vowels = \"aeiouAEIOU\"\n",
    "    if char in vowels:\n",
    "        print(f\"{char} is a vowel.\")\n",
    "    else:\n",
    "        print(f\"{char} is a consonant.\")\n",
    "\n",
    "char8 = input(\"Enter a character: \")\n",
    "\n",
    "is_vowel(char8)\n"
   ]
  },
  {
   "cell_type": "markdown",
   "id": "1c8e7370",
   "metadata": {},
   "source": [
    "7. Write a Python program to determine if a user is eligible to vote based on their age using if-else."
   ]
  },
  {
   "cell_type": "code",
   "execution_count": 9,
   "id": "77a6389a",
   "metadata": {},
   "outputs": [
    {
     "name": "stdout",
     "output_type": "stream",
     "text": [
      "Enter the age: 53\n",
      "Eligible to vote.\n"
     ]
    }
   ],
   "source": [
    "age = int(input(\"Enter the age: \"))\n",
    "\n",
    "if age >= 18:\n",
    "    print(\"Eligible to vote.\")\n",
    "else:\n",
    "    print(\"Not eligible to vote.\")"
   ]
  },
  {
   "cell_type": "markdown",
   "id": "9d3d7780",
   "metadata": {},
   "source": [
    "8. Create a Python program that calculates the discount amount based on the purchase amount\n",
    "using if-else."
   ]
  },
  {
   "cell_type": "code",
   "execution_count": 10,
   "id": "1625003f",
   "metadata": {},
   "outputs": [
    {
     "name": "stdout",
     "output_type": "stream",
     "text": [
      "Enter the price: 1900\n",
      "The discounted price is 1330.00.\n"
     ]
    }
   ],
   "source": [
    "price = float(input(\"Enter the price: \"))\n",
    "\n",
    "# Check if the price is valid\n",
    "if price <= 0:\n",
    "    print(\"Invalid price. Please enter again.\")\n",
    "else:\n",
    "    if price < 500:\n",
    "        discount = 0\n",
    "    elif price < 1000:\n",
    "        #10% discount\n",
    "        discount = 10\n",
    "    elif price < 1500:\n",
    "        #20% discount\n",
    "        discount = 20\n",
    "    else:\n",
    "        #30% discount\n",
    "        discount = 30\n",
    "\n",
    "    discounted_price = price - (price * discount / 100)\n",
    "    # Print the result\n",
    "    print(f\"The discounted price is {discounted_price:.2f}.\")\n"
   ]
  },
  {
   "cell_type": "markdown",
   "id": "dc878aa4",
   "metadata": {},
   "source": [
    "9. Write a Python program to check if a number is within a specified range using if-else."
   ]
  },
  {
   "cell_type": "code",
   "execution_count": 14,
   "id": "1de66540",
   "metadata": {},
   "outputs": [
    {
     "name": "stdout",
     "output_type": "stream",
     "text": [
      "Enter lower bound: 10\n",
      "Enter upper bound: 20\n",
      "Enter a number to check : 19\n",
      "The number 19 is within the specified range from 10 to 20\n"
     ]
    }
   ],
   "source": [
    "lower_bound = int(input(\"Enter lower bound: \"))\n",
    "upper_bound = int(input(\"Enter upper bound: \"))\n",
    "number_to_check = int(input(\"Enter a number to check : \"))\n",
    "\n",
    "if number_to_check >= lower_bound and number_to_check <= upper_bound:\n",
    "    print(f\"The number {number_to_check} is within the specified range from {lower_bound} to {upper_bound}\")\n",
    "else:\n",
    "    print(f\"The number {number_to_check} is out of range\")"
   ]
  },
  {
   "cell_type": "markdown",
   "id": "7e5f5ad2",
   "metadata": {},
   "source": [
    "10. Create a Python program that determines the grade of a student based on their score using if-else."
   ]
  },
  {
   "cell_type": "code",
   "execution_count": 15,
   "id": "743c5ee9",
   "metadata": {},
   "outputs": [
    {
     "name": "stdout",
     "output_type": "stream",
     "text": [
      "Enter the student's score: 92\n",
      "The student's grade is A\n"
     ]
    }
   ],
   "source": [
    "marks = int(input(\"Enter the student's score: \"))\n",
    "\n",
    "if marks < 0 or marks > 100:\n",
    "    print(\"Invalid score. Please enter again.\")\n",
    "else:\n",
    "    if marks > 90:\n",
    "        print(\"The student's grade is A\")\n",
    "    elif marks > 80:\n",
    "        print(\"The student's grade is B\")\n",
    "    elif marks > 60:\n",
    "        print(\"The student's grade is C\")\n",
    "    elif marks > 40:\n",
    "        print(\"The student's grade is D\")\n",
    "    else:\n",
    "        print(\"The student's grade is E\")\n"
   ]
  },
  {
   "cell_type": "markdown",
   "id": "3e01615f",
   "metadata": {},
   "source": [
    "11. Write a Python program to check if a string is empty or not using if-else."
   ]
  },
  {
   "cell_type": "code",
   "execution_count": 18,
   "id": "95898531",
   "metadata": {},
   "outputs": [
    {
     "name": "stdout",
     "output_type": "stream",
     "text": [
      "Enter a string: \n",
      "The string is empty.\n"
     ]
    }
   ],
   "source": [
    "input_str = str(input(\"Enter a string: \"))\n",
    "\n",
    "if input_str == \"\":\n",
    "    print(\"The string is empty.\")\n",
    "else:\n",
    "    print(\"The string is not empty.\")"
   ]
  },
  {
   "cell_type": "markdown",
   "id": "a46a52fd",
   "metadata": {},
   "source": [
    "12. Create a Python program that identifies the type of a triangle (e.g., equilateral, isosceles, or\n",
    "scalene) based on input values using if-else."
   ]
  },
  {
   "cell_type": "code",
   "execution_count": 20,
   "id": "53af0e20",
   "metadata": {},
   "outputs": [
    {
     "name": "stdout",
     "output_type": "stream",
     "text": [
      "Enter the length of sides separated by spaces: 3 3 4\n",
      "The triangle is isosceles.\n"
     ]
    }
   ],
   "source": [
    "x, y, z = input(\"Enter the length of sides separated by spaces: \").split()\n",
    "\n",
    "if x == y == z:\n",
    "    print(\"The triangle is equilateral.\")\n",
    "elif x == y or y == z or z == x:\n",
    "    print(\"The triangle is isosceles.\")\n",
    "else:\n",
    "    print(\"The triangle is scalene.\")\n"
   ]
  },
  {
   "cell_type": "markdown",
   "id": "45e48858",
   "metadata": {},
   "source": [
    "13. Write a Python program to determine the day of the week based on a user-provided number\n",
    "using if-else."
   ]
  },
  {
   "cell_type": "code",
   "execution_count": 22,
   "id": "25e53486",
   "metadata": {},
   "outputs": [
    {
     "name": "stdout",
     "output_type": "stream",
     "text": [
      "Enter a number from 1 to 7: 1\n",
      "The day of the week is Monday.\n"
     ]
    }
   ],
   "source": [
    "def week_days(number: int):    \n",
    "    # Define a dictionary\n",
    "    days = {1: \"Monday\", 2: \"Tuesday\", 3: \"Wednesday\", 4: \"Thursday\", \n",
    "            5: \"Friday\", 6: \"Saturday\", 7: \"Sunday\"}\n",
    "\n",
    "    # Check if the number is valid\n",
    "    if number < 1 or number > 7:\n",
    "        print(\"Invalid number. Please enter between 1 and 7.\")\n",
    "    else:\n",
    "        # Get the corresponding day from the dictionary\n",
    "        day = days[number]\n",
    "        print(f\"The day of the week is {day}.\")\n",
    "    \n",
    "\n",
    "number = int(input(\"Enter a number from 1 to 7: \"))\n",
    "#call function\n",
    "week_days(number)"
   ]
  },
  {
   "cell_type": "markdown",
   "id": "b82a274b",
   "metadata": {},
   "source": [
    "14. Create a Python program that checks if a given year is a leap year using both if-else and a\n",
    "function."
   ]
  },
  {
   "cell_type": "code",
   "execution_count": 25,
   "id": "6f023336",
   "metadata": {},
   "outputs": [
    {
     "name": "stdout",
     "output_type": "stream",
     "text": [
      "Enter a year: 1904\n",
      "1904 is a leap year\n"
     ]
    }
   ],
   "source": [
    "#A leap year is divisible by 4 except for century years\n",
    "def is_leap_year(year: int):\n",
    "    if year % 4 == 0:\n",
    "        #checking for century year\n",
    "        if year % 100 == 0:\n",
    "            #a entury year is exactly divisible by 400\n",
    "            if year % 400 == 0:\n",
    "                print(year, \"is a leap year\")\n",
    "            else:\n",
    "                print(year, \"is not a leap year\")\n",
    "        else:\n",
    "            print(year, \"is a leap year\")\n",
    "    else:\n",
    "        print(year, \"is not a leap year\")\n",
    "\n",
    "year = int(input(\"Enter a year: \"))\n",
    "is_leap_year(year)"
   ]
  },
  {
   "cell_type": "markdown",
   "id": "436b35fb",
   "metadata": {},
   "source": [
    "15. How do you use the \"assert\" statement in Python to add debugging checks within if-else blocks?"
   ]
  },
  {
   "cell_type": "code",
   "execution_count": 34,
   "id": "9086345d",
   "metadata": {},
   "outputs": [
    {
     "ename": "AssertionError",
     "evalue": "a is greater than b",
     "output_type": "error",
     "traceback": [
      "\u001b[1;31m---------------------------------------------------------------------------\u001b[0m",
      "\u001b[1;31mAssertionError\u001b[0m                            Traceback (most recent call last)",
      "Input \u001b[1;32mIn [34]\u001b[0m, in \u001b[0;36m<cell line: 10>\u001b[1;34m()\u001b[0m\n\u001b[0;32m      7\u001b[0m b \u001b[38;5;241m=\u001b[39m \u001b[38;5;241m11\u001b[39m\n\u001b[0;32m      9\u001b[0m \u001b[38;5;66;03m#if condition returns False, AssertionError is raised:\u001b[39;00m\n\u001b[1;32m---> 10\u001b[0m \u001b[38;5;28;01massert\u001b[39;00m a \u001b[38;5;241m<\u001b[39m b, \u001b[38;5;124m\"\u001b[39m\u001b[38;5;124ma is greater than b\u001b[39m\u001b[38;5;124m\"\u001b[39m\n",
      "\u001b[1;31mAssertionError\u001b[0m: a is greater than b"
     ]
    }
   ],
   "source": [
    "'''\n",
    "The assert keyword lets you test if a condition in your code returns True, if not, the program \n",
    "will raise an AssertionError.\n",
    "We can write a message to be written if the code returns False.\n",
    "'''\n",
    "a = 14\n",
    "b = 11\n",
    "\n",
    "#if condition returns False, AssertionError is raised:\n",
    "assert a < b, \"a is greater than b\"\n"
   ]
  },
  {
   "cell_type": "markdown",
   "id": "050287f3",
   "metadata": {},
   "source": [
    "16. Create a Python program that determines the eligibility of a person for a senior citizen discount\n",
    "based on age using if-else."
   ]
  },
  {
   "cell_type": "code",
   "execution_count": 36,
   "id": "a8ad823d",
   "metadata": {},
   "outputs": [
    {
     "name": "stdout",
     "output_type": "stream",
     "text": [
      "Enter the age: 61\n",
      "Congratulations! You are eligible for a senior citizen discount.\n"
     ]
    }
   ],
   "source": [
    "age = int(input(\"Enter the age: \"))\n",
    "\n",
    "if age >= 60:\n",
    "    print(\"Congratulations! You are eligible for a senior citizen discount.\")\n",
    "else:\n",
    "    print(\"Sorry, you are not eligible for a senior citizen discount.\")\n"
   ]
  },
  {
   "cell_type": "markdown",
   "id": "06dff852",
   "metadata": {},
   "source": [
    "17. Write a Python program to categorize a given character as uppercase, lowercase, or neither\n",
    "using if-else."
   ]
  },
  {
   "cell_type": "code",
   "execution_count": 38,
   "id": "f17b66bb",
   "metadata": {},
   "outputs": [
    {
     "name": "stdout",
     "output_type": "stream",
     "text": [
      "Enter a character: T\n",
      "The character is uppercase.\n"
     ]
    }
   ],
   "source": [
    "char = input(\"Enter a character: \")\n",
    "\n",
    "if char.isupper():\n",
    "    print(\"The character is uppercase.\")\n",
    "elif char.islower():\n",
    "    print(\"The character is lowercase.\")\n",
    "else:\n",
    "    print(\"The character is neither uppercase nor lowercase.\")\n"
   ]
  },
  {
   "cell_type": "markdown",
   "id": "72822494",
   "metadata": {},
   "source": [
    "18. Write a Python program to determine the roots of a quadratic equation using if-else."
   ]
  },
  {
   "cell_type": "code",
   "execution_count": 35,
   "id": "be44f269",
   "metadata": {},
   "outputs": [
    {
     "name": "stdout",
     "output_type": "stream",
     "text": [
      "Enter the coefficient a: 3\n",
      "Enter the coefficient b: 1\n",
      "Enter the coefficient c: 8\n",
      "Root 1 = -0.16666666666666666 + 1.6244657241348273i\n",
      "Root 2 = -0.16666666666666666 - 1.6244657241348273i\n"
     ]
    }
   ],
   "source": [
    "import math\n",
    "\n",
    "# Input coefficients a, b, and c from the user\n",
    "a = int(input(\"Enter the coefficient a: \"))\n",
    "b = int(input(\"Enter the coefficient b: \"))\n",
    "c = int(input(\"Enter the coefficient c: \"))\n",
    "\n",
    "# Calculate the discriminant(b^2-4ac)\n",
    "discriminant = b**2 - 4*a*c\n",
    "\n",
    "# Check if the discriminant is positive, negative, or zero\n",
    "if discriminant > 0:\n",
    "    # Two real and distinct roots\n",
    "    root1 = (-b + math.sqrt(discriminant)) / (2*a)\n",
    "    root2 = (-b - math.sqrt(discriminant)) / (2*a)\n",
    "    print(f\"Root 1 = {root1}\")\n",
    "    print(f\"Root 2 = {root2}\")\n",
    "elif discriminant == 0:\n",
    "    # One real root (repeated)\n",
    "    root = -b / (2*a)\n",
    "    print(f\"Root = {root}\")\n",
    "else:\n",
    "    # Complex roots\n",
    "    real_part = -b / (2*a)\n",
    "    imaginary_part = math.sqrt(abs(discriminant)) / (2*a)\n",
    "    print(f\"Root 1 = {real_part} + {imaginary_part}i\")\n",
    "    print(f\"Root 2 = {real_part} - {imaginary_part}i\")\n"
   ]
  },
  {
   "cell_type": "markdown",
   "id": "30c51609",
   "metadata": {},
   "source": [
    "19. Create a Python program that checks if a given year is a century year or not using if-else."
   ]
  },
  {
   "cell_type": "code",
   "execution_count": 40,
   "id": "86bcf35b",
   "metadata": {},
   "outputs": [
    {
     "name": "stdout",
     "output_type": "stream",
     "text": [
      "Enter a year: 2000\n",
      "The year is a century year.\n"
     ]
    }
   ],
   "source": [
    "year = int(input(\"Enter a year: \"))\n",
    "\n",
    "if year % 100 == 0:\n",
    "    print(\"The year is a century year.\")\n",
    "else:\n",
    "    print(\"The year is not a century year.\")\n"
   ]
  },
  {
   "cell_type": "markdown",
   "id": "3a920b8b",
   "metadata": {},
   "source": [
    "20. Write a Python program to determine if a given number is a perfect square using if-else."
   ]
  },
  {
   "cell_type": "code",
   "execution_count": 8,
   "id": "7c55826c",
   "metadata": {},
   "outputs": [
    {
     "name": "stdout",
     "output_type": "stream",
     "text": [
      "Enter a number: 121\n",
      "The number is a perfect square\n"
     ]
    }
   ],
   "source": [
    "def is_perfect_square(num, i = 1):\n",
    "    if num == i ** 2:\n",
    "        return True\n",
    "    elif num < i ** 2:        \n",
    "        return False\n",
    "    else:\n",
    "        return is_perfect_square(num, i+1)\n",
    "    \n",
    "num = int(input(\"Enter a number: \"))\n",
    "print(\"The number is a perfect square\" if is_perfect_square(num) else \"The number is not a perfect square\")"
   ]
  },
  {
   "cell_type": "markdown",
   "id": "0222c0ea",
   "metadata": {},
   "source": [
    "21. Explain the purpose of the \"continue\" and \"break\" statements within if-else loops."
   ]
  },
  {
   "cell_type": "code",
   "execution_count": 9,
   "id": "e09c2fef",
   "metadata": {},
   "outputs": [
    {
     "name": "stdout",
     "output_type": "stream",
     "text": [
      "1\n",
      "2\n",
      "4\n",
      "Loop finished\n"
     ]
    }
   ],
   "source": [
    "'''\n",
    "The CONTINUE statement is used to skip the rest of the code inside a loop for the current iteration \n",
    "and move on to the next iteration. When encountered, it immediately jumps to the next iteration without \n",
    "executing the remaining code in the loop body.\n",
    "\n",
    "The BREAK statement is used to exit the loop entirely, regardless of the loop condition. \n",
    "When encountered, it terminates the loop and the program continues with the next statement after the \n",
    "loop.\n",
    "'''\n",
    "numbers = [1, 2, 3, 4, 5]\n",
    "\n",
    "for number in numbers:\n",
    "    if number == 3:\n",
    "        continue  # Skip the rest of the code for this iteration\n",
    "    print(number)\n",
    "    if number == 4:\n",
    "        break  # Exit the loop entirely\n",
    "\n",
    "print(\"Loop finished\")\n"
   ]
  },
  {
   "cell_type": "markdown",
   "id": "4e48edcf",
   "metadata": {},
   "source": [
    "22. Create a Python program that calculates the BMI (Body Mass Index) of a person based on their\n",
    "weight and height using if-else."
   ]
  },
  {
   "cell_type": "code",
   "execution_count": 41,
   "id": "8c8d7135",
   "metadata": {},
   "outputs": [
    {
     "name": "stdout",
     "output_type": "stream",
     "text": [
      "Enter the weight in kilograms: 90\n",
      "Enter the height in meters: 1.65\n",
      "Your BMI is 33.06 and you are obese.\n"
     ]
    }
   ],
   "source": [
    "weight = float(input(\"Enter the weight in kilograms: \"))\n",
    "height = float(input(\"Enter the height in meters: \"))\n",
    "\n",
    "# Calculate the BMI using the formula: BMI = weight / height^2\n",
    "bmi = weight / (height ** 2)\n",
    "\n",
    "# Check if the BMI is valid\n",
    "if bmi <= 0:\n",
    "    print(\"Invalid BMI. Please enter correct details.\")\n",
    "else:\n",
    "    if bmi < 18.5:\n",
    "        category = \"underweight\"\n",
    "    elif bmi < 25:\n",
    "        category = \"normal\"\n",
    "    elif bmi < 30:\n",
    "        category = \"overweight\"\n",
    "    else:\n",
    "        category = \"obese\"\n",
    "    # Print the result\n",
    "    print(f\"Your BMI is {bmi:.2f} and you are {category}.\")\n"
   ]
  },
  {
   "cell_type": "markdown",
   "id": "d4ead869",
   "metadata": {},
   "source": [
    "23. How can you use the \"filter()\" function with if-else statements to filter elements from a list?"
   ]
  },
  {
   "cell_type": "code",
   "execution_count": 22,
   "id": "4fe0b9f6",
   "metadata": {},
   "outputs": [
    {
     "name": "stdout",
     "output_type": "stream",
     "text": [
      "Even numbers less than 9 are:  [2, 4, 6, 8]\n"
     ]
    }
   ],
   "source": [
    "numbers = [1, 2, 3, 4, 5, 6, 7, 8, 9, 10, 11, 12, 13, 14, 15]\n",
    "\n",
    "#return all even numbers less than 9\n",
    "filtered_numbers = filter(lambda x: (x % 2 == 0) if x < 9 else False, numbers)\n",
    "\n",
    "print(\"Even numbers less than 9 are: \", list(filtered_numbers))\n"
   ]
  },
  {
   "cell_type": "markdown",
   "id": "b87237ad",
   "metadata": {},
   "source": [
    "24. Write a Python program to determine if a given number is prime or not using if-else."
   ]
  },
  {
   "cell_type": "code",
   "execution_count": 29,
   "id": "2693ebb4",
   "metadata": {},
   "outputs": [
    {
     "name": "stdout",
     "output_type": "stream",
     "text": [
      "Enter a number: 131\n",
      "131 is a prime number\n"
     ]
    }
   ],
   "source": [
    "num = int(input(\"Enter a number: \"))\n",
    "\n",
    "if num > 1:\n",
    "    for i in range(2, num):\n",
    "        if (num % i) == 0:\n",
    "            print(num, \"is not a prime number\")\n",
    "            break\n",
    "    else:\n",
    "        print(num, \"is a prime number\")\n",
    "else:\n",
    "    print(num, \"is not a prime number\")\n"
   ]
  },
  {
   "cell_type": "markdown",
   "id": "f46ee403",
   "metadata": {},
   "source": [
    "## Map:"
   ]
  },
  {
   "cell_type": "markdown",
   "id": "10eac00a",
   "metadata": {},
   "source": [
    "1. Explain the purpose of the `map()` function in Python and provide an example of how it can be\n",
    "used to apply a function to each element of an iterable."
   ]
  },
  {
   "cell_type": "code",
   "execution_count": 7,
   "id": "2682d260",
   "metadata": {},
   "outputs": [
    {
     "name": "stdout",
     "output_type": "stream",
     "text": [
      "[2, 3, 4, 5, 6]\n"
     ]
    }
   ],
   "source": [
    "'''\n",
    "The map() function allows us to apply a specific function to each element of an iterable, such as a \n",
    "list or dictionary. It returns a new iterable, called a map object, which can be used in other parts \n",
    "of your code.\n",
    "In the below example, the map() function takes two arguments: the add_one() function and the list1 \n",
    "iterable. It applies the add_one() function to each element of the list1 and returns a new iterable, \n",
    "which is then converted into a list using the list() function.\n",
    "'''\n",
    "# Define a function that adds 1 to a number\n",
    "def add_one(num):\n",
    "    return num + 1\n",
    "\n",
    "list1 = [1, 2, 3, 4, 5]\n",
    "\n",
    "# Apply the add_one function to each element of the original list using map()\n",
    "new_list = list(map(add_one, list1))\n",
    "\n",
    "print(new_list)"
   ]
  },
  {
   "cell_type": "markdown",
   "id": "6286a3a6",
   "metadata": {},
   "source": [
    "2. Write a Python program that uses the `map()` function to square each element of a list of numbers."
   ]
  },
  {
   "cell_type": "code",
   "execution_count": 6,
   "id": "2fceed7f",
   "metadata": {},
   "outputs": [
    {
     "name": "stdout",
     "output_type": "stream",
     "text": [
      "[1, 4, 9, 16, 25]\n"
     ]
    }
   ],
   "source": [
    "# Define a function that returns the square of a number\n",
    "def square(num):\n",
    "    return num ** 2\n",
    "\n",
    "num_list = [1, 2, 3, 4, 5]\n",
    "\n",
    "# Apply the square function to each element of the original list using map()\n",
    "list_of_squares = list(map(square, num_list))\n",
    "\n",
    "print(list_of_squares)"
   ]
  },
  {
   "cell_type": "markdown",
   "id": "413910f4",
   "metadata": {},
   "source": [
    "3. How does the `map()` function differ from a list comprehension in Python, and when would you\n",
    "choose one over the other?"
   ]
  },
  {
   "cell_type": "code",
   "execution_count": null,
   "id": "2c848a14",
   "metadata": {},
   "outputs": [],
   "source": [
    "'''\n",
    "1. map() is a built-in Python function that takes two arguments: a function and an iterable. \n",
    "It applies the function to each element of the iterable and returns a map object, which is \n",
    "an iterator.\n",
    "2. List comprehension is a concise way to create lists in Python. It follows the form of the \n",
    "mathematical set-builder notation. You can use it to create a new list by applying an expression \n",
    "to each element of an existing list, with optional filtering based on a condition.\n",
    "3. List comprehension is generally considered more concise and easier to read compared to map(). \n",
    "It also allows for filtering elements based on a condition, which map() does not provide.\n",
    "4. On the other hand, map() can be useful when you want to apply an already defined function to \n",
    "each element of an iterable. It can be faster than list comprehension in certain cases, especially \n",
    "when dealing with long or complex expressions.\n",
    "'''"
   ]
  },
  {
   "cell_type": "markdown",
   "id": "6e2aa3e1",
   "metadata": {},
   "source": [
    "4. Create a Python program that uses the `map()` function to convert a list of names to uppercase."
   ]
  },
  {
   "cell_type": "code",
   "execution_count": 11,
   "id": "aee8db83",
   "metadata": {},
   "outputs": [
    {
     "name": "stdout",
     "output_type": "stream",
     "text": [
      "['SUMIT', 'VIKAS', 'RAHUL', 'MOHIT']\n"
     ]
    }
   ],
   "source": [
    "name_list = [\"sumit\", \"vikas\", \"rahul\", \"mohit\"]\n",
    "\n",
    "uppercase_names = list(map(lambda x: x.upper(), name_list))\n",
    "\n",
    "print(uppercase_names)"
   ]
  },
  {
   "cell_type": "markdown",
   "id": "a44520f1",
   "metadata": {},
   "source": [
    "5. Write a Python program that uses the `map()` function to calculate the length of each word in a\n",
    "list of strings."
   ]
  },
  {
   "cell_type": "code",
   "execution_count": 12,
   "id": "be4f4fd0",
   "metadata": {},
   "outputs": [
    {
     "name": "stdout",
     "output_type": "stream",
     "text": [
      "[6, 4, 7, 6]\n"
     ]
    }
   ],
   "source": [
    "list_of_strings = [\"purple\", \"blue\", \"crimson\", \"orange\"]\n",
    "\n",
    "length_of_string = list(map(lambda x: len(x), list_of_strings))\n",
    "\n",
    "print(length_of_string)"
   ]
  },
  {
   "cell_type": "markdown",
   "id": "50f8ebe7",
   "metadata": {},
   "source": [
    "6. How can you use the `map()` function to apply a custom function to elements of multiple lists\n",
    "simultaneously in Python?"
   ]
  },
  {
   "cell_type": "code",
   "execution_count": 15,
   "id": "1fd20ff2",
   "metadata": {},
   "outputs": [
    {
     "name": "stdout",
     "output_type": "stream",
     "text": [
      "[5, 7, 9]\n"
     ]
    }
   ],
   "source": [
    "list1 = [1, 2, 3]\n",
    "list2 = [4, 5, 6]\n",
    "\n",
    "# adds the corresponding elements of both lists\n",
    "result = list(map(lambda x,y : x + y, list1, list2))\n",
    "print(result) \n"
   ]
  },
  {
   "cell_type": "markdown",
   "id": "f8e3e0c7",
   "metadata": {},
   "source": [
    "7. Create a Python program that uses `map()` to convert a list of temperatures from Celsius to\n",
    "Fahrenheit."
   ]
  },
  {
   "cell_type": "code",
   "execution_count": 17,
   "id": "9592ba7c",
   "metadata": {},
   "outputs": [
    {
     "name": "stdout",
     "output_type": "stream",
     "text": [
      "The list of temperatures in fahrenheit is:  [86.0, 95.0, 104.0, 113.0, 122.0]\n"
     ]
    }
   ],
   "source": [
    "celsius_temp = [30, 35, 40, 45, 50]\n",
    "\n",
    "fahr_temp = list(map(lambda t: (t * 9/5) + 32, celsius_temp))\n",
    "\n",
    "print(\"The list of temperatures in fahrenheit is: \", fahr_temp)"
   ]
  },
  {
   "cell_type": "markdown",
   "id": "5714014c",
   "metadata": {},
   "source": [
    "8. Write a Python program that uses the `map()` function to round each element of a list of\n",
    "floating-point numbers to the nearest integer."
   ]
  },
  {
   "cell_type": "code",
   "execution_count": 22,
   "id": "493cf0c0",
   "metadata": {},
   "outputs": [
    {
     "name": "stdout",
     "output_type": "stream",
     "text": [
      "The list with rounded numbers is:  [32, 20, 10, 91, 6]\n"
     ]
    }
   ],
   "source": [
    "float_list = [32.13, 19.99, 10.41, 90.55, 6.50]\n",
    "\n",
    "rounded_list = list(map(lambda x: round(x), float_list))\n",
    "\n",
    "print(\"The list with rounded numbers is: \", rounded_list)"
   ]
  },
  {
   "cell_type": "markdown",
   "id": "c5b0eb69",
   "metadata": {},
   "source": [
    "## Reduce:"
   ]
  },
  {
   "cell_type": "markdown",
   "id": "6fed4087",
   "metadata": {},
   "source": [
    "1. What is the `reduce()` function in Python, and what module should you import to use it? Provide\n",
    "an example of its basic usage."
   ]
  },
  {
   "cell_type": "code",
   "execution_count": 26,
   "id": "2d91a240",
   "metadata": {},
   "outputs": [
    {
     "name": "stdout",
     "output_type": "stream",
     "text": [
      "The sum of all numbers is:  15\n"
     ]
    }
   ],
   "source": [
    "'''\n",
    "The reduce() function in Python is used to apply a particular function to all the elements of an \n",
    "iterable (e.g., list, tuple, dictionary) and compute a single-valued result12. \n",
    "It is defined in the functools module1. To use the reduce() function, you need to import it from the \n",
    "functools module.\n",
    "Here’s an example of basic usage of the reduce() function:\n",
    "'''\n",
    "import functools as f\n",
    "\n",
    "list1 = [1, 2, 3, 4, 5]\n",
    "\n",
    "add_all_numbers = f.reduce((lambda x,y : x + y), list1)\n",
    "\n",
    "print(\"The sum of all numbers is: \", add_all_numbers)"
   ]
  },
  {
   "cell_type": "markdown",
   "id": "ea28c7c2",
   "metadata": {},
   "source": [
    "2. Write a Python program that uses the `reduce()` function to find the product of all elements in a\n",
    "list."
   ]
  },
  {
   "cell_type": "code",
   "execution_count": 27,
   "id": "1ff00f9d",
   "metadata": {},
   "outputs": [
    {
     "name": "stdout",
     "output_type": "stream",
     "text": [
      "The product of all numbers is:  24\n"
     ]
    }
   ],
   "source": [
    "import functools as f\n",
    "\n",
    "list2 = [1, 2, 3, 4]\n",
    "\n",
    "product = f.reduce(lambda x,y: x*y, list2)\n",
    "\n",
    "print(\"The product of all numbers is: \", product)"
   ]
  },
  {
   "cell_type": "markdown",
   "id": "30001611",
   "metadata": {},
   "source": [
    "3. Create a Python program that uses `reduce()` to find the maximum element in a list of numbers."
   ]
  },
  {
   "cell_type": "code",
   "execution_count": 31,
   "id": "a6a0a362",
   "metadata": {},
   "outputs": [
    {
     "name": "stdout",
     "output_type": "stream",
     "text": [
      "The maximum of all numbers is:  41\n"
     ]
    }
   ],
   "source": [
    "from functools import reduce\n",
    "\n",
    "list3 = [10, 2, 35, 41, 4]\n",
    "\n",
    "maximum = reduce(lambda x,y: x if x > y else y, list3)\n",
    "\n",
    "print(\"The maximum of all numbers is: \", maximum)"
   ]
  },
  {
   "cell_type": "markdown",
   "id": "21abe48f",
   "metadata": {},
   "source": [
    "4. How can you use the `reduce()` function to concatenate a list of strings into a single string?"
   ]
  },
  {
   "cell_type": "code",
   "execution_count": 33,
   "id": "75a3eaf7",
   "metadata": {},
   "outputs": [
    {
     "name": "stdout",
     "output_type": "stream",
     "text": [
      "The single string is:  hindustan\n"
     ]
    }
   ],
   "source": [
    "from functools import reduce\n",
    "\n",
    "list4 = [\"h\", \"i\", \"n\", \"d\", \"u\", \"s\", \"t\", \"a\", \"n\"]\n",
    "\n",
    "single_string = reduce(lambda a,b: a+b, list4)\n",
    "\n",
    "print(\"The single string is: \", single_string)"
   ]
  },
  {
   "cell_type": "markdown",
   "id": "ab6331f5",
   "metadata": {},
   "source": [
    "5. Write a Python program that calculates the factorial of a number using the `reduce()` function."
   ]
  },
  {
   "cell_type": "code",
   "execution_count": 2,
   "id": "13980eaf",
   "metadata": {},
   "outputs": [
    {
     "name": "stdout",
     "output_type": "stream",
     "text": [
      "Enter a number: 5\n",
      "The factorial of 5 is: 120\n"
     ]
    }
   ],
   "source": [
    "from functools import reduce\n",
    "\n",
    "number = int(input(\"Enter a number: \"))\n",
    "\n",
    "factorial = reduce(lambda x,y: x*y, list(range(1,number+1)))\n",
    "\n",
    "print(f\"The factorial of {number} is: {factorial}\")"
   ]
  },
  {
   "cell_type": "markdown",
   "id": "44b7cc88",
   "metadata": {},
   "source": [
    "6. Create a Python program that uses `reduce()` to find the GCD (Greatest Common Divisor) of a list\n",
    "of numbers."
   ]
  },
  {
   "cell_type": "code",
   "execution_count": 38,
   "id": "808a585d",
   "metadata": {},
   "outputs": [
    {
     "name": "stdout",
     "output_type": "stream",
     "text": [
      "The GCD of the numbers [12, 24, 27, 30, 36] is: 3\n"
     ]
    }
   ],
   "source": [
    "from functools import reduce\n",
    "\n",
    "def gcd(a, b):\n",
    "    while b:\n",
    "        a, b = b, a % b\n",
    "    return a\n",
    "\n",
    "number_list = [12, 24, 27, 30, 36]\n",
    "gcd_result = reduce(gcd, number_list)\n",
    "print(f\"The GCD of the numbers {number_list} is: {gcd_result}\")\n"
   ]
  },
  {
   "cell_type": "markdown",
   "id": "90e55263",
   "metadata": {},
   "source": [
    "7. Write a Python program that uses the `reduce()` function to find the sum of the digits of a given\n",
    "number."
   ]
  },
  {
   "cell_type": "code",
   "execution_count": 40,
   "id": "29e78533",
   "metadata": {},
   "outputs": [
    {
     "name": "stdout",
     "output_type": "stream",
     "text": [
      "The sum of the digits of 12345 is: 15\n"
     ]
    }
   ],
   "source": [
    "from functools import reduce\n",
    "\n",
    "given_number = 12345\n",
    "sum_of_digits = reduce(lambda x, y: int(x) + int(y), str(given_number))\n",
    "\n",
    "print(f\"The sum of the digits of {given_number} is: {sum_of_digits}\")\n"
   ]
  },
  {
   "cell_type": "markdown",
   "id": "c2e972d1",
   "metadata": {},
   "source": [
    "## Filter:"
   ]
  },
  {
   "cell_type": "markdown",
   "id": "2f7a3d6d",
   "metadata": {},
   "source": [
    "1. Explain the purpose of the `filter()` function in Python and provide an example of how it can be\n",
    "used to filter elements from an iterable."
   ]
  },
  {
   "cell_type": "code",
   "execution_count": 6,
   "id": "04242e2b",
   "metadata": {},
   "outputs": [
    {
     "name": "stdout",
     "output_type": "stream",
     "text": [
      "The filtered list containing even numbers is: [2, 4, 6, 8, 10]\n"
     ]
    }
   ],
   "source": [
    "'''\n",
    "The filter() function is used to filter elements from an iterable based on a given condition. \n",
    "It takes two parameters: a function and a sequence. The function is applied to each element in the \n",
    "sequence, and only the elements for which the function returns True are included in the output.\n",
    "Example:\n",
    "'''\n",
    "numbers = [1, 2, 3, 4, 5, 6, 7, 8, 9, 10]\n",
    "\n",
    "# filter out the original list to remove all odd numbers\n",
    "filtered_list = list(filter(lambda x: x % 2 == 0, numbers))\n",
    "print(f\"The filtered list containing even numbers is: {filtered_list}\")"
   ]
  },
  {
   "cell_type": "markdown",
   "id": "c5df6445",
   "metadata": {},
   "source": [
    "2. Write a Python program that uses the `filter()` function to select even numbers from a list of\n",
    "integers."
   ]
  },
  {
   "cell_type": "code",
   "execution_count": 7,
   "id": "b8723a85",
   "metadata": {},
   "outputs": [
    {
     "name": "stdout",
     "output_type": "stream",
     "text": [
      "The filtered list containing even numbers is: [2, 4, 6, 8, 10]\n"
     ]
    }
   ],
   "source": [
    "numbers = [1, 2, 3, 4, 5, 6, 7, 8, 9, 10]\n",
    "\n",
    "# filter out the original list to remove all odd numbers\n",
    "filtered_list = list(filter(lambda x: x % 2 == 0, numbers))\n",
    "print(f\"The filtered list containing even numbers is: {filtered_list}\")"
   ]
  },
  {
   "cell_type": "markdown",
   "id": "145c4da8",
   "metadata": {},
   "source": [
    "3. Create a Python program that uses the `filter()` function to select names that start with a specific\n",
    "letter from a list of strings."
   ]
  },
  {
   "cell_type": "code",
   "execution_count": 12,
   "id": "9f3497d2",
   "metadata": {},
   "outputs": [
    {
     "name": "stdout",
     "output_type": "stream",
     "text": [
      "Enter a starting letter: s\n",
      "The list of names starting with letter 's' is: ['sushant', 'sandeep', 'surjeet']\n"
     ]
    }
   ],
   "source": [
    "name_list = [\"sushant\", \"rahul\", \"sandeep\", \"tanya\", \"surjeet\"]\n",
    "\n",
    "starting_letter = str(input(\"Enter a starting letter: \")) \n",
    "\n",
    "filtered_names = list(filter(lambda x: x[0] == starting_letter, name_list))\n",
    "print(f\"The list of names starting with letter '{starting_letter}' is: {filtered_names}\")"
   ]
  },
  {
   "cell_type": "markdown",
   "id": "00f8a4a5",
   "metadata": {},
   "source": [
    "4. Write a Python program that uses the `filter()` function to select prime numbers from a list of\n",
    "integers."
   ]
  },
  {
   "cell_type": "code",
   "execution_count": 16,
   "id": "9eb080d1",
   "metadata": {},
   "outputs": [
    {
     "name": "stdout",
     "output_type": "stream",
     "text": [
      "[2, 3, 5, 7, 11, 13, 17]\n"
     ]
    }
   ],
   "source": [
    "def is_prime(n):\n",
    "    if n < 2:\n",
    "        return False\n",
    "    for i in range(2, int(n ** 0.5) + 1):\n",
    "        if n % i == 0:\n",
    "            return False\n",
    "    return True\n",
    "\n",
    "numbers = [1, 2, 3, 4, 5, 6, 7, 8, 9, 10, 11, 12, 13, 14, 15, 16, 17]\n",
    "\n",
    "prime_numbers = list(filter(is_prime, numbers))\n",
    "print(prime_numbers)\n"
   ]
  },
  {
   "cell_type": "markdown",
   "id": "3116f36a",
   "metadata": {},
   "source": [
    "5. How can you use the `filter()` function to remove None values from a list in Python?"
   ]
  },
  {
   "cell_type": "code",
   "execution_count": 29,
   "id": "d28f6f2f",
   "metadata": {},
   "outputs": [
    {
     "name": "stdout",
     "output_type": "stream",
     "text": [
      "[1, 2, 3, 4]\n"
     ]
    }
   ],
   "source": [
    "my_list = [1, None, 2, None, 3, None, 4, None]\n",
    "\n",
    "new_list = list(filter(lambda x: x is not None, my_list))\n",
    "print(new_list)\n"
   ]
  },
  {
   "cell_type": "markdown",
   "id": "d7baf9d9",
   "metadata": {},
   "source": [
    "6. Create a Python program that uses `filter()` to select words longer than a certain length from a\n",
    "list of strings."
   ]
  },
  {
   "cell_type": "code",
   "execution_count": 30,
   "id": "b3e668b2",
   "metadata": {},
   "outputs": [
    {
     "name": "stdout",
     "output_type": "stream",
     "text": [
      "['rahul', 'tanya']\n"
     ]
    }
   ],
   "source": [
    "names = [\"sushant\", \"rahul\", \"sandeep\", \"tanya\", \"surjeet\"]\n",
    "\n",
    "max_length = 5\n",
    "\n",
    "filtered_list = list(filter(lambda x: len(x) <= max_length, names))\n",
    "print(filtered_list)"
   ]
  },
  {
   "cell_type": "markdown",
   "id": "de94e601",
   "metadata": {},
   "source": [
    "7. Write a Python program that uses the `filter()` function to select elements greater than a\n",
    "specified threshold from a list of values."
   ]
  },
  {
   "cell_type": "code",
   "execution_count": 31,
   "id": "957a854a",
   "metadata": {},
   "outputs": [
    {
     "name": "stdout",
     "output_type": "stream",
     "text": [
      "[11, 12, 13, 14, 15, 16, 17]\n"
     ]
    }
   ],
   "source": [
    "numbers = [1, 2, 3, 4, 5, 6, 7, 8, 9, 10, 11, 12, 13, 14, 15, 16, 17]\n",
    "threshold = 10\n",
    "\n",
    "greater_than_threshold = list(filter(lambda x: x > threshold, numbers))\n",
    "print(greater_than_threshold)\n"
   ]
  },
  {
   "cell_type": "markdown",
   "id": "9800f4bb",
   "metadata": {},
   "source": [
    "## Recursion:"
   ]
  },
  {
   "cell_type": "markdown",
   "id": "bcb529d8",
   "metadata": {},
   "source": [
    "1. Explain the concept of recursion in Python. How does it differ from iteration?"
   ]
  },
  {
   "cell_type": "code",
   "execution_count": null,
   "id": "af8fbc0c",
   "metadata": {},
   "outputs": [],
   "source": [
    "'''\n",
    "RECURSION is a process of defining something in terms of itself. It is a technique where a function \n",
    "calls itself to solve a problem by breaking it down into smaller sub-problems. \n",
    "Python supports recursive functions, which means a defined function can call itself. The following \n",
    "are the steps involved in recursion in Python:\n",
    "1. Define the base case(s): A base case is a condition that stops the recursion from continuing \n",
    "indefinitely. It is the simplest form of the problem that can be solved directly.\n",
    "2. Define the recursive case(s): A recursive case is a condition that calls the function again, with \n",
    "a modified version of the original problem.\n",
    "\n",
    "Differences between RECURSION and ITERATION:\n",
    "\n",
    "RECURSION:\n",
    "A function calls itself to solve a problem.\n",
    "It is a top-down approach.\n",
    "The problem is divided into smaller sub-problems.\n",
    "The solution is obtained by solving these sub-problems.\n",
    "It is often used when the problem can be divided into smaller sub-problems that are similar to the original problem.\n",
    "It is also used when the problem can be solved by solving a smaller version of the same problem.\n",
    "It can be more elegant and easier to understand than iteration.\n",
    "It can also be less efficient because it involves function calls, which can be expensive in terms of memory and time.\n",
    "\n",
    "ITERATION:\n",
    "A set of instructions is repeated to solve a problem.\n",
    "It is a bottom-up approach.\n",
    "The problem is solved by repeatedly executing a set of instructions.\n",
    "It is used when the problem can be solved by repeating a set of instructions.\n",
    "It is generally more efficient than recursion.\n",
    "'''"
   ]
  },
  {
   "cell_type": "markdown",
   "id": "5662be5c",
   "metadata": {},
   "source": [
    "2. Write a Python program to calculate the factorial of a number using recursion."
   ]
  },
  {
   "cell_type": "code",
   "execution_count": 1,
   "id": "e71f96da",
   "metadata": {},
   "outputs": [
    {
     "name": "stdout",
     "output_type": "stream",
     "text": [
      "The factorial of 5 is 120\n"
     ]
    }
   ],
   "source": [
    "def factorial(x):\n",
    "    if x == 1:\n",
    "        return 1\n",
    "    else:\n",
    "        return (x * factorial(x-1))\n",
    "\n",
    "num = 5\n",
    "print(\"The factorial of\", num, \"is\", factorial(num))\n"
   ]
  },
  {
   "cell_type": "markdown",
   "id": "e94d0d56",
   "metadata": {},
   "source": [
    "3. Create a recursive Python function to find the nth Fibonacci number."
   ]
  },
  {
   "cell_type": "code",
   "execution_count": 4,
   "id": "affa9bd4",
   "metadata": {},
   "outputs": [
    {
     "name": "stdout",
     "output_type": "stream",
     "text": [
      "Enter the value of n: 7\n",
      "The 7th fibonacci number is: 13\n"
     ]
    }
   ],
   "source": [
    "#1 1 2 3 5 8 13 21\n",
    "def fibonacci(n):\n",
    "    if n <= 1:\n",
    "        return n\n",
    "    else:\n",
    "        return fibonacci(n-1) + fibonacci(n-2)\n",
    "        \n",
    "n = int(input(\"Enter the value of n: \"))\n",
    "print(f\"The {n}th fibonacci number is: {fibonacci(n)}\")   "
   ]
  },
  {
   "cell_type": "markdown",
   "id": "1dee8829",
   "metadata": {},
   "source": [
    "4. Write a recursive Python function to calculate the sum of all elements in a list."
   ]
  },
  {
   "cell_type": "code",
   "execution_count": 8,
   "id": "e219e4ac",
   "metadata": {},
   "outputs": [
    {
     "name": "stdout",
     "output_type": "stream",
     "text": [
      "The sum of list items is:  15\n"
     ]
    }
   ],
   "source": [
    "def sum_list_item(my_list):\n",
    "    if len(my_list) == 1:\n",
    "        return my_list[0]\n",
    "    else:\n",
    "        return my_list[0] + sum_list_item(my_list[1:])\n",
    "\n",
    "num_list = [1, 2, 3, 4, 5]\n",
    "sum_list = sum_list_item(num_list)\n",
    "print(\"The sum of list items is: \",sum_list)"
   ]
  },
  {
   "cell_type": "markdown",
   "id": "15998650",
   "metadata": {},
   "source": [
    "5. How can you prevent a recursive function from running indefinitely, causing a stack overflow error?"
   ]
  },
  {
   "cell_type": "code",
   "execution_count": null,
   "id": "7b5b177e",
   "metadata": {},
   "outputs": [],
   "source": [
    "'''\n",
    "Following are some of the ways to prevent a recursive function from running indefinitely and causing \n",
    "a stack overflow error:\n",
    "\n",
    "1. Define a base case: A base case is a condition that stops the recursion from continuing \n",
    "indefinitely. It is the simplest form of the problem that can be solved directly. By defining a base \n",
    "case, you can ensure that the recursion will eventually terminate.\n",
    "\n",
    "2. Use iteration instead of recursion: In some cases, you can use iteration instead of recursion to \n",
    "solve the problem. Iteration involves repeating a set of instructions until a specific condition is \n",
    "met. This can be more efficient than recursion and can avoid the risk of a stack overflow error.\n",
    "'''"
   ]
  },
  {
   "cell_type": "markdown",
   "id": "1259590e",
   "metadata": {},
   "source": [
    "6. Create a recursive Python function to find the greatest common divisor (GCD) of two numbers using the Euclidean algorithm."
   ]
  },
  {
   "cell_type": "code",
   "execution_count": 9,
   "id": "f6ba81d7",
   "metadata": {},
   "outputs": [
    {
     "name": "stdout",
     "output_type": "stream",
     "text": [
      "The GCD of 24 and 36 is 12\n"
     ]
    }
   ],
   "source": [
    "def gcd(a, b):\n",
    "    if b == 0:\n",
    "        return a\n",
    "    else:\n",
    "        return gcd(b, a % b)\n",
    "\n",
    "a = 24\n",
    "b = 36\n",
    "print(\"The GCD of\", a, \"and\", b, \"is\", gcd(a, b))\n"
   ]
  },
  {
   "cell_type": "markdown",
   "id": "88c48b2e",
   "metadata": {},
   "source": [
    "7. Write a recursive Python function to reverse a string."
   ]
  },
  {
   "cell_type": "code",
   "execution_count": 10,
   "id": "b953d1c0",
   "metadata": {},
   "outputs": [
    {
     "name": "stdout",
     "output_type": "stream",
     "text": [
      "The reverse of metro is: ortem\n"
     ]
    }
   ],
   "source": [
    "def str_reverse(string):\n",
    "    if len(string) == 1:\n",
    "        return string\n",
    "    else:\n",
    "        return str_reverse(string[1:]) + string[0]\n",
    "\n",
    "string = \"metro\"\n",
    "reversed_str = str_reverse(string)\n",
    "print(f\"The reverse of {string} is: {reversed_str}\")"
   ]
  },
  {
   "cell_type": "markdown",
   "id": "aa9b7fec",
   "metadata": {},
   "source": [
    "8. Create a recursive Python function to calculate the power of a number (x^n)."
   ]
  },
  {
   "cell_type": "code",
   "execution_count": 12,
   "id": "57352135",
   "metadata": {},
   "outputs": [
    {
     "name": "stdout",
     "output_type": "stream",
     "text": [
      "The 4th power of 3 is: 81\n"
     ]
    }
   ],
   "source": [
    "def power(x, n):\n",
    "    if n == 0:\n",
    "        return 1\n",
    "    else:\n",
    "        return x * power(x, n-1)\n",
    "\n",
    "x = 3 #number\n",
    "n = 4 #nth power\n",
    "result = power(x, n)\n",
    "print(f\"The {n}th power of {x} is: {result}\")"
   ]
  },
  {
   "cell_type": "markdown",
   "id": "3b95f58a",
   "metadata": {},
   "source": [
    "9. Write a recursive Python function to find all permutations of a given string."
   ]
  },
  {
   "cell_type": "code",
   "execution_count": 34,
   "id": "76e56b95",
   "metadata": {},
   "outputs": [
    {
     "name": "stdout",
     "output_type": "stream",
     "text": [
      "The permutations of string 'flu' are: ['flu', 'ful', 'lfu', 'luf', 'ufl', 'ulf']\n"
     ]
    }
   ],
   "source": [
    "def permute(s: str) -> list:\n",
    "    if len(s) == 1:\n",
    "        return [s]\n",
    "    else:\n",
    "        result = []\n",
    "        for i, c in enumerate(s):\n",
    "            for perm in permute(s[:i] + s[i+1:]):\n",
    "                result.append(c + perm)\n",
    "        return result\n",
    "    \n",
    "my_str = \"flu\"\n",
    "print(f\"The permutations of string '{my_str}' are: {permute(my_str)}\")"
   ]
  },
  {
   "cell_type": "markdown",
   "id": "c67b5f96",
   "metadata": {},
   "source": [
    "10. Write a recursive Python function to check if a string is a palindrome."
   ]
  },
  {
   "cell_type": "code",
   "execution_count": 18,
   "id": "f5543432",
   "metadata": {},
   "outputs": [
    {
     "name": "stdout",
     "output_type": "stream",
     "text": [
      "The string 'radar' is a palindrome\n"
     ]
    }
   ],
   "source": [
    "def is_palindrome(string):\n",
    "    if len(string) == 1:\n",
    "        return True\n",
    "    elif string[0] != string[-1]:\n",
    "        return False\n",
    "    else:\n",
    "        return is_palindrome(string[1:-1])\n",
    "    \n",
    "my_string = \"radar\"\n",
    "print(f\"The string '{my_string}' is\", \"a palindrome\" if is_palindrome(my_string) else \"not a palindrome\")"
   ]
  },
  {
   "cell_type": "markdown",
   "id": "bfc9daf8",
   "metadata": {},
   "source": [
    "11. Create a recursive Python function to generate all possible combinations of a list of elements."
   ]
  },
  {
   "cell_type": "code",
   "execution_count": 35,
   "id": "4541ef37",
   "metadata": {},
   "outputs": [
    {
     "name": "stdout",
     "output_type": "stream",
     "text": [
      "The permutations of list '[1, 2, 3]' are: [[1, 2, 3], [1, 3, 2], [2, 1, 3], [2, 3, 1], [3, 1, 2], [3, 2, 1]]\n"
     ]
    }
   ],
   "source": [
    "def generate_comb(lst):\n",
    "    if len(lst) == 1:\n",
    "        return [lst]\n",
    "    else:\n",
    "        result = []\n",
    "        for i in range(len(lst)):\n",
    "            for comb in generate_comb(lst[:i] + lst[i+1:]):\n",
    "                result.append([lst[i]] + comb)\n",
    "        return result\n",
    "\n",
    "my_list = [1, 2, 3]\n",
    "print(f\"The permutations of list '{my_list}' are: {generate_comb(my_list)}\")"
   ]
  },
  {
   "cell_type": "markdown",
   "id": "e8caafcd",
   "metadata": {},
   "source": [
    "## Basics of Functions:"
   ]
  },
  {
   "cell_type": "markdown",
   "id": "6834b955",
   "metadata": {},
   "source": [
    "1. What is a function in Python, and why is it used?"
   ]
  },
  {
   "cell_type": "code",
   "execution_count": null,
   "id": "ef87fe51",
   "metadata": {},
   "outputs": [],
   "source": [
    "'''\n",
    "A function is a block of code that performs a specific task. It is defined using the def keyword, \n",
    "followed by the function name and a set of parentheses containing any parameters the \n",
    "function takes. The code inside the function is executed when the function is called, and the \n",
    "result (if any) is returned to the caller.\n",
    "\n",
    "Functions are used to break down a program into smaller, more manageable pieces. This makes the code \n",
    "easier to read, understand, and maintain. Functions can also be reused in different parts of a \n",
    "program, reducing the amount of code duplication.\n",
    "'''"
   ]
  },
  {
   "cell_type": "markdown",
   "id": "d8251973",
   "metadata": {},
   "source": [
    "2. How do you define a function in Python? Provide an example."
   ]
  },
  {
   "cell_type": "code",
   "execution_count": 42,
   "id": "8812652e",
   "metadata": {},
   "outputs": [
    {
     "name": "stdout",
     "output_type": "stream",
     "text": [
      "Hello, World!\n"
     ]
    }
   ],
   "source": [
    "'''\n",
    "To define a function in Python, you use the `def` keyword followed by the function name and a set \n",
    "of parentheses containing any parameters the function takes. The code inside the function is executed \n",
    "when the function is called, and the result (if any) is returned to the caller.\n",
    "\n",
    "Here's an example of a simple function that prints \"Hello, World!\" to the console:\n",
    "'''\n",
    "#Function definition\n",
    "def hello_world():\n",
    "    print(\"Hello, World!\")\n",
    "\n",
    "\n",
    "#To call this function, you simply write its name followed by parentheses:\n",
    "hello_world()\n",
    "#This will execute the code inside the function and print \"Hello, World!\" to the console.\n"
   ]
  },
  {
   "cell_type": "markdown",
   "id": "3bdf0567",
   "metadata": {},
   "source": [
    "3. Explain the difference between a function definition and a function call."
   ]
  },
  {
   "cell_type": "code",
   "execution_count": null,
   "id": "7c0cc562",
   "metadata": {},
   "outputs": [],
   "source": [
    "'''\n",
    "A function definition is a block of code that defines a function and specifies what it does. It is \n",
    "created using the def keyword, followed by the function name, a set of parentheses containing any \n",
    "parameters the function takes, and a colon. The code inside the function is executed when the \n",
    "function is called.\n",
    "\n",
    "A function call, on the other hand, is the code that actually invokes the function and passes any \n",
    "necessary arguments to it. It is created by writing the function name followed by a set of \n",
    "parentheses containing any arguments to be passed to the function.\n",
    "'''"
   ]
  },
  {
   "cell_type": "markdown",
   "id": "287b7eb4",
   "metadata": {},
   "source": [
    "4. Write a Python program that defines a function to calculate the sum of two numbers and then calls the function."
   ]
  },
  {
   "cell_type": "code",
   "execution_count": 48,
   "id": "dc0d8744",
   "metadata": {},
   "outputs": [
    {
     "name": "stdout",
     "output_type": "stream",
     "text": [
      "The sum is:  8\n"
     ]
    }
   ],
   "source": [
    "# Function definition:\n",
    "def add_numbers(a, b):\n",
    "    return a + b\n",
    "\n",
    "# Function call:\n",
    "result = add_numbers(3, 5)\n",
    "print(\"The sum is: \",result)"
   ]
  },
  {
   "cell_type": "markdown",
   "id": "cca21d94",
   "metadata": {},
   "source": [
    "5. What is a function signature, and what information does it typically include?"
   ]
  },
  {
   "cell_type": "code",
   "execution_count": null,
   "id": "19548c4d",
   "metadata": {},
   "outputs": [],
   "source": [
    "'''\n",
    "A function signature typically includes the number and type of input arguments the function takes and \n",
    "the type of the result the function returns. \n",
    "The signature of a function is defined by the names and types of the input arguments, along with the \n",
    "type of the returned result(s) of a function or method. \n",
    "'''"
   ]
  },
  {
   "cell_type": "markdown",
   "id": "e3fa7fd0",
   "metadata": {},
   "source": [
    "6. Create a Python function that takes two arguments and returns their product."
   ]
  },
  {
   "cell_type": "code",
   "execution_count": 49,
   "id": "01912a36",
   "metadata": {},
   "outputs": [
    {
     "name": "stdout",
     "output_type": "stream",
     "text": [
      "The product is:  15\n"
     ]
    }
   ],
   "source": [
    "# Function definition:\n",
    "def product(a, b):\n",
    "    return a * b\n",
    "\n",
    "# Function call:\n",
    "result = product(3, 5)\n",
    "print(\"The product is: \",result)"
   ]
  },
  {
   "cell_type": "markdown",
   "id": "601ba9ab",
   "metadata": {},
   "source": [
    "## Function Parameters and Arguments:"
   ]
  },
  {
   "cell_type": "markdown",
   "id": "8f5c2ae9",
   "metadata": {},
   "source": [
    "1. Explain the concepts of formal parameters and actual arguments in Python functions."
   ]
  },
  {
   "cell_type": "code",
   "execution_count": null,
   "id": "dde31476",
   "metadata": {},
   "outputs": [],
   "source": [
    "'''\n",
    "A function definition specifies the names and types of the input arguments, along with the type of \n",
    "the returned result(s) of a function or method. The names of the input arguments in a function \n",
    "definition are called formal parameters. Formal parameters are the parameters which are specified \n",
    "during the definition of the function. \n",
    "\n",
    "When a function is called, the values passed to the function are called actual arguments. Actual \n",
    "parameters are the parameters which are specified during the function call. There are four types of \n",
    "actual parameters in Python: positional parameters, keyword parameters, default parameters, and \n",
    "variable-length parameters.\n",
    "\n",
    "Positional parameters are the parameters that are passed to the function in the correct positional \n",
    "order. Keyword parameters are capable of identifying the parameters with their specified name. Default\n",
    "parameters are used when a value is not provided for a parameter. Variable-length parameters allow a \n",
    "function to accept any number of arguments.\n",
    "'''"
   ]
  },
  {
   "cell_type": "markdown",
   "id": "89f0fe45",
   "metadata": {},
   "source": [
    "2. Write a Python program that defines a function with default argument values."
   ]
  },
  {
   "cell_type": "code",
   "execution_count": 54,
   "id": "18ce9216",
   "metadata": {},
   "outputs": [
    {
     "name": "stdout",
     "output_type": "stream",
     "text": [
      "Hello, World!\n",
      "Hello, Gaurav!\n"
     ]
    }
   ],
   "source": [
    "def greet(name='World'):\n",
    "    print(f'Hello, {name}!')\n",
    "\n",
    "# Call the function with the default argument value\n",
    "greet()\n",
    "\n",
    "# Call the function with a custom argument value\n",
    "greet('Gaurav')\n"
   ]
  },
  {
   "cell_type": "markdown",
   "id": "8c097583",
   "metadata": {},
   "source": [
    "3. How do you use keyword arguments in Python function calls? Provide an example."
   ]
  },
  {
   "cell_type": "code",
   "execution_count": 57,
   "id": "6046447b",
   "metadata": {},
   "outputs": [
    {
     "name": "stdout",
     "output_type": "stream",
     "text": [
      "Hello, Gaurav!\n",
      "Hi, Rahul!\n"
     ]
    }
   ],
   "source": [
    "'''\n",
    "Keyword arguments allow the arguments to be passed in any order, and also makes the code more \n",
    "readable by making it clear which argument is being passed to which parameter.\n",
    "'''\n",
    "def my_func(name, message):\n",
    "    print(f'{message}, {name}!')\n",
    "\n",
    "# Call the function using positional arguments\n",
    "my_func('Gaurav', 'Hello')\n",
    "\n",
    "# Call the function using keyword arguments\n",
    "my_func(message='Hi', name='Rahul')\n"
   ]
  },
  {
   "cell_type": "markdown",
   "id": "fb26f6a5",
   "metadata": {},
   "source": [
    "4. Create a Python function that accepts a variable number of arguments and calculates their sum."
   ]
  },
  {
   "cell_type": "code",
   "execution_count": 50,
   "id": "4febdaa7",
   "metadata": {},
   "outputs": [
    {
     "name": "stdout",
     "output_type": "stream",
     "text": [
      "The sum is:  15\n"
     ]
    }
   ],
   "source": [
    "from functools import reduce\n",
    "\n",
    "def add_numbers(*args):\n",
    "    return reduce(lambda x,y: x+y, args)\n",
    "\n",
    "result = add_numbers(1, 2, 3, 4, 5)\n",
    "print(\"The sum is: \",result)"
   ]
  },
  {
   "cell_type": "markdown",
   "id": "969bc8dd",
   "metadata": {},
   "source": [
    "5. What is the purpose of the `*args` and `**kwargs` syntax in function parameter lists?"
   ]
  },
  {
   "cell_type": "code",
   "execution_count": 71,
   "id": "d048d751",
   "metadata": {},
   "outputs": [
    {
     "name": "stdout",
     "output_type": "stream",
     "text": [
      "*args:  (1, 2, 3, 4)\n",
      "**kwargs:  {'a': 1, 'b': 2, 'c': 3, 'd': 4}\n"
     ]
    }
   ],
   "source": [
    "'''\n",
    "The *args syntax is used to pass a variable-length list of non-keyword arguments to a function. \n",
    "This allows you to pass any number of arguments to the function, which are then packed into a tuple. \n",
    "The *args syntax is often used when you don’t know how many arguments will be passed to the function.\n",
    "\n",
    "The **kwargs syntax is used to pass a variable-length list of keyword arguments to a function. This \n",
    "allows you to pass any number of keyword arguments to the function, which are then packed into a \n",
    "dictionary. The **kwargs syntax is often used when you want to pass a large number of keyword \n",
    "arguments to a function, or when you don’t know what keyword arguments will be passed to the function.\n",
    "'''\n",
    "#Exammples:\n",
    "def my_function1(*args):\n",
    "    print(\"*args: \",args)\n",
    "\n",
    "def my_function2(**kwargs):\n",
    "    print(\"**kwargs: \",kwargs)\n",
    "\n",
    "my_function1(1,2,3,4)\n",
    "my_function2(a=1, b=2, c=3, d=4)"
   ]
  },
  {
   "cell_type": "markdown",
   "id": "ae053b93",
   "metadata": {},
   "source": [
    "## Return Values and Scoping:"
   ]
  },
  {
   "cell_type": "markdown",
   "id": "cc48bd75",
   "metadata": {},
   "source": [
    "1. Describe the role of the `return` statement in Python functions and provide examples."
   ]
  },
  {
   "cell_type": "code",
   "execution_count": 73,
   "id": "22fe0f77",
   "metadata": {},
   "outputs": [
    {
     "name": "stdout",
     "output_type": "stream",
     "text": [
      "8\n"
     ]
    }
   ],
   "source": [
    "'''\n",
    "The return statement in Python is used to exit a function and return a value to the caller. \n",
    "The value that is returned can be of any data type, including numbers, strings, lists, tuples, \n",
    "and dictionaries. The return statement is optional, and if it is not used, the function will return \n",
    "None by default.\n",
    "Example:\n",
    "'''\n",
    "\n",
    "def add_numbers(a, b):\n",
    "    return a + b\n",
    "\n",
    "result = add_numbers(3, 5)\n",
    "print(result)\n"
   ]
  },
  {
   "cell_type": "markdown",
   "id": "0ab1be80",
   "metadata": {},
   "source": [
    "2. Explain the concept of variable scope in Python, including local and global variables."
   ]
  },
  {
   "cell_type": "code",
   "execution_count": 74,
   "id": "a4b5d134",
   "metadata": {},
   "outputs": [
    {
     "name": "stdout",
     "output_type": "stream",
     "text": [
      "x = 10\n",
      "y = 5\n"
     ]
    }
   ],
   "source": [
    "'''\n",
    "In Python, variable scope refers to the region of a program where a variable is accessible. A variable\n",
    "can be accessed within the region it is defined, which is called its scope. There are two types of \n",
    "variable scopes in Python: local and global.\n",
    "\n",
    "A local variable is a variable that is defined inside a function or block. It can only be accessed \n",
    "within that function or block. If you try to access a local variable outside of its scope, you will \n",
    "get a NameError.\n",
    "\n",
    "A global variable is a variable that is defined outside of any function or block. It can be accessed \n",
    "from anywhere in the program, including inside functions.\n",
    "'''\n",
    "#Example:\n",
    "x = 10 # global variable\n",
    "\n",
    "def my_function():\n",
    "    y = 5 # local variable\n",
    "    print(f'x = {x}') # access global variable\n",
    "    print(f'y = {y}') # access local variable\n",
    "    \n",
    "my_function()"
   ]
  },
  {
   "cell_type": "markdown",
   "id": "8eac15d0",
   "metadata": {},
   "source": [
    "3. Write a Python program that demonstrates the use of global variables within functions."
   ]
  },
  {
   "cell_type": "code",
   "execution_count": 81,
   "id": "4b001d6a",
   "metadata": {},
   "outputs": [
    {
     "name": "stdout",
     "output_type": "stream",
     "text": [
      "The area of square of radius 5 is: 78.5\n"
     ]
    }
   ],
   "source": [
    "pi = 3.14 # global variable\n",
    "\n",
    "def area_circle(radius):\n",
    "    area = pi * radius ** 2 # use global variable pi = 2.14\n",
    "    return area\n",
    "\n",
    "radius = 5\n",
    "print(f'The area of square of radius {radius} is: {area_circle(radius)}')\n"
   ]
  },
  {
   "cell_type": "markdown",
   "id": "2dc6da07",
   "metadata": {},
   "source": [
    "4. Create a Python function that calculates the factorial of a number and returns it."
   ]
  },
  {
   "cell_type": "code",
   "execution_count": 82,
   "id": "5ab11d1a",
   "metadata": {},
   "outputs": [
    {
     "name": "stdout",
     "output_type": "stream",
     "text": [
      "Enter a number: 5\n",
      "The factorial of 5 is 120\n"
     ]
    }
   ],
   "source": [
    "def factorial(number: int) -> int:\n",
    "    fact = 1\n",
    "    for i in range(1, number+1):\n",
    "        fact *= i\n",
    "    return fact\n",
    "\n",
    "number = int(input(\"Enter a number: \"))   \n",
    "print(f\"The factorial of {number} is {factorial(number)}\")"
   ]
  },
  {
   "cell_type": "markdown",
   "id": "3e969e59",
   "metadata": {},
   "source": [
    "5. How can you access variables defined outside a function from within the function?"
   ]
  },
  {
   "cell_type": "code",
   "execution_count": 85,
   "id": "e763dd01",
   "metadata": {},
   "outputs": [
    {
     "name": "stdout",
     "output_type": "stream",
     "text": [
      "x inside function: 5\n",
      "x outside function: 5\n"
     ]
    }
   ],
   "source": [
    "'''\n",
    "In this example, x is a global variable that is defined outside of any function. The my_func function \n",
    "modifies the value of x using the global keyword, which tells Python to use the global variable instead\n",
    "of creating a new local variable with the same name. \n",
    "The function then prints the value of x inside the function.\n",
    "\n",
    "When we call the my_func function, it modifies the value of x to 5 and prints it to the console. \n",
    "When we print the value of x outside of the function, we can see that it has been modified to 5.\n",
    "'''\n",
    "x = 10 # global variable\n",
    "\n",
    "def my_func():\n",
    "    global x\n",
    "    x = 5 # modify global variable\n",
    "    print(f'x inside function: {x}')\n",
    "\n",
    "my_func()\n",
    "print(f'x outside function: {x}')\n"
   ]
  },
  {
   "cell_type": "markdown",
   "id": "c5500ede",
   "metadata": {},
   "source": [
    "## Lambda Functions and Higher-Order Functions:"
   ]
  },
  {
   "cell_type": "markdown",
   "id": "b0c141eb",
   "metadata": {},
   "source": [
    "1. What are lambda functions in Python, and when are they typically used?"
   ]
  },
  {
   "cell_type": "code",
   "execution_count": 87,
   "id": "1d1c8e30",
   "metadata": {},
   "outputs": [
    {
     "name": "stdout",
     "output_type": "stream",
     "text": [
      "8\n"
     ]
    }
   ],
   "source": [
    "'''\n",
    "In Python, a lambda function is a small anonymous function that can take any number of arguments \n",
    "but can only have one expression. It is defined using the lambda keyword, followed by the arguments \n",
    "and the expression. \n",
    "Lambda functions are typically used when you need to define a simple function that you don’t want to \n",
    "define using the def keyword.\n",
    "Lambda functions are often used in conjunction with other functions, such as map, filter, and reduce, \n",
    "to perform operations on lists and other data structures.\n",
    "'''\n",
    "#Here’s an example of a lambda function that adds two numbers:\n",
    "add = lambda x, y: x + y\n",
    "result = add(3, 5)\n",
    "print(result) # Output: 8\n"
   ]
  },
  {
   "cell_type": "markdown",
   "id": "dda16bb7",
   "metadata": {},
   "source": [
    "2. Write a Python program that uses lambda functions to sort a list of tuples based on the second\n",
    "element."
   ]
  },
  {
   "cell_type": "code",
   "execution_count": 88,
   "id": "a498cc21",
   "metadata": {},
   "outputs": [
    {
     "name": "stdout",
     "output_type": "stream",
     "text": [
      "[('Surat', 1), ('Bhopal', 2), ('Lucknow', 3), ('Mumbai', 4)]\n"
     ]
    }
   ],
   "source": [
    "tuples_list = [('Lucknow', 3), ('Bhopal', 2), ('Surat', 1), ('Mumbai', 4)]\n",
    "sorted_list = sorted(tuples_list, key=lambda a: a[1])\n",
    "print(sorted_list)"
   ]
  },
  {
   "cell_type": "markdown",
   "id": "45044887",
   "metadata": {},
   "source": [
    "3. Explain the concept of higher-order functions in Python, and provide an example."
   ]
  },
  {
   "cell_type": "code",
   "execution_count": 91,
   "id": "af12f7b3",
   "metadata": {},
   "outputs": [
    {
     "name": "stdout",
     "output_type": "stream",
     "text": [
      "The square is:  9\n"
     ]
    }
   ],
   "source": [
    "'''\n",
    "In Python, a higher-order function is a function that takes one or more functions as arguments or \n",
    "returns a function as its result. \n",
    "Higher-order functions are used to create more abstract and reusable code by allowing functions to be \n",
    "treated as data.\n",
    "'''\n",
    "# Here’s an example of a higher-order function that takes a function as an argument:\n",
    "def apply_function(func, x):\n",
    "    return func(x)\n",
    "\n",
    "def square(x):\n",
    "    return x ** 2\n",
    "\n",
    "result = apply_function(square, 3)\n",
    "print(\"The square is: \", result)\n"
   ]
  },
  {
   "cell_type": "markdown",
   "id": "3e08e04d",
   "metadata": {},
   "source": [
    "4. Create a Python function that takes a list of numbers and a function as arguments, applying the\n",
    "function to each element in the list."
   ]
  },
  {
   "cell_type": "code",
   "execution_count": 94,
   "id": "181469c8",
   "metadata": {},
   "outputs": [
    {
     "name": "stdout",
     "output_type": "stream",
     "text": [
      "The squares are:  [1, 4, 9, 16, 25]\n"
     ]
    }
   ],
   "source": [
    "def apply_func_to_list(lst, func):\n",
    "    return [func(x) for x in lst]\n",
    "\n",
    "def square(x):\n",
    "    return x ** 2\n",
    "\n",
    "my_list = [1, 2, 3, 4, 5]\n",
    "\n",
    "result = apply_func_to_list(my_list, square)\n",
    "print(\"The squares are: \", result)\n"
   ]
  },
  {
   "cell_type": "markdown",
   "id": "48ce7711",
   "metadata": {},
   "source": [
    "## Built-in Functions:"
   ]
  },
  {
   "cell_type": "markdown",
   "id": "361ab711",
   "metadata": {},
   "source": [
    "1. Describe the role of built-in functions like `len()`, `max()`, and `min()` in Python."
   ]
  },
  {
   "cell_type": "code",
   "execution_count": null,
   "id": "8060167e",
   "metadata": {},
   "outputs": [],
   "source": [
    "'''\n",
    "len(): Returns the length of an object, such as a string, list, or tuple.\n",
    "max(): Returns the largest item in an iterable or the largest of two or more arguments.\n",
    "min(): Returns the smallest item in an iterable or the smallest of two or more arguments.\n",
    "'''"
   ]
  },
  {
   "cell_type": "markdown",
   "id": "c7ce2e00",
   "metadata": {},
   "source": [
    "2. Write a Python program that uses the `map()` function to apply a function to each element of a list."
   ]
  },
  {
   "cell_type": "code",
   "execution_count": 95,
   "id": "4d7cf6cf",
   "metadata": {},
   "outputs": [
    {
     "name": "stdout",
     "output_type": "stream",
     "text": [
      "[1, 8, 27, 64, 125]\n"
     ]
    }
   ],
   "source": [
    "def cube(x):\n",
    "    return x ** 3\n",
    "\n",
    "my_list = [1, 2, 3, 4, 5]\n",
    "result = map(cube, my_list)\n",
    "print(list(result))\n"
   ]
  },
  {
   "cell_type": "markdown",
   "id": "74ff695a",
   "metadata": {},
   "source": [
    "3. How does the `filter()` function work in Python, and when would you use it?"
   ]
  },
  {
   "cell_type": "code",
   "execution_count": 96,
   "id": "7acf8bcd",
   "metadata": {},
   "outputs": [
    {
     "name": "stdout",
     "output_type": "stream",
     "text": [
      "[2, 4, 6, 8, 10]\n"
     ]
    }
   ],
   "source": [
    "'''\n",
    "The filter() function is used to filter elements from an iterable based on a given condition.\n",
    "It takes two arguments: a function that tests each element of the iterable, and the iterable itself. \n",
    "The function returns an iterator that contains only the elements of the iterable that satisfy the \n",
    "condition.\n",
    "'''\n",
    "#  Filter even numbers from a list of integers\n",
    "my_list = [1, 2, 3, 4, 5, 6, 7, 8, 9, 10]\n",
    "result = filter(lambda x: x % 2 == 0, my_list)\n",
    "print(list(result))\n"
   ]
  },
  {
   "cell_type": "markdown",
   "id": "c5e5c97b",
   "metadata": {},
   "source": [
    "4. Create a Python program that uses the `reduce()` function to find the product of all elements in a list."
   ]
  },
  {
   "cell_type": "code",
   "execution_count": 97,
   "id": "60160ff5",
   "metadata": {},
   "outputs": [
    {
     "name": "stdout",
     "output_type": "stream",
     "text": [
      "120\n"
     ]
    }
   ],
   "source": [
    "from functools import reduce\n",
    "\n",
    "my_list = [1, 2, 3, 4, 5]\n",
    "result = reduce(lambda x, y: x * y, my_list)\n",
    "print(result)\n"
   ]
  },
  {
   "cell_type": "markdown",
   "id": "d7e4e58f",
   "metadata": {},
   "source": [
    "## Function Documentation and Best Practices:"
   ]
  },
  {
   "cell_type": "markdown",
   "id": "c9b5282d",
   "metadata": {},
   "source": [
    "1. Explain the purpose of docstrings in Python functions and how to write them."
   ]
  },
  {
   "cell_type": "code",
   "execution_count": 72,
   "id": "d6bc8677",
   "metadata": {},
   "outputs": [],
   "source": [
    "'''\n",
    "A docstring is a string literal that appears as the first statement in a module, function, class, or \n",
    "method definition. Its purpose is to provide a concise, human-readable description of what the code \n",
    "does, how it works, and how to use it.\n",
    "\n",
    "A docstring should summarize the behavior of the function or method and document its arguments and \n",
    "return values. It should also list all the exceptions that can be raised and other optional arguments.\n",
    "\n",
    "There are two types of docstrings in Python: single-line docstrings and multi-line docstrings. \n",
    "Single-line docstrings are used for simple functions and methods that fit on one line. \n",
    "Multi-line docstrings are used for more complex functions and methods that require more detailed \n",
    "documentation.\n",
    "'''\n",
    "\n",
    "#Single-line docstring:\n",
    "def square(n):\n",
    "    '''Return the square of a number.'''\n",
    "    return n**2\n",
    "\n",
    "#Multi-line docstring:\n",
    "def greet(name):\n",
    "    '''\n",
    "    Greet someone by name.\n",
    "\n",
    "    Parameters:\n",
    "        name (str): The name of the person to greet.\n",
    "\n",
    "    Returns:\n",
    "        str: A greeting message.\n",
    "    '''\n",
    "    return f'Hello, {name}!'\n"
   ]
  },
  {
   "cell_type": "markdown",
   "id": "8e24a33d",
   "metadata": {},
   "source": [
    "2. Describe some best practices for naming functions and variables in python, including naming conventions and guidelines."
   ]
  },
  {
   "cell_type": "code",
   "execution_count": null,
   "id": "0b59718e",
   "metadata": {},
   "outputs": [],
   "source": [
    "'''\n",
    "When naming functions and variables, it is important to follow some best practices to make your code \n",
    "more readable and understandable. Here are some guidelines to follow:\n",
    "\n",
    "1. Use descriptive and meaningful names: Variable and function names should be descriptive and \n",
    "meaningful. This will help other developers understand what your code does and how it works.\n",
    "\n",
    "2. Follow a consistent naming convention: It's important to follow a consistent naming convention to \n",
    "make your code more readable and understandable. In Python, the convention is to use lowercase \n",
    "letters for function and variable names, with words separated by underscores as necessary to improve \n",
    "readability.\n",
    "\n",
    "3. Avoid reserved keywords: Avoid using reserved keywords as variable names. This can cause conflicts \n",
    "with the Python interpreter and make your code difficult to read and understand.\n",
    "\n",
    "4. Don't use abbreviations: Avoid using abbreviations in variable and function names. This can make \n",
    "your code difficult to read and understand, especially for other developers who are not familiar with \n",
    "your code.\n",
    "\n",
    "5. Be mindful of variable scope: When naming variables, be mindful of their scope. Variables with \n",
    "global scope should have different names than variables with local scope to avoid confusion.\n",
    "\n",
    "By following these guidelines, you can write code that is more readable, understandable, and \n",
    "maintainable.\n",
    "'''"
   ]
  }
 ],
 "metadata": {
  "kernelspec": {
   "display_name": "Python 3 (ipykernel)",
   "language": "python",
   "name": "python3"
  },
  "language_info": {
   "codemirror_mode": {
    "name": "ipython",
    "version": 3
   },
   "file_extension": ".py",
   "mimetype": "text/x-python",
   "name": "python",
   "nbconvert_exporter": "python",
   "pygments_lexer": "ipython3",
   "version": "3.9.12"
  }
 },
 "nbformat": 4,
 "nbformat_minor": 5
}
