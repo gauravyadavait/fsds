{
 "cells": [
  {
   "cell_type": "markdown",
   "id": "7a247787",
   "metadata": {},
   "source": [
    "### Assignment Questions"
   ]
  },
  {
   "cell_type": "markdown",
   "id": "edf1901c",
   "metadata": {},
   "source": [
    "1. Given an array, check if it contains any duplicates or not. \n",
    "\n",
    "    arr = [1, 2, 4, 2, 5, 9] \n",
    "\n",
    "    Output = True"
   ]
  },
  {
   "cell_type": "code",
   "execution_count": 1,
   "id": "f98e234e",
   "metadata": {},
   "outputs": [
    {
     "name": "stdout",
     "output_type": "stream",
     "text": [
      "True\n"
     ]
    }
   ],
   "source": [
    "def check_duplicates(array):\n",
    "    flag = False\n",
    "    temp = []\n",
    "    for item in array:\n",
    "        if item not in temp:\n",
    "            temp.append(item)\n",
    "        else:\n",
    "            flag = True\n",
    "    return flag\n",
    "    \n",
    "arr = [1, 2, 4, 2, 5, 9]\n",
    "result = check_duplicates(arr)\n",
    "print (result)"
   ]
  },
  {
   "cell_type": "markdown",
   "id": "5a774268",
   "metadata": {},
   "source": [
    "2. Given an array and an integer k, rotate the array to the right by k steps. \n",
    "\n",
    "    arr = [1, 2, 3, 4, 5, 6, 7] \n",
    "    \n",
    "    k = 3 \n",
    "\n",
    "    Output = [5, 6, 7, 1, 2, 3, 4]"
   ]
  },
  {
   "cell_type": "code",
   "execution_count": 3,
   "id": "2f569d0c",
   "metadata": {},
   "outputs": [
    {
     "name": "stdout",
     "output_type": "stream",
     "text": [
      "[5, 6, 7, 1, 2, 3, 4]\n"
     ]
    }
   ],
   "source": [
    "def rotate_array(array, k):\n",
    "    temp = []\n",
    "    for i in range(0, len(array)):\n",
    "        x = array[(i - k) % len(array)]\n",
    "        temp.append(x)\n",
    "    return temp\n",
    "\n",
    "arr = [1, 2, 3, 4, 5, 6, 7]\n",
    "k = 3\n",
    "rotated_arr = rotate_array(arr, k)\n",
    "print(rotated_arr)"
   ]
  },
  {
   "cell_type": "markdown",
   "id": "4e57d63e",
   "metadata": {},
   "source": [
    "3. Reverse the given array in-place, means without using any extra data structure. \n",
    "\n",
    "    arr = [2, 4, 5, 7, 9, 12] \n",
    "\n",
    "    Output = [12, 9, 7, 5, 4, 2]"
   ]
  },
  {
   "cell_type": "code",
   "execution_count": 1,
   "id": "cddaa9a2",
   "metadata": {},
   "outputs": [
    {
     "data": {
      "text/plain": [
       "[12, 9, 7, 5, 4, 2]"
      ]
     },
     "execution_count": 1,
     "metadata": {},
     "output_type": "execute_result"
    }
   ],
   "source": [
    "def reverse_array(arr):\n",
    "    start = 0\n",
    "    end = len(arr) - 1\n",
    "    \n",
    "    while start < end:\n",
    "        arr[start], arr[end] = arr[end], arr[start]\n",
    "        start += 1\n",
    "        end -= 1\n",
    "    return arr\n",
    "\n",
    "arr = [2, 4, 5, 7, 9, 12]\n",
    "reverse_array(arr)"
   ]
  },
  {
   "cell_type": "markdown",
   "id": "20d5e13f",
   "metadata": {},
   "source": [
    "4. Given an array of integers, find the maximum element in an array\n",
    "\n",
    "    arr = [10, 5, 20, 8, 15]\n",
    "\n",
    "    Output = 20"
   ]
  },
  {
   "cell_type": "code",
   "execution_count": 2,
   "id": "bb22f042",
   "metadata": {},
   "outputs": [
    {
     "data": {
      "text/plain": [
       "20"
      ]
     },
     "execution_count": 2,
     "metadata": {},
     "output_type": "execute_result"
    }
   ],
   "source": [
    "def find_max(arr):\n",
    "    #initialize the max element as 0th element\n",
    "    max_element = arr[0] \n",
    "    \n",
    "    for element in arr:\n",
    "        if element > max_element:\n",
    "            max_element = element\n",
    "    return max_element\n",
    "    \n",
    "arr = [10, 5, 20, 8, 15]\n",
    "find_max(arr)"
   ]
  },
  {
   "cell_type": "markdown",
   "id": "91f43bae",
   "metadata": {},
   "source": [
    "5. Given a sorted array, remove the duplicate element without using any extra data structure. \n",
    "\n",
    "    arr = [1, 1, 2, 2, 2, 3, 3, 4, 4, 4, 5, 5] \n",
    "\n",
    "    Output = [1, 2, 3, 4, 5]"
   ]
  },
  {
   "cell_type": "code",
   "execution_count": 4,
   "id": "26ab2fcc",
   "metadata": {},
   "outputs": [
    {
     "data": {
      "text/plain": [
       "[1, 2, 3, 4, 5]"
      ]
     },
     "execution_count": 4,
     "metadata": {},
     "output_type": "execute_result"
    }
   ],
   "source": [
    "def remove_duplicates(arr):\n",
    "    # i keeps track of index of the previous unique element\n",
    "    i = 0\n",
    "    # j keeps track of index of the next unique element    \n",
    "    for j in range(1, len(arr)):\n",
    "        if arr[j] != arr[i]:\n",
    "            i += 1\n",
    "            arr[i] = arr[j]\n",
    "    #return only the unique elements from array(using slicing)\n",
    "    return arr[:i+1]\n",
    "\n",
    "arr = [1, 1, 2, 2, 2, 3, 3, 4, 4, 4, 5, 5]\n",
    "remove_duplicates(arr)"
   ]
  },
  {
   "cell_type": "code",
   "execution_count": null,
   "id": "16f5ac42",
   "metadata": {},
   "outputs": [],
   "source": []
  }
 ],
 "metadata": {
  "kernelspec": {
   "display_name": "Python 3 (ipykernel)",
   "language": "python",
   "name": "python3"
  },
  "language_info": {
   "codemirror_mode": {
    "name": "ipython",
    "version": 3
   },
   "file_extension": ".py",
   "mimetype": "text/x-python",
   "name": "python",
   "nbconvert_exporter": "python",
   "pygments_lexer": "ipython3",
   "version": "3.9.12"
  }
 },
 "nbformat": 4,
 "nbformat_minor": 5
}
