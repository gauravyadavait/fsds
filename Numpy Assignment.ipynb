{
 "cells": [
  {
   "cell_type": "markdown",
   "id": "543d5d88",
   "metadata": {},
   "source": [
    "#### 1. What is a Python library? Why do we use Python libraries?"
   ]
  },
  {
   "cell_type": "raw",
   "id": "e746c3e8",
   "metadata": {},
   "source": [
    "'''\n",
    "Answer:\n",
    "\n",
    "A Python library is a collection of related modules. \n",
    "It contains bundles of code that can be used repeatedly in different programs. \n",
    "Each module in a Python library serves a specific purpose. \n",
    "These libraries make Python programming simpler and more convenient for the programmer.\n",
    "\n",
    "We use python libraries for various reasons:\n",
    "1. Simplicity: Libraries simplify the coding process by providing pre-written code for common tasks.\n",
    "\n",
    "2. Efficiency: They increase efficiency by providing precompiled codes for specific operations, saving time and effort.\n",
    "\n",
    "3. Modularity: Libraries promote code reuse, making code more organized and manageable.\n",
    "\n",
    "4. Specialized Tasks: Libraries offer tools for specialized tasks like machine learning, data visualization, etc., \n",
    "    expanding python’s capabilities.\n",
    "    \n",
    "5. Speed: Libraries can significantly speed up the coding process, especially for complex tasks.\n",
    "\n",
    "6. Avoiding Repetition: They help avoid the need to code everything from scratch, reducing redundancy and potential errors.\n",
    "'''"
   ]
  },
  {
   "cell_type": "markdown",
   "id": "4a40dc30",
   "metadata": {},
   "source": [
    "#### 2. What is the difference between Numpy array and List ?"
   ]
  },
  {
   "cell_type": "raw",
   "id": "4dd30d1d",
   "metadata": {},
   "source": [
    "'''\n",
    "Below are the key differences between a Numpy array and a Python list:\n",
    "\n",
    "1. Data Type: Numpy arrays are homogeneous and store elements of the same data type, making them more compact and memory-efficient than lists. On the other hand, Python lists can hold different data types.\n",
    "\n",
    "2. Memory Usage: Numpy arrays consume less memory compared to Python lists. This is because lists in Python store additional information about each element, such as its type and reference count.\n",
    "\n",
    "3. Performance: Numpy arrays are faster and more efficient for numerical computations. This is because they store elements contiguously in memory and support element-wise operations. Python lists are not optimized for numerical computations and may have slower mathematical operations due to Python’s interpretation overhead.\n",
    "\n",
    "4. Operations: Element-wise operations are possible in Numpy arrays but not in Python lists. This makes Numpy arrays a better choice for mathematical and scientific computations.\n",
    "\n",
    "5. Mutability: Both Numpy arrays and Python lists are mutable, meaning you can change their elements.\n",
    "\n",
    "6. Size Alteration: You can append elements to a Python list, but you can’t change the size of a Numpy array without making a full copy.\n",
    "\n",
    "7. While Python lists are great for general-purpose programming with different types of data, Numpy arrays are more suitable for mathematical computations and operations on large datasets due to their efficiency and speed.\n",
    "'''"
   ]
  },
  {
   "cell_type": "markdown",
   "id": "46ac3490",
   "metadata": {},
   "source": [
    "#### 3. Find the shape, size and dimension of the following array?\n",
    "\n",
    "[[1, 2, 3, 4],\n",
    "\n",
    "[5, 6, 7, 8],\n",
    "\n",
    "[9, 10, 11, 12]]"
   ]
  },
  {
   "cell_type": "code",
   "execution_count": 53,
   "id": "c298040f",
   "metadata": {},
   "outputs": [
    {
     "name": "stdout",
     "output_type": "stream",
     "text": [
      "Array:  [[ 1  2  3  4]\n",
      " [ 5  6  7  8]\n",
      " [ 9 10 11 12]]\n",
      "\n",
      "Shape = (3, 4), Size = 12, Dimension = 2\n"
     ]
    }
   ],
   "source": [
    "import numpy as np\n",
    "\n",
    "arr = np.array([[1, 2, 3, 4],\n",
    "\n",
    "[5, 6, 7, 8],\n",
    "\n",
    "[9, 10, 11, 12]])\n",
    "\n",
    "\n",
    "print('Array: ', arr)\n",
    "\n",
    "print(f'\\nShape = {arr.shape}, Size = {arr.size}, Dimension = {arr.ndim}')"
   ]
  },
  {
   "cell_type": "markdown",
   "id": "f1b7a87c",
   "metadata": {},
   "source": [
    "#### 4. Write python code to access the first row of the following array?\n",
    "\n",
    "[[1, 2, 3, 4],\n",
    "\n",
    "[5, 6, 7, 8],\n",
    "\n",
    "[9, 10, 11, 12]]"
   ]
  },
  {
   "cell_type": "code",
   "execution_count": 54,
   "id": "0df2fed8",
   "metadata": {},
   "outputs": [
    {
     "name": "stdout",
     "output_type": "stream",
     "text": [
      "First row of Array is : \n"
     ]
    },
    {
     "data": {
      "text/plain": [
       "array([1, 2, 3, 4])"
      ]
     },
     "execution_count": 54,
     "metadata": {},
     "output_type": "execute_result"
    }
   ],
   "source": [
    "arr = np.array([[1, 2, 3, 4],\n",
    "\n",
    "[5, 6, 7, 8],\n",
    "\n",
    "[9, 10, 11, 12]])\n",
    "\n",
    "print('First row of Array is : ')\n",
    "arr[0]"
   ]
  },
  {
   "cell_type": "markdown",
   "id": "d9877191",
   "metadata": {},
   "source": [
    "#### 5. How do you access the element at the third row and fourth column from the given numpy array?\n",
    "\n",
    "[[1, 2, 3, 4],\n",
    "\n",
    "[5, 6, 7, 8],\n",
    "\n",
    "[9, 10, 11, 12]]"
   ]
  },
  {
   "cell_type": "code",
   "execution_count": 55,
   "id": "8e0f946f",
   "metadata": {},
   "outputs": [
    {
     "name": "stdout",
     "output_type": "stream",
     "text": [
      "The element at the third row and fourth column is :  12\n"
     ]
    }
   ],
   "source": [
    "arr = np.array([[1, 2, 3, 4],\n",
    "\n",
    "[5, 6, 7, 8],\n",
    "\n",
    "[9, 10, 11, 12]])\n",
    "\n",
    "print('The element at the third row and fourth column is : ', arr[2,3])\n"
   ]
  },
  {
   "cell_type": "markdown",
   "id": "b09f3c99",
   "metadata": {},
   "source": [
    "#### 6. Write code to extract all odd-indexed elements from the given numpy array?\n",
    "\n",
    "[[1, 2, 3, 4],\n",
    "\n",
    "[5, 6, 7, 8],\n",
    "\n",
    "[9, 10, 11, 12]]"
   ]
  },
  {
   "cell_type": "code",
   "execution_count": 56,
   "id": "c060eac1",
   "metadata": {},
   "outputs": [
    {
     "name": "stdout",
     "output_type": "stream",
     "text": [
      "Odd-indexed elements : \n"
     ]
    },
    {
     "data": {
      "text/plain": [
       "array([[6, 8]])"
      ]
     },
     "execution_count": 56,
     "metadata": {},
     "output_type": "execute_result"
    }
   ],
   "source": [
    "arr = np.array([[1, 2, 3, 4],\n",
    "\n",
    "[5, 6, 7, 8],\n",
    "\n",
    "[9, 10, 11, 12]])\n",
    "\n",
    "# Considering indexing starts from 0 for both rows and columns in numpy, odd-indexes are 1 and 3\n",
    "#so odd indexed rows = 1\n",
    "#and odd indexed columns = 1 and 3\n",
    "\n",
    "print('Odd-indexed elements : ')\n",
    "arr[1::2,1::2]"
   ]
  },
  {
   "cell_type": "markdown",
   "id": "ab0daf1b",
   "metadata": {},
   "source": [
    "#### 7. How can you generate a random 3x3 matrix with values between 0 and 1?"
   ]
  },
  {
   "cell_type": "code",
   "execution_count": 57,
   "id": "2fb6c894",
   "metadata": {},
   "outputs": [
    {
     "name": "stdout",
     "output_type": "stream",
     "text": [
      "Random 3x3 matrix with values between 0 and 1 is: \n"
     ]
    },
    {
     "data": {
      "text/plain": [
       "array([[0.26273625, 0.26424041, 0.95874724],\n",
       "       [0.28521882, 0.19621238, 0.19889369],\n",
       "       [0.40173001, 0.33569244, 0.22032649]])"
      ]
     },
     "execution_count": 57,
     "metadata": {},
     "output_type": "execute_result"
    }
   ],
   "source": [
    "print('Random 3x3 matrix with values between 0 and 1 is: ')\n",
    "np.random.rand(3,3)"
   ]
  },
  {
   "cell_type": "markdown",
   "id": "e5ba56be",
   "metadata": {},
   "source": [
    "#### 8. Describe the difference between np.random.rand and np.random.randn?"
   ]
  },
  {
   "cell_type": "raw",
   "id": "9b985e2e",
   "metadata": {},
   "source": [
    "'''\n",
    "# np.random.rand()\n",
    "Creates an array of the given shape and populate it with random samples from a uniform distribution over [0, 1).\n",
    "If no argument is provided, a single float value is returned.\n",
    "\n",
    "# np.random.randn()\n",
    "Generates an array of given shape filled with random floats sampled from a univariate \"normal\" (Gaussian) distribution \n",
    "of mean 0 and variance 1. If no argument is provided, a single float randomly sampled from the distribution is returned.\n",
    "'''"
   ]
  },
  {
   "cell_type": "markdown",
   "id": "4791eb26",
   "metadata": {},
   "source": [
    "#### 9. Write code to increase the dimension of the following array?\n",
    "\n",
    "[[1, 2, 3, 4],\n",
    "\n",
    "[5, 6, 7, 8],\n",
    "\n",
    "[9, 10, 11, 12]]"
   ]
  },
  {
   "cell_type": "code",
   "execution_count": 58,
   "id": "6c276ea1",
   "metadata": {},
   "outputs": [
    {
     "name": "stdout",
     "output_type": "stream",
     "text": [
      "Initial array :  [[ 1  2  3  4]\n",
      " [ 5  6  7  8]\n",
      " [ 9 10 11 12]]\n",
      "Initial dimension : 2, Initial shape: (3, 4)\n",
      "\n",
      "1) Expanding dimension on axis=0 :\n",
      "Final array :  [[[ 1  2  3  4]\n",
      "  [ 5  6  7  8]\n",
      "  [ 9 10 11 12]]]\n",
      "Final dimension : 3, Final shape: (1, 3, 4)\n",
      "\n",
      "2) Expanding dimension on axis=1 :\n",
      "Final array :  [[[ 1  2  3  4]]\n",
      "\n",
      " [[ 5  6  7  8]]\n",
      "\n",
      " [[ 9 10 11 12]]]\n",
      "Final dimension : 3, Final shape: (3, 1, 4)\n"
     ]
    }
   ],
   "source": [
    "arr = np.array([[1, 2, 3, 4],\n",
    "\n",
    "[5, 6, 7, 8],\n",
    "\n",
    "[9, 10, 11, 12]])\n",
    "\n",
    "print('Initial array : ', arr)\n",
    "print(f'Initial dimension : {arr.ndim}, Initial shape: {arr.shape}')\n",
    "\n",
    "\n",
    "print(f'\\n1) Expanding dimension on axis=0 :')\n",
    "arr_0 = np.expand_dims(arr, axis=0)\n",
    "print('Final array : ', arr_0)\n",
    "print(f'Final dimension : {arr_0.ndim}, Final shape: {arr_0.shape}')\n",
    "\n",
    "\n",
    "print(f'\\n2) Expanding dimension on axis=1 :')\n",
    "arr_1 = np.expand_dims(arr, axis=1)\n",
    "print('Final array : ', arr_1)\n",
    "print(f'Final dimension : {arr_1.ndim}, Final shape: {arr_1.shape}')"
   ]
  },
  {
   "cell_type": "markdown",
   "id": "e4b81970",
   "metadata": {},
   "source": [
    "#### 10. How to transpose the following array in NumPy?\n",
    "\n",
    "[[1, 2, 3, 4],\n",
    "\n",
    "[5, 6, 7, 8],\n",
    "\n",
    "[9, 10, 11, 12]]"
   ]
  },
  {
   "cell_type": "code",
   "execution_count": 59,
   "id": "31236abb",
   "metadata": {},
   "outputs": [
    {
     "name": "stdout",
     "output_type": "stream",
     "text": [
      "Transpose of array: \n"
     ]
    },
    {
     "data": {
      "text/plain": [
       "array([[ 1,  5,  9],\n",
       "       [ 2,  6, 10],\n",
       "       [ 3,  7, 11],\n",
       "       [ 4,  8, 12]])"
      ]
     },
     "execution_count": 59,
     "metadata": {},
     "output_type": "execute_result"
    }
   ],
   "source": [
    "arr = np.array([[1, 2, 3, 4],\n",
    "\n",
    "[5, 6, 7, 8],\n",
    "\n",
    "[9, 10, 11, 12]])\n",
    "\n",
    "print('Transpose of array: ')\n",
    "np.transpose(arr)"
   ]
  },
  {
   "cell_type": "markdown",
   "id": "bf3968c6",
   "metadata": {},
   "source": [
    "#### 11. Consider the following matrix:\n",
    "\n",
    "Matrix A: [[1, 2, 3, 4],[5, 6, 7, 8],[9, 10, 11, 12]]\n",
    "\n",
    "Matrix B: [[1, 2, 3, 4],[5, 6, 7, 8],[9, 10, 11, 12]]\n",
    "\n",
    "\n",
    "Perform the following operations using Python:\n",
    "1. Index wise multiplication\n",
    "2. Matrix multiplication\n",
    "3. Add both the matrices\n",
    "4. Subtract matrix B from A\n",
    "5. Divide Matrix B by A"
   ]
  },
  {
   "cell_type": "code",
   "execution_count": 60,
   "id": "6026c3ea",
   "metadata": {},
   "outputs": [
    {
     "name": "stdout",
     "output_type": "stream",
     "text": [
      "1). Index wise multiplication :  [[  1   4   9  16]\n",
      " [ 25  36  49  64]\n",
      " [ 81 100 121 144]]\n",
      "\n",
      "2). Matrix multiplication : \n",
      "Matrix multiplication is denoted by matrixA @ matrixB.\n",
      "Shape of matrixA: (3, 4)\tShape of matrixB: (3, 4)\n",
      "It will throw error since matrixA column count is not equal to matrixB row count.\n",
      "\n",
      "3). Addition of matrices :  [[ 2  4  6  8]\n",
      " [10 12 14 16]\n",
      " [18 20 22 24]]\n",
      "\n",
      "4). Subtract B from A :  [[0 0 0 0]\n",
      " [0 0 0 0]\n",
      " [0 0 0 0]]\n",
      "\n",
      "5). Divide B by A :  [[1. 1. 1. 1.]\n",
      " [1. 1. 1. 1.]\n",
      " [1. 1. 1. 1.]]\n"
     ]
    }
   ],
   "source": [
    "matrixA = np.array([[1, 2, 3, 4],\n",
    "\n",
    "[5, 6, 7, 8],\n",
    "\n",
    "[9, 10, 11, 12]])\n",
    "\n",
    "matrixB = np.array([[1, 2, 3, 4],\n",
    "\n",
    "[5, 6, 7, 8],\n",
    "\n",
    "[9, 10, 11, 12]])\n",
    "\n",
    "#1. Index wise multiplication\n",
    "print('1). Index wise multiplication : ', matrixA * matrixB)\n",
    "\n",
    "#2. Matrix multiplication\n",
    "print('\\n2). Matrix multiplication : ')\n",
    "print('Matrix multiplication is denoted by matrixA @ matrixB.')\n",
    "print(f'Shape of matrixA: {matrixA.shape}\\tShape of matrixB: {matrixB.shape}')\n",
    "print('It will throw error since matrixA column count is not equal to matrixB row count.')\n",
    "\n",
    "#3. Add both the matrices\n",
    "print('\\n3). Addition of matrices : ', matrixA + matrixB)\n",
    "\n",
    "#4. Subtract matrix B from A\n",
    "print('\\n4). Subtract B from A : ', matrixA - matrixB)\n",
    "\n",
    "#5. Divide Matrix B by A\n",
    "print('\\n5). Divide B by A : ', matrixB / matrixA)"
   ]
  },
  {
   "cell_type": "markdown",
   "id": "d438f3b3",
   "metadata": {},
   "source": [
    "#### 12. Which function in Numpy can be used to swap the byte order of an array?"
   ]
  },
  {
   "cell_type": "code",
   "execution_count": 66,
   "id": "a8bc930a",
   "metadata": {},
   "outputs": [
    {
     "data": {
      "text/plain": [
       "array([16777216, 33554432, 50331648, 67108864])"
      ]
     },
     "execution_count": 66,
     "metadata": {},
     "output_type": "execute_result"
    }
   ],
   "source": [
    "# byteswap() is used to swap the byte order of an array. For example:\n",
    "a = np.array([1, 2, 3, 4])\n",
    "\n",
    "a.byteswap()\n"
   ]
  },
  {
   "cell_type": "markdown",
   "id": "4af2c070",
   "metadata": {},
   "source": [
    "#### 13. What is the significance of the np.linalg.inv function?"
   ]
  },
  {
   "cell_type": "code",
   "execution_count": 103,
   "id": "f5216e28",
   "metadata": {},
   "outputs": [
    {
     "name": "stdout",
     "output_type": "stream",
     "text": [
      "Inverse of matrix a is : \n",
      " [[-2.   1. ]\n",
      " [ 1.5 -0.5]]\n"
     ]
    }
   ],
   "source": [
    "#np.linalg.inv is a numpy function that computes the multiplicative inverse of a matrix.\n",
    "#Given a square matrix a, return the matrix a_inv satisfying dot(a, a_inv) = dot(a_inv, a) = eye(a.shape[0]).\n",
    "\n",
    "#example\n",
    "a = np.matrix([[1, 2], [3, 4]])\n",
    "a_inv = np.linalg.inv(a)\n",
    "print('Inverse of matrix a is : \\n', a_inv)"
   ]
  },
  {
   "cell_type": "markdown",
   "id": "bd638fd8",
   "metadata": {},
   "source": [
    "#### 14. What does the np.reshape function do, and how is it used?"
   ]
  },
  {
   "cell_type": "code",
   "execution_count": 121,
   "id": "d8e483ae",
   "metadata": {},
   "outputs": [
    {
     "name": "stdout",
     "output_type": "stream",
     "text": [
      "Initial array : \n",
      " [[ 1  2  3  4]\n",
      " [ 5  6  7  8]\n",
      " [ 9 10 11 12]] \t\tShape: (3, 4) \tSize: 12\n",
      "\n",
      "Reshaped array 1: \n",
      " [[ 1  2  3]\n",
      " [ 4  5  6]\n",
      " [ 7  8  9]\n",
      " [10 11 12]] \t\t\tShape: (4, 3) \tSize: 12\n",
      "\n",
      "Reshaped array 2: \n",
      " [[ 1  2  3  4  5  6]\n",
      " [ 7  8  9 10 11 12]] \t\tShape: (2, 6) \tSize: 12\n"
     ]
    }
   ],
   "source": [
    "# np.reshape function gives a new shape to an array without changing its data. \n",
    "# The new shape should be compatible with the original shape. The size always remains same.\n",
    "\n",
    "arr = np.array([[1, 2, 3, 4],\n",
    "\n",
    "[5, 6, 7, 8],\n",
    "\n",
    "[9, 10, 11, 12]])\n",
    "\n",
    "print('Initial array : \\n', arr, '\\t\\tShape:', arr.shape, '\\tSize:', arr.size)\n",
    "\n",
    "arr1 = np.reshape(arr, (4,3))\n",
    "print('\\nReshaped array 1: \\n', arr1, '\\t\\t\\tShape:', arr1.shape, '\\tSize:', arr1.size)\n",
    "\n",
    "arr2 = np.reshape(arr, (2,6))\n",
    "print('\\nReshaped array 2: \\n', arr2, '\\t\\tShape:', arr2.shape, '\\tSize:', arr2.size)"
   ]
  },
  {
   "cell_type": "markdown",
   "id": "805e5551",
   "metadata": {},
   "source": [
    "#### 15. What is broadcasting in Numpy?"
   ]
  },
  {
   "cell_type": "code",
   "execution_count": 131,
   "id": "b25e1b71",
   "metadata": {},
   "outputs": [
    {
     "name": "stdout",
     "output_type": "stream",
     "text": [
      "a:  [[5 7 3]\n",
      " [2 1 0]\n",
      " [4 6 1]]\n",
      "\n",
      "b:  [1 3 1]\n",
      "\n",
      "Result when b is broadcasted : \n",
      " [[ 6 10  4]\n",
      " [ 3  4  1]\n",
      " [ 5  9  2]]\n"
     ]
    }
   ],
   "source": [
    "'''\n",
    "The term broadcasting refers to the ability of NumPy to treat arrays with different dimensions during \n",
    "arithmetic operations. This process involves certain rules that allow the smaller array to be ‘broadcast’ \n",
    "across the larger one, ensuring that they have compatible shapes for these operations.\n",
    "Broadcasting allows NumPy to handle arrays with different shapes during operations, making \n",
    "vectorized computations more efficient and eliminating the need for explicit loops\n",
    "'''\n",
    "# Example:\n",
    "a = np.array([[5, 7, 3], [2, 1, 0], [4, 6, 1]])    #3x3 array\n",
    "b = np.array([1, 3, 1])                            #1x3 array\n",
    "\n",
    "print('a: ', a)\n",
    "print('\\nb: ', b)\n",
    "# If we add the smaller array 'b' to the larger array 'a', then it is referred as Broadcasting.\n",
    "# The smaller array 'b' is conceptually stretched to become an array with the same shape as 'a', allowing \n",
    "# element-wise addition.\n",
    "c = a + b \n",
    "print('\\nResult when b is broadcasted : \\n', c) "
   ]
  },
  {
   "cell_type": "code",
   "execution_count": null,
   "id": "ee9fc421",
   "metadata": {},
   "outputs": [],
   "source": []
  }
 ],
 "metadata": {
  "kernelspec": {
   "display_name": "Python 3 (ipykernel)",
   "language": "python",
   "name": "python3"
  },
  "language_info": {
   "codemirror_mode": {
    "name": "ipython",
    "version": 3
   },
   "file_extension": ".py",
   "mimetype": "text/x-python",
   "name": "python",
   "nbconvert_exporter": "python",
   "pygments_lexer": "ipython3",
   "version": "3.9.12"
  }
 },
 "nbformat": 4,
 "nbformat_minor": 5
}
