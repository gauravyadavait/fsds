{
 "cells": [
  {
   "cell_type": "markdown",
   "id": "d3f6b815",
   "metadata": {},
   "source": [
    "Problem 1: Bank Account Create a class representing a bank account with attributes like account number, account holder name, and balance. Implement methods to deposit and withdraw money from the account."
   ]
  },
  {
   "cell_type": "code",
   "execution_count": 2,
   "id": "7ef153e6",
   "metadata": {},
   "outputs": [
    {
     "name": "stdout",
     "output_type": "stream",
     "text": [
      "Initial balance: 100000\n",
      "Balance after deposit: 140000\n",
      "Balance after withdrawal: 120000\n"
     ]
    }
   ],
   "source": [
    "class bank_account:\n",
    "    def __init__(self, acc_number: str, acc_holder: str, acc_balance: float):\n",
    "        self.acc_number = acc_number\n",
    "        self.acc_holder = acc_holder\n",
    "        self.acc_balance = acc_balance\n",
    "        \n",
    "    def deposit(self, amount: float):\n",
    "        self.acc_balance += amount\n",
    "    \n",
    "    def withdraw(self, amount: float):\n",
    "        if (amount > self.acc_balance):\n",
    "            raise ValueError(\"Insufficient balance.\")\n",
    "        self.acc_balance -= amount\n",
    "        \n",
    "account = bank_account(\"87654321\", \"Rahul Malhotra\", 100000)\n",
    "print(f\"Initial balance: {account.acc_balance}\")\n",
    "\n",
    "account.deposit(40000)\n",
    "print(f\"Balance after deposit: {account.acc_balance}\")\n",
    "\n",
    "account.withdraw(20000)\n",
    "print(f\"Balance after withdrawal: {account.acc_balance}\")"
   ]
  },
  {
   "cell_type": "markdown",
   "id": "01493a7d",
   "metadata": {},
   "source": [
    "Problem 2: Employee Management Create a class representing an employee with attributes like employee ID, name, and salary. Implement methods to calculate the yearly bonus and display employee details."
   ]
  },
  {
   "cell_type": "code",
   "execution_count": 3,
   "id": "23d127f3",
   "metadata": {},
   "outputs": [
    {
     "name": "stdout",
     "output_type": "stream",
     "text": [
      "Employee ID: 123456\n",
      "Name: Raj Malhotra\n",
      "Salary: 50000\n",
      "Yearly bonus: 5000.0\n"
     ]
    }
   ],
   "source": [
    "class employee:\n",
    "    def __init__(self, employee_id: str, name: str, salary: float):\n",
    "        self.employee_id = employee_id\n",
    "        self.name = name\n",
    "        self.salary = salary\n",
    "\n",
    "    def calculate_bonus(self):\n",
    "        print(f\"Yearly bonus: {0.1 * self.salary}\")\n",
    "\n",
    "    def display_details(self):\n",
    "        print(f\"Employee ID: {self.employee_id}\")\n",
    "        print(f\"Name: {self.name}\")\n",
    "        print(f\"Salary: {self.salary}\")\n",
    "    \n",
    "employee = employee(\"123456\", \"Raj Malhotra\", 50000)\n",
    "employee.display_details()\n",
    "employee.calculate_bonus()\n"
   ]
  },
  {
   "cell_type": "markdown",
   "id": "1dc0b6f6",
   "metadata": {},
   "source": [
    "Problem 3: Vehicle Rental Create a class representing a vehicle rental system. Implement methods to rent a vehicle, return a vehicle, and display available vehicles."
   ]
  },
  {
   "cell_type": "code",
   "execution_count": 5,
   "id": "a8353341",
   "metadata": {},
   "outputs": [
    {
     "name": "stdout",
     "output_type": "stream",
     "text": [
      "Car has been rented.\n",
      "Bike has been rented.\n",
      "Car has been returned.\n",
      "Available vehicles:\n",
      "Scooter\n",
      "Car\n"
     ]
    }
   ],
   "source": [
    "class VehicleRentalSystem:\n",
    "    def __init__(self):\n",
    "        self.available_vehicles = [\"Car\", \"Bike\", \"Scooter\"]\n",
    "        self.rented_vehicles = []\n",
    "\n",
    "    def rent_vehicle(self, vehicle: str):\n",
    "        if vehicle not in self.available_vehicles:\n",
    "            print(f\"{vehicle} is not available for rent.\")\n",
    "        else:\n",
    "            self.available_vehicles.remove(vehicle)\n",
    "            self.rented_vehicles.append(vehicle)\n",
    "            print(f\"{vehicle} has been rented.\")\n",
    "\n",
    "    def return_vehicle(self, vehicle: str):\n",
    "        if vehicle not in self.rented_vehicles:\n",
    "            print(f\"{vehicle} was not rented from us.\")\n",
    "        else:\n",
    "            self.rented_vehicles.remove(vehicle)\n",
    "            self.available_vehicles.append(vehicle)\n",
    "            print(f\"{vehicle} has been returned.\")\n",
    "\n",
    "    def display_available_vehicles(self):\n",
    "        print(\"Available vehicles:\")\n",
    "        for vehicle in self.available_vehicles:\n",
    "            print(vehicle)\n",
    "\n",
    "rental_system = VehicleRentalSystem()\n",
    "rental_system.rent_vehicle(\"Car\")\n",
    "rental_system.rent_vehicle(\"Bike\")\n",
    "rental_system.return_vehicle(\"Car\")\n",
    "rental_system.display_available_vehicles()\n"
   ]
  },
  {
   "cell_type": "markdown",
   "id": "a33c3858",
   "metadata": {},
   "source": [
    "Problem 4: Library Catalog Create classes representing a library and a book. Implement methods to add books to the library, borrow books, and display available books."
   ]
  },
  {
   "cell_type": "code",
   "execution_count": 17,
   "id": "e63d790d",
   "metadata": {},
   "outputs": [
    {
     "name": "stdout",
     "output_type": "stream",
     "text": [
      "Available books:\n",
      "The Alchemist by Paulo Coelho\n",
      "My Experiments With Truth by M.K. Gandhi\n",
      "The Alchemist has been borrowed.\n",
      "Available books:\n",
      "My Experiments With Truth by M.K. Gandhi\n",
      "The Alchemist has been returned.\n",
      "Available books:\n",
      "The Alchemist by Paulo Coelho\n",
      "My Experiments With Truth by M.K. Gandhi\n"
     ]
    }
   ],
   "source": [
    "class Book:\n",
    "    def __init__(self, title: str, author: str):\n",
    "        self.title = title\n",
    "        self.author = author\n",
    "        self.is_available = True\n",
    "\n",
    "    def borrow(self):\n",
    "        if self.is_available:\n",
    "            self.is_available = False\n",
    "            print(f\"{self.title} has been borrowed.\")\n",
    "        else:\n",
    "            print(f\"{self.title} is not available for borrowing.\")\n",
    "\n",
    "    def return_book(self):\n",
    "        if not self.is_available:\n",
    "            self.is_available = True\n",
    "            print(f\"{self.title} has been returned.\")\n",
    "        else:\n",
    "            print(f\"{self.title} was not borrowed from us.\")\n",
    "\n",
    "class Library:\n",
    "    def __init__(self):\n",
    "        self.books = []\n",
    "\n",
    "    def add_book(self, book: Book):\n",
    "        self.books.append(book)\n",
    "\n",
    "    def display_available_books(self):\n",
    "        available_books = [book for book in self.books if book.is_available]\n",
    "        if available_books:\n",
    "            print(\"Available books:\")\n",
    "            for book in available_books:\n",
    "                print(f\"{book.title} by {book.author}\")\n",
    "        else:\n",
    "            print(\"No books are currently available.\")\n",
    "\n",
    "book1 = Book(\"The Alchemist\", \"Paulo Coelho\")\n",
    "book2 = Book(\"My Experiments With Truth\", \"M.K. Gandhi\")\n",
    "\n",
    "library = Library()\n",
    "library.add_book(book1)\n",
    "library.add_book(book2)\n",
    "library.display_available_books()\n",
    "\n",
    "book1.borrow()\n",
    "library.display_available_books()\n",
    "book1.return_book()\n",
    "library.display_available_books()\n"
   ]
  },
  {
   "cell_type": "markdown",
   "id": "54b76937",
   "metadata": {},
   "source": [
    "Problem 5: Product Inventory Create classes representing a product and an inventory system. Implement methods to add products to the inventory, update product quantity, and display available products."
   ]
  },
  {
   "cell_type": "code",
   "execution_count": 18,
   "id": "b2f54a31",
   "metadata": {},
   "outputs": [
    {
     "name": "stdout",
     "output_type": "stream",
     "text": [
      "Available products:\n",
      "Laptop - 500.0 - 10\n",
      "Mobile - 400.0 - 5\n",
      "Available products:\n",
      "Laptop - 500.0 - 5\n",
      "Mobile - 400.0 - 5\n"
     ]
    }
   ],
   "source": [
    "class Product:\n",
    "    def __init__(self, name: str, price: float, quantity: int):\n",
    "        self.name = name\n",
    "        self.price = price\n",
    "        self.quantity = quantity\n",
    "\n",
    "    def update_quantity(self, quantity: int):\n",
    "        self.quantity += quantity\n",
    "        \n",
    "class InventorySystem:\n",
    "    def __init__(self):\n",
    "        self.products = []\n",
    "\n",
    "    def add_product(self, product: Product):\n",
    "        self.products.append(product)\n",
    "\n",
    "    def update_product_quantity(self, name: str, quantity: int):\n",
    "        for product in self.products:\n",
    "            if product.name == name:\n",
    "                product.update_quantity(quantity)\n",
    "                return\n",
    "        print(f\"{name} is not available in the inventory.\")\n",
    "\n",
    "    def display_available_products(self):\n",
    "        available_products = [product for product in self.products if product.quantity > 0]\n",
    "        if available_products:\n",
    "            print(\"Available products:\")\n",
    "            for product in available_products:\n",
    "                print(f\"{product.name} - {product.price} - {product.quantity}\")\n",
    "        else:\n",
    "            print(\"No products are currently available.\")\n",
    "\n",
    "inventory_system = InventorySystem()\n",
    "product1 = Product(\"Laptop\", 500.0, 10)\n",
    "product2 = Product(\"Mobile\", 400.0, 5)\n",
    "inventory_system.add_product(product1)\n",
    "inventory_system.add_product(product2)\n",
    "\n",
    "inventory_system.display_available_products()\n",
    "inventory_system.update_product_quantity(\"Laptop\", -5)\n",
    "inventory_system.display_available_products()\n"
   ]
  },
  {
   "cell_type": "markdown",
   "id": "e17b598f",
   "metadata": {},
   "source": [
    "Problem 6: Shape Calculation Create a class representing a shape with attributes like length, width, and height. Implement methods to calculate the area and perimeter of the shape."
   ]
  },
  {
   "cell_type": "code",
   "execution_count": 2,
   "id": "29b1bf11",
   "metadata": {},
   "outputs": [
    {
     "name": "stdout",
     "output_type": "stream",
     "text": [
      "Area of this shape is: 15\n",
      "Perimeter of this shape is: 16\n"
     ]
    }
   ],
   "source": [
    "class Shape:\n",
    "    def __init__(self, length: float, width: float, height: float):\n",
    "        self.length = length\n",
    "        self.width = width\n",
    "        self.height = height\n",
    "    \n",
    "    def area(self):\n",
    "        return self.length * self.width\n",
    "    \n",
    "    def perimeter(self):\n",
    "        return 2 * (self.length + self.width)\n",
    "    \n",
    "shape1 = Shape(5, 3, 7)\n",
    "print(f\"Area of this shape is: {shape1.area()}\")\n",
    "print(f\"Perimeter of this shape is: {shape1.perimeter()}\")\n",
    "    "
   ]
  },
  {
   "cell_type": "markdown",
   "id": "531299bc",
   "metadata": {},
   "source": [
    "Problem 7: Student Management Create a class representing a student with attributes like student ID, name, and grades. Implement methods to calculate the average grade and display student details."
   ]
  },
  {
   "cell_type": "code",
   "execution_count": 7,
   "id": "902b3d25",
   "metadata": {},
   "outputs": [
    {
     "name": "stdout",
     "output_type": "stream",
     "text": [
      "Student ID: 12\n",
      "Name: Rahul Verma\n",
      "Grades: [80, 78, 76, 92, 85]\n",
      "Average Grade: 82.2\n"
     ]
    }
   ],
   "source": [
    "class Student:\n",
    "    def __init__(self, student_id: int, name: str, grades: list):\n",
    "        self.student_id = student_id\n",
    "        self.name = name\n",
    "        self.grades = grades\n",
    "\n",
    "    def average_grade(self):\n",
    "        return sum(self.grades) / len(self.grades)\n",
    "\n",
    "    def display_details(self):\n",
    "        print(f\"Student ID: {self.student_id}\")\n",
    "        print(f\"Name: {self.name}\")\n",
    "        print(f\"Grades: {self.grades}\")\n",
    "        print(f\"Average Grade: {self.average_grade()}\")\n",
    "\n",
    "\n",
    "student1 = Student(12, \"Rahul Verma\", [80, 78, 76, 92, 85])\n",
    "student1.display_details()\n"
   ]
  },
  {
   "cell_type": "markdown",
   "id": "d7c2f117",
   "metadata": {},
   "source": [
    "Problem 8: Email Management Create a class representing an email with attributes like sender, recipient, and subject. Implement methods to send an email and display email details."
   ]
  },
  {
   "cell_type": "code",
   "execution_count": 12,
   "id": "0064f9c7",
   "metadata": {},
   "outputs": [
    {
     "name": "stdout",
     "output_type": "stream",
     "text": [
      "Email sent successfully.\n",
      "Sender: sachin.ten@gmail.com\n",
      "Recipient: saurav.gang@gmail.com\n",
      "Subject: Test Email\n"
     ]
    }
   ],
   "source": [
    "class Email:\n",
    "    def __init__(self, sender, recipient, subject):\n",
    "        self.sender = sender\n",
    "        self.recipient = recipient\n",
    "        self.subject = subject\n",
    "\n",
    "    def send_email(self):\n",
    "        print(\"Email sent successfully.\")\n",
    "\n",
    "    def display_details(self):\n",
    "        print(f\"Sender: {self.sender}\")\n",
    "        print(f\"Recipient: {self.recipient}\")\n",
    "        print(f\"Subject: {self.subject}\")\n",
    "\n",
    "my_email = Email('sachin.ten@gmail.com', 'saurav.gang@gmail.com', 'Test Email')\n",
    "my_email.send_email()\n",
    "my_email.display_details()\n"
   ]
  },
  {
   "cell_type": "markdown",
   "id": "ccc4b75a",
   "metadata": {},
   "source": [
    "Problem 9: Social Media Profile Create a class representing a social media profile with attributes like username and posts. Implement methods to add posts, display posts, and search for posts by keyword."
   ]
  },
  {
   "cell_type": "code",
   "execution_count": 19,
   "id": "f619bc78",
   "metadata": {},
   "outputs": [
    {
     "name": "stdout",
     "output_type": "stream",
     "text": [
      "Posts:\n",
      "Enjoying the evening tea.\n",
      "Happy Independence Day.\n",
      "\n",
      "Search results:\n",
      "Enjoying the evening tea.\n"
     ]
    }
   ],
   "source": [
    "class SocialMediaProfile:\n",
    "    def __init__(self, username):\n",
    "        self.username = username\n",
    "        self.posts = []\n",
    "\n",
    "    def add_post(self, post):\n",
    "        self.posts.append(post)\n",
    "\n",
    "    def display_posts(self):\n",
    "        print(\"Posts:\")\n",
    "        for post in self.posts:\n",
    "            print(post)\n",
    "\n",
    "    def search_posts(self, keyword):\n",
    "        for post in self.posts:\n",
    "            if keyword in post:\n",
    "                print(post)\n",
    "\n",
    "profile = SocialMediaProfile('Gaurav')\n",
    "\n",
    "profile.add_post('Enjoying the evening tea.')\n",
    "profile.add_post('Happy Independence Day.')\n",
    "\n",
    "profile.display_posts()\n",
    "\n",
    "print(\"\\nSearch results:\")\n",
    "profile.search_posts('tea')\n"
   ]
  },
  {
   "cell_type": "markdown",
   "id": "bb378dd7",
   "metadata": {},
   "source": [
    "Problem 10: ToDo List Create a class representing a ToDo list with attributes like tasks and due dates. Implement methods to add tasks, mark tasks as completed, and display pending tasks."
   ]
  },
  {
   "cell_type": "code",
   "execution_count": 23,
   "id": "b49bfd5a",
   "metadata": {},
   "outputs": [
    {
     "name": "stdout",
     "output_type": "stream",
     "text": [
      "\n",
      "Pending Tasks:\n",
      "1. Buy groceries (Due Date: 2023-10-15)\n",
      "2. Do assignments (Due Date: 2023-10-20)\n",
      "3. Pay insurance premium (Due Date: 2023-10-25)\n",
      "\n",
      "Task completed!\n",
      "\n",
      "Pending Tasks:\n",
      "1. Do assignments (Due Date: 2023-10-20)\n",
      "2. Pay insurance premium (Due Date: 2023-10-25)\n"
     ]
    }
   ],
   "source": [
    "class ToDoList:\n",
    "    def __init__(self):\n",
    "        self.tasks = []\n",
    "        self.due_dates = []\n",
    "\n",
    "    def add_task(self, task, due_date):\n",
    "        self.tasks.append(task)\n",
    "        self.due_dates.append(due_date)\n",
    "\n",
    "    def mark_task_completed(self, task):\n",
    "        index = self.tasks.index(task)\n",
    "        del self.tasks[index]\n",
    "        del self.due_dates[index]\n",
    "        print(\"\\nTask completed!\")\n",
    "\n",
    "    def display_pending_tasks(self):\n",
    "        print(\"\\nPending Tasks:\")\n",
    "        for i in range(len(self.tasks)):\n",
    "            print(f\"{i+1}. {self.tasks[i]} (Due Date: {self.due_dates[i]})\")\n",
    "\n",
    "my_todo_list = ToDoList()\n",
    "\n",
    "my_todo_list.add_task(\"Buy groceries\", \"2023-10-15\")\n",
    "my_todo_list.add_task(\"Do assignments\", \"2023-10-20\")\n",
    "my_todo_list.add_task(\"Pay insurance premium\", \"2023-10-25\")\n",
    "\n",
    "my_todo_list.display_pending_tasks()\n",
    "my_todo_list.mark_task_completed(\"Buy groceries\")\n",
    "my_todo_list.display_pending_tasks()\n"
   ]
  }
 ],
 "metadata": {
  "kernelspec": {
   "display_name": "Python 3 (ipykernel)",
   "language": "python",
   "name": "python3"
  },
  "language_info": {
   "codemirror_mode": {
    "name": "ipython",
    "version": 3
   },
   "file_extension": ".py",
   "mimetype": "text/x-python",
   "name": "python",
   "nbconvert_exporter": "python",
   "pygments_lexer": "ipython3",
   "version": "3.9.12"
  }
 },
 "nbformat": 4,
 "nbformat_minor": 5
}
