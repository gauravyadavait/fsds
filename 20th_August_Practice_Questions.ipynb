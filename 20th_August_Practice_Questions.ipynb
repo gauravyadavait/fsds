{
 "cells": [
  {
   "cell_type": "markdown",
   "id": "8f704407",
   "metadata": {},
   "source": [
    "# TOPIC: String Based Assignment Problem"
   ]
  },
  {
   "cell_type": "markdown",
   "id": "49584c82",
   "metadata": {},
   "source": [
    "1. Write a program to reverse a string.\n"
   ]
  },
  {
   "cell_type": "code",
   "execution_count": 1,
   "id": "9d9db9ca",
   "metadata": {},
   "outputs": [
    {
     "name": "stdout",
     "output_type": "stream",
     "text": [
      "ECNEDNEPEDNI\n"
     ]
    }
   ],
   "source": [
    "string = 'INDEPENDENCE'\n",
    "reversed_string = string[::-1]\n",
    "print(reversed_string)"
   ]
  },
  {
   "cell_type": "markdown",
   "id": "6e602969",
   "metadata": {},
   "source": [
    "2. Check if a string is a palindrome.\n"
   ]
  },
  {
   "cell_type": "code",
   "execution_count": 2,
   "id": "1215805e",
   "metadata": {},
   "outputs": [
    {
     "name": "stdout",
     "output_type": "stream",
     "text": [
      "Enter the string: Nitin\n",
      "The string is a palindrome.\n"
     ]
    }
   ],
   "source": [
    "# Define a function to check if a string is a palindrome\n",
    "def isPalindrome(string: str) -> bool:\n",
    "    if string == string[::-1]:\n",
    "        return True\n",
    "    return False\n",
    "\n",
    "# Take user input\n",
    "string  = str(input(\"Enter the string: \")).lower()\n",
    "\n",
    "# Print if a string is a palindrome or not\n",
    "print('The string is', 'a palindrome.' if isPalindrome(string) else 'not a palindrome.')"
   ]
  },
  {
   "cell_type": "markdown",
   "id": "3856b661",
   "metadata": {},
   "source": [
    "3. Convert a string to uppercase.\n"
   ]
  },
  {
   "cell_type": "code",
   "execution_count": 3,
   "id": "3f227b51",
   "metadata": {},
   "outputs": [
    {
     "name": "stdout",
     "output_type": "stream",
     "text": [
      "INDIA\n"
     ]
    }
   ],
   "source": [
    "string = 'india'\n",
    "print(string.upper())"
   ]
  },
  {
   "cell_type": "markdown",
   "id": "d5136154",
   "metadata": {},
   "source": [
    "4. Convert a string to lowercase.\n"
   ]
  },
  {
   "cell_type": "code",
   "execution_count": 4,
   "id": "85019906",
   "metadata": {},
   "outputs": [
    {
     "name": "stdout",
     "output_type": "stream",
     "text": [
      "independence\n"
     ]
    }
   ],
   "source": [
    "string = 'INDEPENDENCE'\n",
    "print(string.lower())"
   ]
  },
  {
   "cell_type": "markdown",
   "id": "957b4018",
   "metadata": {},
   "source": [
    "5. Count the number of vowels in a string.\n"
   ]
  },
  {
   "cell_type": "code",
   "execution_count": 5,
   "id": "728f8c09",
   "metadata": {},
   "outputs": [
    {
     "name": "stdout",
     "output_type": "stream",
     "text": [
      "Enter a string: Once in a blue moon\n",
      "The number of vowels is: 8\n"
     ]
    }
   ],
   "source": [
    "# Define a function to count the vowels\n",
    "def count_vowels(string: str) -> int:\n",
    "    count = 0\n",
    "    vowels = ['a','e','i','o','u']\n",
    "    for vowel in vowels:\n",
    "        if string.lower().count(vowel) > 0:\n",
    "            count += string.lower().count(vowel)\n",
    "    return count\n",
    "\n",
    "# Take user input\n",
    "string  = str(input(\"Enter a string: \"))\n",
    "\n",
    "# Print the count of vowels by calling the function\n",
    "print(f'The number of vowels is: {count_vowels(string)}')"
   ]
  },
  {
   "cell_type": "markdown",
   "id": "ee1d6039",
   "metadata": {},
   "source": [
    "6. Count the number of consonants in a string."
   ]
  },
  {
   "cell_type": "code",
   "execution_count": 6,
   "id": "5b79b0e6",
   "metadata": {},
   "outputs": [
    {
     "name": "stdout",
     "output_type": "stream",
     "text": [
      "Enter a sentence: The woods are lovely dark and deep\n",
      "The number of consonants is: 17\n"
     ]
    }
   ],
   "source": [
    "# Define a function to count the consonants\n",
    "def count_consonants(sentence: str) -> int:\n",
    "    consonants_count = 0\n",
    "    consonants = 'bcdfghjklmnpqrstvwxyzBCDFGHJKLMNPQRSTVWXYZ'\n",
    "    for char in sentence:\n",
    "        if char in consonants:\n",
    "            consonants_count += 1\n",
    "    return consonants_count\n",
    "\n",
    "# Take user input\n",
    "sentence  = str(input(\"Enter a sentence: \"))\n",
    "\n",
    "# Print the count of consonants by calling the function\n",
    "print(f'The number of consonants is: {count_consonants(sentence)}')"
   ]
  },
  {
   "cell_type": "markdown",
   "id": "60eeaeca",
   "metadata": {},
   "source": [
    "7. Remove all whitespaces from a string.\n"
   ]
  },
  {
   "cell_type": "code",
   "execution_count": 7,
   "id": "f27a9c4e",
   "metadata": {},
   "outputs": [
    {
     "name": "stdout",
     "output_type": "stream",
     "text": [
      "Onceinabluemoon\n"
     ]
    }
   ],
   "source": [
    "sentence  = 'Once in a blue moon'\n",
    "print(sentence.replace(' ', ''))"
   ]
  },
  {
   "cell_type": "markdown",
   "id": "e4c059de",
   "metadata": {},
   "source": [
    "8. Find the length of a string without using the `len()` function."
   ]
  },
  {
   "cell_type": "code",
   "execution_count": 8,
   "id": "dafa2a49",
   "metadata": {},
   "outputs": [
    {
     "name": "stdout",
     "output_type": "stream",
     "text": [
      "Enter a string: The sun is very hot.\n",
      "The length of the string is: 20\n"
     ]
    }
   ],
   "source": [
    "# Define a function to calculate the length of string\n",
    "def string_length(string: str) -> int:\n",
    "    length = 0\n",
    "    # Increment the length variable by 1 with each iteration over the string\n",
    "    for char in string:\n",
    "        length += 1\n",
    "    return length\n",
    "\n",
    "# Take user input\n",
    "string  = str(input(\"Enter a string: \"))\n",
    "\n",
    "# Print the length of string by calling the function\n",
    "print(f'The length of the string is: {string_length(string)}')"
   ]
  },
  {
   "cell_type": "markdown",
   "id": "c167c960",
   "metadata": {},
   "source": [
    "9. Check if a string contains a specific word.\n"
   ]
  },
  {
   "cell_type": "code",
   "execution_count": 9,
   "id": "95169f0e",
   "metadata": {},
   "outputs": [
    {
     "name": "stdout",
     "output_type": "stream",
     "text": [
      "Enter a string: Brilliant\n",
      "Enter a word: t\n",
      "Contains a specific word: True\n"
     ]
    }
   ],
   "source": [
    "# Define a function to check if a string contains a specific word\n",
    "def contains_specific_word(string: str, word: str) -> bool:\n",
    "    for char in string:\n",
    "        if char.lower() == word.lower():\n",
    "            return True\n",
    "    return False\n",
    "\n",
    "# Take user input\n",
    "string  = str(input(\"Enter a string: \"))\n",
    "word    = str(input(\"Enter a word: \"))\n",
    "\n",
    "# Print the result\n",
    "print(f'Contains a specific word: {contains_specific_word(string, word)}')"
   ]
  },
  {
   "cell_type": "markdown",
   "id": "12cecdcb",
   "metadata": {},
   "source": [
    "10. Replace a word in a string with another word.\n"
   ]
  },
  {
   "cell_type": "code",
   "execution_count": 10,
   "id": "992ab847",
   "metadata": {},
   "outputs": [
    {
     "name": "stdout",
     "output_type": "stream",
     "text": [
      "Enter a string: Good Bye!\n",
      "Enter a word to be replaced: Bye\n",
      "Enter a new word: Eye\n",
      "String after modification: Good Eye!\n"
     ]
    }
   ],
   "source": [
    "# Define a function to check if a string contains a specific word\n",
    "def replace_word(string: str, old_word: str, new_word: str) -> str:\n",
    "    return string.replace(old_word, new_word)\n",
    "\n",
    "# Take user input\n",
    "string    = str(input(\"Enter a string: \"))\n",
    "old_word  = str(input(\"Enter a word to be replaced: \"))\n",
    "new_word  = str(input(\"Enter a new word: \"))\n",
    "\n",
    "# Print the result\n",
    "print(f'String after modification: {replace_word(string, old_word, new_word)}')"
   ]
  },
  {
   "cell_type": "markdown",
   "id": "3968e2d9",
   "metadata": {},
   "source": [
    "11. Count the occurrences of a word in a string"
   ]
  },
  {
   "cell_type": "code",
   "execution_count": 11,
   "id": "bea6ac76",
   "metadata": {},
   "outputs": [
    {
     "name": "stdout",
     "output_type": "stream",
     "text": [
      "The word 'p' occurs 2 times in the string: 'Mississippi'\n"
     ]
    }
   ],
   "source": [
    "string = 'Mississippi'\n",
    "word   = 'p'\n",
    "count_occurence  =  string.count(word)\n",
    "print(f\"The word '{word}' occurs {count_occurence} times in the string: '{string}'\")"
   ]
  },
  {
   "cell_type": "markdown",
   "id": "2cf78b8a",
   "metadata": {},
   "source": [
    "12. Find the first occurrence of a word in a string"
   ]
  },
  {
   "cell_type": "code",
   "execution_count": 12,
   "id": "c9e72ea5",
   "metadata": {},
   "outputs": [
    {
     "name": "stdout",
     "output_type": "stream",
     "text": [
      "First occurence of 'a' is at an index of 3\n"
     ]
    }
   ],
   "source": [
    "string = 'Island'\n",
    "word   = 'a'\n",
    "first_occurence  =  string.lower().find(word)\n",
    "print(f\"First occurence of '{word}' is at an index of {first_occurence}\")"
   ]
  },
  {
   "cell_type": "markdown",
   "id": "481fc207",
   "metadata": {},
   "source": [
    "13. Find the last occurrence of a word in a string"
   ]
  },
  {
   "cell_type": "code",
   "execution_count": 2,
   "id": "a15d276e",
   "metadata": {},
   "outputs": [
    {
     "name": "stdout",
     "output_type": "stream",
     "text": [
      "The last occurence of 'p' is at an index of 9\n"
     ]
    }
   ],
   "source": [
    "string = 'Mississippi'\n",
    "word   = 'p'\n",
    "last_occurence  =  string.lower().rfind(word)\n",
    "print(f\"The last occurence of '{word}' is at an index of {last_occurence}\")"
   ]
  },
  {
   "cell_type": "markdown",
   "id": "550890fd",
   "metadata": {},
   "source": [
    "14. Split a string into a list of words.\n"
   ]
  },
  {
   "cell_type": "code",
   "execution_count": 14,
   "id": "e9cfdd49",
   "metadata": {},
   "outputs": [
    {
     "name": "stdout",
     "output_type": "stream",
     "text": [
      "The list of words is: ['The', 'woods', 'are', 'lovely', 'dark', 'and', 'deep']\n"
     ]
    }
   ],
   "source": [
    "string = 'The woods are lovely dark and deep'\n",
    "list_of_words = string.split()\n",
    "print(f\"The list of words is: {list_of_words}\")"
   ]
  },
  {
   "cell_type": "markdown",
   "id": "72c0073a",
   "metadata": {},
   "source": [
    "15. Join a list of words into a string.\n"
   ]
  },
  {
   "cell_type": "code",
   "execution_count": 15,
   "id": "250e4a63",
   "metadata": {},
   "outputs": [
    {
     "name": "stdout",
     "output_type": "stream",
     "text": [
      "The string after joining words is: The woods are lovely dark and deep\n"
     ]
    }
   ],
   "source": [
    "word_list = ['The', 'woods', 'are', 'lovely', 'dark', 'and', 'deep']\n",
    "string = ' '.join(word_list)\n",
    "print(f\"The string after joining words is: {string}\")"
   ]
  },
  {
   "cell_type": "markdown",
   "id": "4aabedcc",
   "metadata": {},
   "source": [
    "16. Convert a string where words are separated by spaces to one where words\n",
    "are separated by underscores.\n"
   ]
  },
  {
   "cell_type": "code",
   "execution_count": 16,
   "id": "44555a59",
   "metadata": {},
   "outputs": [
    {
     "name": "stdout",
     "output_type": "stream",
     "text": [
      "The original string is: The woods are lovely dark and deep\n",
      "The modified string is: The_woods_are_lovely_dark_and_deep\n"
     ]
    }
   ],
   "source": [
    "string = 'The woods are lovely dark and deep'\n",
    "print(f\"The original string is: {string}\")\n",
    "\n",
    "modified_string = string.replace(' ', '_')\n",
    "print(f\"The modified string is: {modified_string}\")"
   ]
  },
  {
   "cell_type": "markdown",
   "id": "43ea2ca8",
   "metadata": {},
   "source": [
    "17. Check if a string starts with a specific word or phrase.\n"
   ]
  },
  {
   "cell_type": "code",
   "execution_count": 17,
   "id": "2e750af6",
   "metadata": {},
   "outputs": [
    {
     "name": "stdout",
     "output_type": "stream",
     "text": [
      "Result:  The string starts with the specified word\n"
     ]
    }
   ],
   "source": [
    "string = \"Once upon a time in jungle\"\n",
    "word = \"Once\"\n",
    "result = string.startswith(word)\n",
    "\n",
    "print(\"Result: \",\n",
    "      \"The string starts with the specified word\" if result == True \n",
    "      else \"The string does not start with the specified word\")"
   ]
  },
  {
   "cell_type": "markdown",
   "id": "47ca940b",
   "metadata": {},
   "source": [
    "18. Check if a string ends with a specific word or phrase"
   ]
  },
  {
   "cell_type": "code",
   "execution_count": 18,
   "id": "359a2100",
   "metadata": {},
   "outputs": [
    {
     "name": "stdout",
     "output_type": "stream",
     "text": [
      "Result:  The string ends with the specified word\n"
     ]
    }
   ],
   "source": [
    "string = \"Once upon a time in jungle\"\n",
    "word = \"e\"\n",
    "result = string.endswith(word)\n",
    "\n",
    "print(\"Result: \",\n",
    "      \"The string ends with the specified word\" if result == True \n",
    "      else \"The string does not end with the specified word\")"
   ]
  },
  {
   "cell_type": "markdown",
   "id": "827d3568",
   "metadata": {},
   "source": [
    "19. Convert a string to title case (e.g., \"hello world\" to \"Hello World\").\n"
   ]
  },
  {
   "cell_type": "code",
   "execution_count": 34,
   "id": "7d879736",
   "metadata": {},
   "outputs": [
    {
     "name": "stdout",
     "output_type": "stream",
     "text": [
      "Hello world\n"
     ]
    }
   ],
   "source": [
    "string = \"hello world\"\n",
    "string_with_title_case = string.capitalize()\n",
    "print(string_with_title_case)"
   ]
  },
  {
   "cell_type": "markdown",
   "id": "ab7cac36",
   "metadata": {},
   "source": [
    "20. Find the longest word in a string."
   ]
  },
  {
   "cell_type": "code",
   "execution_count": 39,
   "id": "eeaec839",
   "metadata": {},
   "outputs": [
    {
     "name": "stdout",
     "output_type": "stream",
     "text": [
      "Enter a string: Swaraj is my birth right and I shall have it\n",
      "The longest word in the string is: 'Swaraj'\n"
     ]
    }
   ],
   "source": [
    "# Define a function to calculate the longest word in string\n",
    "def longest_word(string: str) -> str:\n",
    "    \n",
    "    #this variable will always store the longest word while iterating over the list of words\n",
    "    longest_word = \"\"\n",
    "    \n",
    "    #split the string into a list of words\n",
    "    word_list = string.split(' ')\n",
    "    \n",
    "    for word in word_list:\n",
    "        if len(word) > len(longest_word):        \n",
    "            longest_word = word        \n",
    "    \n",
    "    return longest_word\n",
    "\n",
    "# Take user input\n",
    "input_string = str(input(\"Enter a string: \"))\n",
    "\n",
    "# Print the result\n",
    "print(f\"The longest word in the string is: '{longest_word(input_string)}'\")"
   ]
  },
  {
   "cell_type": "markdown",
   "id": "6b82419b",
   "metadata": {},
   "source": [
    "21. Find the shortest word in a string.\n"
   ]
  },
  {
   "cell_type": "code",
   "execution_count": 43,
   "id": "f414fb71",
   "metadata": {},
   "outputs": [
    {
     "name": "stdout",
     "output_type": "stream",
     "text": [
      "Enter a string: Swaraj is my birth right and I shall have it\n",
      "The shortest word in the string is: 'I'\n"
     ]
    }
   ],
   "source": [
    "# Define a function to calculate the longest word in string\n",
    "def shortest_word(string: str) -> str:\n",
    "    \n",
    "    #split the string into a list of words\n",
    "    word_list = string.split(' ')\n",
    "        \n",
    "    #this variable will always store the shortest word while iterating over the list of words\n",
    "    #assign it with the starting list item\n",
    "    shortest_word = word_list[0]\n",
    "    \n",
    "    for word in word_list:\n",
    "        if len(word) < len(shortest_word):        \n",
    "            shortest_word = word        \n",
    "    \n",
    "    return shortest_word\n",
    "\n",
    "# Take user input\n",
    "input_string = str(input(\"Enter a string: \"))\n",
    "\n",
    "# Print the result\n",
    "print(f\"The shortest word in the string is: '{shortest_word(input_string)}'\")"
   ]
  },
  {
   "cell_type": "markdown",
   "id": "0d74ecad",
   "metadata": {},
   "source": [
    "22. Reverse the order of words in a string."
   ]
  },
  {
   "cell_type": "code",
   "execution_count": 48,
   "id": "7530e9cc",
   "metadata": {},
   "outputs": [
    {
     "name": "stdout",
     "output_type": "stream",
     "text": [
      "The reversed string is: dog lazy the over jumps fox brown quick the\n"
     ]
    }
   ],
   "source": [
    "string1 = \"the quick brown fox jumps over the lazy dog\"\n",
    "\n",
    "#split the string into a list of words\n",
    "list1 = string1.split()\n",
    "\n",
    "#reverse the list of words\n",
    "list1 = list1[::-1]\n",
    "\n",
    "#join the words back to form a reversed string\n",
    "string2 = ' '.join(list1)\n",
    "\n",
    "print(f\"The reversed string is: {string2}\")"
   ]
  },
  {
   "cell_type": "markdown",
   "id": "8181b644",
   "metadata": {},
   "source": [
    "23. Check if a string is alphanumeric."
   ]
  },
  {
   "cell_type": "code",
   "execution_count": 13,
   "id": "190b1129",
   "metadata": {},
   "outputs": [
    {
     "name": "stdout",
     "output_type": "stream",
     "text": [
      "Enter a string: asdfg@#!\n",
      "# APPROACH 1: Using python in-built function isalnum()\n",
      "The string is non-alphanumeric\n",
      "\n",
      "# APPROACH 2: Without using python in-built function isalnum()\n",
      "The string is non-alphanumeric\n"
     ]
    }
   ],
   "source": [
    "# Take user input\n",
    "string3 = str(input(\"Enter a string: \")) \n",
    "\n",
    "###########################################################################################\n",
    "# APPROACH 1: Using python in-built function isalnum()\n",
    "print(\"# APPROACH 1: Using python in-built function isalnum()\")\n",
    "if string3.isalnum():\n",
    "    print(\"The string is alphanumeric\")\n",
    "else:\n",
    "    print(\"The string is non-alphanumeric\")\n",
    "\n",
    "###########################################################################################\n",
    "# APPROACH 2: Without using python in-built function isalnum()\n",
    "print(\"\\n\" + \"# APPROACH 2: Without using python in-built function isalnum()\")\n",
    "\n",
    "# Define a function\n",
    "def is_alphanumeric(string: str) -> bool:\n",
    "    #declare a flag variable\n",
    "    is_alphanum = True\n",
    "\n",
    "    alphanumeric_letters = 'abcdefghijklmnopqrstuvwxyzABCDEFGHIJKLMNOPQRSTUVWXYZ0123456789'\n",
    "\n",
    "    #iterate through each character of string to match it with defined alphanum letters\n",
    "    for char in string3:\n",
    "        if char not in alphanumeric_letters:\n",
    "            is_alphanum = False        \n",
    "            break\n",
    "    return is_alphanum\n",
    "    \n",
    "if is_alphanumeric(string3):\n",
    "    print(\"The string is alphanumeric\")\n",
    "else:\n",
    "    print(\"The string is non-alphanumeric\")\n",
    "    \n",
    "###########################################################################################  "
   ]
  },
  {
   "cell_type": "markdown",
   "id": "4ff4d17c",
   "metadata": {},
   "source": [
    "24. Extract all digits from a string."
   ]
  },
  {
   "cell_type": "code",
   "execution_count": 25,
   "id": "25d95e4e",
   "metadata": {},
   "outputs": [
    {
     "name": "stdout",
     "output_type": "stream",
     "text": [
      "The digits are:  3090\n"
     ]
    }
   ],
   "source": [
    "def get_digits(string: str) -> str:\n",
    "    digits = \"\"\n",
    "    for char in string:\n",
    "        if char.isdigit():\n",
    "            digits += char\n",
    "    return digits\n",
    "\n",
    "string4 = \"Th3 qu!ck br0w9 f0x\"\n",
    "print(\"The digits are: \", get_digits(string4))"
   ]
  },
  {
   "cell_type": "markdown",
   "id": "3a89549a",
   "metadata": {},
   "source": [
    "25. Extract all alphabets from a string.\n"
   ]
  },
  {
   "cell_type": "code",
   "execution_count": 24,
   "id": "55b8efd4",
   "metadata": {},
   "outputs": [
    {
     "name": "stdout",
     "output_type": "stream",
     "text": [
      "The alphabets are:  Thquckbrwfx\n"
     ]
    }
   ],
   "source": [
    "def get_alphabets(string: str) -> str:\n",
    "    alphabets = \"\"\n",
    "    for char in string:\n",
    "        if char.isalpha():\n",
    "            alphabets += char\n",
    "    return alphabets\n",
    "\n",
    "string5 = \"Th3 qu!ck br0w9 f0x\"\n",
    "print(\"The alphabets are: \", get_alphabets(string5))"
   ]
  },
  {
   "cell_type": "markdown",
   "id": "7d419ecd",
   "metadata": {},
   "source": [
    "26. Count the number of uppercase letters in a string."
   ]
  },
  {
   "cell_type": "code",
   "execution_count": 26,
   "id": "589f0231",
   "metadata": {},
   "outputs": [
    {
     "name": "stdout",
     "output_type": "stream",
     "text": [
      "The uppercase letter count is:  3\n"
     ]
    }
   ],
   "source": [
    "def get_uppercase_count(string: str) -> int:\n",
    "    count = 0\n",
    "    for char in string:\n",
    "        if char.isupper():\n",
    "            count += 1\n",
    "    return count\n",
    "\n",
    "string6 = \"Humpty DumPty\"\n",
    "print(\"The uppercase letter count is: \", get_uppercase_count(string6))"
   ]
  },
  {
   "cell_type": "markdown",
   "id": "1c5efddc",
   "metadata": {},
   "source": [
    "27. Count the number of lowercase letters in a string.\n"
   ]
  },
  {
   "cell_type": "code",
   "execution_count": 27,
   "id": "8b18d92b",
   "metadata": {},
   "outputs": [
    {
     "name": "stdout",
     "output_type": "stream",
     "text": [
      "The lowercase letter count is:  9\n"
     ]
    }
   ],
   "source": [
    "def get_lowercase_count(string: str) -> int:\n",
    "    count = 0\n",
    "    for char in string:\n",
    "        if char.islower():\n",
    "            count += 1\n",
    "    return count\n",
    "\n",
    "string7 = \"Humpty DumPty\"\n",
    "print(\"The lowercase letter count is: \", get_lowercase_count(string7))"
   ]
  },
  {
   "cell_type": "markdown",
   "id": "646599e3",
   "metadata": {},
   "source": [
    "28. Swap the case of each character in a string.\n"
   ]
  },
  {
   "cell_type": "code",
   "execution_count": 34,
   "id": "02f75868",
   "metadata": {},
   "outputs": [
    {
     "name": "stdout",
     "output_type": "stream",
     "text": [
      "Enter a string: The Quick Brown Fox Jumps!\n",
      "# APPROACH 1: Using python in-built function swapcase()\n",
      "The case-swapped string is:  tHE qUICK bROWN fOX jUMPS!\n",
      "\n",
      "# APPROACH 2: Without using python in-built function swapcase()\n",
      "The case-swapped string is:  tHE qUICK bROWN fOX jUMPS!\n"
     ]
    }
   ],
   "source": [
    "# Take user input\n",
    "string8 = str(input(\"Enter a string: \"))\n",
    "\n",
    "###########################################################################################\n",
    "# APPROACH 1: Using python in-built function swapcase()\n",
    "print(\"# APPROACH 1: Using python in-built function swapcase()\")\n",
    "print(\"The case-swapped string is: \", string8.swapcase())\n",
    "\n",
    "###########################################################################################\n",
    "# APPROACH 2: Without using python in-built function swapcase()\n",
    "print(\"\\n\" + \"# APPROACH 2: Without using python in-built function swapcase()\")\n",
    "\n",
    "# Define a function\n",
    "def swap_case(string: str) -> str:\n",
    "    new_string = \"\"\n",
    "    for char in string:\n",
    "        if char.islower():\n",
    "            new_string += char.upper()\n",
    "        elif char.isupper():\n",
    "            new_string += char.lower()\n",
    "        else:\n",
    "            new_string += char\n",
    "    return new_string\n",
    "         \n",
    "print(\"The case-swapped string is: \", swap_case(string8))\n",
    "\n",
    "###########################################################################################"
   ]
  },
  {
   "cell_type": "markdown",
   "id": "b2ad5555",
   "metadata": {},
   "source": [
    "29. Remove a specific word from a string.\n"
   ]
  },
  {
   "cell_type": "code",
   "execution_count": 5,
   "id": "825a0712",
   "metadata": {},
   "outputs": [
    {
     "name": "stdout",
     "output_type": "stream",
     "text": [
      "The Brown Fox Jumps Over The Lazy Dog\n"
     ]
    }
   ],
   "source": [
    "string9 = \"The Quick Brown Fox Jumps Over The Lazy Dog\"\n",
    "word_to_removed = \"Quick\"\n",
    "\n",
    "#split the string into a list of words\n",
    "w_list = string9.split()\n",
    "\n",
    "#remove the specified word form the list\n",
    "w_list.remove(word_to_removed)\n",
    "\n",
    "#join back the list of words\n",
    "modified_string9 = ' '.join(w_list)\n",
    "print(modified_string9)"
   ]
  },
  {
   "cell_type": "markdown",
   "id": "dba7b6fa",
   "metadata": {},
   "source": [
    "30. Check if a string is a valid email address."
   ]
  },
  {
   "cell_type": "code",
   "execution_count": 8,
   "id": "4916cd82",
   "metadata": {},
   "outputs": [
    {
     "name": "stdout",
     "output_type": "stream",
     "text": [
      "Enter an email: joe.biden@whitehouse.com\n",
      "Valid email.\n"
     ]
    }
   ],
   "source": [
    "#import regex library\n",
    "import re\n",
    "\n",
    "def is_valid_email(email: str) -> bool:\n",
    "    return re.match(r\"[^@]+@[^@]+\\.[^@]+\", email)\n",
    "\n",
    "input_email = str(input(\"Enter an email: \"))\n",
    "\n",
    "print(\"Valid email.\" if is_valid_email(input_email) else \"Invalid email.\")\n"
   ]
  },
  {
   "cell_type": "markdown",
   "id": "815444b6",
   "metadata": {},
   "source": [
    "31. Extract the username from an email address string."
   ]
  },
  {
   "cell_type": "code",
   "execution_count": 11,
   "id": "00b6d071",
   "metadata": {},
   "outputs": [
    {
     "name": "stdout",
     "output_type": "stream",
     "text": [
      "User name is: joe.biden\n"
     ]
    }
   ],
   "source": [
    "email_string10 = \"joe.biden@whitehouse.com\"\n",
    "\n",
    "#use slicing; start from 0th index to the index position of '@' character\n",
    "user_name = email_string10[0:email_string10.index(\"@\")]\n",
    "print(f\"User name is: {user_name}\")"
   ]
  },
  {
   "cell_type": "markdown",
   "id": "c8dab17a",
   "metadata": {},
   "source": [
    "32. Extract the domain name from an email address string."
   ]
  },
  {
   "cell_type": "code",
   "execution_count": 2,
   "id": "446cea8c",
   "metadata": {},
   "outputs": [
    {
     "name": "stdout",
     "output_type": "stream",
     "text": [
      "Domain name is: whitehouse.com\n"
     ]
    }
   ],
   "source": [
    "email_string11 = \"joe.biden@whitehouse.com\"\n",
    "\n",
    "#use split function\n",
    "list11 = email_string11.split('@')\n",
    "\n",
    "#select list item from index 1\n",
    "print(f\"Domain name is: {list11[1]}\")"
   ]
  },
  {
   "cell_type": "markdown",
   "id": "f253da0f",
   "metadata": {},
   "source": [
    "33. Replace multiple spaces in a string with a single space."
   ]
  },
  {
   "cell_type": "code",
   "execution_count": 9,
   "id": "c4d0501c",
   "metadata": {},
   "outputs": [
    {
     "name": "stdout",
     "output_type": "stream",
     "text": [
      "A friend in need is a friend indeed\n"
     ]
    }
   ],
   "source": [
    "string33 = \"A    friend   in    need    is     a     friend     indeed\"\n",
    "\n",
    "#Step1: use split to separate words by whitespaces\n",
    "list33 = string33.split()\n",
    "\n",
    "#Step2: join back the words into a string\n",
    "result_string33 = ' '.join(list33)\n",
    "print(result_string33)"
   ]
  },
  {
   "cell_type": "markdown",
   "id": "6526b013",
   "metadata": {},
   "source": [
    "34. Check if a string is a valid URL."
   ]
  },
  {
   "cell_type": "code",
   "execution_count": 24,
   "id": "307bc65a",
   "metadata": {},
   "outputs": [
    {
     "name": "stdout",
     "output_type": "stream",
     "text": [
      "The string is a valid URL\n"
     ]
    }
   ],
   "source": [
    "from urllib.parse import urlparse\n",
    "\n",
    "url_string = \"https://www.pwskills.com\"\n",
    "parsed_url = urlparse(url_string)\n",
    "\n",
    "print(\"The string is\", \"a valid URL\" if all([parsed_url.scheme, parsed_url.netloc]) \n",
    "      else \"an invalid URL\")"
   ]
  },
  {
   "cell_type": "markdown",
   "id": "d7a70a5d",
   "metadata": {},
   "source": [
    "35. Extract the protocol (http or https) from a URL string.\n"
   ]
  },
  {
   "cell_type": "code",
   "execution_count": 27,
   "id": "6a722fa3",
   "metadata": {},
   "outputs": [
    {
     "name": "stdout",
     "output_type": "stream",
     "text": [
      "Protocol is: https\n"
     ]
    }
   ],
   "source": [
    "url_35 = \"https://www.pwskills.com\"\n",
    "\n",
    "#use split function\n",
    "list_35 = url_35.split('://')\n",
    "\n",
    "#select list item from index 0\n",
    "print(f\"Protocol is: {list_35[0]}\")"
   ]
  },
  {
   "cell_type": "markdown",
   "id": "59b4b677",
   "metadata": {},
   "source": [
    "36. Find the frequency of each character in a string.\n"
   ]
  },
  {
   "cell_type": "code",
   "execution_count": 32,
   "id": "519a8294",
   "metadata": {},
   "outputs": [
    {
     "name": "stdout",
     "output_type": "stream",
     "text": [
      "String: mississippi\n",
      "The frequency of m in 'mississippi' is: 1\n",
      "The frequency of i in 'mississippi' is: 4\n",
      "The frequency of s in 'mississippi' is: 4\n",
      "The frequency of p in 'mississippi' is: 2\n"
     ]
    }
   ],
   "source": [
    "str_36 = \"mississippi\"\n",
    "\n",
    "# create an empty dictionary to store the frequencies of each character\n",
    "frequencies = {}\n",
    "\n",
    "# add the frequency of each character\n",
    "for char in str_36:\n",
    "    freq = str_36.count(char)\n",
    "    frequencies.update({char : freq})\n",
    "    \n",
    "print(f\"String: {str_36}\")\n",
    "for key, value in frequencies.items():\n",
    "    print(f\"The frequency of {key} in '{str_36}' is: {value}\")"
   ]
  },
  {
   "cell_type": "markdown",
   "id": "4f94a815",
   "metadata": {},
   "source": [
    "37. Remove all punctuation from a string."
   ]
  },
  {
   "cell_type": "code",
   "execution_count": 41,
   "id": "77d7b0f9",
   "metadata": {},
   "outputs": [
    {
     "name": "stdout",
     "output_type": "stream",
     "text": [
      "The string without punctuation is: Dgeru\n"
     ]
    }
   ],
   "source": [
    "import string\n",
    "\n",
    "str_37 = \"D@^ger*u&\"\n",
    "\n",
    "modified_str_list = [char for char in str_37 if char not in string.punctuation]\n",
    "\n",
    "print(f\"The string without punctuation is: {''.join(modified_str_list)}\")\n"
   ]
  },
  {
   "cell_type": "markdown",
   "id": "fd557dac",
   "metadata": {},
   "source": [
    "38. Check if a string contains only digits."
   ]
  },
  {
   "cell_type": "code",
   "execution_count": 53,
   "id": "cdab7d49",
   "metadata": {},
   "outputs": [
    {
     "name": "stdout",
     "output_type": "stream",
     "text": [
      "The string contains all digits\n"
     ]
    }
   ],
   "source": [
    "def is_all_digits(s: str) -> bool:\n",
    "    return s.isdigit()\n",
    "\n",
    "str_38 = \"63826423232\"\n",
    "\n",
    "print(\"The string contains all digits\" if is_all_digits(str_38) else \"The string doesn't contain all digits\")"
   ]
  },
  {
   "cell_type": "markdown",
   "id": "30e5f3b6",
   "metadata": {},
   "source": [
    "39. Check if a string contains only alphabets."
   ]
  },
  {
   "cell_type": "code",
   "execution_count": 3,
   "id": "6bfbc051",
   "metadata": {},
   "outputs": [
    {
     "name": "stdout",
     "output_type": "stream",
     "text": [
      "The string contains all alphabets\n"
     ]
    }
   ],
   "source": [
    "def is_all_alphabets(s: str) -> bool:\n",
    "    return s.isalpha()\n",
    "\n",
    "str_39 = \"qwertasdfg\"\n",
    "\n",
    "print(\"The string contains all alphabets\" if is_all_alphabets(str_39) else \"The string doesn't contain all alphabets\")"
   ]
  },
  {
   "cell_type": "markdown",
   "id": "585c7ee8",
   "metadata": {},
   "source": [
    "40. Convert a string to a list of characters."
   ]
  },
  {
   "cell_type": "code",
   "execution_count": 10,
   "id": "b094189b",
   "metadata": {},
   "outputs": [
    {
     "name": "stdout",
     "output_type": "stream",
     "text": [
      "List of characters: ['H', 'a', 'l', 'l', 'u', 'c', 'i', 'n', 'a', 't', 'i', 'o', 'n']\n"
     ]
    }
   ],
   "source": [
    "str_40 = \"Hallucination\"\n",
    "list_of_characters = [char for char in str_40]\n",
    "print(f\"List of characters: {list_of_characters}\")"
   ]
  },
  {
   "cell_type": "markdown",
   "id": "8ab817e3",
   "metadata": {},
   "source": [
    "41. Check if two strings are anagrams."
   ]
  },
  {
   "cell_type": "code",
   "execution_count": 17,
   "id": "5dc36891",
   "metadata": {},
   "outputs": [
    {
     "name": "stdout",
     "output_type": "stream",
     "text": [
      "The strings 'angered' and 'enraged' are anagrams\n"
     ]
    }
   ],
   "source": [
    "def is_anagram(s1: str, s2: str) -> bool:\n",
    "    return sorted(s1) == sorted(s2)\n",
    "\n",
    "str1 = \"angered\"\n",
    "str2 = \"enraged\"\n",
    "\n",
    "print(f\"The strings '{str1}' and '{str2}' are\", \"anagrams\" if is_anagram(str1,str2) else \"not anagrams\")"
   ]
  },
  {
   "cell_type": "markdown",
   "id": "8d458064",
   "metadata": {},
   "source": [
    "42. Encode a string using a Caesar cipher."
   ]
  },
  {
   "cell_type": "code",
   "execution_count": 3,
   "id": "dfc38369",
   "metadata": {},
   "outputs": [
    {
     "name": "stdout",
     "output_type": "stream",
     "text": [
      "Enter a string: Secret meeting at midnight.\n",
      "Encrypted string:  Vhfuhw phhwlqj dw plgqljkw.\n"
     ]
    }
   ],
   "source": [
    "def encode_caesar_cipher(text, shift):\n",
    "    encrypted_text = \"\"\n",
    "    for char in text:\n",
    "        if char.isalpha():\n",
    "            ascii_offset = 65 if char.isupper() else 97\n",
    "            encrypted_text += chr((ord(char) - ascii_offset + shift) % 26 + ascii_offset)\n",
    "        else:\n",
    "            encrypted_text += char\n",
    "    return encrypted_text\n",
    "\n",
    "text = input(\"Enter a string: \")\n",
    "shift = 3\n",
    "encrypted_text = encode_caesar_cipher(text, shift)\n",
    "print(\"Encrypted string: \", encrypted_text)\n"
   ]
  },
  {
   "cell_type": "markdown",
   "id": "057e168b",
   "metadata": {},
   "source": [
    "43. Decode a Caesar cipher encoded string."
   ]
  },
  {
   "cell_type": "code",
   "execution_count": 4,
   "id": "48e64261",
   "metadata": {},
   "outputs": [
    {
     "name": "stdout",
     "output_type": "stream",
     "text": [
      "Enter a string: Vhfuhw phhwlqj dw plgqljkw.\n",
      "Decrypted string:  Secret meeting at midnight.\n"
     ]
    }
   ],
   "source": [
    "def decode_caesar_cipher(text, shift):\n",
    "    decrypted_text = \"\"\n",
    "    for char in text:\n",
    "        if char.isalpha():\n",
    "            ascii_offset = 65 if char.isupper() else 97\n",
    "            decrypted_text += chr((ord(char) - ascii_offset - shift) % 26 + ascii_offset)\n",
    "        else:\n",
    "            decrypted_text += char\n",
    "    return decrypted_text\n",
    "\n",
    "text = input(\"Enter a string: \")\n",
    "shift = 3\n",
    "decrypted_text = decode_caesar_cipher(text, shift)\n",
    "print(\"Decrypted string: \", decrypted_text)\n"
   ]
  },
  {
   "cell_type": "markdown",
   "id": "95d14dc2",
   "metadata": {},
   "source": [
    "44. Find the most frequent word in a string."
   ]
  },
  {
   "cell_type": "code",
   "execution_count": 45,
   "id": "b66e092e",
   "metadata": {},
   "outputs": [
    {
     "name": "stdout",
     "output_type": "stream",
     "text": [
      "String: assassination\n",
      "The most frequent word 'assassination' is: s\n"
     ]
    }
   ],
   "source": [
    "str_44 = \"assassination\"\n",
    "\n",
    "# create an empty dictionary to store the frequencies of each character\n",
    "frequencies = {}\n",
    "\n",
    "# add the frequency of each character\n",
    "for char in str_44:\n",
    "    freq = str_44.count(char)\n",
    "    frequencies.update({char : freq})\n",
    "    \n",
    "print(f\"String: {str_44}\")\n",
    "\n",
    "max_value = max(frequencies, key=frequencies.get)\n",
    "\n",
    "print(f\"The most frequent word '{str_44}' is: {max_value}\")"
   ]
  },
  {
   "cell_type": "markdown",
   "id": "e4d0fccc",
   "metadata": {},
   "source": [
    "45. Find all unique words in a string."
   ]
  },
  {
   "cell_type": "code",
   "execution_count": 80,
   "id": "860f0067",
   "metadata": {},
   "outputs": [
    {
     "name": "stdout",
     "output_type": "stream",
     "text": [
      "Unique words are:  {'built', 'upon', 'king', 'palace', 'a', 'was', 'once', 'the', 'when', 'time', 'there'}\n"
     ]
    }
   ],
   "source": [
    "str_45 = \"once upon a time there was a time when the king once built the palace\"\n",
    "print(\"Unique words are: \", set(str_45.split()))"
   ]
  },
  {
   "cell_type": "markdown",
   "id": "cdc01751",
   "metadata": {},
   "source": [
    "46. Count the number of syllables in a string."
   ]
  },
  {
   "cell_type": "code",
   "execution_count": 90,
   "id": "b4f520fe",
   "metadata": {},
   "outputs": [
    {
     "name": "stdout",
     "output_type": "stream",
     "text": [
      "The word 'assassination' has 5 syllables.\n"
     ]
    }
   ],
   "source": [
    "def count_syllables(word):\n",
    "    word = word.lower()\n",
    "    vowels = \"aeiouy\"\n",
    "    count = 0\n",
    "\n",
    "    if word[0] in vowels:\n",
    "        count += 1\n",
    "\n",
    "    for index in range(1, len(word)):\n",
    "        if word[index] in vowels and word[index - 1] not in vowels:\n",
    "            count += 1\n",
    "\n",
    "    if word.endswith(\"e\"):\n",
    "        count -= 1\n",
    "\n",
    "    if count == 0:\n",
    "        count += 1\n",
    "\n",
    "    return count\n",
    "\n",
    "word = \"assassination\"\n",
    "syllable_count = count_syllables(word)\n",
    "print(f\"The word '{word}' has {syllable_count} syllables.\")\n"
   ]
  },
  {
   "cell_type": "markdown",
   "id": "408ad2a4",
   "metadata": {},
   "source": [
    "47. Check if a string contains any special characters."
   ]
  },
  {
   "cell_type": "code",
   "execution_count": 73,
   "id": "66cf3fb8",
   "metadata": {},
   "outputs": [
    {
     "name": "stdout",
     "output_type": "stream",
     "text": [
      "The string contains special characters\n"
     ]
    }
   ],
   "source": [
    "str_47 = \"1233abcccc!@#$\"\n",
    "\n",
    "print(\"The string doesn't contain special characters\" if str_47.isalnum()\n",
    "      else \"The string contains special characters\")"
   ]
  },
  {
   "cell_type": "markdown",
   "id": "e141f557",
   "metadata": {},
   "source": [
    "48. Remove the nth word from a string."
   ]
  },
  {
   "cell_type": "code",
   "execution_count": 32,
   "id": "3cb14783",
   "metadata": {},
   "outputs": [
    {
     "name": "stdout",
     "output_type": "stream",
     "text": [
      "Initial string: opportunity\n",
      "Enter the value of n: 7\n",
      "After removing nth letter from string: opportnity\n"
     ]
    }
   ],
   "source": [
    "str_48 = \"opportunity\"\n",
    "print(f\"Initial string: {str_48}\")\n",
    "\n",
    "n = int(input(\"Enter the value of n: \"))\n",
    "\n",
    "#fill a list from iterating the string, exclude the nth letter from the string\n",
    "list_48 = [char for i,char in enumerate(str_48) if i != n-1]\n",
    "\n",
    "#join back the letters to get the modified string\n",
    "modified_str = ''.join(list_48)\n",
    "print(f\"After removing nth letter from string: {modified_str}\")"
   ]
  },
  {
   "cell_type": "markdown",
   "id": "cb418e4b",
   "metadata": {},
   "source": [
    "49. Insert a word at the nth position in a string."
   ]
  },
  {
   "cell_type": "code",
   "execution_count": 94,
   "id": "51846019",
   "metadata": {},
   "outputs": [
    {
     "name": "stdout",
     "output_type": "stream",
     "text": [
      "After inserting at 4th position: Hi,how are you going?\n"
     ]
    }
   ],
   "source": [
    "str_49 = \"Hi, are you going?\"\n",
    "word = \"how\"\n",
    "\n",
    "#position 4 means index=3\n",
    "position = 4\n",
    "\n",
    "new_string = str_49[:position-1] + word + str_49[position-1:]\n",
    "print(f\"After inserting at {position}th position: {new_string}\")\n"
   ]
  },
  {
   "cell_type": "markdown",
   "id": "c973b743",
   "metadata": {},
   "source": [
    "50. Convert a CSV string to a list of lists."
   ]
  },
  {
   "cell_type": "code",
   "execution_count": 117,
   "id": "31d87264",
   "metadata": {},
   "outputs": [
    {
     "name": "stdout",
     "output_type": "stream",
     "text": [
      "The list of lists is:  [['1', '2', '3', '4'], ['5', '6', '7', '8'], ['9', '10', '11', '12']]\n"
     ]
    }
   ],
   "source": [
    "csv_string = \"1,2,3,4\\n5,6,7,8\\n9,10,11,12\"\n",
    "list1 = csv_string.split('\\n')\n",
    "\n",
    "list_of_lists = [item.split(',') for item in list1]\n",
    "print(\"The list of lists is: \", list_of_lists)"
   ]
  },
  {
   "cell_type": "markdown",
   "id": "b48a9959",
   "metadata": {},
   "source": [
    "# TOPIC: List Based Practice Problems"
   ]
  },
  {
   "cell_type": "markdown",
   "id": "73f99872",
   "metadata": {},
   "source": [
    "1. Create a list with integers from 1 to 10."
   ]
  },
  {
   "cell_type": "code",
   "execution_count": 119,
   "id": "b8705819",
   "metadata": {},
   "outputs": [
    {
     "name": "stdout",
     "output_type": "stream",
     "text": [
      "The list of integers is: [1, 2, 3, 4, 5, 6, 7, 8, 9, 10]\n"
     ]
    }
   ],
   "source": [
    "list_of_int = [i for i in range(1,11)]\n",
    "print(f\"The list of integers is: {list_of_int}\")\n"
   ]
  },
  {
   "cell_type": "markdown",
   "id": "31216c6b",
   "metadata": {},
   "source": [
    "2. Find the length of a list without using the `len()` function."
   ]
  },
  {
   "cell_type": "code",
   "execution_count": 122,
   "id": "a2fb3365",
   "metadata": {},
   "outputs": [
    {
     "name": "stdout",
     "output_type": "stream",
     "text": [
      "The length of the list [1, 2, 3, 4, 5] is: 5\n"
     ]
    }
   ],
   "source": [
    "list_2 = [1, 2, 3, 4, 5]\n",
    "length = 0\n",
    "for _ in list_2:\n",
    "    length += 1\n",
    "\n",
    "print(f\"The length of the list {list_2} is: {length}\")"
   ]
  },
  {
   "cell_type": "markdown",
   "id": "8c765537",
   "metadata": {},
   "source": [
    "3. Append an element to the end of a list."
   ]
  },
  {
   "cell_type": "code",
   "execution_count": 125,
   "id": "95667425",
   "metadata": {},
   "outputs": [
    {
     "name": "stdout",
     "output_type": "stream",
     "text": [
      "[1, 2, 3, 4, 5, 10]\n"
     ]
    }
   ],
   "source": [
    "list_3 = [1, 2, 3, 4, 5]\n",
    "\n",
    "#append 10 at the end\n",
    "list_3.append(10)\n",
    "\n",
    "print(list_3)"
   ]
  },
  {
   "cell_type": "markdown",
   "id": "67a1344b",
   "metadata": {},
   "source": [
    "4. Insert an element at a specific index in a list."
   ]
  },
  {
   "cell_type": "code",
   "execution_count": 128,
   "id": "88ca2c23",
   "metadata": {},
   "outputs": [
    {
     "name": "stdout",
     "output_type": "stream",
     "text": [
      "After insert:  [1, 2, 3, 4, 5]\n"
     ]
    }
   ],
   "source": [
    "list_4 = [1, 2, 4, 5]\n",
    "\n",
    "#insert 3 at index 2\n",
    "list_4.insert(2, 3)\n",
    "print(\"After insert: \", list_4)"
   ]
  },
  {
   "cell_type": "markdown",
   "id": "4ab15869",
   "metadata": {},
   "source": [
    "5. Remove an element from a list by its value."
   ]
  },
  {
   "cell_type": "code",
   "execution_count": 130,
   "id": "e5e07b62",
   "metadata": {},
   "outputs": [
    {
     "name": "stdout",
     "output_type": "stream",
     "text": [
      "After removing element:  [9, 8, 7, 6]\n"
     ]
    }
   ],
   "source": [
    "list_5 = [9, 8, 7, 5, 6]\n",
    "\n",
    "#remove 5\n",
    "list_5.remove(5)\n",
    "\n",
    "print(\"After removing element: \", list_5)"
   ]
  },
  {
   "cell_type": "markdown",
   "id": "d67be5cb",
   "metadata": {},
   "source": [
    "6. Remove an element from a list by its index."
   ]
  },
  {
   "cell_type": "code",
   "execution_count": 131,
   "id": "ca629b65",
   "metadata": {},
   "outputs": [
    {
     "name": "stdout",
     "output_type": "stream",
     "text": [
      "After removing element:  [3, 4, 5, 6]\n"
     ]
    }
   ],
   "source": [
    "list_6 = [3, 4, 7, 5, 6]\n",
    "\n",
    "#remove item at index 2\n",
    "list_6.pop(2)\n",
    "\n",
    "print(\"After removing element: \", list_6)"
   ]
  },
  {
   "cell_type": "markdown",
   "id": "017ddf80",
   "metadata": {},
   "source": [
    "7. Check if an element exists in a list."
   ]
  },
  {
   "cell_type": "code",
   "execution_count": 135,
   "id": "299f9845",
   "metadata": {},
   "outputs": [
    {
     "name": "stdout",
     "output_type": "stream",
     "text": [
      "Enter an element to check: cherry\n",
      "Element exists\n"
     ]
    }
   ],
   "source": [
    "list_7 = [\"papaya\", \"banana\", \"apple\", \"cherry\"]\n",
    "\n",
    "element_to_check = str(input(\"Enter an element to check: \"))\n",
    "\n",
    "print(\"Element exists\" if list_7.count(element_to_check) > 0 else \"Element doesn't exist\")"
   ]
  },
  {
   "cell_type": "markdown",
   "id": "a27bb68b",
   "metadata": {},
   "source": [
    "8. Find the index of the first occurrence of an element in a list."
   ]
  },
  {
   "cell_type": "code",
   "execution_count": null,
   "id": "76de8224",
   "metadata": {},
   "outputs": [],
   "source": [
    "list_6 = [3, 4, 7, 5, 3, 5, 7, 9, 4]\n",
    "\n",
    "element_to_check = str(input(\"Enter an element to check its first occurence: \"))"
   ]
  },
  {
   "cell_type": "markdown",
   "id": "aa7a69ab",
   "metadata": {},
   "source": [
    "9. Count the occurrences of an element in a list."
   ]
  },
  {
   "cell_type": "code",
   "execution_count": 147,
   "id": "af2f7c4c",
   "metadata": {},
   "outputs": [
    {
     "name": "stdout",
     "output_type": "stream",
     "text": [
      "The element 6 appears 3 times in the list.\n",
      "The element 5 appears 1 times in the list.\n",
      "The element 4 appears 2 times in the list.\n",
      "The element 3 appears 1 times in the list.\n"
     ]
    }
   ],
   "source": [
    "list_9 = [6, 5, 4, 3, 6, 4, 6]\n",
    "\n",
    "occurrences = {i: list_9.count(i) for i in list_9}\n",
    "\n",
    "for key, value in occurrences.items():\n",
    "    print(f\"The element {key} appears {value} times in the list.\")\n"
   ]
  },
  {
   "cell_type": "markdown",
   "id": "47c520ec",
   "metadata": {},
   "source": [
    "10. Reverse the order of elements in a list."
   ]
  },
  {
   "cell_type": "code",
   "execution_count": 148,
   "id": "a6b968a6",
   "metadata": {},
   "outputs": [
    {
     "name": "stdout",
     "output_type": "stream",
     "text": [
      "The reversed list is: ['cherry', 'apple', 'banana', 'papaya']\n"
     ]
    }
   ],
   "source": [
    "list_10 = [\"papaya\", \"banana\", \"apple\", \"cherry\"]\n",
    "\n",
    "print(f\"The reversed list is: {list_10[::-1]}\")"
   ]
  },
  {
   "cell_type": "markdown",
   "id": "8e20c1c0",
   "metadata": {},
   "source": [
    "11. Sort a list in ascending order."
   ]
  },
  {
   "cell_type": "code",
   "execution_count": 1,
   "id": "e67ac2d3",
   "metadata": {},
   "outputs": [
    {
     "data": {
      "text/plain": [
       "[1, 2, 3, 4, 5]"
      ]
     },
     "execution_count": 1,
     "metadata": {},
     "output_type": "execute_result"
    }
   ],
   "source": [
    "list11 = [4, 5, 2, 1, 3]\n",
    "\n",
    "sorted(list11)"
   ]
  },
  {
   "cell_type": "markdown",
   "id": "f413d6a4",
   "metadata": {},
   "source": [
    "12. Sort a list in descending order."
   ]
  },
  {
   "cell_type": "code",
   "execution_count": 2,
   "id": "db472f83",
   "metadata": {},
   "outputs": [
    {
     "data": {
      "text/plain": [
       "[5, 4, 3, 2, 1]"
      ]
     },
     "execution_count": 2,
     "metadata": {},
     "output_type": "execute_result"
    }
   ],
   "source": [
    "list11 = [4, 5, 2, 1, 3]\n",
    "\n",
    "sorted(list11, reverse=True)"
   ]
  },
  {
   "cell_type": "markdown",
   "id": "3817cb69",
   "metadata": {},
   "source": [
    "13. Create a list of even numbers from 1 to 20."
   ]
  },
  {
   "cell_type": "code",
   "execution_count": 5,
   "id": "ab7cca99",
   "metadata": {},
   "outputs": [
    {
     "name": "stdout",
     "output_type": "stream",
     "text": [
      "[2, 4, 6, 8, 10, 12, 14, 16, 18, 20]\n"
     ]
    }
   ],
   "source": [
    "even_numbers = [i for i in range(1, 21) if i % 2 == 0]\n",
    "print(even_numbers)"
   ]
  },
  {
   "cell_type": "markdown",
   "id": "0db0dc2d",
   "metadata": {},
   "source": [
    "14. Create a list of odd numbers from 1 to 20."
   ]
  },
  {
   "cell_type": "code",
   "execution_count": 6,
   "id": "d58bc2ee",
   "metadata": {},
   "outputs": [
    {
     "name": "stdout",
     "output_type": "stream",
     "text": [
      "[1, 3, 5, 7, 9, 11, 13, 15, 17, 19]\n"
     ]
    }
   ],
   "source": [
    "odd_numbers = [i for i in range(1, 21) if i % 2 != 0]\n",
    "print(odd_numbers)"
   ]
  },
  {
   "cell_type": "markdown",
   "id": "7a3e70d3",
   "metadata": {},
   "source": [
    "15. Find the sum of all elements in a list."
   ]
  },
  {
   "cell_type": "code",
   "execution_count": 9,
   "id": "95287661",
   "metadata": {},
   "outputs": [
    {
     "name": "stdout",
     "output_type": "stream",
     "text": [
      "15\n"
     ]
    }
   ],
   "source": [
    "from functools import reduce\n",
    "list15 = [1, 2, 3, 4, 5]\n",
    "\n",
    "sum_of_elements = reduce(lambda *args: sum(args), list15)\n",
    "print(sum_of_elements)"
   ]
  },
  {
   "cell_type": "markdown",
   "id": "94c3fbce",
   "metadata": {},
   "source": [
    "16. Find the maximum value in a list."
   ]
  },
  {
   "cell_type": "code",
   "execution_count": 10,
   "id": "a0bb98d5",
   "metadata": {},
   "outputs": [
    {
     "data": {
      "text/plain": [
       "5"
      ]
     },
     "execution_count": 10,
     "metadata": {},
     "output_type": "execute_result"
    }
   ],
   "source": [
    "list16 = [3, 1, 5, 2, 4]\n",
    "\n",
    "max(list16)"
   ]
  },
  {
   "cell_type": "markdown",
   "id": "c60167f4",
   "metadata": {},
   "source": [
    "17. Find the minimum value in a list."
   ]
  },
  {
   "cell_type": "code",
   "execution_count": 11,
   "id": "8f539d86",
   "metadata": {},
   "outputs": [
    {
     "data": {
      "text/plain": [
       "1"
      ]
     },
     "execution_count": 11,
     "metadata": {},
     "output_type": "execute_result"
    }
   ],
   "source": [
    "list17 = [3, 1, 5, 2, 4]\n",
    "\n",
    "min(list17)"
   ]
  },
  {
   "cell_type": "markdown",
   "id": "3c45d504",
   "metadata": {},
   "source": [
    "18. Create a list of squares of numbers from 1 to 10."
   ]
  },
  {
   "cell_type": "code",
   "execution_count": 13,
   "id": "6f2cb7bb",
   "metadata": {},
   "outputs": [
    {
     "name": "stdout",
     "output_type": "stream",
     "text": [
      "List of squares:  [1, 4, 9, 16, 25, 36, 49, 64, 81, 100]\n"
     ]
    }
   ],
   "source": [
    "list_of_squares = [i**2 for i in range(1, 11)]\n",
    "print(\"List of squares: \",list_of_squares)"
   ]
  },
  {
   "cell_type": "markdown",
   "id": "aff99867",
   "metadata": {},
   "source": [
    "19. Create a list of random numbers."
   ]
  },
  {
   "cell_type": "code",
   "execution_count": 15,
   "id": "c4c20705",
   "metadata": {},
   "outputs": [
    {
     "name": "stdout",
     "output_type": "stream",
     "text": [
      "Random number list is: [28, 8, 40, 25, 34, 31, 43, 37, 4, 24]\n"
     ]
    }
   ],
   "source": [
    "import random\n",
    "\n",
    "# Generating 10 random numbers in the range of 1-50\n",
    "result = random.sample(range(1, 50), 10)\n",
    "print(\"Random number list is:\", result)\n"
   ]
  },
  {
   "cell_type": "markdown",
   "id": "6bffbbb5",
   "metadata": {},
   "source": [
    "20. Remove duplicates from a list."
   ]
  },
  {
   "cell_type": "code",
   "execution_count": 6,
   "id": "5afa2e87",
   "metadata": {},
   "outputs": [
    {
     "name": "stdout",
     "output_type": "stream",
     "text": [
      "List after removing duplicates: [2, 4, 1, 3, 5, 6]\n"
     ]
    }
   ],
   "source": [
    "list20 = [2, 4, 2, 1, 3, 5, 1, 6]\n",
    "\n",
    "final_list = []\n",
    "[final_list.append(i) for i in list20 if i not in final_list]\n",
    "\n",
    "print(f\"List after removing duplicates: {final_list}\")"
   ]
  },
  {
   "cell_type": "markdown",
   "id": "cd3d4120",
   "metadata": {},
   "source": [
    "21. Find the common elements between two lists."
   ]
  },
  {
   "cell_type": "code",
   "execution_count": 11,
   "id": "30409b8f",
   "metadata": {},
   "outputs": [
    {
     "name": "stdout",
     "output_type": "stream",
     "text": [
      "The common elements between both lists are: [4, 5]\n"
     ]
    }
   ],
   "source": [
    "list_1 = [4, 5, 6, 7, 8]\n",
    "list_2 = [1, 2, 3, 4, 5]\n",
    "\n",
    "set_1 = set(list_1)\n",
    "set_2 = set(list_2)\n",
    "\n",
    "common_elements_set = set_1.intersection(set_2)\n",
    "print(f\"The common elements between both lists are: {list(common_elements_set)}\")"
   ]
  },
  {
   "cell_type": "markdown",
   "id": "cbef94bf",
   "metadata": {},
   "source": [
    "22. Find the difference between two lists."
   ]
  },
  {
   "cell_type": "code",
   "execution_count": 15,
   "id": "2ad9e68e",
   "metadata": {},
   "outputs": [
    {
     "name": "stdout",
     "output_type": "stream",
     "text": [
      "The difference between list_1 and list_2 is: [8, 6, 7]\n"
     ]
    }
   ],
   "source": [
    "list_1 = [4, 5, 6, 7, 8]\n",
    "list_2 = [4, 5]\n",
    "\n",
    "set_1 = set(list_1)\n",
    "set_2 = set(list_2)\n",
    "\n",
    "different_elements_set = set_1.difference(set_2)\n",
    "print(f\"The difference between list_1 and list_2 is: {list(different_elements_set)}\")"
   ]
  },
  {
   "cell_type": "markdown",
   "id": "05ad7e98",
   "metadata": {},
   "source": [
    "23. Merge two lists."
   ]
  },
  {
   "cell_type": "code",
   "execution_count": 18,
   "id": "dfebba4e",
   "metadata": {},
   "outputs": [
    {
     "name": "stdout",
     "output_type": "stream",
     "text": [
      "Merged list :  [4, 5, 6, 7, 8, 1, 2, 3]\n"
     ]
    }
   ],
   "source": [
    "list_1 = [4, 5, 6, 7, 8]\n",
    "list_2 = [1, 2, 3]\n",
    "\n",
    "merged_list = list_1 + list_2\n",
    "print(\"Merged list : \", merged_list)"
   ]
  },
  {
   "cell_type": "markdown",
   "id": "7c7b3142",
   "metadata": {},
   "source": [
    "24. Multiply all elements in a list by 2."
   ]
  },
  {
   "cell_type": "code",
   "execution_count": 19,
   "id": "044814b5",
   "metadata": {},
   "outputs": [
    {
     "name": "stdout",
     "output_type": "stream",
     "text": [
      "[8, 10, 12, 14, 16]\n"
     ]
    }
   ],
   "source": [
    "list24 = [4, 5, 6, 7, 8]\n",
    "\n",
    "result = [x*2 for x in list24]\n",
    "print(result)"
   ]
  },
  {
   "cell_type": "markdown",
   "id": "03fd9f7c",
   "metadata": {},
   "source": [
    "25. Filter out all even numbers from a list."
   ]
  },
  {
   "cell_type": "code",
   "execution_count": 13,
   "id": "ff7bdd14",
   "metadata": {},
   "outputs": [
    {
     "name": "stdout",
     "output_type": "stream",
     "text": [
      "List containing even numbers:  [2, 6, 4, 8]\n"
     ]
    }
   ],
   "source": [
    "list25 = [2, 9, 1, 6, 4, 8, 3, 7, 5]\n",
    "\n",
    "even_numbers = [i for i in list25 if i % 2 == 0]\n",
    "print(\"List containing even numbers: \", even_numbers)"
   ]
  },
  {
   "cell_type": "markdown",
   "id": "b172820f",
   "metadata": {},
   "source": [
    "26. Convert a list of strings to a list of integers."
   ]
  },
  {
   "cell_type": "code",
   "execution_count": 21,
   "id": "b8b9d6cd",
   "metadata": {},
   "outputs": [
    {
     "name": "stdout",
     "output_type": "stream",
     "text": [
      "[1, 2, 3]\n"
     ]
    }
   ],
   "source": [
    "list_of_strings = ['1', '2', '3']\n",
    "list_of_integers = [int(x) for x in list_of_strings]\n",
    "print(list_of_integers)\n"
   ]
  },
  {
   "cell_type": "markdown",
   "id": "d70a2b5f",
   "metadata": {},
   "source": [
    "27. Convert a list of integers to a list of strings."
   ]
  },
  {
   "cell_type": "code",
   "execution_count": 22,
   "id": "d6ffbb76",
   "metadata": {},
   "outputs": [
    {
     "name": "stdout",
     "output_type": "stream",
     "text": [
      "['1', '2', '3']\n"
     ]
    }
   ],
   "source": [
    "list_of_integers = [1, 2, 3]\n",
    "list_of_strings = [str(x) for x in list_of_integers]\n",
    "\n",
    "print(list_of_strings)\n"
   ]
  },
  {
   "cell_type": "markdown",
   "id": "855c2854",
   "metadata": {},
   "source": [
    "28. Flatten a nested list."
   ]
  },
  {
   "cell_type": "code",
   "execution_count": 23,
   "id": "c9c203c5",
   "metadata": {},
   "outputs": [
    {
     "name": "stdout",
     "output_type": "stream",
     "text": [
      "[1, 2, 3, 4, 5, 6, 7]\n"
     ]
    }
   ],
   "source": [
    "nested_list = [[1, 2], [3, 4, 5], [6, 7]]\n",
    "flattened_list = [item for sublist in nested_list for item in sublist]\n",
    "print(flattened_list)\n"
   ]
  },
  {
   "cell_type": "markdown",
   "id": "84e679b9",
   "metadata": {},
   "source": [
    "29. Create a list of the first 10 Fibonacci numbers."
   ]
  },
  {
   "cell_type": "code",
   "execution_count": 3,
   "id": "64b72fff",
   "metadata": {},
   "outputs": [
    {
     "name": "stdout",
     "output_type": "stream",
     "text": [
      "Enter num: 10\n",
      "Fibonacci sequence upto 10: \n",
      "[0, 1, 1, 2, 3, 5, 8, 13, 21, 34]\n"
     ]
    }
   ],
   "source": [
    "def fibonacci_series(n: int):\n",
    "    # initialize the first two elements of a fibonacci list\n",
    "    fib_lst = [0, 1]\n",
    "\n",
    "    # check if n is a valid number\n",
    "    if n <= 0:\n",
    "        print(\"Please enter a positive integer greater than 0\")\n",
    "    elif n == 1:\n",
    "        print(f\"Fibonacci sequence upto {n}: \")\n",
    "        print(fib_lst[n-1])\n",
    "    else:\n",
    "        print(f\"Fibonacci sequence upto {n}: \")\n",
    "        for i in range(2, n):\n",
    "            fib_lst.append(fib_lst[i-1] + fib_lst[i-2])\n",
    "        print(fib_lst)\n",
    "    \n",
    "num = int(input(\"Enter num: \"))\n",
    "fibonacci_series(num)\n"
   ]
  },
  {
   "cell_type": "markdown",
   "id": "2d70c2ba",
   "metadata": {},
   "source": [
    "30. Check if a list is sorted."
   ]
  },
  {
   "cell_type": "code",
   "execution_count": 10,
   "id": "639cd8bd",
   "metadata": {},
   "outputs": [
    {
     "name": "stdout",
     "output_type": "stream",
     "text": [
      "List is sorted\n"
     ]
    }
   ],
   "source": [
    "def is_sorted(my_list):\n",
    "    if len(my_list) <= 1:\n",
    "        return True\n",
    "    elif my_list[0] >= my_list[1]:\n",
    "        return False\n",
    "    else:\n",
    "        return is_sorted(my_list[1:])\n",
    "\n",
    "list30 = [1, 2, 3, 4, 5]\n",
    "print(\"List is sorted\" if is_sorted(list30) else \"List is unsorted\")"
   ]
  },
  {
   "cell_type": "markdown",
   "id": "cdc9f0ef",
   "metadata": {},
   "source": [
    "31. Rotate a list to the left by `n` positions."
   ]
  },
  {
   "cell_type": "code",
   "execution_count": 18,
   "id": "ac4bff7f",
   "metadata": {},
   "outputs": [
    {
     "name": "stdout",
     "output_type": "stream",
     "text": [
      "Enter the value of n: 3\n",
      "Left rotated list by 3 positions: [4, 5, 6, 7, 8, 1, 2, 3]\n"
     ]
    }
   ],
   "source": [
    "def rotate_left(lst, n):\n",
    "    return lst[n:] + lst[:n]\n",
    "\n",
    "list31 = [1, 2, 3, 4, 5, 6, 7, 8]\n",
    "\n",
    "n = int(input(\"Enter the value of n: \"))\n",
    "\n",
    "print(f\"Left rotated list by {n} positions: {rotate_left(list31, n)}\")\n"
   ]
  },
  {
   "cell_type": "markdown",
   "id": "d9ee476e",
   "metadata": {},
   "source": [
    "32. Rotate a list to the right by `n` positions."
   ]
  },
  {
   "cell_type": "code",
   "execution_count": 20,
   "id": "03da9151",
   "metadata": {},
   "outputs": [
    {
     "name": "stdout",
     "output_type": "stream",
     "text": [
      "Enter the value of n: 3\n",
      "Right rotated list by 3 positions: [6, 7, 8, 1, 2, 3, 4, 5]\n"
     ]
    }
   ],
   "source": [
    "def rotate_right(lst, n):\n",
    "    return lst[-n:] + lst[:-n]\n",
    "\n",
    "list32 = [1, 2, 3, 4, 5, 6, 7, 8]\n",
    "\n",
    "n = int(input(\"Enter the value of n: \"))\n",
    "\n",
    "print(f\"Right rotated list by {n} positions: {rotate_right(list32, n)}\")"
   ]
  },
  {
   "cell_type": "markdown",
   "id": "d8da3f09",
   "metadata": {},
   "source": [
    "33. Create a list of prime numbers up to 50."
   ]
  },
  {
   "cell_type": "code",
   "execution_count": 23,
   "id": "ceaa7216",
   "metadata": {},
   "outputs": [
    {
     "name": "stdout",
     "output_type": "stream",
     "text": [
      "List of prime numbers up to 50: [2, 3, 5, 7, 11, 13, 17, 19, 23, 29, 31, 37, 41, 43, 47]\n"
     ]
    }
   ],
   "source": [
    "def is_prime(n):\n",
    "    if n < 2:\n",
    "        return False\n",
    "    for i in range(2, int(n ** 0.5) + 1):\n",
    "        if n % i == 0:\n",
    "            return False\n",
    "    return True\n",
    "\n",
    "list_of_primes = [x for x in range(2, 51) if is_prime(x)]\n",
    "print(f\"List of prime numbers up to 50: {list_of_primes}\")"
   ]
  },
  {
   "cell_type": "markdown",
   "id": "f65ce948",
   "metadata": {},
   "source": [
    "34. Split a list into chunks of size `n`."
   ]
  },
  {
   "cell_type": "code",
   "execution_count": 36,
   "id": "c6363193",
   "metadata": {},
   "outputs": [
    {
     "name": "stdout",
     "output_type": "stream",
     "text": [
      "Enter the chunk size: 4\n",
      "List 1: [1, 2, 3, 4]\n",
      "List 2: [5, 6, 7, 8]\n",
      "List 3: [9, 10, 11, 12]\n"
     ]
    }
   ],
   "source": [
    "list34 = [1, 2, 3, 4, 5, 6, 7, 8, 9, 10, 11, 12]\n",
    "chunk_size = int(input(\"Enter the chunk size: \"))\n",
    "\n",
    "list_length = len(list34)\n",
    "i=0 #initialize the pointer\n",
    "n=1 #list number\n",
    "while i < list_length:\n",
    "    print(f\"List {n}: {list34[i:i+chunk_size]}\")\n",
    "    i += chunk_size # set the pointer to next chunk\n",
    "    n += 1 #increment the list number\n",
    "    "
   ]
  },
  {
   "cell_type": "markdown",
   "id": "7fd96d02",
   "metadata": {},
   "source": [
    "35. Find the second largest number in a list."
   ]
  },
  {
   "cell_type": "code",
   "execution_count": 46,
   "id": "750b05c0",
   "metadata": {},
   "outputs": [
    {
     "name": "stdout",
     "output_type": "stream",
     "text": [
      "The second largest number is: 9\n"
     ]
    }
   ],
   "source": [
    "def find_second_largest(lst):\n",
    "    new_list = set(lst) #convert the list into a set to remove duplicates\n",
    "    new_list.remove(max(new_list)) #remove the max number\n",
    "    return max(new_list)\n",
    "\n",
    "list35 = [6, 10, 2, 7, 10, 3, 9, 1, 4, 5, 8]\n",
    "print(f\"The second largest number is: {find_second_largest(list35)}\")"
   ]
  },
  {
   "cell_type": "markdown",
   "id": "4a809aab",
   "metadata": {},
   "source": [
    "36. Replace every element in a list with its square."
   ]
  },
  {
   "cell_type": "code",
   "execution_count": 4,
   "id": "a6b23626",
   "metadata": {},
   "outputs": [
    {
     "name": "stdout",
     "output_type": "stream",
     "text": [
      "[1, 4, 9, 16, 25]\n"
     ]
    }
   ],
   "source": [
    "list36 = [1, 2, 3, 4, 5]\n",
    "\n",
    "list36 = [x**2 for x in list36]\n",
    "print(list36)"
   ]
  },
  {
   "cell_type": "markdown",
   "id": "eebe9dc6",
   "metadata": {},
   "source": [
    "37. Convert a list to a dictionary where list elements become keys and their indices become values."
   ]
  },
  {
   "cell_type": "code",
   "execution_count": 61,
   "id": "3ba29c30",
   "metadata": {},
   "outputs": [
    {
     "data": {
      "text/plain": [
       "{'potato': 0, 'carrot': 1, 'radish': 2, 'cucumber': 3, 'onion': 4}"
      ]
     },
     "execution_count": 61,
     "metadata": {},
     "output_type": "execute_result"
    }
   ],
   "source": [
    "list37 = [\"potato\", \"carrot\", \"radish\", \"cucumber\", \"onion\"]\n",
    "\n",
    "my_dict = {item : index for index, item in enumerate(list37)}\n",
    "my_dict"
   ]
  },
  {
   "cell_type": "markdown",
   "id": "ae550e4a",
   "metadata": {},
   "source": [
    "38. Shuffle the elements of a list randomly."
   ]
  },
  {
   "cell_type": "code",
   "execution_count": 70,
   "id": "9ac1f69a",
   "metadata": {},
   "outputs": [
    {
     "name": "stdout",
     "output_type": "stream",
     "text": [
      "['carrot', 'potato', 'radish', 'onion', 'cucumber']\n"
     ]
    }
   ],
   "source": [
    "import random\n",
    "\n",
    "list38 = [\"potato\", \"carrot\", \"radish\", \"cucumber\", \"onion\"]\n",
    "random.shuffle(list38)\n",
    "print(list38)"
   ]
  },
  {
   "cell_type": "markdown",
   "id": "df403f5e",
   "metadata": {},
   "source": [
    "39. Create a list of the first 10 factorial numbers."
   ]
  },
  {
   "cell_type": "code",
   "execution_count": 76,
   "id": "dfbac721",
   "metadata": {},
   "outputs": [
    {
     "name": "stdout",
     "output_type": "stream",
     "text": [
      "The list of the first 10 factorial numbers:  [1, 2, 6, 24, 120, 720, 5040, 40320, 362880, 3628800]\n"
     ]
    }
   ],
   "source": [
    "def factorial(n):\n",
    "    if n == 0:\n",
    "        return 1\n",
    "    else:\n",
    "        return n * factorial(n-1)\n",
    "\n",
    "# Create a list of the first 10 factorial numbers\n",
    "factorial_list = [factorial(i) for i in range(1, 11)]\n",
    "\n",
    "print(\"The list of the first 10 factorial numbers: \", factorial_list)\n"
   ]
  },
  {
   "cell_type": "markdown",
   "id": "f0178fca",
   "metadata": {},
   "source": [
    "40. Check if two lists have at least one element in common."
   ]
  },
  {
   "cell_type": "code",
   "execution_count": 88,
   "id": "7ddde4dc",
   "metadata": {},
   "outputs": [
    {
     "name": "stdout",
     "output_type": "stream",
     "text": [
      "Common element present\n"
     ]
    }
   ],
   "source": [
    "def check_common_element(lst1, lst2):\n",
    "    return bool(set(lst1) & set(lst2))\n",
    "\n",
    "list_1 = [4, 5, 6, 7, 8]\n",
    "list_2 = [1, 2, 3, 4, 5]\n",
    "\n",
    "print(\"Common element\", \"present\" if check_common_element(list_1, list_2) else \"not present\")\n"
   ]
  },
  {
   "cell_type": "markdown",
   "id": "b849127a",
   "metadata": {},
   "source": [
    "41. Remove all elements from a list."
   ]
  },
  {
   "cell_type": "code",
   "execution_count": 93,
   "id": "30f8d1ee",
   "metadata": {},
   "outputs": [
    {
     "name": "stdout",
     "output_type": "stream",
     "text": [
      "[]\n"
     ]
    }
   ],
   "source": [
    "my_list = [1, 2, 3, 4, 5]\n",
    "my_list.clear()\n",
    "print(my_list)\n"
   ]
  },
  {
   "cell_type": "markdown",
   "id": "b0c9fd4e",
   "metadata": {},
   "source": [
    "42. Replace negative numbers in a list with 0."
   ]
  },
  {
   "cell_type": "code",
   "execution_count": 102,
   "id": "01edd432",
   "metadata": {},
   "outputs": [
    {
     "name": "stdout",
     "output_type": "stream",
     "text": [
      "[2, 0, 3, 0, 4, 0]\n"
     ]
    }
   ],
   "source": [
    "list42 = [2, -1, 3, -5, 4, -6]\n",
    "\n",
    "list42 = [0 if x < 0 else x for x in list42 ]\n",
    "print(list42)"
   ]
  },
  {
   "cell_type": "markdown",
   "id": "d8e6863b",
   "metadata": {},
   "source": [
    "43. Convert a string into a list of words."
   ]
  },
  {
   "cell_type": "code",
   "execution_count": 107,
   "id": "30223a76",
   "metadata": {},
   "outputs": [
    {
     "name": "stdout",
     "output_type": "stream",
     "text": [
      "List of words:  ['I', 'love', 'my', 'country', 'very', 'much']\n"
     ]
    }
   ],
   "source": [
    "string43 = \"I love my country very much\"\n",
    "\n",
    "print(\"List of words: \", string43.split())"
   ]
  },
  {
   "cell_type": "markdown",
   "id": "bb9d02c4",
   "metadata": {},
   "source": [
    "44. Convert a list of words into a string."
   ]
  },
  {
   "cell_type": "code",
   "execution_count": 111,
   "id": "968e42b3",
   "metadata": {},
   "outputs": [
    {
     "name": "stdout",
     "output_type": "stream",
     "text": [
      "String :  I love my country very much\n"
     ]
    }
   ],
   "source": [
    "list_of_words = ['I', 'love', 'my', 'country', 'very', 'much']\n",
    "\n",
    "string44 = ' '.join(list_of_words) \n",
    "print(\"String : \", string44)"
   ]
  },
  {
   "cell_type": "markdown",
   "id": "d7a7aeb7",
   "metadata": {},
   "source": [
    "45. Create a list of the first `n` powers of 2."
   ]
  },
  {
   "cell_type": "code",
   "execution_count": 114,
   "id": "51e8324c",
   "metadata": {},
   "outputs": [
    {
     "name": "stdout",
     "output_type": "stream",
     "text": [
      "Enter the value of n: 5\n",
      "The list of the first 5 powers of 2: [2, 4, 8, 16, 32]\n"
     ]
    }
   ],
   "source": [
    "n = int(input(\"Enter the value of n: \"))\n",
    "\n",
    "list_powers = [2 ** n for n in range(1, n + 1)]\n",
    "\n",
    "print(f\"The list of the first {n} powers of 2: {list_powers}\")"
   ]
  },
  {
   "cell_type": "markdown",
   "id": "900102c0",
   "metadata": {},
   "source": [
    "46. Find the longest string in a list of strings."
   ]
  },
  {
   "cell_type": "code",
   "execution_count": 119,
   "id": "bd74b6f8",
   "metadata": {},
   "outputs": [
    {
     "name": "stdout",
     "output_type": "stream",
     "text": [
      "The longest string in a list of strings is : 'cucumber'\n"
     ]
    }
   ],
   "source": [
    "list_of_strings = [\"egg\", \"carrot\", \"beet\", \"cucumber\", \"onion\"]\n",
    "\n",
    "longest_str = max(list_of_strings, key=len)\n",
    "print(f\"The longest string in a list of strings is : '{longest_str}'\")"
   ]
  },
  {
   "cell_type": "markdown",
   "id": "1a7d1351",
   "metadata": {},
   "source": [
    "47. Find the shortest string in a list of strings."
   ]
  },
  {
   "cell_type": "code",
   "execution_count": 120,
   "id": "5182984c",
   "metadata": {},
   "outputs": [
    {
     "name": "stdout",
     "output_type": "stream",
     "text": [
      "The shortest string in a list of strings is : 'egg'\n"
     ]
    }
   ],
   "source": [
    "list_of_strings = [\"egg\", \"carrot\", \"beet\", \"cucumber\", \"onion\"]\n",
    "\n",
    "shortest_str = min(list_of_strings, key=len)\n",
    "print(f\"The shortest string in a list of strings is : '{shortest_str}'\")"
   ]
  },
  {
   "cell_type": "markdown",
   "id": "fcb1dab8",
   "metadata": {},
   "source": [
    "48. Create a list of the first `n` triangular numbers."
   ]
  },
  {
   "cell_type": "code",
   "execution_count": 124,
   "id": "2de7b092",
   "metadata": {},
   "outputs": [
    {
     "name": "stdout",
     "output_type": "stream",
     "text": [
      "Enter the value of n: 5\n",
      "The list of the first 5 triangular numbers: [1, 3, 6, 10, 15]\n"
     ]
    }
   ],
   "source": [
    "def triangular_numbers(n):\n",
    "    return [sum(range(i+1)) for i in range(1, n+1)]\n",
    "\n",
    "n = int(input(\"Enter the value of n: \"))\n",
    "print(f\"The list of the first {n} triangular numbers: {triangular_numbers(n)}\")\n"
   ]
  },
  {
   "cell_type": "markdown",
   "id": "6d8efa92",
   "metadata": {},
   "source": [
    "49. Check if a list contains another list as a subsequence."
   ]
  },
  {
   "cell_type": "code",
   "execution_count": 132,
   "id": "15b2dd70",
   "metadata": {},
   "outputs": [
    {
     "name": "stdout",
     "output_type": "stream",
     "text": [
      "list2 contains list1 as a subsequence\n"
     ]
    }
   ],
   "source": [
    "def is_subsequence(subseq, inseq):\n",
    "    return set(subseq).issubset(set(inseq))\n",
    "\n",
    "list1 = [1, 2]\n",
    "list2 = [1, 2, 3, 4, 5]\n",
    "\n",
    "if is_subsequence(list1, list2):\n",
    "    print(\"list2 contains list1 as a subsequence\")\n",
    "else:\n",
    "    print(\"list2 does not contain list1 as a subsequence\")"
   ]
  },
  {
   "cell_type": "markdown",
   "id": "918714d9",
   "metadata": {},
   "source": [
    "50. Swap two elements in a list by their indices."
   ]
  },
  {
   "cell_type": "code",
   "execution_count": 35,
   "id": "b9580e99",
   "metadata": {},
   "outputs": [
    {
     "name": "stdout",
     "output_type": "stream",
     "text": [
      "Enter both the indices to swap.\n",
      "Enter first index: 2\n",
      "Enter second index: 4\n",
      "List after swapping the indices 2 and 4: ['apple', 'ball', 'egg', 'dog', 'car', 'fish']\n"
     ]
    }
   ],
   "source": [
    "def swap_positions(my_list, index1, index2):\n",
    "    my_list[index1], my_list[index2] = my_list[index2], my_list[index1]\n",
    "    return my_list\n",
    "\n",
    "list50 = [\"apple\", \"ball\", \"car\", \"dog\", \"egg\", \"fish\"]\n",
    "\n",
    "print(\"Enter both the indices to swap.\")\n",
    "i1 = int(input(\"Enter first index: \"))\n",
    "i2 = int(input(\"Enter second index: \"))\n",
    "\n",
    "print(f\"List after swapping the indices {i1} and {i2}: {swap_positions(list50, i1, i2)}\")"
   ]
  },
  {
   "cell_type": "markdown",
   "id": "e737c977",
   "metadata": {},
   "source": [
    "# TOPIC: Tuple Based Practice Problems"
   ]
  },
  {
   "cell_type": "markdown",
   "id": "861a38c6",
   "metadata": {},
   "source": [
    "1. Create a tuple with integers from 1 to 5."
   ]
  },
  {
   "cell_type": "code",
   "execution_count": 10,
   "id": "4b83d683",
   "metadata": {},
   "outputs": [
    {
     "name": "stdout",
     "output_type": "stream",
     "text": [
      "Tuple with integers from 1 to 5:  (1, 2, 3, 4, 5)\n"
     ]
    }
   ],
   "source": [
    "tuple1 = tuple(range (1, 6))\n",
    "print(\"Tuple with integers from 1 to 5: \", tuple1)"
   ]
  },
  {
   "cell_type": "markdown",
   "id": "00b71d87",
   "metadata": {},
   "source": [
    "2. Access the third element of a tuple."
   ]
  },
  {
   "cell_type": "code",
   "execution_count": 11,
   "id": "ebd314c2",
   "metadata": {},
   "outputs": [
    {
     "name": "stdout",
     "output_type": "stream",
     "text": [
      "The third element of tuple is: 31\n"
     ]
    }
   ],
   "source": [
    "tuple2 = (21, 11, 31, 29, 6)\n",
    "\n",
    "print(f\"The third element of tuple is: {tuple2[2]}\")"
   ]
  },
  {
   "cell_type": "markdown",
   "id": "d0472940",
   "metadata": {},
   "source": [
    "3. Find the length of a tuple without using the `len()` function."
   ]
  },
  {
   "cell_type": "code",
   "execution_count": 14,
   "id": "c6ff066e",
   "metadata": {},
   "outputs": [
    {
     "name": "stdout",
     "output_type": "stream",
     "text": [
      "The length of the tuple is: 7\n"
     ]
    }
   ],
   "source": [
    "tuple3 = (2, 91, 11, 31, 21, 99, 6)\n",
    "\n",
    "length = 0\n",
    "\n",
    "for _ in tuple3:\n",
    "    length += 1\n",
    "\n",
    "print(f\"The length of the tuple is: {length}\")"
   ]
  },
  {
   "cell_type": "markdown",
   "id": "575025c7",
   "metadata": {},
   "source": [
    "4. Count the occurrences of an element in a tuple."
   ]
  },
  {
   "cell_type": "code",
   "execution_count": 19,
   "id": "f4d09be8",
   "metadata": {},
   "outputs": [
    {
     "name": "stdout",
     "output_type": "stream",
     "text": [
      "Enter an element to find the count: 3\n",
      "The occurence of '3' is : 4\n"
     ]
    }
   ],
   "source": [
    "tuple4 = (3, 2, 5, 3, 1, 9, 3, 7, 3, 10, 4)\n",
    "\n",
    "item = int(input(\"Enter an element to find the count: \"))\n",
    "print(f\"The occurence of '{item}' is : {tuple4.count(item)}\")\n"
   ]
  },
  {
   "cell_type": "markdown",
   "id": "4d8c6926",
   "metadata": {},
   "source": [
    "5. Find the index of the first occurrence of an element in a tuple."
   ]
  },
  {
   "cell_type": "code",
   "execution_count": 21,
   "id": "be07a50d",
   "metadata": {},
   "outputs": [
    {
     "name": "stdout",
     "output_type": "stream",
     "text": [
      "Enter an element to find the index of its first occurence: 1\n",
      "The index of first occurrence of '1' is: 2\n"
     ]
    }
   ],
   "source": [
    "tuple5 = (8, 2, 1, 4, 7, 2, 9, 1, 5, 6)\n",
    "\n",
    "item = int(input(\"Enter an element to find the index of its first occurence: \"))\n",
    "\n",
    "print(f\"The index of first occurrence of '{item}' is: {tuple5.index(item)}\")\n"
   ]
  },
  {
   "cell_type": "markdown",
   "id": "2764f33d",
   "metadata": {},
   "source": [
    "6. Check if an element exists in a tuple."
   ]
  },
  {
   "cell_type": "code",
   "execution_count": 27,
   "id": "f759c350",
   "metadata": {},
   "outputs": [
    {
     "name": "stdout",
     "output_type": "stream",
     "text": [
      "Enter an element to check its existence: 7\n",
      "Item exists\n"
     ]
    }
   ],
   "source": [
    "tuple6 = (8, 2, 1, 4, 7, 2, 9, 1, 5, 6)\n",
    "\n",
    "item = int(input(\"Enter an element to check its existence: \"))\n",
    "\n",
    "print(\"Item exists\" if item in tuple6 else \"Item doesn't exist\")\n"
   ]
  },
  {
   "cell_type": "markdown",
   "id": "60bea83b",
   "metadata": {},
   "source": [
    "7. Convert a tuple to a list."
   ]
  },
  {
   "cell_type": "code",
   "execution_count": 33,
   "id": "a84ae162",
   "metadata": {},
   "outputs": [
    {
     "name": "stdout",
     "output_type": "stream",
     "text": [
      "List:  [8, 2, 1, 4, 7, 2, 9, 1, 5, 6]\n"
     ]
    }
   ],
   "source": [
    "tuple7 = (8, 2, 1, 4, 7, 2, 9, 1, 5, 6)\n",
    "\n",
    "my_list = list(tuple7)\n",
    "print(\"List: \", my_list)\n"
   ]
  },
  {
   "cell_type": "markdown",
   "id": "d4934f83",
   "metadata": {},
   "source": [
    "8. Convert a list to a tuple."
   ]
  },
  {
   "cell_type": "code",
   "execution_count": 32,
   "id": "e2ad5bb0",
   "metadata": {},
   "outputs": [
    {
     "name": "stdout",
     "output_type": "stream",
     "text": [
      "Tuple:  (8, 2, 1, 4, 7, 2, 9, 1, 5, 6)\n"
     ]
    }
   ],
   "source": [
    "my_list = [8, 2, 1, 4, 7, 2, 9, 1, 5, 6]\n",
    "\n",
    "tuple8 = tuple(my_list)\n",
    "print(\"Tuple: \", tuple8)\n"
   ]
  },
  {
   "cell_type": "markdown",
   "id": "2e8071ea",
   "metadata": {},
   "source": [
    "9. Unpack the elements of a tuple into variables."
   ]
  },
  {
   "cell_type": "code",
   "execution_count": 35,
   "id": "96ba6003",
   "metadata": {},
   "outputs": [
    {
     "name": "stdout",
     "output_type": "stream",
     "text": [
      "fruit :  apple\n",
      "vegetable :  potato\n",
      "beverage :  coffee\n"
     ]
    }
   ],
   "source": [
    "categories = (\"apple\", \"potato\", \"coffee\")\n",
    "\n",
    "#unpack into variables\n",
    "(fruit, vegetable, beverage) = categories\n",
    "\n",
    "print(\"fruit : \", fruit)\n",
    "print(\"vegetable : \", vegetable)\n",
    "print(\"beverage : \", beverage)\n"
   ]
  },
  {
   "cell_type": "markdown",
   "id": "03236017",
   "metadata": {},
   "source": [
    "10. Create a tuple of even numbers from 1 to 10."
   ]
  },
  {
   "cell_type": "code",
   "execution_count": 36,
   "id": "71fb2b93",
   "metadata": {},
   "outputs": [
    {
     "name": "stdout",
     "output_type": "stream",
     "text": [
      "Even numbers from 1 to 10:  (2, 4, 6, 8, 10)\n"
     ]
    }
   ],
   "source": [
    "even_numbers = tuple(x for x in range(1, 11) if x%2==0)\n",
    "\n",
    "print(f\"Even numbers from 1 to 10:  {even_numbers}\")\n"
   ]
  },
  {
   "cell_type": "markdown",
   "id": "60a3cc50",
   "metadata": {},
   "source": [
    "11. Create a tuple of odd numbers from 1 to 10."
   ]
  },
  {
   "cell_type": "code",
   "execution_count": 37,
   "id": "144ae89b",
   "metadata": {},
   "outputs": [
    {
     "name": "stdout",
     "output_type": "stream",
     "text": [
      "Odd numbers from 1 to 10:  (1, 3, 5, 7, 9)\n"
     ]
    }
   ],
   "source": [
    "odd_numbers = tuple(x for x in range(1, 11) if x%2!=0)\n",
    "\n",
    "print(f\"Odd numbers from 1 to 10:  {odd_numbers}\")\n"
   ]
  },
  {
   "cell_type": "markdown",
   "id": "9136d398",
   "metadata": {},
   "source": [
    "12. Concatenate two tuples."
   ]
  },
  {
   "cell_type": "code",
   "execution_count": 38,
   "id": "88a3f27a",
   "metadata": {},
   "outputs": [
    {
     "name": "stdout",
     "output_type": "stream",
     "text": [
      "(2, 4, 6, 8, 10, 1, 3, 5, 7, 9)\n"
     ]
    }
   ],
   "source": [
    "tuple_1 = (2, 4, 6, 8, 10)\n",
    "tuple_2 = (1, 3, 5, 7, 9)\n",
    "\n",
    "concat_tuple = tuple_1 + tuple_2\n",
    "print(concat_tuple)"
   ]
  },
  {
   "cell_type": "markdown",
   "id": "61c2f5cb",
   "metadata": {},
   "source": [
    "13. Repeat a tuple three times."
   ]
  },
  {
   "cell_type": "code",
   "execution_count": 40,
   "id": "0b6b3870",
   "metadata": {},
   "outputs": [
    {
     "name": "stdout",
     "output_type": "stream",
     "text": [
      "Tuple repeated 3 times:  (1, 2, 3, 4, 5, 1, 2, 3, 4, 5, 1, 2, 3, 4, 5)\n"
     ]
    }
   ],
   "source": [
    "tuple13 = (1, 2, 3, 4, 5)\n",
    "\n",
    "print(f\"Tuple repeated 3 times:  {tuple13 * 3}\")"
   ]
  },
  {
   "cell_type": "markdown",
   "id": "2e9bbd00",
   "metadata": {},
   "source": [
    "14. Check if a tuple is empty."
   ]
  },
  {
   "cell_type": "code",
   "execution_count": 46,
   "id": "2aa78338",
   "metadata": {},
   "outputs": [
    {
     "name": "stdout",
     "output_type": "stream",
     "text": [
      "Empty\n"
     ]
    }
   ],
   "source": [
    "tuple14 = ()\n",
    "\n",
    "print(\"Empty\" if len(tuple14) == 0 else \"Not empty\")"
   ]
  },
  {
   "cell_type": "markdown",
   "id": "d22d51c3",
   "metadata": {},
   "source": [
    "15. Create a nested tuple."
   ]
  },
  {
   "cell_type": "code",
   "execution_count": 48,
   "id": "699be2bc",
   "metadata": {},
   "outputs": [
    {
     "name": "stdout",
     "output_type": "stream",
     "text": [
      "(1, 2, 3, (4, 5), 6)\n"
     ]
    }
   ],
   "source": [
    "nested_tuple = (1, 2, 3, (4, 5), 6)\n",
    "\n",
    "print(nested_tuple)\n"
   ]
  },
  {
   "cell_type": "markdown",
   "id": "28f6436e",
   "metadata": {},
   "source": [
    "16. Access the first element of a nested tuple."
   ]
  },
  {
   "cell_type": "code",
   "execution_count": 54,
   "id": "3a6889ea",
   "metadata": {},
   "outputs": [
    {
     "name": "stdout",
     "output_type": "stream",
     "text": [
      "First element of nested tuple is:  9\n"
     ]
    }
   ],
   "source": [
    "tuple16 = (1, 2, 3, 4, (9, 8, 7), 6)\n",
    "\n",
    "#nested tuple is present at index 4\n",
    "#get the first element of nested tuple as below:\n",
    "print(\"First element of nested tuple is: \", tuple16[4][0])"
   ]
  },
  {
   "cell_type": "markdown",
   "id": "da8aa40f",
   "metadata": {},
   "source": [
    "17. Create a tuple with a single element."
   ]
  },
  {
   "cell_type": "code",
   "execution_count": 62,
   "id": "fb50536a",
   "metadata": {},
   "outputs": [
    {
     "name": "stdout",
     "output_type": "stream",
     "text": [
      "Tuple with a single element is:  (2,)\n"
     ]
    }
   ],
   "source": [
    "'''\n",
    "The comma after the element is necessary to indicate that it is a tuple. \n",
    "If we omit the comma, Python will not recognize it as a tuple.\n",
    "'''\n",
    "tuple17 = (2,)\n",
    "\n",
    "print(\"Tuple with a single element is: \", tuple17)\n"
   ]
  },
  {
   "cell_type": "markdown",
   "id": "b8d4e1f1",
   "metadata": {},
   "source": [
    "18. Compare two tuples."
   ]
  },
  {
   "cell_type": "code",
   "execution_count": 16,
   "id": "5c767d84",
   "metadata": {},
   "outputs": [
    {
     "name": "stdout",
     "output_type": "stream",
     "text": [
      "All elements of tup2 are greater than tup1\n"
     ]
    }
   ],
   "source": [
    "tup1 = (10, 4, 5)\n",
    "tup2 = (13, 5, 18)\n",
    "\n",
    "# check if all the elements of tup2 are greater than the corresponding elements of tup1\n",
    "result = all(i<j for i,j in zip(tup1, tup2))\n",
    "\n",
    "if result:\n",
    "    print(\"All elements of tup2 are greater than tup1\")\n",
    "else:\n",
    "    print(\"All elements of tup2 are not greater than tup1\")"
   ]
  },
  {
   "cell_type": "markdown",
   "id": "4501a4ef",
   "metadata": {},
   "source": [
    "19. Delete a tuple."
   ]
  },
  {
   "cell_type": "code",
   "execution_count": 23,
   "id": "7f9e2190",
   "metadata": {},
   "outputs": [
    {
     "name": "stdout",
     "output_type": "stream",
     "text": [
      "Tuple deleted!\n"
     ]
    },
    {
     "ename": "NameError",
     "evalue": "name 'tuple19' is not defined",
     "output_type": "error",
     "traceback": [
      "\u001b[1;31m---------------------------------------------------------------------------\u001b[0m",
      "\u001b[1;31mNameError\u001b[0m                                 Traceback (most recent call last)",
      "Input \u001b[1;32mIn [23]\u001b[0m, in \u001b[0;36m<cell line: 8>\u001b[1;34m()\u001b[0m\n\u001b[0;32m      5\u001b[0m \u001b[38;5;28mprint\u001b[39m(\u001b[38;5;124m\"\u001b[39m\u001b[38;5;124mTuple deleted!\u001b[39m\u001b[38;5;124m\"\u001b[39m)\n\u001b[0;32m      7\u001b[0m \u001b[38;5;66;03m#this will give error if we try to access the tuple again after deleting it\u001b[39;00m\n\u001b[1;32m----> 8\u001b[0m \u001b[38;5;28mprint\u001b[39m(\u001b[43mtuple19\u001b[49m)\n",
      "\u001b[1;31mNameError\u001b[0m: name 'tuple19' is not defined"
     ]
    }
   ],
   "source": [
    "tuple19 = (1, 2, 3, 4, 5)\n",
    "\n",
    "#this deletes a tuple\n",
    "del tuple19\n",
    "print(\"Tuple deleted!\")\n",
    "\n",
    "#this will give error if we try to access the tuple again after deleting it\n",
    "print(tuple19)\n"
   ]
  },
  {
   "cell_type": "markdown",
   "id": "c6d52818",
   "metadata": {},
   "source": [
    "20. Slice a tuple."
   ]
  },
  {
   "cell_type": "code",
   "execution_count": 25,
   "id": "987db636",
   "metadata": {},
   "outputs": [
    {
     "name": "stdout",
     "output_type": "stream",
     "text": [
      "Tuple sliced from index 1 till index 3:  (8, 2, 7)\n"
     ]
    }
   ],
   "source": [
    "tuple20 = (3, 8, 2, 7, 1, 5, 4)\n",
    "\n",
    "#slice the tuple from index 1 till index 3\n",
    "print(\"Tuple sliced from index 1 till index 3: \", tuple20[1:4])"
   ]
  },
  {
   "cell_type": "markdown",
   "id": "ad493912",
   "metadata": {},
   "source": [
    "21. Find the maximum value in a tuple."
   ]
  },
  {
   "cell_type": "code",
   "execution_count": 27,
   "id": "4ce41bc7",
   "metadata": {},
   "outputs": [
    {
     "name": "stdout",
     "output_type": "stream",
     "text": [
      "Maximum value in the tuple is:  8\n"
     ]
    }
   ],
   "source": [
    "tuple21 = (3, 8, 2, 7, 1, 5, 4)\n",
    "\n",
    "print(\"Maximum value in the tuple is: \", max(tuple21))"
   ]
  },
  {
   "cell_type": "markdown",
   "id": "aa64a855",
   "metadata": {},
   "source": [
    "22. Find the minimum value in a tuple."
   ]
  },
  {
   "cell_type": "code",
   "execution_count": 28,
   "id": "51cf305f",
   "metadata": {},
   "outputs": [
    {
     "name": "stdout",
     "output_type": "stream",
     "text": [
      "Minimum value in the tuple is:  1\n"
     ]
    }
   ],
   "source": [
    "tuple22 = (3, 8, 2, 7, 1, 5, 4)\n",
    "\n",
    "print(\"Minimum value in the tuple is: \", min(tuple22))"
   ]
  },
  {
   "cell_type": "markdown",
   "id": "f3c8c6c3",
   "metadata": {},
   "source": [
    "23. Convert a string to a tuple of characters."
   ]
  },
  {
   "cell_type": "code",
   "execution_count": 30,
   "id": "1d1288dd",
   "metadata": {},
   "outputs": [
    {
     "name": "stdout",
     "output_type": "stream",
     "text": [
      "('a', 'w', 'e', 's', 'o', 'm', 'e')\n"
     ]
    }
   ],
   "source": [
    "string23 = \"awesome\"\n",
    "\n",
    "tuple_of_char = tuple(char for char in string23)\n",
    "print(tuple_of_char)"
   ]
  },
  {
   "cell_type": "markdown",
   "id": "0487f5d9",
   "metadata": {},
   "source": [
    "24. Convert a tuple of characters to a string."
   ]
  },
  {
   "cell_type": "code",
   "execution_count": 35,
   "id": "efe3529c",
   "metadata": {},
   "outputs": [
    {
     "name": "stdout",
     "output_type": "stream",
     "text": [
      "happy\n"
     ]
    }
   ],
   "source": [
    "tuple_of_char = ('h', 'a', 'p', 'p', 'y')\n",
    "\n",
    "string24 = ''.join(tuple_of_char)\n",
    "print(string24)"
   ]
  },
  {
   "cell_type": "markdown",
   "id": "90f11b50",
   "metadata": {},
   "source": [
    "25. Create a tuple from multiple data types."
   ]
  },
  {
   "cell_type": "code",
   "execution_count": 37,
   "id": "9f70b036",
   "metadata": {},
   "outputs": [
    {
     "name": "stdout",
     "output_type": "stream",
     "text": [
      "('apple', False, 3.2, 1)\n"
     ]
    }
   ],
   "source": [
    "#tuple containing multiple datatypes:\n",
    "tuple25 = (\"apple\", False, 3.2, 1)\n",
    "\n",
    "print(tuple25)"
   ]
  },
  {
   "cell_type": "markdown",
   "id": "47112eea",
   "metadata": {},
   "source": [
    "26. Check if two tuples are identical."
   ]
  },
  {
   "cell_type": "code",
   "execution_count": 42,
   "id": "df88dd4f",
   "metadata": {},
   "outputs": [
    {
     "name": "stdout",
     "output_type": "stream",
     "text": [
      "Both tuples are identical\n"
     ]
    }
   ],
   "source": [
    "tuple1 = (10, 4, 5)\n",
    "tuple2 = (10, 4, 5)\n",
    "\n",
    "# check if all the elements of tuple1 are equal to the corresponding elements of tuple2\n",
    "result = all(i==j for i,j in zip(tuple1, tuple2))\n",
    "\n",
    "if result:\n",
    "    print(\"Both tuples are identical\")\n",
    "else:\n",
    "    print(\"Both tuples are not identical\")"
   ]
  },
  {
   "cell_type": "markdown",
   "id": "ac95e31e",
   "metadata": {},
   "source": [
    "27. Sort the elements of a tuple."
   ]
  },
  {
   "cell_type": "code",
   "execution_count": 24,
   "id": "54ef53f7",
   "metadata": {},
   "outputs": [
    {
     "name": "stdout",
     "output_type": "stream",
     "text": [
      "Sorted tuple: (1, 2, 3, 4, 5, 6, 7, 8)\n"
     ]
    }
   ],
   "source": [
    "tuple27 = (6, 3, 8, 2, 7, 1, 5, 4)\n",
    "\n",
    "sorted_tuple = tuple(sorted(tuple27))\n",
    "print(f\"Sorted tuple: {sorted_tuple}\")\n"
   ]
  },
  {
   "cell_type": "markdown",
   "id": "dd0a4f03",
   "metadata": {},
   "source": [
    "28. Convert a tuple of integers to a tuple of strings."
   ]
  },
  {
   "cell_type": "code",
   "execution_count": 46,
   "id": "af3d5c1a",
   "metadata": {},
   "outputs": [
    {
     "name": "stdout",
     "output_type": "stream",
     "text": [
      "Tuple of strings:  ('1', '2', '3', '4', '5')\n"
     ]
    }
   ],
   "source": [
    "tuple_of_int = (1, 2, 3, 4, 5)\n",
    "\n",
    "tuple_of_strings = tuple(str(x) for x in tuple_of_int)\n",
    "print(\"Tuple of strings: \", tuple_of_strings)\n"
   ]
  },
  {
   "cell_type": "markdown",
   "id": "6e617ea5",
   "metadata": {},
   "source": [
    "29. Convert a tuple of strings to a tuple of integers."
   ]
  },
  {
   "cell_type": "code",
   "execution_count": 47,
   "id": "0cce26c6",
   "metadata": {},
   "outputs": [
    {
     "name": "stdout",
     "output_type": "stream",
     "text": [
      "Tuple of integers:  (1, 2, 3, 4, 5)\n"
     ]
    }
   ],
   "source": [
    "tuple_of_strings = ('1', '2', '3', '4', '5')\n",
    "\n",
    "tuple_of_int = tuple(int(x) for x in tuple_of_strings)\n",
    "print(\"Tuple of integers: \", tuple_of_int)\n"
   ]
  },
  {
   "cell_type": "markdown",
   "id": "70dff8c4",
   "metadata": {},
   "source": [
    "30. Merge two tuples."
   ]
  },
  {
   "cell_type": "code",
   "execution_count": 49,
   "id": "a4a31c82",
   "metadata": {},
   "outputs": [
    {
     "name": "stdout",
     "output_type": "stream",
     "text": [
      "(1, 2, 3, 4, 5, 6)\n"
     ]
    }
   ],
   "source": [
    "tuple1 = (1, 2, 3)\n",
    "tuple2 = (4, 5, 6)\n",
    "\n",
    "merged_tuple = tuple1 + tuple2\n",
    "print(merged_tuple)\n"
   ]
  },
  {
   "cell_type": "markdown",
   "id": "0fac3775",
   "metadata": {},
   "source": [
    "31. Flatten a nested tuple."
   ]
  },
  {
   "cell_type": "code",
   "execution_count": 29,
   "id": "cb6ebcc6",
   "metadata": {},
   "outputs": [
    {
     "name": "stdout",
     "output_type": "stream",
     "text": [
      "(1, 2, 3, 4, 5, 6, 7)\n"
     ]
    }
   ],
   "source": [
    "nested_tuple = ((1, 2), (3, 4, 5), (6, 7))\n",
    "flattened_tuple = tuple(item for subtuple in nested_tuple for item in subtuple)\n",
    "print(flattened_tuple)\n"
   ]
  },
  {
   "cell_type": "markdown",
   "id": "d928c415",
   "metadata": {},
   "source": [
    "32. Create a tuple of the first 5 prime numbers."
   ]
  },
  {
   "cell_type": "code",
   "execution_count": 58,
   "id": "dca17f74",
   "metadata": {},
   "outputs": [
    {
     "name": "stdout",
     "output_type": "stream",
     "text": [
      "Tuple of first 5 prime numbers: (2, 3, 5, 7, 11)\n"
     ]
    }
   ],
   "source": [
    "# returns boolean depending upon whether a number is prime or not\n",
    "def is_prime(number):\n",
    "    if number < 2:\n",
    "        return False\n",
    "    for i in range(2, int(number ** 0.5) + 1):\n",
    "        if number % i == 0:\n",
    "            return False\n",
    "    return True\n",
    "\n",
    "\n",
    "counter = 1 #to track the count of prime numbers\n",
    "num = 2     #initialize the first prime number. Prime numbers begin from 2.\n",
    "primes = [] \n",
    "\n",
    "while counter <= 5:\n",
    "    if is_prime(num):\n",
    "        primes.append(num)\n",
    "        counter += 1\n",
    "    num += 1\n",
    "\n",
    "print(f\"Tuple of first 5 prime numbers: {tuple(primes)}\")"
   ]
  },
  {
   "cell_type": "markdown",
   "id": "9bdaec2e",
   "metadata": {},
   "source": [
    "33. Check if a tuple is a palindrome."
   ]
  },
  {
   "cell_type": "code",
   "execution_count": 7,
   "id": "d214b778",
   "metadata": {},
   "outputs": [
    {
     "name": "stdout",
     "output_type": "stream",
     "text": [
      "Tuple is a palindrome\n"
     ]
    }
   ],
   "source": [
    "tuple33 = ('r', 'a', 'd', 'a', 'r')\n",
    "\n",
    "#reversing the order using slicing\n",
    "reverse_tuple = tuple33[::-1]\n",
    "\n",
    "if tuple33 == reverse_tuple:\n",
    "    print(\"Tuple is a palindrome\")\n",
    "else:\n",
    "    print(\"Tuple is not a palindrome\")\n",
    "    "
   ]
  },
  {
   "cell_type": "markdown",
   "id": "7b24d3c1",
   "metadata": {},
   "source": [
    "34. Create a tuple of squares of numbers from 1 to 5."
   ]
  },
  {
   "cell_type": "code",
   "execution_count": 9,
   "id": "903b74f7",
   "metadata": {},
   "outputs": [
    {
     "name": "stdout",
     "output_type": "stream",
     "text": [
      "(1, 4, 9, 16, 25)\n"
     ]
    }
   ],
   "source": [
    "tuple_of_squares = tuple(x**2 for x in range(1,6))\n",
    "\n",
    "print(tuple_of_squares)"
   ]
  },
  {
   "cell_type": "markdown",
   "id": "00f622a3",
   "metadata": {},
   "source": [
    "35. Filter out all even numbers from a tuple."
   ]
  },
  {
   "cell_type": "code",
   "execution_count": 10,
   "id": "9df3a18e",
   "metadata": {},
   "outputs": [
    {
     "name": "stdout",
     "output_type": "stream",
     "text": [
      "Even numbers:  (2, 4, 6, 8)\n"
     ]
    }
   ],
   "source": [
    "tuple35 = (1, 2, 3, 4, 5, 6, 7, 8, 9)\n",
    "\n",
    "even_numbers = tuple(x for x in tuple35 if x%2==0)\n",
    "print(\"Even numbers: \", even_numbers)"
   ]
  },
  {
   "cell_type": "markdown",
   "id": "43748415",
   "metadata": {},
   "source": [
    "36. Multiply all elements in a tuple by 2."
   ]
  },
  {
   "cell_type": "code",
   "execution_count": 12,
   "id": "85b953d0",
   "metadata": {},
   "outputs": [
    {
     "name": "stdout",
     "output_type": "stream",
     "text": [
      "After multiplication:  (2, 4, 6, 8, 10, 12, 14, 16, 18)\n"
     ]
    }
   ],
   "source": [
    "tuple36 = (1, 2, 3, 4, 5, 6, 7, 8, 9)\n",
    "\n",
    "result = tuple(x * 2 for x in tuple36)\n",
    "print(\"After multiplication: \", result)"
   ]
  },
  {
   "cell_type": "markdown",
   "id": "6d299dd8",
   "metadata": {},
   "source": [
    "37. Create a tuple of random numbers."
   ]
  },
  {
   "cell_type": "code",
   "execution_count": 18,
   "id": "d547e6c4",
   "metadata": {},
   "outputs": [
    {
     "name": "stdout",
     "output_type": "stream",
     "text": [
      "Tuple of random numbers: (44, 2, 14, 40, 26, 7, 12, 16, 24, 30)\n"
     ]
    }
   ],
   "source": [
    "import random\n",
    "\n",
    "# Generating 10 random numbers in the range of 1-50\n",
    "result = random.sample(range(1, 50), 10)\n",
    "print(\"Tuple of random numbers:\", tuple(result))\n"
   ]
  },
  {
   "cell_type": "markdown",
   "id": "60822951",
   "metadata": {},
   "source": [
    "38. Check if a tuple is sorted."
   ]
  },
  {
   "cell_type": "code",
   "execution_count": 21,
   "id": "1499493e",
   "metadata": {},
   "outputs": [
    {
     "name": "stdout",
     "output_type": "stream",
     "text": [
      "Tuple is sorted\n"
     ]
    }
   ],
   "source": [
    "def is_sorted(my_tuple):\n",
    "    if len(my_tuple) <= 1:\n",
    "        return True\n",
    "    elif my_tuple[0] >= my_tuple[1]:\n",
    "        return False\n",
    "    else:\n",
    "        return is_sorted(my_tuple[1:])\n",
    "\n",
    "tuple38 = (1, 2, 3, 4, 5)\n",
    "print(\"Tuple is sorted\" if is_sorted(tuple38) else \"Tuple is unsorted\")"
   ]
  },
  {
   "cell_type": "markdown",
   "id": "6898bb63",
   "metadata": {},
   "source": [
    "39. Rotate a tuple to the left by `n` positions."
   ]
  },
  {
   "cell_type": "code",
   "execution_count": 25,
   "id": "a16d5a57",
   "metadata": {},
   "outputs": [
    {
     "name": "stdout",
     "output_type": "stream",
     "text": [
      "Enter the value of n: 3\n",
      "Left rotated tuple by 3 positions: (4, 5, 6, 7, 8, 1, 2, 3)\n"
     ]
    }
   ],
   "source": [
    "def rotate_left(tup, n):\n",
    "    return tup[n:] + tup[:n]\n",
    "\n",
    "tuple39 = (1, 2, 3, 4, 5, 6, 7, 8)\n",
    "\n",
    "n = int(input(\"Enter the value of n: \"))\n",
    "\n",
    "print(f\"Left rotated tuple by {n} positions: {rotate_left(tuple39, n)}\")\n"
   ]
  },
  {
   "cell_type": "markdown",
   "id": "feae9795",
   "metadata": {},
   "source": [
    "40. Rotate a tuple to the right by `n` positions."
   ]
  },
  {
   "cell_type": "code",
   "execution_count": 26,
   "id": "f112a1b8",
   "metadata": {},
   "outputs": [
    {
     "name": "stdout",
     "output_type": "stream",
     "text": [
      "Enter the value of n: 3\n",
      "Right rotated tuple by 3 positions: (6, 7, 8, 1, 2, 3, 4, 5)\n"
     ]
    }
   ],
   "source": [
    "def rotate_right(tup, n):\n",
    "    return tup[-n:] + tup[:-n]\n",
    "\n",
    "tuple40 = (1, 2, 3, 4, 5, 6, 7, 8)\n",
    "\n",
    "n = int(input(\"Enter the value of n: \"))\n",
    "\n",
    "print(f\"Right rotated tuple by {n} positions: {rotate_right(tuple40, n)}\")"
   ]
  },
  {
   "cell_type": "markdown",
   "id": "4dd78344",
   "metadata": {},
   "source": [
    "41. Create a tuple of the first 5 Fibonacci numbers."
   ]
  },
  {
   "cell_type": "code",
   "execution_count": 31,
   "id": "74597d01",
   "metadata": {},
   "outputs": [
    {
     "name": "stdout",
     "output_type": "stream",
     "text": [
      "Enter num: 5\n",
      "Tuple of the first 5 Fibonacci numbers: \n",
      "(0, 1, 1, 2, 3)\n"
     ]
    }
   ],
   "source": [
    "#this method returns a tuple of first n numbers\n",
    "def fibonacci_series(n: int):\n",
    "    # initialize the first two elements of a fibonacci list\n",
    "    fib_lst = [0, 1]\n",
    "\n",
    "    # check if n is a valid number\n",
    "    if n <= 0:\n",
    "        print(\"Please enter a positive integer greater than 0\")\n",
    "    elif n == 1:\n",
    "        print(f\"Tuple of the first {n} Fibonacci numbers: \")\n",
    "        print(tuple(fib_lst[n-1]))\n",
    "    else:\n",
    "        print(f\"Tuple of the first {n} Fibonacci numbers: \")\n",
    "        for i in range(2, n):\n",
    "            fib_lst.append(fib_lst[i-1] + fib_lst[i-2])\n",
    "        print(tuple(fib_lst))\n",
    "    \n",
    "num = int(input(\"Enter num: \"))\n",
    "fibonacci_series(num)\n"
   ]
  },
  {
   "cell_type": "markdown",
   "id": "6f866288",
   "metadata": {},
   "source": [
    "42. Create a tuple from user input."
   ]
  },
  {
   "cell_type": "code",
   "execution_count": 126,
   "id": "eea263e8",
   "metadata": {},
   "outputs": [
    {
     "name": "stdout",
     "output_type": "stream",
     "text": [
      "Enter space-separated integers: 2 1 3 5 6 8 9\n",
      "Tuple from user input:  (2, 1, 3, 5, 6, 8, 9)\n"
     ]
    }
   ],
   "source": [
    "user_input = input('Enter space-separated integers: ')\n",
    "my_tuple = tuple(int(item) for item in user_input.split())\n",
    "print(\"Tuple from user input: \", my_tuple)\n"
   ]
  },
  {
   "cell_type": "markdown",
   "id": "3059fb77",
   "metadata": {},
   "source": [
    "43. Swap two elements in a tuple."
   ]
  },
  {
   "cell_type": "code",
   "execution_count": 37,
   "id": "3b3cfa60",
   "metadata": {},
   "outputs": [
    {
     "name": "stdout",
     "output_type": "stream",
     "text": [
      "Enter both the indices to swap.\n",
      "Enter first index: 2\n",
      "Enter second index: 5\n",
      "Tuple after swapping the indices 2 and 5: ('apple', 'ball', 'fish', 'dog', 'egg', 'car')\n"
     ]
    }
   ],
   "source": [
    "def swap_positions(tup, index1, index2):\n",
    "    # since 'tuple' object does not support item assignment, we use temp list variable\n",
    "    temp_list = list(tup)\n",
    "    temp_list[index1], temp_list[index2] = temp_list[index2], temp_list[index1]\n",
    "    return tuple(temp_list)\n",
    "\n",
    "my_tuple = (\"apple\", \"ball\", \"car\", \"dog\", \"egg\", \"fish\")\n",
    "\n",
    "print(\"Enter both the indices to swap.\")\n",
    "i1 = int(input(\"Enter first index: \"))\n",
    "i2 = int(input(\"Enter second index: \"))\n",
    "\n",
    "print(f\"Tuple after swapping the indices {i1} and {i2}: {swap_positions(my_tuple, i1, i2)}\")"
   ]
  },
  {
   "cell_type": "markdown",
   "id": "20c182cf",
   "metadata": {},
   "source": [
    "44. Reverse the elements of a tuple."
   ]
  },
  {
   "cell_type": "code",
   "execution_count": 38,
   "id": "421e6510",
   "metadata": {},
   "outputs": [
    {
     "name": "stdout",
     "output_type": "stream",
     "text": [
      "The reversed tuple is: ('cherry', 'apple', 'banana', 'papaya')\n"
     ]
    }
   ],
   "source": [
    "tuple44 = (\"papaya\", \"banana\", \"apple\", \"cherry\")\n",
    "\n",
    "print(f\"The reversed tuple is: {tuple44[::-1]}\")"
   ]
  },
  {
   "cell_type": "markdown",
   "id": "e102a88a",
   "metadata": {},
   "source": [
    "45. Create a tuple of the first `n` powers of 2."
   ]
  },
  {
   "cell_type": "code",
   "execution_count": 39,
   "id": "f07456ff",
   "metadata": {},
   "outputs": [
    {
     "name": "stdout",
     "output_type": "stream",
     "text": [
      "Enter the value of n: 5\n",
      "The tuple of the first 5 powers of 2: (2, 4, 8, 16, 32)\n"
     ]
    }
   ],
   "source": [
    "n = int(input(\"Enter the value of n: \"))\n",
    "\n",
    "tuple_powers = tuple(2 ** n for n in range(1, n + 1))\n",
    "\n",
    "print(f\"The tuple of the first {n} powers of 2: {tuple_powers}\")"
   ]
  },
  {
   "cell_type": "markdown",
   "id": "0880e10b",
   "metadata": {},
   "source": [
    "46. Find the longest string in a tuple of strings."
   ]
  },
  {
   "cell_type": "code",
   "execution_count": 41,
   "id": "26b2e642",
   "metadata": {},
   "outputs": [
    {
     "name": "stdout",
     "output_type": "stream",
     "text": [
      "The longest string in a tuple of strings is : 'cucumber'\n"
     ]
    }
   ],
   "source": [
    "tuple_of_strings = (\"egg\", \"carrot\", \"beet\", \"cucumber\", \"onion\")\n",
    "\n",
    "longest_str = max(tuple_of_strings, key=len)\n",
    "print(f\"The longest string in a tuple of strings is : '{longest_str}'\")\n"
   ]
  },
  {
   "cell_type": "markdown",
   "id": "10750427",
   "metadata": {},
   "source": [
    "47. Find the shortest string in a tuple of strings."
   ]
  },
  {
   "cell_type": "code",
   "execution_count": 43,
   "id": "bf0cc170",
   "metadata": {},
   "outputs": [
    {
     "name": "stdout",
     "output_type": "stream",
     "text": [
      "The shortest string in a tuple of strings is : 'egg'\n"
     ]
    }
   ],
   "source": [
    "tuple_of_strings = (\"egg\", \"carrot\", \"beet\", \"cucumber\", \"onion\")\n",
    "\n",
    "shortest_str = min(tuple_of_strings, key=len)\n",
    "print(f\"The shortest string in a tuple of strings is : '{shortest_str}'\")\n"
   ]
  },
  {
   "cell_type": "markdown",
   "id": "8b2005d7",
   "metadata": {},
   "source": [
    "48. Create a tuple of the first `n` triangular numbers."
   ]
  },
  {
   "cell_type": "code",
   "execution_count": 45,
   "id": "759722a7",
   "metadata": {},
   "outputs": [
    {
     "name": "stdout",
     "output_type": "stream",
     "text": [
      "Enter the value of n: 5\n",
      "The tuple of the first 5 triangular numbers: (1, 3, 6, 10, 15)\n"
     ]
    }
   ],
   "source": [
    "def triangular_numbers(n):\n",
    "    return tuple(sum(range(i+1)) for i in range(1, n+1))\n",
    "\n",
    "n = int(input(\"Enter the value of n: \"))\n",
    "print(f\"The tuple of the first {n} triangular numbers: {triangular_numbers(n)}\")\n"
   ]
  },
  {
   "cell_type": "markdown",
   "id": "8a29119f",
   "metadata": {},
   "source": [
    "49. Check if a tuple contains another tuple as a subsequence."
   ]
  },
  {
   "cell_type": "code",
   "execution_count": 48,
   "id": "7d17e502",
   "metadata": {},
   "outputs": [
    {
     "name": "stdout",
     "output_type": "stream",
     "text": [
      "tuple2 contains tuple1 as a subsequence\n"
     ]
    }
   ],
   "source": [
    "def is_subsequence(subseq, inseq):\n",
    "    return set(subseq).issubset(set(inseq))\n",
    "\n",
    "tuple1 = (1, 2)\n",
    "tuple2 = (1, 2, 3, 4, 5)\n",
    "\n",
    "if is_subsequence(tuple1, tuple2):\n",
    "    print(\"tuple2 contains tuple1 as a subsequence\")\n",
    "else:\n",
    "    print(\"tuple2 does not contain tuple1 as a subsequence\")"
   ]
  },
  {
   "cell_type": "markdown",
   "id": "55544034",
   "metadata": {},
   "source": [
    "50. Create a tuple of alternating 1s and 0s of length `n`."
   ]
  },
  {
   "cell_type": "code",
   "execution_count": 50,
   "id": "5ef7b9d0",
   "metadata": {},
   "outputs": [
    {
     "name": "stdout",
     "output_type": "stream",
     "text": [
      "Enter the length n: 10\n",
      "Tuple of alternating 1s and 0s of length 10 : (0, 1, 0, 1, 0, 1, 0, 1, 0, 1)\n"
     ]
    }
   ],
   "source": [
    "def alternating_tuple(n: int) -> tuple:\n",
    "    return tuple(i % 2 for i in range(n))\n",
    "\n",
    "n = int(input(\"Enter the length n: \"))\n",
    "print(f\"Tuple of alternating 1s and 0s of length {n} : {alternating_tuple(n)}\")\n"
   ]
  },
  {
   "cell_type": "markdown",
   "id": "30a6124d",
   "metadata": {},
   "source": [
    "# TOPIC: Set Based Practice Problem :"
   ]
  },
  {
   "cell_type": "markdown",
   "id": "c577bac6",
   "metadata": {},
   "source": [
    "1. Create a set with integers from 1 to 5."
   ]
  },
  {
   "cell_type": "code",
   "execution_count": 5,
   "id": "f9b9f125",
   "metadata": {},
   "outputs": [
    {
     "name": "stdout",
     "output_type": "stream",
     "text": [
      "{1, 2, 3, 4, 5}\n"
     ]
    }
   ],
   "source": [
    "set1 = set(range(1, 6))\n",
    "\n",
    "print(set1)\n"
   ]
  },
  {
   "cell_type": "markdown",
   "id": "39f62385",
   "metadata": {},
   "source": [
    "2. Add an element to a set."
   ]
  },
  {
   "cell_type": "code",
   "execution_count": 8,
   "id": "cbc02441",
   "metadata": {},
   "outputs": [
    {
     "name": "stdout",
     "output_type": "stream",
     "text": [
      "{1, 2, 3, 4, 5}\n"
     ]
    }
   ],
   "source": [
    "set2 = {1, 2, 4, 5}\n",
    "\n",
    "#adding an element 3\n",
    "set2.add(3)\n",
    "\n",
    "print(set2)"
   ]
  },
  {
   "cell_type": "markdown",
   "id": "4fe3e484",
   "metadata": {},
   "source": [
    "3. Remove an element from a set."
   ]
  },
  {
   "cell_type": "code",
   "execution_count": 9,
   "id": "03e4c857",
   "metadata": {},
   "outputs": [
    {
     "name": "stdout",
     "output_type": "stream",
     "text": [
      "{1, 2, 3, 4}\n"
     ]
    }
   ],
   "source": [
    "set3 = {1, 2, 3, 4, 5}\n",
    "\n",
    "#removing an element 5\n",
    "set3.remove(5)\n",
    "\n",
    "print(set3)"
   ]
  },
  {
   "cell_type": "markdown",
   "id": "59896a3b",
   "metadata": {},
   "source": [
    "4. Check if an element exists in a set."
   ]
  },
  {
   "cell_type": "code",
   "execution_count": 12,
   "id": "e6fd62a0",
   "metadata": {},
   "outputs": [
    {
     "name": "stdout",
     "output_type": "stream",
     "text": [
      "Exists\n"
     ]
    }
   ],
   "source": [
    "set4 = {1, 2, 3, 4, 5}\n",
    "\n",
    "# Check if 4 exists in this set\n",
    "print(\"Exists\" if 4 in set4 else \"Not exists\")"
   ]
  },
  {
   "cell_type": "markdown",
   "id": "c1c56625",
   "metadata": {},
   "source": [
    "5. Find the length of a set without using the `len()` function."
   ]
  },
  {
   "cell_type": "code",
   "execution_count": 14,
   "id": "5a313f5f",
   "metadata": {},
   "outputs": [
    {
     "name": "stdout",
     "output_type": "stream",
     "text": [
      "The length of the set {1, 2, 3, 4, 5} is : 5\n"
     ]
    }
   ],
   "source": [
    "set5 = {1, 2, 3, 4, 5}\n",
    "\n",
    "length = 0\n",
    "for _ in set5:\n",
    "    length += 1\n",
    "\n",
    "print(f\"The length of the set {set5} is : {length}\")"
   ]
  },
  {
   "cell_type": "markdown",
   "id": "d88f0ad1",
   "metadata": {},
   "source": [
    "6. Clear all elements from a set."
   ]
  },
  {
   "cell_type": "code",
   "execution_count": 19,
   "id": "8ca8a9a0",
   "metadata": {},
   "outputs": [
    {
     "name": "stdout",
     "output_type": "stream",
     "text": [
      "set()\n"
     ]
    }
   ],
   "source": [
    "set6 = {1, 2, 3, 4, 5}\n",
    "\n",
    "#Clear all elements\n",
    "set6.clear()\n",
    "\n",
    "print(set6)"
   ]
  },
  {
   "cell_type": "markdown",
   "id": "ea7ecfa3",
   "metadata": {},
   "source": [
    "7. Create a set of even numbers from 1 to 10."
   ]
  },
  {
   "cell_type": "code",
   "execution_count": 22,
   "id": "f3335186",
   "metadata": {},
   "outputs": [
    {
     "name": "stdout",
     "output_type": "stream",
     "text": [
      "Set of even numbers :  {2, 4, 6, 8, 10}\n"
     ]
    }
   ],
   "source": [
    "set7 = set(x for x in range(1, 11) if x % 2 == 0)\n",
    "\n",
    "print(\"Set of even numbers : \", set7)\n"
   ]
  },
  {
   "cell_type": "markdown",
   "id": "f908a5cd",
   "metadata": {},
   "source": [
    "8. Create a set of odd numbers from 1 to 10."
   ]
  },
  {
   "cell_type": "code",
   "execution_count": 23,
   "id": "52b0ac31",
   "metadata": {},
   "outputs": [
    {
     "name": "stdout",
     "output_type": "stream",
     "text": [
      "Set of odd numbers :  {1, 3, 5, 7, 9}\n"
     ]
    }
   ],
   "source": [
    "set8 = set(x for x in range(1, 11) if x % 2 != 0)\n",
    "\n",
    "print(\"Set of odd numbers : \", set8)\n"
   ]
  },
  {
   "cell_type": "markdown",
   "id": "2a1c9497",
   "metadata": {},
   "source": [
    "9. Find the union of two sets."
   ]
  },
  {
   "cell_type": "code",
   "execution_count": 24,
   "id": "90f58d17",
   "metadata": {},
   "outputs": [
    {
     "name": "stdout",
     "output_type": "stream",
     "text": [
      "Union of s1 and s2 :  {1, 2, 3, 4, 5, 6, 7, 8, 9, 10}\n"
     ]
    }
   ],
   "source": [
    "s1 = {1, 3, 5, 7, 9}\n",
    "s2 = {2, 4, 6, 8, 10}\n",
    "\n",
    "#Union of two sets s1 and s2\n",
    "print(\"Union of s1 and s2 : \", s1.union(s2))\n"
   ]
  },
  {
   "cell_type": "markdown",
   "id": "7e15d08f",
   "metadata": {},
   "source": [
    "10. Find the intersection of two sets."
   ]
  },
  {
   "cell_type": "code",
   "execution_count": 25,
   "id": "8ab06c73",
   "metadata": {},
   "outputs": [
    {
     "name": "stdout",
     "output_type": "stream",
     "text": [
      "Intersection of s1 and s2 :  {9, 3, 6}\n"
     ]
    }
   ],
   "source": [
    "s1 = {1, 2, 3, 4, 5, 6, 7, 8, 9, 10}\n",
    "s2 = {3, 6, 9}\n",
    "\n",
    "#Intersection of two sets s1 and s2\n",
    "print(\"Intersection of s1 and s2 : \", s1.intersection(s2))\n"
   ]
  },
  {
   "cell_type": "markdown",
   "id": "a19f8f7c",
   "metadata": {},
   "source": [
    "11. Find the difference between two sets."
   ]
  },
  {
   "cell_type": "code",
   "execution_count": 28,
   "id": "666c6e49",
   "metadata": {},
   "outputs": [
    {
     "name": "stdout",
     "output_type": "stream",
     "text": [
      "Difference between s1 and s2 :  {1, 2, 4, 5, 7, 8, 10}\n"
     ]
    }
   ],
   "source": [
    "s1 = {1, 2, 3, 4, 5, 6, 7, 8, 9, 10}\n",
    "s2 = {3, 6, 9}\n",
    "\n",
    "#Difference between two sets s1 and s2\n",
    "print(\"Difference between s1 and s2 : \", s1.difference(s2))\n"
   ]
  },
  {
   "cell_type": "markdown",
   "id": "af5a7cf4",
   "metadata": {},
   "source": [
    "12. Check if a set is a subset of another set."
   ]
  },
  {
   "cell_type": "code",
   "execution_count": 39,
   "id": "f95065de",
   "metadata": {},
   "outputs": [
    {
     "name": "stdout",
     "output_type": "stream",
     "text": [
      "s2 is a subset of s1\n"
     ]
    }
   ],
   "source": [
    "s1 = {1, 2, 3, 4, 5, 6, 7, 8, 9, 10}\n",
    "s2 = {3, 6, 9}\n",
    "\n",
    "#Checking if s2 is a subset of s1\n",
    "if s2.issubset(s1):\n",
    "    print(\"s2 is a subset of s1\")\n",
    "else:\n",
    "    print(\"s2 is not a subset of s1\")\n"
   ]
  },
  {
   "cell_type": "markdown",
   "id": "c11b0017",
   "metadata": {},
   "source": [
    "13. Check if a set is a superset of another set."
   ]
  },
  {
   "cell_type": "code",
   "execution_count": 42,
   "id": "d628575a",
   "metadata": {},
   "outputs": [
    {
     "name": "stdout",
     "output_type": "stream",
     "text": [
      "s1 is a superset of s2\n"
     ]
    }
   ],
   "source": [
    "s1 = {1, 2, 3, 4, 5, 6, 7, 8, 9, 10}\n",
    "s2 = {3, 6, 9}\n",
    "\n",
    "#Checking if s1 is a superset of s2\n",
    "if s1.issuperset(s2):\n",
    "    print(\"s1 is a superset of s2\")\n",
    "else:\n",
    "    print(\"s1 is not a superset of s2\")\n"
   ]
  },
  {
   "cell_type": "markdown",
   "id": "f5b2be9e",
   "metadata": {},
   "source": [
    "14. Create a set from a list."
   ]
  },
  {
   "cell_type": "code",
   "execution_count": 44,
   "id": "60571cd0",
   "metadata": {},
   "outputs": [
    {
     "name": "stdout",
     "output_type": "stream",
     "text": [
      "Set :  {1, 2, 3, 4, 5}\n"
     ]
    }
   ],
   "source": [
    "list14 = [1, 2, 3, 4, 5]\n",
    "    \n",
    "#create a set from a list\n",
    "print(\"Set : \", set(list14))"
   ]
  },
  {
   "cell_type": "markdown",
   "id": "f4efcc3b",
   "metadata": {},
   "source": [
    "15. Convert a set to a list."
   ]
  },
  {
   "cell_type": "code",
   "execution_count": 46,
   "id": "e7c2134a",
   "metadata": {},
   "outputs": [
    {
     "name": "stdout",
     "output_type": "stream",
     "text": [
      "List :  [1, 2, 3, 4, 5]\n"
     ]
    }
   ],
   "source": [
    "set15 = {1, 2, 3, 4, 5}\n",
    "\n",
    "#convert a set to a list\n",
    "print(\"List : \", list(set15))"
   ]
  },
  {
   "cell_type": "markdown",
   "id": "5b21e4cc",
   "metadata": {},
   "source": [
    "16. Remove a random element from a set."
   ]
  },
  {
   "cell_type": "code",
   "execution_count": 50,
   "id": "c3830c85",
   "metadata": {},
   "outputs": [
    {
     "name": "stdout",
     "output_type": "stream",
     "text": [
      "The updated set is: {1, 2, 3, 4, 6}\n"
     ]
    }
   ],
   "source": [
    "import random\n",
    "\n",
    "my_set = {1, 2, 3, 4, 5, 6}\n",
    "\n",
    "# Convert the set to a list\n",
    "my_list = list(my_set)\n",
    "\n",
    "# Remove a random element from the list\n",
    "random_element = random.choice(my_list)\n",
    "my_list.remove(random_element)\n",
    "\n",
    "# Convert the list back to a set\n",
    "my_set = set(my_list)\n",
    "\n",
    "print(f\"The updated set is: {my_set}\")\n"
   ]
  },
  {
   "cell_type": "markdown",
   "id": "8a0e4bd2",
   "metadata": {},
   "source": [
    "17. Pop an element from a set."
   ]
  },
  {
   "cell_type": "code",
   "execution_count": 52,
   "id": "19112b6f",
   "metadata": {},
   "outputs": [
    {
     "name": "stdout",
     "output_type": "stream",
     "text": [
      "cherry\n"
     ]
    }
   ],
   "source": [
    "fruits = {\"apple\", \"banana\", \"cherry\", \"guava\"}\n",
    "\n",
    "#pop() function pops a random element from the set \n",
    "x = fruits.pop() \n",
    "\n",
    "print(x)\n"
   ]
  },
  {
   "cell_type": "markdown",
   "id": "7c8e1f49",
   "metadata": {},
   "source": [
    "18. Check if two sets have no elements in common."
   ]
  },
  {
   "cell_type": "code",
   "execution_count": 53,
   "id": "764bdf98",
   "metadata": {},
   "outputs": [
    {
     "name": "stdout",
     "output_type": "stream",
     "text": [
      "The two sets have no elements in common.\n"
     ]
    }
   ],
   "source": [
    "set1 = {1, 2, 3}\n",
    "set2 = {4, 5, 6}\n",
    "if set1.isdisjoint(set2):\n",
    "    print(\"The two sets have no elements in common.\")\n",
    "else:\n",
    "    print(\"The two sets have at least one element in common.\")\n"
   ]
  },
  {
   "cell_type": "markdown",
   "id": "77e2aeb6",
   "metadata": {},
   "source": [
    "19. Find the symmetric difference between two sets."
   ]
  },
  {
   "cell_type": "code",
   "execution_count": 54,
   "id": "0098a2af",
   "metadata": {},
   "outputs": [
    {
     "name": "stdout",
     "output_type": "stream",
     "text": [
      "Symmetric difference:  {1, 4}\n"
     ]
    }
   ],
   "source": [
    "set1 = {1, 2, 3}\n",
    "set2 = {2, 3, 4}\n",
    "symmetric_difference_set = set1.symmetric_difference(set2)\n",
    "\n",
    "print(\"Symmetric difference: \", symmetric_difference_set)\n"
   ]
  },
  {
   "cell_type": "markdown",
   "id": "13f46ea2",
   "metadata": {},
   "source": [
    "20. Update a set with elements from another set."
   ]
  },
  {
   "cell_type": "code",
   "execution_count": 55,
   "id": "4dd36b1c",
   "metadata": {},
   "outputs": [
    {
     "name": "stdout",
     "output_type": "stream",
     "text": [
      "{1, 2, 3, 4, 5, 6}\n"
     ]
    }
   ],
   "source": [
    "set1 = {1, 2, 3}\n",
    "set2 = {4, 5, 6}\n",
    "\n",
    "# Update set1 with elements from set2\n",
    "set1.update(set2)\n",
    "print(set1)\n"
   ]
  },
  {
   "cell_type": "markdown",
   "id": "e3e84cc7",
   "metadata": {},
   "source": [
    "21. Create a set of the first 5 prime numbers."
   ]
  },
  {
   "cell_type": "code",
   "execution_count": 56,
   "id": "6d8beba5",
   "metadata": {},
   "outputs": [
    {
     "name": "stdout",
     "output_type": "stream",
     "text": [
      "Set of first 5 prime numbers: {2, 3, 5, 7, 11}\n"
     ]
    }
   ],
   "source": [
    "# returns boolean depending upon whether a number is prime or not\n",
    "def is_prime(number):\n",
    "    if number < 2:\n",
    "        return False\n",
    "    for i in range(2, int(number ** 0.5) + 1):\n",
    "        if number % i == 0:\n",
    "            return False\n",
    "    return True\n",
    "\n",
    "\n",
    "counter = 1 #to track the count of prime numbers\n",
    "num = 2     #initialize the first prime number. Prime numbers begin from 2.\n",
    "primes = [] \n",
    "\n",
    "while counter <= 5:\n",
    "    if is_prime(num):\n",
    "        primes.append(num)\n",
    "        counter += 1\n",
    "    num += 1\n",
    "\n",
    "print(f\"Set of first 5 prime numbers: {set(primes)}\")"
   ]
  },
  {
   "cell_type": "markdown",
   "id": "460d0e86",
   "metadata": {},
   "source": [
    "22. Check if two sets are identical."
   ]
  },
  {
   "cell_type": "code",
   "execution_count": 57,
   "id": "53cc43f7",
   "metadata": {},
   "outputs": [
    {
     "name": "stdout",
     "output_type": "stream",
     "text": [
      "The sets are identical\n"
     ]
    }
   ],
   "source": [
    "set1 = {1, 2, 3}\n",
    "set2 = {3, 2, 1}\n",
    "\n",
    "if set1 == set2:\n",
    "    print(\"The sets are identical\")\n",
    "else:\n",
    "    print(\"The sets are not identical\")\n"
   ]
  },
  {
   "cell_type": "markdown",
   "id": "b215025f",
   "metadata": {},
   "source": [
    "23. Create a frozen set."
   ]
  },
  {
   "cell_type": "code",
   "execution_count": 65,
   "id": "73ab2cdf",
   "metadata": {},
   "outputs": [
    {
     "name": "stdout",
     "output_type": "stream",
     "text": [
      "Frozen set :  frozenset({'banana', 'apple', 'orange'})\n"
     ]
    }
   ],
   "source": [
    "fruits_set = {\"apple\", \"banana\", \"orange\"}\n",
    "\n",
    "#The frozenset object has the same properties as a set object, but it is immutable.\n",
    "fruits_frozen_set = frozenset(fruits_set)\n",
    "print(\"Frozen set : \", fruits_frozen_set)\n"
   ]
  },
  {
   "cell_type": "markdown",
   "id": "14f6ad43",
   "metadata": {},
   "source": [
    "24. Check if a set is disjoint with another set."
   ]
  },
  {
   "cell_type": "code",
   "execution_count": 66,
   "id": "754cf933",
   "metadata": {},
   "outputs": [
    {
     "name": "stdout",
     "output_type": "stream",
     "text": [
      "set1 is disjoint with set2.\n"
     ]
    }
   ],
   "source": [
    "set1 = {1, 2, 3}\n",
    "set2 = {4, 5, 6}\n",
    "if set1.isdisjoint(set2):\n",
    "    print(\"set1 is disjoint with set2.\")\n",
    "else:\n",
    "    print(\"set1 is not disjoint with set2.\")\n"
   ]
  },
  {
   "cell_type": "markdown",
   "id": "8a1dfb87",
   "metadata": {},
   "source": [
    "25. Create a set of squares of numbers from 1 to 5."
   ]
  },
  {
   "cell_type": "code",
   "execution_count": 68,
   "id": "573f9c5c",
   "metadata": {},
   "outputs": [
    {
     "name": "stdout",
     "output_type": "stream",
     "text": [
      "Set of squares :  {1, 4, 9, 16, 25}\n"
     ]
    }
   ],
   "source": [
    "set_of_squares = {x ** 2 for x in range(1, 6)}\n",
    "\n",
    "print(\"Set of squares : \", set_of_squares)"
   ]
  },
  {
   "cell_type": "markdown",
   "id": "11a8b196",
   "metadata": {},
   "source": [
    "26. Filter out all even numbers from a set."
   ]
  },
  {
   "cell_type": "code",
   "execution_count": 74,
   "id": "da995cf0",
   "metadata": {},
   "outputs": [
    {
     "name": "stdout",
     "output_type": "stream",
     "text": [
      "Even numbers :  {2, 4, 6, 8, 10}\n"
     ]
    }
   ],
   "source": [
    "set26 = {1, 2, 3, 4, 5, 6, 7, 8, 9, 10}\n",
    "\n",
    "filtered_set = set(filter(lambda x: x%2==0, set26))\n",
    "print(\"Even numbers : \", filtered_set)"
   ]
  },
  {
   "cell_type": "markdown",
   "id": "b0facf58",
   "metadata": {},
   "source": [
    "27. Multiply all elements in a set by 2."
   ]
  },
  {
   "cell_type": "code",
   "execution_count": 85,
   "id": "12d7a244",
   "metadata": {},
   "outputs": [
    {
     "name": "stdout",
     "output_type": "stream",
     "text": [
      "Set elements multiplied by 2 :  {2, 4, 6, 8, 10, 12, 14, 16, 18, 20}\n"
     ]
    }
   ],
   "source": [
    "set27 = {1, 2, 3, 4, 5, 6, 7, 8, 9, 10}\n",
    "\n",
    "multiplied_by_2 = {x * 2 for x in set27}\n",
    "print(\"Set elements multiplied by 2 : \", multiplied_by_2)"
   ]
  },
  {
   "cell_type": "markdown",
   "id": "e986ebfc",
   "metadata": {},
   "source": [
    "28. Create a set of random numbers."
   ]
  },
  {
   "cell_type": "code",
   "execution_count": 86,
   "id": "1148145e",
   "metadata": {},
   "outputs": [
    {
     "name": "stdout",
     "output_type": "stream",
     "text": [
      "Set of random numbers: {1, 35, 40, 9, 10, 17, 20, 26, 28, 31}\n"
     ]
    }
   ],
   "source": [
    "import random\n",
    "\n",
    "# Generating 10 random numbers in the range of 1-50\n",
    "result = random.sample(range(1, 50), 10)\n",
    "print(\"Set of random numbers:\", set(result))\n"
   ]
  },
  {
   "cell_type": "markdown",
   "id": "ecd35414",
   "metadata": {},
   "source": [
    "29. Check if a set is empty."
   ]
  },
  {
   "cell_type": "code",
   "execution_count": 87,
   "id": "d0640752",
   "metadata": {},
   "outputs": [
    {
     "name": "stdout",
     "output_type": "stream",
     "text": [
      "The set is empty\n"
     ]
    }
   ],
   "source": [
    "set29 = set()\n",
    "\n",
    "if len(set29) == 0:\n",
    "    print(\"The set is empty\")\n",
    "else:\n",
    "    print(\"The set is not empty\")\n"
   ]
  },
  {
   "cell_type": "markdown",
   "id": "76818c77",
   "metadata": {},
   "source": [
    "30. Create a nested set (hint: use frozenset)."
   ]
  },
  {
   "cell_type": "code",
   "execution_count": 99,
   "id": "7aa7fa95",
   "metadata": {},
   "outputs": [
    {
     "name": "stdout",
     "output_type": "stream",
     "text": [
      "Nested Set: {frozenset({4, 5}), frozenset({1, 2, 3, 4})}\n"
     ]
    }
   ],
   "source": [
    "set1 = frozenset({1, 2, 3, 4})\n",
    "set2 = frozenset({4, 5})\n",
    "\n",
    "nested_set = {set1, set2}\n",
    "print(\"Nested Set:\", nested_set)"
   ]
  },
  {
   "cell_type": "markdown",
   "id": "6e9e7e89",
   "metadata": {},
   "source": [
    "31. Remove an element from a set using the discard method."
   ]
  },
  {
   "cell_type": "code",
   "execution_count": 100,
   "id": "8a3ceace",
   "metadata": {},
   "outputs": [
    {
     "name": "stdout",
     "output_type": "stream",
     "text": [
      "Enter an element from set to remove: 4\n",
      "Set after removing 4 :  {1, 2, 3, 5}\n"
     ]
    }
   ],
   "source": [
    "set31 = {1, 2, 3, 4, 5}\n",
    "\n",
    "element = int(input(\"Enter an element from set to remove: \"))\n",
    "\n",
    "set31.discard(element)\n",
    "\n",
    "print(f\"Set after removing {element} : \", set31)"
   ]
  },
  {
   "cell_type": "markdown",
   "id": "10baa69c",
   "metadata": {},
   "source": [
    "32. Compare two sets."
   ]
  },
  {
   "cell_type": "code",
   "execution_count": 107,
   "id": "1fefff81",
   "metadata": {},
   "outputs": [
    {
     "name": "stdout",
     "output_type": "stream",
     "text": [
      "1. Sets are not identical\n",
      "2. set_A minus set_B :  {100}\n",
      "3. set_B minus set_A :  {10}\n",
      "4. Intersection :  {80, 40, 20, 30}\n",
      "5. Union :  {100, 40, 10, 80, 20, 30}\n"
     ]
    }
   ],
   "source": [
    "set_A = {100, 20, 30, 40, 80}\n",
    "set_B = {10, 30, 80, 40, 20}\n",
    "\n",
    "#check if both sets are identical\n",
    "if set_A == set_B:\n",
    "    print(\"1. Sets are identical\")\n",
    "else:\n",
    "    print(\"1. Sets are not identical\")\n",
    "\n",
    "#Difference between both the sets:\n",
    "#set_A minus set_B\n",
    "print(\"2. set_A minus set_B : \", set_A.difference(set_B))\n",
    "#set_B minus set_A\n",
    "print(\"3. set_B minus set_A : \", set_B.difference(set_A))\n",
    "\n",
    "#intersection\n",
    "print(\"4. Intersection : \", set_A.intersection(set_B))\n",
    "\n",
    "#union\n",
    "print(\"5. Union : \", set_A.union(set_B))"
   ]
  },
  {
   "cell_type": "markdown",
   "id": "b193c032",
   "metadata": {},
   "source": [
    "33. Create a set from a string."
   ]
  },
  {
   "cell_type": "code",
   "execution_count": 116,
   "id": "59576fe3",
   "metadata": {},
   "outputs": [
    {
     "name": "stdout",
     "output_type": "stream",
     "text": [
      "Set :  {'e', 'h', 'o', 's', 'r'}\n"
     ]
    }
   ],
   "source": [
    "string33 = \"horse\"\n",
    "\n",
    "my_set = set(string33)\n",
    "print(\"Set : \", my_set)"
   ]
  },
  {
   "cell_type": "markdown",
   "id": "b2928437",
   "metadata": {},
   "source": [
    "34. Convert a set of strings to a set of integers."
   ]
  },
  {
   "cell_type": "code",
   "execution_count": 118,
   "id": "d1ed9d28",
   "metadata": {},
   "outputs": [
    {
     "name": "stdout",
     "output_type": "stream",
     "text": [
      "Set of integers :  {1, 2, 3, 4, 5}\n"
     ]
    }
   ],
   "source": [
    "string34 = {'1', '2', '3', '4', '5'}\n",
    "\n",
    "set_of_integers = {int(x) for x in string34}\n",
    "\n",
    "print(\"Set of integers : \", set_of_integers)"
   ]
  },
  {
   "cell_type": "markdown",
   "id": "2431d60a",
   "metadata": {},
   "source": [
    "35. Convert a set of integers to a set of strings."
   ]
  },
  {
   "cell_type": "code",
   "execution_count": 117,
   "id": "972d3bf5",
   "metadata": {},
   "outputs": [
    {
     "name": "stdout",
     "output_type": "stream",
     "text": [
      "Set of strings :  {'3', '2', '5', '1', '4'}\n"
     ]
    }
   ],
   "source": [
    "set35 = {1, 2, 3, 4, 5}\n",
    "\n",
    "set_of_strings = {str(x) for x in set35}\n",
    "\n",
    "print(\"Set of strings : \", set_of_strings)"
   ]
  },
  {
   "cell_type": "markdown",
   "id": "4ad61875",
   "metadata": {},
   "source": [
    "36. Create a set from a tuple."
   ]
  },
  {
   "cell_type": "code",
   "execution_count": 119,
   "id": "52106130",
   "metadata": {},
   "outputs": [
    {
     "name": "stdout",
     "output_type": "stream",
     "text": [
      "Set created from the tuple :  {1, 2, 3, 4, 5}\n"
     ]
    }
   ],
   "source": [
    "tuple36 = (1, 2, 3, 4, 5)\n",
    "\n",
    "print(\"Set created from the tuple : \", set(tuple36))"
   ]
  },
  {
   "cell_type": "markdown",
   "id": "cdb2f41d",
   "metadata": {},
   "source": [
    "37. Convert a set to a tuple."
   ]
  },
  {
   "cell_type": "code",
   "execution_count": 120,
   "id": "9ca294f8",
   "metadata": {},
   "outputs": [
    {
     "name": "stdout",
     "output_type": "stream",
     "text": [
      "Tuple created from the set :  (1, 2, 3, 4, 5)\n"
     ]
    }
   ],
   "source": [
    "set37 = {1, 2, 3, 4, 5}\n",
    "\n",
    "print(\"Tuple created from the set : \", tuple(set37))"
   ]
  },
  {
   "cell_type": "markdown",
   "id": "db126c51",
   "metadata": {},
   "source": [
    "38. Find the maximum value in a set."
   ]
  },
  {
   "cell_type": "code",
   "execution_count": 121,
   "id": "be971e39",
   "metadata": {},
   "outputs": [
    {
     "name": "stdout",
     "output_type": "stream",
     "text": [
      "Maximum value in the set :  5\n"
     ]
    }
   ],
   "source": [
    "set38 = {1, 2, 3, 4, 5}\n",
    "\n",
    "print(\"Maximum value in the set : \", max(set38))"
   ]
  },
  {
   "cell_type": "markdown",
   "id": "94f28604",
   "metadata": {},
   "source": [
    "39. Find the minimum value in a set."
   ]
  },
  {
   "cell_type": "code",
   "execution_count": 122,
   "id": "054f7043",
   "metadata": {},
   "outputs": [
    {
     "name": "stdout",
     "output_type": "stream",
     "text": [
      "Minimum value in the set :  1\n"
     ]
    }
   ],
   "source": [
    "set39 = {1, 2, 3, 4, 5}\n",
    "\n",
    "print(\"Minimum value in the set : \", min(set39))"
   ]
  },
  {
   "cell_type": "markdown",
   "id": "ffef5ce1",
   "metadata": {},
   "source": [
    "40. Create a set from user input."
   ]
  },
  {
   "cell_type": "code",
   "execution_count": 125,
   "id": "fb1a4159",
   "metadata": {},
   "outputs": [
    {
     "name": "stdout",
     "output_type": "stream",
     "text": [
      "Enter space-separated integers: 2 3 6 8 9 1\n",
      "Set from user input:  {1, 2, 3, 6, 8, 9}\n"
     ]
    }
   ],
   "source": [
    "user_input = input('Enter space-separated integers: ')\n",
    "\n",
    "my_set = {int(item) for item in user_input.split()}\n",
    "print(\"Set from user input: \", my_set)\n"
   ]
  },
  {
   "cell_type": "markdown",
   "id": "a1291583",
   "metadata": {},
   "source": [
    "41. Check if the intersection of two sets is empty."
   ]
  },
  {
   "cell_type": "code",
   "execution_count": 136,
   "id": "90fe5718",
   "metadata": {},
   "outputs": [
    {
     "name": "stdout",
     "output_type": "stream",
     "text": [
      "The intersection of two sets is empty\n"
     ]
    }
   ],
   "source": [
    "set_A = {100, 20, 30, 40, 80}\n",
    "set_B = {22, 33, 44}\n",
    "\n",
    "if not set_A.intersection(set_B):\n",
    "    print(\"The intersection of two sets is empty\")\n",
    "else:\n",
    "    print(\"The intersection of two sets is not empty\")"
   ]
  },
  {
   "cell_type": "markdown",
   "id": "0a251d55",
   "metadata": {},
   "source": [
    "42. Create a set of the first 5 Fibonacci numbers."
   ]
  },
  {
   "cell_type": "code",
   "execution_count": 137,
   "id": "86ba8197",
   "metadata": {},
   "outputs": [
    {
     "name": "stdout",
     "output_type": "stream",
     "text": [
      "Set of the first 5 Fibonacci numbers:  {0, 1, 2, 3, 5}\n"
     ]
    }
   ],
   "source": [
    "# initialize the set\n",
    "fib_set = set()\n",
    "\n",
    "# initialize the first two Fibonacci numbers\n",
    "a, b = 0, 1\n",
    "\n",
    "for _ in range(6):\n",
    "    # Add to set\n",
    "    fib_set.add(a)\n",
    "    \n",
    "    #set next\n",
    "    a, b = b, a + b\n",
    "\n",
    "print(\"Set of the first 5 Fibonacci numbers: \", fib_set)"
   ]
  },
  {
   "cell_type": "markdown",
   "id": "029c3c0d",
   "metadata": {},
   "source": [
    "43. Remove duplicates from a list using sets."
   ]
  },
  {
   "cell_type": "code",
   "execution_count": 140,
   "id": "0d4bb383",
   "metadata": {},
   "outputs": [
    {
     "name": "stdout",
     "output_type": "stream",
     "text": [
      "After removing duplicates :  [1, 2, 3, 4, 5]\n"
     ]
    }
   ],
   "source": [
    "my_list = [1, 1, 2, 3, 2, 3, 5, 4, 4, 5]\n",
    "\n",
    "#remove duplicates by converting it to a set\n",
    "result = set(my_list)\n",
    "\n",
    "#convert back to list\n",
    "my_list = list(result)\n",
    "print(\"After removing duplicates : \", my_list)"
   ]
  },
  {
   "cell_type": "markdown",
   "id": "883e0483",
   "metadata": {},
   "source": [
    "44. Check if two sets have the same elements, regardless of their count."
   ]
  },
  {
   "cell_type": "code",
   "execution_count": 146,
   "id": "05dd4f1a",
   "metadata": {},
   "outputs": [
    {
     "name": "stdout",
     "output_type": "stream",
     "text": [
      "The sets have the same elements.\n"
     ]
    }
   ],
   "source": [
    "set1 = {\"cat\", \"dog\", \"buffalo\", \"dog\", \"cat\", \"buffalo\"}\n",
    "set2 = {\"cat\", \"buffalo\", \"dog\"}\n",
    "\n",
    "if set1 == set2:\n",
    "    print(\"The sets have the same elements.\")\n",
    "else:\n",
    "    print(\"The sets do not have the same elements.\")"
   ]
  },
  {
   "cell_type": "markdown",
   "id": "f4bad58d",
   "metadata": {},
   "source": [
    "45. Create a set of the first `n` powers of 2."
   ]
  },
  {
   "cell_type": "code",
   "execution_count": 123,
   "id": "36768bab",
   "metadata": {},
   "outputs": [
    {
     "name": "stdout",
     "output_type": "stream",
     "text": [
      "Enter the value of n: 5\n",
      "The set of the first 5 powers of 2: {32, 2, 4, 8, 16}\n"
     ]
    }
   ],
   "source": [
    "n = int(input(\"Enter the value of n: \"))\n",
    "\n",
    "set_powers = {2 ** n for n in range(1, n + 1)}\n",
    "\n",
    "print(f\"The set of the first {n} powers of 2: {set_powers}\")"
   ]
  },
  {
   "cell_type": "markdown",
   "id": "39ca5884",
   "metadata": {},
   "source": [
    "46. Find the common elements between a set and a list."
   ]
  },
  {
   "cell_type": "code",
   "execution_count": 113,
   "id": "a8a20ed9",
   "metadata": {},
   "outputs": [
    {
     "name": "stdout",
     "output_type": "stream",
     "text": [
      "The common elements between set46 and list46 are :  {4, 5}\n"
     ]
    }
   ],
   "source": [
    "set46 = {1, 2, 3, 4, 5}\n",
    "list46 = [4, 5, 6, 7]\n",
    "\n",
    "#convert list46 to a set and then find the intersection\n",
    "common_elements = set46.intersection(set(list46))\n",
    "\n",
    "print(\"The common elements between set46 and list46 are : \", common_elements)\n"
   ]
  },
  {
   "cell_type": "markdown",
   "id": "bccf4cc7",
   "metadata": {},
   "source": [
    "47. Create a set of the first `n` triangular numbers."
   ]
  },
  {
   "cell_type": "code",
   "execution_count": 108,
   "id": "322c8794",
   "metadata": {},
   "outputs": [
    {
     "name": "stdout",
     "output_type": "stream",
     "text": [
      "Enter the value of n: 6\n",
      "The set of the first 6 triangular numbers: {1, 3, 6, 10, 15, 21}\n"
     ]
    }
   ],
   "source": [
    "def triangular_numbers(n):\n",
    "    return {sum(range(i+1)) for i in range(1, n+1)}\n",
    "\n",
    "n = int(input(\"Enter the value of n: \"))\n",
    "print(f\"The set of the first {n} triangular numbers: {triangular_numbers(n)}\")\n"
   ]
  },
  {
   "cell_type": "markdown",
   "id": "6105e99c",
   "metadata": {},
   "source": [
    "48. Check if a set contains another set as a subset."
   ]
  },
  {
   "cell_type": "code",
   "execution_count": 111,
   "id": "87d82136",
   "metadata": {},
   "outputs": [
    {
     "name": "stdout",
     "output_type": "stream",
     "text": [
      "s2 contains s1 as a subset\n"
     ]
    }
   ],
   "source": [
    "s1 = {10, 20, 30}\n",
    "s2 = {10, 20, 30, 40, 50}\n",
    "\n",
    "print(\"s2 contains s1 as a subset\" if s1.issubset(s2) else \"s2 doesn't contain s1 as a subset\")\n"
   ]
  },
  {
   "cell_type": "markdown",
   "id": "9d557d4a",
   "metadata": {},
   "source": [
    "49. Create a set of alternating 1s and 0s of length `n`."
   ]
  },
  {
   "cell_type": "code",
   "execution_count": 82,
   "id": "2a9b3679",
   "metadata": {},
   "outputs": [
    {
     "name": "stdout",
     "output_type": "stream",
     "text": [
      "Enter the length n: 2\n",
      "Set of alternating 1s and 0s of length 2 : {0, 1}\n"
     ]
    }
   ],
   "source": [
    "def alternating_ones_zeros(n: int):\n",
    "    return {i % 2 for i in range(n)}\n",
    "\n",
    "n = int(input(\"Enter the length n: \"))\n",
    "\n",
    "#the length of the set will always be 2 since a set cannot contain duplicates\n",
    "print(f\"Set of alternating 1s and 0s of length {n} : {alternating_ones_zeros(n)}\")\n"
   ]
  },
  {
   "cell_type": "markdown",
   "id": "19c75f12",
   "metadata": {},
   "source": [
    "50. Merge multiple sets into one."
   ]
  },
  {
   "cell_type": "code",
   "execution_count": 76,
   "id": "8cef5bc9",
   "metadata": {},
   "outputs": [
    {
     "name": "stdout",
     "output_type": "stream",
     "text": [
      "{1, 2, 3, 4, 5, 6, 7, 8, 9}\n"
     ]
    }
   ],
   "source": [
    "set1 = {1, 2, 3}\n",
    "set2 = {4, 5, 6}\n",
    "set3 = {7, 8, 9}\n",
    "\n",
    "merged_set = set1.union(set2).union(set3)\n",
    "print(merged_set)\n"
   ]
  }
 ],
 "metadata": {
  "kernelspec": {
   "display_name": "Python 3 (ipykernel)",
   "language": "python",
   "name": "python3"
  },
  "language_info": {
   "codemirror_mode": {
    "name": "ipython",
    "version": 3
   },
   "file_extension": ".py",
   "mimetype": "text/x-python",
   "name": "python",
   "nbconvert_exporter": "python",
   "pygments_lexer": "ipython3",
   "version": "3.9.12"
  }
 },
 "nbformat": 4,
 "nbformat_minor": 5
}
