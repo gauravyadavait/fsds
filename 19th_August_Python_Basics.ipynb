{
 "cells": [
  {
   "cell_type": "markdown",
   "id": "4e69c04b",
   "metadata": {},
   "source": [
    "# TOPIC: Python Basics Variable"
   ]
  },
  {
   "cell_type": "markdown",
   "id": "d31d4477",
   "metadata": {},
   "source": [
    "Q1: Declare two variables, `x` and `y`, and assign them integer values.\n",
    "Swap the values of these variables without using any temporary\n",
    "variable."
   ]
  },
  {
   "cell_type": "markdown",
   "id": "9ba406ff",
   "metadata": {},
   "source": [
    "Solution:"
   ]
  },
  {
   "cell_type": "code",
   "execution_count": 35,
   "id": "bdc67593",
   "metadata": {},
   "outputs": [
    {
     "name": "stdout",
     "output_type": "stream",
     "text": [
      "Before swap, x = 10, y = 50\n",
      "After swap, x = 50, y = 10\n"
     ]
    }
   ],
   "source": [
    "x = 10\n",
    "y = 50\n",
    "\n",
    "print(f'Before swap, x = {x}, y = {y}')\n",
    "\n",
    "#Swap the values\n",
    "x, y = y, x\n",
    "\n",
    "print(f'After swap, x = {x}, y = {y}')"
   ]
  },
  {
   "cell_type": "markdown",
   "id": "85f8bb46",
   "metadata": {},
   "source": [
    "Q2: Create a program that calculates the area of a rectangle. Take the length and width as inputs from the user and store them in variables. Calculate and display the area."
   ]
  },
  {
   "cell_type": "markdown",
   "id": "38c5f39e",
   "metadata": {},
   "source": [
    "Solution:"
   ]
  },
  {
   "cell_type": "code",
   "execution_count": 36,
   "id": "0ed24304",
   "metadata": {},
   "outputs": [
    {
     "name": "stdout",
     "output_type": "stream",
     "text": [
      "Enter the  length: 10\n",
      "Enter the breadth: 5\n",
      "The area of the rectangle is  50.0\n"
     ]
    }
   ],
   "source": [
    "# Define a function to calculate the area of a rectangle\n",
    "def area_rectangle(length: float, breadth: float) -> float:\n",
    "    return length * breadth\n",
    "\n",
    "# Take user input\n",
    "length  = float(input(\"Enter the  length: \"))\n",
    "breadth = float(input(\"Enter the breadth: \"))\n",
    "\n",
    "# Print the area\n",
    "print('The area of the rectangle is ', area_rectangle(length, breadth))"
   ]
  },
  {
   "cell_type": "markdown",
   "id": "3ba28b8b",
   "metadata": {},
   "source": [
    "Q3: Write a Python program that converts temperature from Celsius to\n",
    "Fahrenheit. Take the temperature in Celsius as input, store it in a\n",
    "variable, convert it to Fahrenheit, and display the result."
   ]
  },
  {
   "cell_type": "markdown",
   "id": "93ffa797",
   "metadata": {},
   "source": [
    "Solution:"
   ]
  },
  {
   "cell_type": "code",
   "execution_count": 37,
   "id": "519982f0",
   "metadata": {},
   "outputs": [
    {
     "name": "stdout",
     "output_type": "stream",
     "text": [
      "Enter the temperature in Celsius: 40\n",
      "The temperature is  104.0 degrees Fahrenheit\n"
     ]
    }
   ],
   "source": [
    "# Define a function to convert the temperature\n",
    "def celsius_to_fahrenheit(celsius: float) -> float:\n",
    "    return (celsius * 9/5) + 32\n",
    "\n",
    "# Take user input\n",
    "celsius  = float(input(\"Enter the temperature in Celsius: \"))\n",
    "\n",
    "# Print the temperature in Fahrenheit\n",
    "print('The temperature is ', celsius_to_fahrenheit(celsius), 'degrees Fahrenheit')"
   ]
  },
  {
   "cell_type": "markdown",
   "id": "6844c4ff",
   "metadata": {},
   "source": [
    "# TOPIC: String Based Questions"
   ]
  },
  {
   "cell_type": "markdown",
   "id": "86b2d053",
   "metadata": {},
   "source": [
    "Q1: Write a Python program that takes a string as input and prints the\n",
    "length of the string."
   ]
  },
  {
   "cell_type": "markdown",
   "id": "2c5992ee",
   "metadata": {},
   "source": [
    "Solution:"
   ]
  },
  {
   "cell_type": "code",
   "execution_count": 38,
   "id": "eb0a0f70",
   "metadata": {},
   "outputs": [
    {
     "name": "stdout",
     "output_type": "stream",
     "text": [
      "Enter the string: Rajaram\n",
      "The length of the string is  7\n"
     ]
    }
   ],
   "source": [
    "def string_length(input_str: str) -> int:\n",
    "    return len(input_str)\n",
    "\n",
    "# Take user input\n",
    "string  = str(input(\"Enter the string: \"))\n",
    "\n",
    "# Print the length of the string\n",
    "print('The length of the string is ', string_length(string))"
   ]
  },
  {
   "cell_type": "markdown",
   "id": "5a7af040",
   "metadata": {},
   "source": [
    "Q2: Create a program that takes a sentence from the user and counts the\n",
    "number of vowels (a, e, i, o, u) in the string."
   ]
  },
  {
   "cell_type": "markdown",
   "id": "7d317f44",
   "metadata": {},
   "source": [
    "Solution:"
   ]
  },
  {
   "cell_type": "code",
   "execution_count": 39,
   "id": "86e3a7f4",
   "metadata": {},
   "outputs": [
    {
     "name": "stdout",
     "output_type": "stream",
     "text": [
      "Enter a sentence: The quick brown fox jumps over the lazy dog.\n",
      "The number of vowels is 11\n"
     ]
    }
   ],
   "source": [
    "def count_vowels(sentence: str) -> int:\n",
    "    count = 0\n",
    "    vowels = ['a','e','i','o','u']\n",
    "    for vowel in vowels:\n",
    "        if sentence.lower().count(vowel) > 0:\n",
    "            count += sentence.lower().count(vowel)\n",
    "    return count\n",
    "\n",
    "# Take user input\n",
    "sentence  = str(input(\"Enter a sentence: \"))\n",
    "\n",
    "# Print the count of vowels\n",
    "print(f'The number of vowels is {count_vowels(sentence)}')"
   ]
  },
  {
   "cell_type": "markdown",
   "id": "945fca13",
   "metadata": {},
   "source": [
    "Q3: Given a string, reverse the order of characters using string slicing and\n",
    "print the reversed string."
   ]
  },
  {
   "cell_type": "markdown",
   "id": "b465018d",
   "metadata": {},
   "source": [
    "Solution:"
   ]
  },
  {
   "cell_type": "code",
   "execution_count": 40,
   "id": "4400719e",
   "metadata": {},
   "outputs": [
    {
     "name": "stdout",
     "output_type": "stream",
     "text": [
      "Before slicing: independence\n",
      "After slicing: ecnednepedni\n"
     ]
    }
   ],
   "source": [
    "string = 'independence'\n",
    "print(f'Before slicing: {string}')\n",
    "print(f'After slicing: {string[::-1]}')"
   ]
  },
  {
   "cell_type": "markdown",
   "id": "ea2563ce",
   "metadata": {},
   "source": [
    "Q4: Write a program that takes a string as input and checks if it is a\n",
    "palindrome (reads the same forwards and backwards)."
   ]
  },
  {
   "cell_type": "markdown",
   "id": "9dc9eefb",
   "metadata": {},
   "source": [
    "Solution:"
   ]
  },
  {
   "cell_type": "code",
   "execution_count": 41,
   "id": "fe770284",
   "metadata": {},
   "outputs": [
    {
     "name": "stdout",
     "output_type": "stream",
     "text": [
      "Enter the string: radar\n",
      "The string is a palindrome.\n"
     ]
    }
   ],
   "source": [
    "# Function to check if a string is a palindrome\n",
    "def isPalindrome(string: str) -> bool:\n",
    "    if string == string[::-1]:\n",
    "        return True\n",
    "    return False\n",
    "\n",
    "# Take user input\n",
    "string  = str(input(\"Enter the string: \")).lower()\n",
    "\n",
    "# Print if a string is a palindrome or not\n",
    "print('The string is', 'a palindrome.' if isPalindrome(string) else 'not a palindrome.')"
   ]
  },
  {
   "cell_type": "markdown",
   "id": "07f4bee1",
   "metadata": {},
   "source": [
    "Q5: Create a program that takes a string as input and removes all the\n",
    "spaces from it. Print the modified string without spaces.\n"
   ]
  },
  {
   "cell_type": "markdown",
   "id": "e53f3a2a",
   "metadata": {},
   "source": [
    "Solution:"
   ]
  },
  {
   "cell_type": "code",
   "execution_count": 42,
   "id": "3819a150",
   "metadata": {},
   "outputs": [
    {
     "name": "stdout",
     "output_type": "stream",
     "text": [
      "Enter a string: Rain rain  go away.  Little  Johny wants  to play.\n",
      "The modified string without spaces is: Rainraingoaway.LittleJohnywantstoplay.\n"
     ]
    }
   ],
   "source": [
    "def remove_spaces(string: str) -> str:\n",
    "    return string.replace(' ', '')\n",
    "\n",
    "# Take user input\n",
    "string  = str(input(\"Enter a string: \"))\n",
    "\n",
    "# Print the modified string without spaces\n",
    "print(f'The modified string without spaces is: {remove_spaces(string)}')"
   ]
  },
  {
   "cell_type": "code",
   "execution_count": null,
   "id": "270ab58f",
   "metadata": {},
   "outputs": [],
   "source": []
  }
 ],
 "metadata": {
  "kernelspec": {
   "display_name": "Python 3 (ipykernel)",
   "language": "python",
   "name": "python3"
  },
  "language_info": {
   "codemirror_mode": {
    "name": "ipython",
    "version": 3
   },
   "file_extension": ".py",
   "mimetype": "text/x-python",
   "name": "python",
   "nbconvert_exporter": "python",
   "pygments_lexer": "ipython3",
   "version": "3.9.12"
  }
 },
 "nbformat": 4,
 "nbformat_minor": 5
}
