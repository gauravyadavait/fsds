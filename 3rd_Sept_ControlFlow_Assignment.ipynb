{
 "cells": [
  {
   "cell_type": "markdown",
   "id": "bc34fea6",
   "metadata": {},
   "source": [
    "# Control Flow - Assignment Questions"
   ]
  },
  {
   "cell_type": "markdown",
   "id": "f00c73af",
   "metadata": {},
   "source": [
    "## Basic If-Else Statements:"
   ]
  },
  {
   "cell_type": "markdown",
   "id": "0b29f1f8",
   "metadata": {},
   "source": [
    "1. Write a Python program to check if a given number is positive or negative."
   ]
  },
  {
   "cell_type": "code",
   "execution_count": 6,
   "id": "94218103",
   "metadata": {},
   "outputs": [
    {
     "name": "stdout",
     "output_type": "stream",
     "text": [
      "Enter a number: -8\n",
      "Negative number\n"
     ]
    }
   ],
   "source": [
    "num = float(input(\"Enter a number: \"))\n",
    "\n",
    "if num == 0:\n",
    "    print(\"Zero\")\n",
    "elif num > 0:\n",
    "    print(\"Positive number\")\n",
    "else:\n",
    "    print(\"Negative number\")\n"
   ]
  },
  {
   "cell_type": "markdown",
   "id": "d33916a9",
   "metadata": {},
   "source": [
    "2. Create a program that determines if a person is eligible to vote based on their age."
   ]
  },
  {
   "cell_type": "code",
   "execution_count": 5,
   "id": "515cdabe",
   "metadata": {},
   "outputs": [
    {
     "name": "stdout",
     "output_type": "stream",
     "text": [
      "Enter the age: 17\n",
      "Not eligible to vote.\n"
     ]
    }
   ],
   "source": [
    "age = int(input(\"Enter the age: \"))\n",
    "\n",
    "if age >= 18:\n",
    "    print(\"Eligible to vote.\")\n",
    "else:\n",
    "    print(\"Not eligible to vote.\")"
   ]
  },
  {
   "cell_type": "markdown",
   "id": "cf8bc815",
   "metadata": {},
   "source": [
    "3. Develop a program to find the maximum of two numbers using if-else statements."
   ]
  },
  {
   "cell_type": "code",
   "execution_count": 11,
   "id": "8ff763aa",
   "metadata": {},
   "outputs": [
    {
     "name": "stdout",
     "output_type": "stream",
     "text": [
      "Enter the first number: 10\n",
      "Enter the second number: 4\n",
      "The maximum of the two numbers is 10\n"
     ]
    }
   ],
   "source": [
    "num1 = int(input(\"Enter the first number: \"))\n",
    "num2 = int(input(\"Enter the second number: \"))\n",
    "\n",
    "if num1 > num2:\n",
    "    print(f\"The maximum of the two numbers is {num1}\")\n",
    "elif num2 > num1:\n",
    "    print(f\"The maximum of the two numbers is {num2}\")\n",
    "else:\n",
    "    print(f\"Both {num1} and {num2} are equal\")\n"
   ]
  },
  {
   "cell_type": "markdown",
   "id": "8744429a",
   "metadata": {},
   "source": [
    "4. Write a Python script to classify a given year as a leap year or not."
   ]
  },
  {
   "cell_type": "code",
   "execution_count": 15,
   "id": "3998980f",
   "metadata": {},
   "outputs": [
    {
     "name": "stdout",
     "output_type": "stream",
     "text": [
      "Enter a year: 2023\n",
      "2023 is not a leap year\n"
     ]
    }
   ],
   "source": [
    "year = int(input(\"Enter a year: \"))\n",
    "\n",
    "#A leap year is divisible by 4 except for century years\n",
    "if year % 4 == 0:\n",
    "    #checking for century year\n",
    "    if year % 100 == 0:\n",
    "        #a entury year is exactly divisible by 400\n",
    "        if year % 400 == 0:\n",
    "            print(year, \"is a leap year\")\n",
    "        else:\n",
    "            print(year, \"is not a leap year\")\n",
    "    else:\n",
    "        print(year, \"is a leap year\")\n",
    "else:\n",
    "    print(year, \"is not a leap year\")\n"
   ]
  },
  {
   "cell_type": "markdown",
   "id": "c854ffc9",
   "metadata": {},
   "source": [
    "5. Create a program that checks whether a character is a vowel or a consonant."
   ]
  },
  {
   "cell_type": "code",
   "execution_count": 17,
   "id": "9583806f",
   "metadata": {},
   "outputs": [
    {
     "name": "stdout",
     "output_type": "stream",
     "text": [
      "Enter a character: e\n",
      "e is a vowel.\n"
     ]
    }
   ],
   "source": [
    "def is_vowel(char):\n",
    "    vowels = \"aeiouAEIOU\"\n",
    "    if char in vowels:\n",
    "        print(f\"{char} is a vowel.\")\n",
    "    else:\n",
    "        print(f\"{char} is a consonant.\")\n",
    "\n",
    "char1 = input(\"Enter a character: \")\n",
    "\n",
    "is_vowel(char1)\n"
   ]
  },
  {
   "cell_type": "markdown",
   "id": "27d41d0d",
   "metadata": {},
   "source": [
    "6. Implement a program to determine whether a given number is even or odd."
   ]
  },
  {
   "cell_type": "code",
   "execution_count": 19,
   "id": "b7c16d84",
   "metadata": {},
   "outputs": [
    {
     "name": "stdout",
     "output_type": "stream",
     "text": [
      "Enter a number: 7\n",
      "7 is odd\n"
     ]
    }
   ],
   "source": [
    "num6 = int(input(\"Enter a number: \"))\n",
    "\n",
    "if num6 % 2 == 0:\n",
    "    print(num6, \"is even\")\n",
    "else:\n",
    "    print(num6, \"is odd\")\n"
   ]
  },
  {
   "cell_type": "markdown",
   "id": "0f19103a",
   "metadata": {},
   "source": [
    "7. Write a Python function to calculate the absolute value of a number without using the `abs()` function."
   ]
  },
  {
   "cell_type": "code",
   "execution_count": 20,
   "id": "5792fa7f",
   "metadata": {},
   "outputs": [
    {
     "name": "stdout",
     "output_type": "stream",
     "text": [
      "Enter a number: -8\n",
      "The absolute value of -8 is: 8\n"
     ]
    }
   ],
   "source": [
    "def my_abs(num):\n",
    "    if num < 0:\n",
    "        return -num\n",
    "    else:\n",
    "        return num\n",
    "\n",
    "num7 = int(input(\"Enter a number: \"))\n",
    "print(f\"The absolute value of {num7} is: {my_abs(num7)}\")"
   ]
  },
  {
   "cell_type": "markdown",
   "id": "7534993f",
   "metadata": {},
   "source": [
    "8. Develop a program that determines the largest of three given numbers using if-else statements."
   ]
  },
  {
   "cell_type": "code",
   "execution_count": 21,
   "id": "5859be27",
   "metadata": {},
   "outputs": [
    {
     "name": "stdout",
     "output_type": "stream",
     "text": [
      "The largest number is 19\n"
     ]
    }
   ],
   "source": [
    "number1 = 19\n",
    "number2 = 11\n",
    "number3 = 9\n",
    "\n",
    "if (number1 >= number2) and (number1 >= number3):\n",
    "    largest = number1\n",
    "elif (number2 >= number1) and (number2 >= number3):\n",
    "    largest = number2\n",
    "else:\n",
    "    largest = number3\n",
    "\n",
    "print(f\"The largest number is {largest}\")\n"
   ]
  },
  {
   "cell_type": "markdown",
   "id": "f74788b6",
   "metadata": {},
   "source": [
    "9. Create a program that checks if a given string is a palindrome."
   ]
  },
  {
   "cell_type": "code",
   "execution_count": 23,
   "id": "f22d4542",
   "metadata": {},
   "outputs": [
    {
     "name": "stdout",
     "output_type": "stream",
     "text": [
      "Enter a string: arora\n",
      "arora is a palindrome\n"
     ]
    }
   ],
   "source": [
    "def is_palindrome(string):\n",
    "    string = string.lower()\n",
    "    return string == string[::-1]\n",
    "\n",
    "string9 = input(\"Enter a string: \")\n",
    "\n",
    "if is_palindrome(string9):\n",
    "    print(f\"{string9} is a palindrome\")\n",
    "else:\n",
    "    print(f\"{string9} is not a palindrome\")\n"
   ]
  },
  {
   "cell_type": "markdown",
   "id": "5d4527cf",
   "metadata": {},
   "source": [
    "10. Write a Python program to calculate the grade based on a student's score."
   ]
  },
  {
   "cell_type": "code",
   "execution_count": 24,
   "id": "1e48685a",
   "metadata": {},
   "outputs": [
    {
     "name": "stdout",
     "output_type": "stream",
     "text": [
      "Enter the student's score: 44.5\n",
      "The student's grade is D\n"
     ]
    }
   ],
   "source": [
    "score = float(input(\"Enter the student's score: \"))\n",
    "\n",
    "if score > 90:\n",
    "    print(\"The student's grade is A\")\n",
    "elif score > 80:\n",
    "    print(\"The student's grade is B\")\n",
    "elif score > 60:\n",
    "    print(\"The student's grade is C\")\n",
    "elif score > 40:\n",
    "    print(\"The student's grade is D\")\n",
    "else:\n",
    "    print(\"The student's grade is E\")\n"
   ]
  },
  {
   "cell_type": "markdown",
   "id": "935a50c2",
   "metadata": {},
   "source": [
    "## Nested If-Else Statements:"
   ]
  },
  {
   "cell_type": "markdown",
   "id": "8b344f4b",
   "metadata": {},
   "source": [
    "11. Write a program to find the largest among three numbers using nested if-else statements."
   ]
  },
  {
   "cell_type": "code",
   "execution_count": 26,
   "id": "9243d044",
   "metadata": {},
   "outputs": [
    {
     "name": "stdout",
     "output_type": "stream",
     "text": [
      "Enter the first number: 9\n",
      "Enter the second number: 5\n",
      "Enter the third number: 7\n",
      "9 is the largest number.\n"
     ]
    }
   ],
   "source": [
    "n1 = int(input(\"Enter the first number: \"))\n",
    "n2 = int(input(\"Enter the second number: \"))\n",
    "n3 = int(input(\"Enter the third number: \"))\n",
    "\n",
    "if n1 >= n2:\n",
    "    if n1 >= n3:\n",
    "        print(f\"{n1} is the largest number.\")\n",
    "    else:\n",
    "        print(f\"{n3} is the largest number.\")\n",
    "else:\n",
    "    if n2 >= n3:\n",
    "        print(f\"{n2} is the largest number.\")\n",
    "    else:\n",
    "        print(f\"{n3} is the largest number.\")\n"
   ]
  },
  {
   "cell_type": "markdown",
   "id": "0e779748",
   "metadata": {},
   "source": [
    "12. Implement a program to determine if a triangle is equilateral, isosceles, or scalene."
   ]
  },
  {
   "cell_type": "code",
   "execution_count": 8,
   "id": "19a7df74",
   "metadata": {},
   "outputs": [
    {
     "name": "stdout",
     "output_type": "stream",
     "text": [
      "Enter the length of sides separated by spaces: 3 4 3\n",
      "The triangle is isosceles.\n"
     ]
    }
   ],
   "source": [
    "x, y, z = input(\"Enter the length of sides separated by spaces: \").split()\n",
    "\n",
    "if x == y == z:\n",
    "    print(\"The triangle is equilateral.\")\n",
    "elif x == y or y == z or z == x:\n",
    "    print(\"The triangle is isosceles.\")\n",
    "else:\n",
    "    print(\"The triangle is scalene.\")\n"
   ]
  },
  {
   "cell_type": "markdown",
   "id": "72315ee6",
   "metadata": {},
   "source": [
    "13. Develop a program that checks if a year is a leap year and also if it is a century year."
   ]
  },
  {
   "cell_type": "code",
   "execution_count": 13,
   "id": "9d2f17df",
   "metadata": {},
   "outputs": [
    {
     "name": "stdout",
     "output_type": "stream",
     "text": [
      "Enter a year: 2000\n",
      "2000 is a leap year and also a century year\n"
     ]
    }
   ],
   "source": [
    "year1 = int(input(\"Enter a year: \"))\n",
    "\n",
    "#A leap year is divisible by 4 except for century years\n",
    "if year1 % 4 == 0:\n",
    "    #checking for century year\n",
    "    if year1 % 100 == 0:\n",
    "        #a entury year is exactly divisible by 400\n",
    "        if year1 % 400 == 0:\n",
    "            print(year1, \"is a leap year and also a century year\")\n",
    "        else:\n",
    "            print(year1, \"is not a leap year but a century year\")\n",
    "    else:\n",
    "        print(year1, \"is a leap year but not a century year\")\n",
    "else:\n",
    "    print(year1, \"is neither a leap year nor a century year\")"
   ]
  },
  {
   "cell_type": "markdown",
   "id": "65028319",
   "metadata": {},
   "source": [
    "14. Write a Python script to determine if a number is positive, negative, or zero."
   ]
  },
  {
   "cell_type": "code",
   "execution_count": 14,
   "id": "dd8b81b3",
   "metadata": {},
   "outputs": [
    {
     "name": "stdout",
     "output_type": "stream",
     "text": [
      "Enter a number: -1\n",
      "The number -1 is negative.\n"
     ]
    }
   ],
   "source": [
    "num14 = int(input(\"Enter a number: \"))\n",
    "\n",
    "if num14 >= 0:\n",
    "    if num14 == 0:\n",
    "        print(f\"The number {num14} is zero.\")\n",
    "    else:\n",
    "        print(f\"The number {num14} is positive.\")\n",
    "else:\n",
    "    print(f\"The number {num14} is negative.\")\n"
   ]
  },
  {
   "cell_type": "markdown",
   "id": "f8b14928",
   "metadata": {},
   "source": [
    "15. Create a program to check if a person is a teenager (between 13 and 19 years old)."
   ]
  },
  {
   "cell_type": "code",
   "execution_count": 17,
   "id": "140e715c",
   "metadata": {},
   "outputs": [
    {
     "name": "stdout",
     "output_type": "stream",
     "text": [
      "Enter age: 17\n",
      "Teenager\n"
     ]
    }
   ],
   "source": [
    "age15 = int(input(\"Enter age: \"))\n",
    "\n",
    "if 13 <= age15 <= 19:\n",
    "    print(\"Teenager\")\n",
    "else:\n",
    "    print(\"Not a teenager\")"
   ]
  },
  {
   "cell_type": "markdown",
   "id": "00676120",
   "metadata": {},
   "source": [
    "16. Develop a program that determines the type of angle based on its measure (acute, obtuse, or right)."
   ]
  },
  {
   "cell_type": "code",
   "execution_count": 18,
   "id": "0d0c5a22",
   "metadata": {},
   "outputs": [
    {
     "name": "stdout",
     "output_type": "stream",
     "text": [
      "Enter the angle measure in degrees: 90.14\n",
      "The angle is Obtuse.\n"
     ]
    }
   ],
   "source": [
    "# Input the angle measure from the user\n",
    "angle_measure = float(input(\"Enter the angle measure in degrees: \"))\n",
    "\n",
    "# Check the type of angle based on its measure\n",
    "if angle_measure < 90:\n",
    "    angle_type = \"Acute\"\n",
    "elif angle_measure == 90:\n",
    "    angle_type = \"Right\"\n",
    "else:\n",
    "    angle_type = \"Obtuse\"\n",
    "\n",
    "print(f\"The angle is {angle_type}.\")\n"
   ]
  },
  {
   "cell_type": "markdown",
   "id": "803874ac",
   "metadata": {},
   "source": [
    "17. Write a Python program to calculate the roots of a quadratic equation."
   ]
  },
  {
   "cell_type": "code",
   "execution_count": 20,
   "id": "aeff4d0e",
   "metadata": {},
   "outputs": [
    {
     "name": "stdout",
     "output_type": "stream",
     "text": [
      "Enter the coefficient a: 3\n",
      "Enter the coefficient b: 20\n",
      "Enter the coefficient c: 5\n",
      "Root 1 = -0.26015184756903764\n",
      "Root 2 = -6.406514819097629\n"
     ]
    }
   ],
   "source": [
    "import math\n",
    "\n",
    "# Input coefficients a, b, and c from the user\n",
    "a = int(input(\"Enter the coefficient a: \"))\n",
    "b = int(input(\"Enter the coefficient b: \"))\n",
    "c = int(input(\"Enter the coefficient c: \"))\n",
    "\n",
    "# Calculate the discriminant(b^2-4ac)\n",
    "discriminant = b**2 - 4*a*c\n",
    "\n",
    "# Check if the discriminant is positive, negative, or zero\n",
    "if discriminant > 0:\n",
    "    # Two real and distinct roots\n",
    "    root1 = (-b + math.sqrt(discriminant)) / (2*a)\n",
    "    root2 = (-b - math.sqrt(discriminant)) / (2*a)\n",
    "    print(f\"Root 1 = {root1}\")\n",
    "    print(f\"Root 2 = {root2}\")\n",
    "elif discriminant == 0:\n",
    "    # One real root (repeated)\n",
    "    root = -b / (2*a)\n",
    "    print(f\"Root = {root}\")\n",
    "else:\n",
    "    # Complex roots\n",
    "    real_part = -b / (2*a)\n",
    "    imaginary_part = math.sqrt(abs(discriminant)) / (2*a)\n",
    "    print(f\"Root 1 = {real_part} + {imaginary_part}i\")\n",
    "    print(f\"Root 2 = {real_part} - {imaginary_part}i\")\n"
   ]
  },
  {
   "cell_type": "markdown",
   "id": "a5f7bff4",
   "metadata": {},
   "source": [
    "18. Implement a program to determine the day of the week based on a user-provided number (1 for Monday, 2 for Tuesday, etc.)."
   ]
  },
  {
   "cell_type": "code",
   "execution_count": 24,
   "id": "fb7127b2",
   "metadata": {},
   "outputs": [
    {
     "name": "stdout",
     "output_type": "stream",
     "text": [
      "Enter a number from 1 to 7: 6\n",
      "The day of the week is Saturday.\n"
     ]
    }
   ],
   "source": [
    "def week_days(number: int):    \n",
    "    # Define a dictionary\n",
    "    days = {1: \"Monday\", 2: \"Tuesday\", 3: \"Wednesday\", 4: \"Thursday\", \n",
    "            5: \"Friday\", 6: \"Saturday\", 7: \"Sunday\"}\n",
    "\n",
    "    # Check if the number is valid\n",
    "    if number < 1 or number > 7:\n",
    "        print(\"Invalid number. Please enter between 1 and 7.\")\n",
    "    else:\n",
    "        # Get the corresponding day from the dictionary\n",
    "        day = days[number]\n",
    "        print(f\"The day of the week is {day}.\")\n",
    "    \n",
    "\n",
    "num18 = int(input(\"Enter a number from 1 to 7: \"))\n",
    "#call function\n",
    "week_days(num18)"
   ]
  },
  {
   "cell_type": "markdown",
   "id": "82d49978",
   "metadata": {},
   "source": [
    "19. Create a program that determines if a year is a leap year and also if it is evenly divisible by 400."
   ]
  },
  {
   "cell_type": "code",
   "execution_count": 26,
   "id": "7cc75711",
   "metadata": {},
   "outputs": [
    {
     "name": "stdout",
     "output_type": "stream",
     "text": [
      "Enter a year: 1600\n",
      "1600 is a leap year and evenly divisible by 400\n"
     ]
    }
   ],
   "source": [
    "year2 = int(input(\"Enter a year: \"))\n",
    "\n",
    "#A leap year is divisible by 4 except for century years\n",
    "if year2 % 4 == 0:\n",
    "    #checking for century year\n",
    "    if year2 % 100 == 0:\n",
    "        #a entury year is exactly divisible by 400\n",
    "        if year2 % 400 == 0:\n",
    "            print(year2, \"is a leap year and evenly divisible by 400\")\n",
    "        else:\n",
    "            print(year2, \"is not a leap year and not divisible by 400\")\n",
    "    else:\n",
    "        print(year2, \"is a leap year and not divisible by 400\")\n",
    "else:\n",
    "    print(year2, \"is not a leap year and not divisible by 400\")"
   ]
  },
  {
   "cell_type": "markdown",
   "id": "e184e49c",
   "metadata": {},
   "source": [
    "20. Develop a program that checks if a given number is prime or not using nested if-else statements."
   ]
  },
  {
   "cell_type": "code",
   "execution_count": 28,
   "id": "da466171",
   "metadata": {},
   "outputs": [
    {
     "name": "stdout",
     "output_type": "stream",
     "text": [
      "Enter an integer: 79\n",
      "79 is a prime number.\n"
     ]
    }
   ],
   "source": [
    "num20 = int(input(\"Enter an integer: \"))\n",
    "\n",
    "# Check if the number is valid\n",
    "if num20 <= 0:\n",
    "    print(\"Invalid number. Please enter a positive number.\")\n",
    "else:\n",
    "    if num20 == 1:\n",
    "        print(\"1 is neither prime nor composite.\")\n",
    "    else:\n",
    "        # Set flag as True\n",
    "        prime = True\n",
    "        # Loop from 2 to the square root of the number\n",
    "        for i in range(2, int(num20**0.5) + 1):\n",
    "            # Check if the number is divisible by i\n",
    "            if num20 % i == 0:\n",
    "                # The number is not prime\n",
    "                prime = False\n",
    "                break\n",
    "                \n",
    "        # Check the value of prime\n",
    "        if prime:\n",
    "            print(f\"{num20} is a prime number.\")\n",
    "        else:\n",
    "            print(f\"{num20} is not a prime number.\")\n"
   ]
  },
  {
   "cell_type": "markdown",
   "id": "b8695c4f",
   "metadata": {},
   "source": [
    "## Elif Statements:"
   ]
  },
  {
   "cell_type": "markdown",
   "id": "65b5a0f2",
   "metadata": {},
   "source": [
    "21. Write a Python program to assign grades based on different ranges of scores using elif statements."
   ]
  },
  {
   "cell_type": "code",
   "execution_count": 31,
   "id": "c4c3a6f8",
   "metadata": {},
   "outputs": [
    {
     "name": "stdout",
     "output_type": "stream",
     "text": [
      "Enter the student's score: 79\n",
      "The student's grade is C\n"
     ]
    }
   ],
   "source": [
    "score = int(input(\"Enter the student's score: \"))\n",
    "\n",
    "if score < 0 or score > 100:\n",
    "    print(\"Invalid score. Please enter again.\")\n",
    "else:\n",
    "    if score > 90:\n",
    "        print(\"The student's grade is A\")\n",
    "    elif score > 80:\n",
    "        print(\"The student's grade is B\")\n",
    "    elif score > 60:\n",
    "        print(\"The student's grade is C\")\n",
    "    elif score > 40:\n",
    "        print(\"The student's grade is D\")\n",
    "    else:\n",
    "        print(\"The student's grade is E\")\n"
   ]
  },
  {
   "cell_type": "markdown",
   "id": "fae61624",
   "metadata": {},
   "source": [
    "22. Implement a program to determine the type of a triangle based on its angles."
   ]
  },
  {
   "cell_type": "code",
   "execution_count": 5,
   "id": "4fceaae5",
   "metadata": {},
   "outputs": [
    {
     "name": "stdout",
     "output_type": "stream",
     "text": [
      "Enter the 3 angles of a triangle separated by spaces.\n",
      "Note: The sum of all 3 angles must be 180: 67 23 90\n",
      "The triangle is a right angled triangle.\n"
     ]
    }
   ],
   "source": [
    "a, b, c = input(\"Enter the 3 angles of a triangle separated by spaces.\\n\" \n",
    "                \"Note: The sum of all 3 angles must be 180: \").split()\n",
    "a = int(a)\n",
    "b = int(b)\n",
    "c = int(c)\n",
    "\n",
    "if a + b + c != 180:\n",
    "    print(\"Invalid angles. Please enter again.\")\n",
    "else:\n",
    "    if a == 90 or b == 90 or c == 90:\n",
    "        print(\"The triangle is a right angled triangle.\")\n",
    "    elif a > 90 or b > 90 or c > 90:\n",
    "        print(\"The triangle is an obtuse angled triangle.\")\n",
    "    else:\n",
    "        print(\"The triangle is an acute angled triangle.\")\n"
   ]
  },
  {
   "cell_type": "markdown",
   "id": "a907741d",
   "metadata": {},
   "source": [
    "23. Develop a program to categorize a given person's BMI into underweight, normal, overweight, or obese using elif statements."
   ]
  },
  {
   "cell_type": "code",
   "execution_count": 10,
   "id": "e752e5ac",
   "metadata": {},
   "outputs": [
    {
     "name": "stdout",
     "output_type": "stream",
     "text": [
      "Enter the weight in kilograms: 90\n",
      "Enter the height in meters: 1.65\n",
      "Your BMI is 33.06 and you are obese.\n"
     ]
    }
   ],
   "source": [
    "weight = float(input(\"Enter the weight in kilograms: \"))\n",
    "height = float(input(\"Enter the height in meters: \"))\n",
    "\n",
    "# Calculate the BMI using the formula: BMI = weight / height^2\n",
    "bmi = weight / (height ** 2)\n",
    "\n",
    "# Check if the BMI is valid\n",
    "if bmi <= 0:\n",
    "    print(\"Invalid BMI. Please enter correct details.\")\n",
    "else:\n",
    "    if bmi < 18.5:\n",
    "        category = \"underweight\"\n",
    "    elif bmi < 25:\n",
    "        category = \"normal\"\n",
    "    elif bmi < 30:\n",
    "        category = \"overweight\"\n",
    "    else:\n",
    "        category = \"obese\"\n",
    "    # Print the result\n",
    "    print(f\"Your BMI is {bmi:.2f} and you are {category}.\")\n"
   ]
  },
  {
   "cell_type": "markdown",
   "id": "27c18362",
   "metadata": {},
   "source": [
    "24. Create a program that determines whether a given number is positive, negative, or zero using elif \n",
    "statements."
   ]
  },
  {
   "cell_type": "code",
   "execution_count": 9,
   "id": "e890994c",
   "metadata": {},
   "outputs": [
    {
     "name": "stdout",
     "output_type": "stream",
     "text": [
      "Enter a number: -9\n",
      "The number -9 is negative.\n"
     ]
    }
   ],
   "source": [
    "num24 = int(input(\"Enter a number: \"))\n",
    "\n",
    "if num24 == 0:\n",
    "    print(f\"The number {num24} is zero.\")\n",
    "elif num24 > 0:\n",
    "    print(f\"The number {num24} is positive.\")\n",
    "else:\n",
    "    print(f\"The number {num24} is negative.\")\n"
   ]
  },
  {
   "cell_type": "markdown",
   "id": "4351de3d",
   "metadata": {},
   "source": [
    "25. Write a Python script to determine the type of a character (uppercase, lowercase, or special) using elif statements."
   ]
  },
  {
   "cell_type": "code",
   "execution_count": 4,
   "id": "83b0f7e0",
   "metadata": {},
   "outputs": [
    {
     "name": "stdout",
     "output_type": "stream",
     "text": [
      "Enter a single character: T\n",
      "The character T is uppercase.\n"
     ]
    }
   ],
   "source": [
    "character = input(\"Enter a single character: \")\n",
    "\n",
    "# Check if the character is valid\n",
    "if len(character) != 1:\n",
    "    print(\"Invalid input. Please enter only one letter.\")\n",
    "else:\n",
    "    if character.isupper() and character.isalpha():\n",
    "        char_type = \"uppercase\"\n",
    "    elif character.islower() and character.isalpha():\n",
    "        char_type = \"lowercase\"\n",
    "    # rest of the characters to be treated as special\n",
    "    else:\n",
    "        char_type = \"special\"\n",
    "\n",
    "    print(f\"The character {character} is {char_type}.\")\n"
   ]
  },
  {
   "cell_type": "markdown",
   "id": "b0f4b6a0",
   "metadata": {},
   "source": [
    "26. Implement a program to calculate the discounted price based on different purchase amounts using elif statements."
   ]
  },
  {
   "cell_type": "code",
   "execution_count": 7,
   "id": "ba6b60fa",
   "metadata": {},
   "outputs": [
    {
     "name": "stdout",
     "output_type": "stream",
     "text": [
      "Enter the price: 860\n",
      "The discounted price is 774.00.\n"
     ]
    }
   ],
   "source": [
    "price = float(input(\"Enter the price: \"))\n",
    "\n",
    "# Check if the price is valid\n",
    "if price <= 0:\n",
    "    print(\"Invalid price. Please enter again.\")\n",
    "else:\n",
    "    if price < 500:\n",
    "        discount = 0\n",
    "    elif price < 1000:\n",
    "        #10% discount\n",
    "        discount = 10\n",
    "    elif price < 1500:\n",
    "        #20% discount\n",
    "        discount = 20\n",
    "    else:\n",
    "        #30% discount\n",
    "        discount = 30\n",
    "\n",
    "    discounted_price = price - (price * discount / 100)\n",
    "    # Print the result\n",
    "    print(f\"The discounted price is {discounted_price:.2f}.\")\n"
   ]
  },
  {
   "cell_type": "markdown",
   "id": "d0551e4a",
   "metadata": {},
   "source": [
    "27. Develop a program to calculate the electricity bill based on different consumption slabs using elif \n",
    "statements."
   ]
  },
  {
   "cell_type": "code",
   "execution_count": 10,
   "id": "82438f08",
   "metadata": {},
   "outputs": [
    {
     "name": "stdout",
     "output_type": "stream",
     "text": [
      "Enter the consumption units: 310\n",
      "The electricity bill is Rs. 1395.00.\n"
     ]
    }
   ],
   "source": [
    "# Ask the user to enter the current and previous meter readings in kWh\n",
    "units = float(input(\"Enter the consumption units: \"))\n",
    "\n",
    "if units < 100:\n",
    "    rate = 3\n",
    "elif units < 200:\n",
    "    rate = 3.5\n",
    "elif units < 300:\n",
    "    rate = 4\n",
    "elif units < 400:\n",
    "    rate = 4.5\n",
    "else:\n",
    "    rate = 5\n",
    "\n",
    "electricity_bill = units * rate\n",
    "\n",
    "# Print the result\n",
    "print(f\"The electricity bill is Rs. {electricity_bill:.2f}.\")\n"
   ]
  },
  {
   "cell_type": "markdown",
   "id": "7f68eccb",
   "metadata": {},
   "source": [
    "28. Create a program to determine the type of quadrilateral based on its angles and sides using elif \n",
    "statements."
   ]
  },
  {
   "cell_type": "code",
   "execution_count": 12,
   "id": "4c07172c",
   "metadata": {},
   "outputs": [
    {
     "name": "stdout",
     "output_type": "stream",
     "text": [
      "Enter the first angle: 100\n",
      "Enter the second angle: 80\n",
      "Enter the third angle: 100\n",
      "Enter the fourth angle: 80\n",
      "Enter the first side: 4\n",
      "Enter the second side: 6\n",
      "Enter the third side: 4\n",
      "Enter the fourth side: 6\n",
      "The quadrilateral is parallelogram.\n"
     ]
    }
   ],
   "source": [
    "#Enter all angles\n",
    "a1 = int(input(\"Enter the first angle: \"))\n",
    "a2 = int(input(\"Enter the second angle: \"))\n",
    "a3 = int(input(\"Enter the third angle: \"))\n",
    "a4 = int(input(\"Enter the fourth angle: \"))\n",
    "#Enter all sides\n",
    "s1 = int(input(\"Enter the first side: \"))\n",
    "s2 = int(input(\"Enter the second side: \"))\n",
    "s3 = int(input(\"Enter the third side: \"))\n",
    "s4 = int(input(\"Enter the fourth side: \"))\n",
    "\n",
    "if a1 + a2 + a3 + a4 != 360:\n",
    "    print(\"Invalid angles. Please enter again.\")\n",
    "elif s1 <= 0 or s2 <= 0 or s3 <= 0 or s4 <= 0:\n",
    "    print(\"Invalid sides. Please enter again.\")\n",
    "else:\n",
    "    if a1 == a2 == a3 == a4 == 90 and s1 == s2 == s3 == s4:\n",
    "        q_type = \"square\"\n",
    "    elif a1 == a2 == a3 == a4 == 90 and s1 == s3 and s2 == s4:\n",
    "        q_type = \"rectangle\"\n",
    "    elif s1 == s2 == s3 == s4 and a1 == a3 and a2 == a4:\n",
    "        q_type = \"rhombus\"\n",
    "    elif s1 == s3 and s2 == s4 and a1 == a3 and a2 == a4:\n",
    "        q_type = \"parallelogram\"\n",
    "    else:\n",
    "        q_type = \"quadrilateral\"\n",
    "        \n",
    "print(f\"The quadrilateral is {q_type}.\")\n"
   ]
  },
  {
   "cell_type": "markdown",
   "id": "f0456bfd",
   "metadata": {},
   "source": [
    "29. Write a Python script to determine the season based on a user-provided month using elif statements."
   ]
  },
  {
   "cell_type": "code",
   "execution_count": 17,
   "id": "1a753c00",
   "metadata": {},
   "outputs": [
    {
     "name": "stdout",
     "output_type": "stream",
     "text": [
      "Enter a month: april\n",
      "The season is summer.\n"
     ]
    }
   ],
   "source": [
    "month = input(\"Enter a month: \")\n",
    "\n",
    "if month.lower() in [\"december\", \"january\", \"february\"]:\n",
    "    season = \"winter\"\n",
    "elif month.lower() in [\"march\", \"april\", \"may\", \"june\"]:\n",
    "    season = \"summer\"\n",
    "elif month.lower() in [\"july\", \"august\", \"september\"]:\n",
    "    season = \"rainy\"\n",
    "elif month.lower() in [\"october\", \"november\"]:\n",
    "    season = \"autumn\"\n",
    "else:\n",
    "    season = \"invalid season\"\n",
    "\n",
    "print(f\"The season is {season}.\")\n"
   ]
  },
  {
   "cell_type": "markdown",
   "id": "1fefa2d2",
   "metadata": {},
   "source": [
    "30. Implement a program to determine the type of a year (leap or common) and month (30 or 31 days) using elif statements."
   ]
  },
  {
   "cell_type": "code",
   "execution_count": 27,
   "id": "edfc68e9",
   "metadata": {},
   "outputs": [
    {
     "name": "stdout",
     "output_type": "stream",
     "text": [
      "Enter a year: 2024\n",
      "Enter a month in number format: 2\n",
      "The year 2024 is a leap year and the month 2 has 29 days.\n"
     ]
    }
   ],
   "source": [
    "# Ask the user to enter a year and a month\n",
    "y = int(input(\"Enter a year: \"))\n",
    "m = int(input(\"Enter a month in number format: \"))\n",
    "\n",
    "# Check if the year and month are valid\n",
    "if y <= 0:\n",
    "    print(\"Invalid year. Please try again.\")\n",
    "elif m not in range(1,13):\n",
    "    print(\"Invalid month. Please try again.\")\n",
    "else:\n",
    "    if y % 4 == 0 and (y % 100 != 0 or y % 400 == 0):\n",
    "        type_year = \"leap\"\n",
    "    else:\n",
    "        type_year = \"common\"\n",
    "\n",
    "    if m in [1, 3, 5, 7, 8, 10, 12]:\n",
    "        days = 31\n",
    "    elif m in [4, 6, 9, 11]:\n",
    "        days = 30\n",
    "    else:\n",
    "        if type_year == \"leap\":\n",
    "            days = 29\n",
    "        else:\n",
    "            days = 28\n",
    "\n",
    "    # Print the result\n",
    "    print(f\"The year {y} is a {type_year} year and the month {m} has {days} days.\")\n"
   ]
  },
  {
   "cell_type": "markdown",
   "id": "8f0dd12c",
   "metadata": {},
   "source": [
    "## Basic Level:"
   ]
  },
  {
   "cell_type": "markdown",
   "id": "c5427a9a",
   "metadata": {},
   "source": [
    "1. Write a Python program that checks if a given number is positive, negative, or zero."
   ]
  },
  {
   "cell_type": "code",
   "execution_count": 13,
   "id": "13a2d77b",
   "metadata": {},
   "outputs": [
    {
     "name": "stdout",
     "output_type": "stream",
     "text": [
      "Enter a number: 6\n",
      "The number 6 is positive.\n"
     ]
    }
   ],
   "source": [
    "num_1 = int(input(\"Enter a number: \"))\n",
    "\n",
    "if num_1 == 0:\n",
    "    print(f\"The number {num_1} is zero.\")\n",
    "elif num_1 > 0:\n",
    "    print(f\"The number {num_1} is positive.\")\n",
    "else:\n",
    "    print(f\"The number {num_1} is negative.\")\n"
   ]
  },
  {
   "cell_type": "markdown",
   "id": "322260a1",
   "metadata": {},
   "source": [
    "2. Create a program to determine if a person is eligible to vote based on their age."
   ]
  },
  {
   "cell_type": "code",
   "execution_count": 18,
   "id": "3e6294de",
   "metadata": {},
   "outputs": [
    {
     "name": "stdout",
     "output_type": "stream",
     "text": [
      "Enter the age: 18\n",
      "Eligible to vote.\n"
     ]
    }
   ],
   "source": [
    "person_age = int(input(\"Enter the age: \"))\n",
    "\n",
    "if person_age >= 18:\n",
    "    print(\"Eligible to vote.\")\n",
    "else:\n",
    "    print(\"Not eligible to vote.\")"
   ]
  },
  {
   "cell_type": "markdown",
   "id": "750161ab",
   "metadata": {},
   "source": [
    "3. Write a program to find the maximum of two given numbers using conditional statements."
   ]
  },
  {
   "cell_type": "code",
   "execution_count": 20,
   "id": "0aef8b8d",
   "metadata": {},
   "outputs": [
    {
     "name": "stdout",
     "output_type": "stream",
     "text": [
      "Enter the first number: 7\n",
      "Enter the second number: 8\n",
      "The maximum of the two numbers is 8\n"
     ]
    }
   ],
   "source": [
    "n_1 = int(input(\"Enter the first number: \"))\n",
    "n_2 = int(input(\"Enter the second number: \"))\n",
    "\n",
    "if n_1 > n_2:\n",
    "    print(f\"The maximum of the two numbers is {n_1}\")\n",
    "elif n_2 > n_1:\n",
    "    print(f\"The maximum of the two numbers is {n_2}\")\n",
    "else:\n",
    "    print(f\"Both {n_1} and {n_2} are equal\")\n"
   ]
  },
  {
   "cell_type": "markdown",
   "id": "e8a42933",
   "metadata": {},
   "source": [
    "4. Develop a program that calculates the grade of a student based on their exam score."
   ]
  },
  {
   "cell_type": "code",
   "execution_count": 21,
   "id": "2645edb3",
   "metadata": {},
   "outputs": [
    {
     "name": "stdout",
     "output_type": "stream",
     "text": [
      "Enter the student's score: 66\n",
      "The student's grade is C\n"
     ]
    }
   ],
   "source": [
    "marks = int(input(\"Enter the student's score: \"))\n",
    "\n",
    "if marks < 0 or marks > 100:\n",
    "    print(\"Invalid score. Please enter again.\")\n",
    "else:\n",
    "    if marks > 90:\n",
    "        print(\"The student's grade is A\")\n",
    "    elif marks > 80:\n",
    "        print(\"The student's grade is B\")\n",
    "    elif marks > 60:\n",
    "        print(\"The student's grade is C\")\n",
    "    elif marks > 40:\n",
    "        print(\"The student's grade is D\")\n",
    "    else:\n",
    "        print(\"The student's grade is E\")\n"
   ]
  },
  {
   "cell_type": "markdown",
   "id": "d3a27b9e",
   "metadata": {},
   "source": [
    "5. Create a program that checks if a year is a leap year or not."
   ]
  },
  {
   "cell_type": "code",
   "execution_count": 30,
   "id": "b14264f8",
   "metadata": {},
   "outputs": [
    {
     "name": "stdout",
     "output_type": "stream",
     "text": [
      "Enter a year: 1780\n",
      "1780 is a leap year\n"
     ]
    }
   ],
   "source": [
    "year5 = int(input(\"Enter a year: \"))\n",
    "\n",
    "#A leap year is divisible by 4 except for century years\n",
    "if year5 % 4 == 0:\n",
    "    #checking for century year\n",
    "    if year5 % 100 == 0:\n",
    "        #a entury year is exactly divisible by 400\n",
    "        if year5 % 400 == 0:\n",
    "            print(year5, \"is a leap year\")\n",
    "        else:\n",
    "            print(year5, \"is not a leap year\")\n",
    "    else:\n",
    "        print(year5, \"is a leap year\")\n",
    "else:\n",
    "    print(year5, \"is not a leap year\")\n"
   ]
  },
  {
   "cell_type": "markdown",
   "id": "6dd4e608",
   "metadata": {},
   "source": [
    "6. Write a program to classify a triangle based on its sides' lengths."
   ]
  },
  {
   "cell_type": "code",
   "execution_count": 31,
   "id": "1091a484",
   "metadata": {},
   "outputs": [
    {
     "name": "stdout",
     "output_type": "stream",
     "text": [
      "Enter the length of sides separated by spaces: 4 5 2\n",
      "The triangle is scalene.\n"
     ]
    }
   ],
   "source": [
    "p, q, r = input(\"Enter the length of sides separated by spaces: \").split()\n",
    "\n",
    "if p == q == r:\n",
    "    print(\"The triangle is equilateral.\")\n",
    "elif p == q or q == r or r == p:\n",
    "    print(\"The triangle is isosceles.\")\n",
    "else:\n",
    "    print(\"The triangle is scalene.\")\n"
   ]
  },
  {
   "cell_type": "markdown",
   "id": "7adbf411",
   "metadata": {},
   "source": [
    "7. Build a program that determines the largest of three given numbers."
   ]
  },
  {
   "cell_type": "code",
   "execution_count": 3,
   "id": "f88b31f1",
   "metadata": {},
   "outputs": [
    {
     "name": "stdout",
     "output_type": "stream",
     "text": [
      "Enter the first number: 4\n",
      "Enter the second number: 2\n",
      "Enter the third number: 3\n",
      "The maximum of the two numbers is 4\n"
     ]
    }
   ],
   "source": [
    "i = int(input(\"Enter the first number: \"))\n",
    "j = int(input(\"Enter the second number: \"))\n",
    "k = int(input(\"Enter the third number: \"))\n",
    "\n",
    "if i > j and i > k:\n",
    "    print(f\"The maximum of the two numbers is {i}\")\n",
    "elif j > i and j > k:\n",
    "    print(f\"The maximum of the two numbers is {j}\")\n",
    "else:\n",
    "    print(f\"The maximum of the two numbers is {k}\")\n"
   ]
  },
  {
   "cell_type": "markdown",
   "id": "1a41e080",
   "metadata": {},
   "source": [
    "8. Develop a program that checks whether a character is a vowel or a consonant."
   ]
  },
  {
   "cell_type": "code",
   "execution_count": 34,
   "id": "2821deea",
   "metadata": {},
   "outputs": [
    {
     "name": "stdout",
     "output_type": "stream",
     "text": [
      "Enter a character: y\n",
      "y is a consonant.\n"
     ]
    }
   ],
   "source": [
    "def is_vowel(char):\n",
    "    vowels = \"aeiouAEIOU\"\n",
    "    if char in vowels:\n",
    "        print(f\"{char} is a vowel.\")\n",
    "    else:\n",
    "        print(f\"{char} is a consonant.\")\n",
    "\n",
    "char8 = input(\"Enter a character: \")\n",
    "\n",
    "is_vowel(char8)\n"
   ]
  },
  {
   "cell_type": "markdown",
   "id": "469a70e3",
   "metadata": {},
   "source": [
    "9. Create a program to calculate the total cost of a shopping cart based on discounts."
   ]
  },
  {
   "cell_type": "code",
   "execution_count": 36,
   "id": "93a732e0",
   "metadata": {},
   "outputs": [
    {
     "name": "stdout",
     "output_type": "stream",
     "text": [
      "Enter the price: 1200\n",
      "The discounted price is 960.00.\n"
     ]
    }
   ],
   "source": [
    "price = float(input(\"Enter the price: \"))\n",
    "\n",
    "# Check if the price is valid\n",
    "if price <= 0:\n",
    "    print(\"Invalid price. Please enter again.\")\n",
    "else:\n",
    "    if price < 500:\n",
    "        discount = 0\n",
    "    elif price < 1000:\n",
    "        #10% discount\n",
    "        discount = 10\n",
    "    elif price < 1500:\n",
    "        #20% discount\n",
    "        discount = 20\n",
    "    else:\n",
    "        #30% discount\n",
    "        discount = 30\n",
    "\n",
    "    discounted_price = price - (price * discount / 100)\n",
    "    # Print the result\n",
    "    print(f\"The discounted price is {discounted_price:.2f}.\")\n"
   ]
  },
  {
   "cell_type": "markdown",
   "id": "3e3cb728",
   "metadata": {},
   "source": [
    "10. Write a program that checks if a given number is even or odd."
   ]
  },
  {
   "cell_type": "code",
   "execution_count": 35,
   "id": "32978779",
   "metadata": {},
   "outputs": [
    {
     "name": "stdout",
     "output_type": "stream",
     "text": [
      "Enter a number: 111\n",
      "111 is odd\n"
     ]
    }
   ],
   "source": [
    "num10 = int(input(\"Enter a number: \"))\n",
    "\n",
    "if num10 % 2 == 0:\n",
    "    print(num10, \"is even\")\n",
    "else:\n",
    "    print(num10, \"is odd\")\n"
   ]
  },
  {
   "cell_type": "markdown",
   "id": "c32b3a36",
   "metadata": {},
   "source": [
    "## Intermediate Level: "
   ]
  },
  {
   "cell_type": "markdown",
   "id": "2e00f3b0",
   "metadata": {},
   "source": [
    "11. Write a program that calculates the roots of a quadratic equation."
   ]
  },
  {
   "cell_type": "code",
   "execution_count": 10,
   "id": "019e1bfb",
   "metadata": {},
   "outputs": [
    {
     "name": "stdout",
     "output_type": "stream",
     "text": [
      "Enter the coefficient a: 2\n",
      "Enter the coefficient b: 20\n",
      "Enter the coefficient c: 2\n",
      "Root 1 = -0.10102051443364424\n",
      "Root 2 = -9.898979485566356\n"
     ]
    }
   ],
   "source": [
    "import math\n",
    "\n",
    "# Input coefficients a, b, and c from the user\n",
    "a = int(input(\"Enter the coefficient a: \"))\n",
    "b = int(input(\"Enter the coefficient b: \"))\n",
    "c = int(input(\"Enter the coefficient c: \"))\n",
    "\n",
    "# Calculate the discriminant(b^2-4ac)\n",
    "discriminant = b**2 - 4*a*c\n",
    "\n",
    "# Check if the discriminant is positive, negative, or zero\n",
    "if discriminant > 0:\n",
    "    # Two real and distinct roots\n",
    "    root1 = (-b + math.sqrt(discriminant)) / (2*a)\n",
    "    root2 = (-b - math.sqrt(discriminant)) / (2*a)\n",
    "    print(f\"Root 1 = {root1}\")\n",
    "    print(f\"Root 2 = {root2}\")\n",
    "elif discriminant == 0:\n",
    "    # One real root (repeated)\n",
    "    root = -b / (2*a)\n",
    "    print(f\"Root = {root}\")\n",
    "else:\n",
    "    # Complex roots\n",
    "    real_part = -b / (2*a)\n",
    "    imaginary_part = math.sqrt(abs(discriminant)) / (2*a)\n",
    "    print(f\"Root 1 = {real_part} + {imaginary_part}i\")\n",
    "    print(f\"Root 2 = {real_part} - {imaginary_part}i\")\n"
   ]
  },
  {
   "cell_type": "markdown",
   "id": "9d5494f8",
   "metadata": {},
   "source": [
    "12. Create a program that determines the day of the week based on the day number (1-7)."
   ]
  },
  {
   "cell_type": "code",
   "execution_count": 11,
   "id": "2260efa5",
   "metadata": {},
   "outputs": [
    {
     "name": "stdout",
     "output_type": "stream",
     "text": [
      "Enter a number from 1 to 7: 5\n",
      "The day of the week is Friday.\n"
     ]
    }
   ],
   "source": [
    "def week_days(number: int):    \n",
    "    # Define a dictionary\n",
    "    days = {1: \"Monday\", 2: \"Tuesday\", 3: \"Wednesday\", 4: \"Thursday\", \n",
    "            5: \"Friday\", 6: \"Saturday\", 7: \"Sunday\"}\n",
    "\n",
    "    # Check if the number is valid\n",
    "    if number < 1 or number > 7:\n",
    "        print(\"Invalid number. Please enter between 1 and 7.\")\n",
    "    else:\n",
    "        # Get the corresponding day from the dictionary\n",
    "        day = days[number]\n",
    "        print(f\"The day of the week is {day}.\")\n",
    "    \n",
    "\n",
    "num19 = int(input(\"Enter a number from 1 to 7: \"))\n",
    "#call function\n",
    "week_days(num19)"
   ]
  },
  {
   "cell_type": "markdown",
   "id": "bebdb04d",
   "metadata": {},
   "source": [
    "13. Develop a program that calculates the factorial of a given number using recursion."
   ]
  },
  {
   "cell_type": "code",
   "execution_count": 8,
   "id": "fe078b8f",
   "metadata": {},
   "outputs": [
    {
     "name": "stdout",
     "output_type": "stream",
     "text": [
      "Enter a number: 5\n",
      "The factorial of 5 is: 120\n"
     ]
    }
   ],
   "source": [
    "def fact(num: int) -> int:\n",
    "    if num == 0 or num == 1:\n",
    "        return 1\n",
    "    else:\n",
    "        return num * fact(num-1)\n",
    "    \n",
    "num13 = int(input(\"Enter a number: \"))\n",
    "print(f\"The factorial of {num13} is: {fact(num13)}\")"
   ]
  },
  {
   "cell_type": "markdown",
   "id": "6361e97a",
   "metadata": {},
   "source": [
    "14. Write a program to find the largest among three numbers without using the `max()` function."
   ]
  },
  {
   "cell_type": "code",
   "execution_count": 10,
   "id": "38516b54",
   "metadata": {},
   "outputs": [
    {
     "name": "stdout",
     "output_type": "stream",
     "text": [
      "Enter the first number: 4\n",
      "Enter the second number: 5\n",
      "Enter the third number: 6\n",
      "The maximum of the two numbers is 6\n"
     ]
    }
   ],
   "source": [
    "u = int(input(\"Enter the first number: \"))\n",
    "v = int(input(\"Enter the second number: \"))\n",
    "w = int(input(\"Enter the third number: \"))\n",
    "\n",
    "\n",
    "if u > v and u > w:\n",
    "    print(f\"The maximum of the two numbers is {u}\")\n",
    "elif v > u and v > w:\n",
    "    print(f\"The maximum of the two numbers is {v}\")\n",
    "else:\n",
    "    print(f\"The maximum of the two numbers is {w}\")\n",
    "\n"
   ]
  },
  {
   "cell_type": "markdown",
   "id": "84765345",
   "metadata": {},
   "source": [
    "15. Create a program that simulates a basic ATM transaction menu."
   ]
  },
  {
   "cell_type": "code",
   "execution_count": 2,
   "id": "778d91a8",
   "metadata": {},
   "outputs": [
    {
     "name": "stdout",
     "output_type": "stream",
     "text": [
      "\n",
      "Welcome to ATM banking!\n",
      "\n",
      "\n",
      "Enter your 4 digit pin: 1234\n",
      "\n",
      "\n",
      "Choose any of the following options:\n",
      " Enter 1 to Widthdraw Cash \n",
      " Enter 2 for Balance Enquiry \n",
      " Enter 3 to Exit\n",
      "Please enter your choice: 2\n",
      "Your total balance is: 20000\n",
      "\n",
      "\n",
      "Choose any of the following options:\n",
      " Enter 1 to Widthdraw Cash \n",
      " Enter 2 for Balance Enquiry \n",
      " Enter 3 to Exit\n",
      "Please enter your choice: 1\n",
      "Enter the withdrawal amount: 2000\n",
      "Rs. 2000 withdrawn successfully.\n",
      "Your remaining balance is: 18000\n",
      "Please collect your cash.\n",
      "\n",
      "\n",
      "\n",
      "Choose any of the following options:\n",
      " Enter 1 to Widthdraw Cash \n",
      " Enter 2 for Balance Enquiry \n",
      " Enter 3 to Exit\n",
      "Please enter your choice: 3\n",
      "Logged out successfully. Thanks for visiting. Please collect your card.\n"
     ]
    }
   ],
   "source": [
    "#store user details in a dictionary\n",
    "user_data = {'pin' : 1234, 'balance' : 20000}\n",
    "\n",
    "#functions\n",
    "def cash_withdrawal():\n",
    "    amount = int(input(\"Enter the withdrawal amount: \"))\n",
    "    if amount > user_data['balance']:\n",
    "        print('Insufficient Funds!\\n')\n",
    "    else:\n",
    "        user_data['balance'] -= amount\n",
    "        print(f\"Rs. {amount} withdrawn successfully.\\nYour remaining balance is: {user_data['balance']}\\nPlease collect your cash.\\n\")\n",
    "    \n",
    "def check_balance():\n",
    "    print(f\"Your total balance is: {user_data['balance']}\")\n",
    "#########\n",
    "\n",
    "exit = False\n",
    "\n",
    "print('')\n",
    "print(\"Welcome to ATM banking!\\n\")\n",
    "credentials = int(input(\"\\nEnter your 4 digit pin: \"))\n",
    "if credentials == user_data['pin']:\n",
    "    while exit == False:\n",
    "        print(\"\\n\\nChoose any of the following options:\")\n",
    "        print(\" Enter 1 to Widthdraw Cash \\n Enter 2 for Balance Enquiry \\n Enter 3 to Exit\")\n",
    "        user_input = int(input(\"Please enter your choice: \"))\n",
    "        if user_input == 1:\n",
    "            cash_withdrawal()\n",
    "        elif user_input == 2:\n",
    "            check_balance()\n",
    "        elif user_input == 3:\n",
    "            print(\"Logged out successfully. Thanks for visiting. Please collect your card.\")\n",
    "            exit = True\n",
    "        else:\n",
    "            print(\"Please choose the correct option.\")\n",
    "else:\n",
    "    print(\"You have entered a wrong pin. Please retry.\")\n"
   ]
  },
  {
   "cell_type": "markdown",
   "id": "6cf8e4f3",
   "metadata": {},
   "source": [
    "16. Build a program that checks if a given string is a palindrome or not."
   ]
  },
  {
   "cell_type": "code",
   "execution_count": 8,
   "id": "5ff1699e",
   "metadata": {},
   "outputs": [
    {
     "name": "stdout",
     "output_type": "stream",
     "text": [
      "Enter a string: NITIN\n",
      "NITIN is a palindrome\n"
     ]
    }
   ],
   "source": [
    "def is_palindrome(string):\n",
    "    string = string.lower()\n",
    "    return string == string[::-1]\n",
    "\n",
    "string16 = input(\"Enter a string: \")\n",
    "\n",
    "if is_palindrome(string16):\n",
    "    print(f\"{string16} is a palindrome\")\n",
    "else:\n",
    "    print(f\"{string16} is not a palindrome\")\n"
   ]
  },
  {
   "cell_type": "markdown",
   "id": "d064d046",
   "metadata": {},
   "source": [
    "17. Write a program that calculates the average of a list of numbers, excluding the smallest and largest values."
   ]
  },
  {
   "cell_type": "code",
   "execution_count": 15,
   "id": "98256102",
   "metadata": {},
   "outputs": [
    {
     "name": "stdout",
     "output_type": "stream",
     "text": [
      "The average of [3, 2, 4, 5, 6] is: 4.0\n"
     ]
    }
   ],
   "source": [
    "num_list = [3, 1, 2, 4, 5, 9, 6]\n",
    "\n",
    "num_list.remove(min(num_list))\n",
    "num_list.remove(max(num_list))\n",
    "avg = sum(num_list) / len(num_list)\n",
    "\n",
    "print(f\"The average of {num_list} is: {avg}\")\n"
   ]
  },
  {
   "cell_type": "markdown",
   "id": "189dbd5b",
   "metadata": {},
   "source": [
    "18. Develop a program that converts a given temperature from Celsius to Fahrenheit."
   ]
  },
  {
   "cell_type": "code",
   "execution_count": 16,
   "id": "52925dc6",
   "metadata": {},
   "outputs": [
    {
     "name": "stdout",
     "output_type": "stream",
     "text": [
      "Enter temperature in Celsius: 38\n",
      "38.0 degrees Celsius is equal to 100.4 degrees Fahrenheit\n"
     ]
    }
   ],
   "source": [
    "def cels_to_fahr(celsius: float):\n",
    "    return (celsius * 1.8) + 32\n",
    "\n",
    "celsius = float(input(\"Enter temperature in Celsius: \"))\n",
    "\n",
    "print(f\"{celsius} degrees Celsius is equal to {cels_to_fahr(celsius)} degrees Fahrenheit\")\n"
   ]
  },
  {
   "cell_type": "markdown",
   "id": "e01072ea",
   "metadata": {},
   "source": [
    "19. Create a program that simulates a basic calculator for addition, subtraction, multiplication, and division."
   ]
  },
  {
   "cell_type": "code",
   "execution_count": 1,
   "id": "2918bcd2",
   "metadata": {},
   "outputs": [
    {
     "name": "stdout",
     "output_type": "stream",
     "text": [
      "\n",
      "Select operation.\n",
      "1.Add\n",
      "2.Subtract\n",
      "3.Multiply\n",
      "4.Divide\n",
      "Enter operation (1-4): 1\n",
      "Enter first number: 3\n",
      "Enter second number: 8\n",
      "3.0 + 8.0 = 11.0\n"
     ]
    }
   ],
   "source": [
    "print(\"\")\n",
    "print(\"Select operation.\")\n",
    "print(\"1.Add\")\n",
    "print(\"2.Subtract\")\n",
    "print(\"3.Multiply\")\n",
    "print(\"4.Divide\")\n",
    "\n",
    "while True:\n",
    "    choice = input(\"Enter operation (1-4): \")\n",
    "\n",
    "    if choice in ('1', '2', '3', '4'):\n",
    "        num1 = float(input(\"Enter first number: \"))\n",
    "        num2 = float(input(\"Enter second number: \"))\n",
    "\n",
    "        if choice == '1':\n",
    "            print(num1, \"+\", num2, \"=\", num1 + num2)\n",
    "\n",
    "        elif choice == '2':\n",
    "            print(num1, \"-\", num2, \"=\", num1 - num2)\n",
    "\n",
    "        elif choice == '3':\n",
    "            print(num1, \"*\", num2, \"=\", num1 * num2)\n",
    "\n",
    "        elif choice == '4':\n",
    "            print(num1, \"/\", num2, \"=\", num1 / num2)\n",
    "        break\n",
    "    else:\n",
    "        print(\"Invalid choice.\")\n"
   ]
  },
  {
   "cell_type": "markdown",
   "id": "0cf2ea3e",
   "metadata": {},
   "source": [
    "20. Write a program that determines the roots of a cubic equation using the Cardano formula."
   ]
  },
  {
   "cell_type": "code",
   "execution_count": 4,
   "id": "b136c16f",
   "metadata": {},
   "outputs": [
    {
     "name": "stdout",
     "output_type": "stream",
     "text": [
      "The root of 2x^3 + 0x^2 + 1x + 1 is:  0.12539566828250798\n"
     ]
    }
   ],
   "source": [
    "def roots_cubic(a, b, c, d):\n",
    "    p = (3*a*c - b**2) / (3*a**2)\n",
    "    q = (2*b**3 - 9*a*b*c + 27*a**2*d) / (27*a**3)\n",
    "    delta = (q/2)**2 + (p/3)**3\n",
    "    u = (-q/2 + delta**0.5)**(1/3) if delta >= 0 else (-q/2 - (-delta)**0.5)**(1/3)\n",
    "    root = u - b/(3*a) - p*u/(3*a*u + b)\n",
    "    return root\n",
    "\n",
    "# Input coefficients:\n",
    "a, b, c, d = 2, 0, 1, 1\n",
    "\n",
    "print(f\"The root of {a}x^3 + {b}x^2 + {c}x + {d} is:  {roots_cubic(a, b, c, d)}\")\n"
   ]
  },
  {
   "cell_type": "markdown",
   "id": "dfe238bb",
   "metadata": {},
   "source": [
    "## Advanced Level: "
   ]
  },
  {
   "cell_type": "markdown",
   "id": "178371f3",
   "metadata": {},
   "source": [
    "21. Create a program that calculates the income tax based on the user's income and tax brackets."
   ]
  },
  {
   "cell_type": "code",
   "execution_count": 6,
   "id": "cc3ce4e3",
   "metadata": {},
   "outputs": [
    {
     "name": "stdout",
     "output_type": "stream",
     "text": [
      "Enter the annual income: 100000\n",
      "The income tax is 5000.00\n"
     ]
    }
   ],
   "source": [
    "def income_tax(income):\n",
    "    if income <= 50000:\n",
    "        tax = 0\n",
    "    elif income <= 100000:\n",
    "        tax = (income - 50000) * 0.1\n",
    "    elif income <= 200000:\n",
    "        tax = 5000 + (income - 100000) * 0.2\n",
    "    elif income <= 500000:\n",
    "        tax = 25000 + (income - 200000) * 0.3\n",
    "    else:\n",
    "        tax = 115000 + (income - 500000) * 0.4\n",
    "    return tax\n",
    "\n",
    "income = float(input(\"Enter the annual income: \"))\n",
    "tax = income_tax(income)\n",
    "print(f\"The income tax is {tax:.2f}\")\n"
   ]
  },
  {
   "cell_type": "markdown",
   "id": "ec296f76",
   "metadata": {},
   "source": [
    "22. Write a program that simulates a rock-paper-scissors game against the computer."
   ]
  },
  {
   "cell_type": "code",
   "execution_count": 14,
   "id": "3337ba9f",
   "metadata": {},
   "outputs": [
    {
     "name": "stdout",
     "output_type": "stream",
     "text": [
      "\n",
      "Rock-Paper-Scissors Game!\n",
      "Enter 'rock', 'paper', or 'scissors'\n",
      "What's your move? paper\n",
      "The computer played scissors.\n",
      "The computer wins!\n"
     ]
    }
   ],
   "source": [
    "import random\n",
    "\n",
    "print(\"\")\n",
    "print(\"Rock-Paper-Scissors Game!\")\n",
    "print(\"Enter 'rock', 'paper', or 'scissors'\")\n",
    "player = input(\"What's your move? \")\n",
    "while player not in ['rock', 'paper', 'scissors']:\n",
    "    print(\"Invalid move. Please try again.\")\n",
    "    player = input(\"What's your move? \")\n",
    "computer = random.choice(['rock', 'paper', 'scissors'])\n",
    "print(f\"The computer played {computer}.\")\n",
    "if player == computer:\n",
    "    print(\"It's a tie!\")\n",
    "elif (player == 'rock' and computer == 'scissors' or\n",
    "      player == 'paper' and computer == 'rock' or\n",
    "      player == 'scissors' and computer == 'paper'):\n",
    "    print(\"You win!\")\n",
    "else:\n",
    "    print(\"The computer wins!\")\n"
   ]
  },
  {
   "cell_type": "markdown",
   "id": "8bab470a",
   "metadata": {},
   "source": [
    "23. Develop a program that generates a random password based on user preferences (length, complexity)."
   ]
  },
  {
   "cell_type": "code",
   "execution_count": 47,
   "id": "61aab0ac",
   "metadata": {},
   "outputs": [
    {
     "name": "stdout",
     "output_type": "stream",
     "text": [
      "\n",
      "Enter you preferences.\n",
      "Enter the password length: 9\n",
      "Include Uppercase? (True/False): True\n",
      "Include Lowercase? (True/False): True\n",
      "Include Digits?    (True/False): False\n",
      "Include Symbols?   (True/False): True\n",
      "\n",
      "Generated password is: E'LAV^,(x\n"
     ]
    }
   ],
   "source": [
    "import random\n",
    "import string\n",
    "\n",
    "def generate_password(length: int, uppercase: bool, lowercase: bool, digits: bool, symbols: bool):\n",
    "    characters = ''\n",
    "    \n",
    "    if uppercase:\n",
    "        characters += string.ascii_uppercase\n",
    "    if lowercase:\n",
    "        characters += string.ascii_lowercase\n",
    "    if digits:\n",
    "        characters += string.digits\n",
    "    if symbols:\n",
    "        characters += string.punctuation\n",
    "        \n",
    "    password = ''.join(random.choice(characters) for _ in range(length))\n",
    "    return password\n",
    "\n",
    "print(\"\\nEnter you preferences.\")\n",
    "length    = int(input(\"Enter the password length: \"))\n",
    "uppercase = eval(input(\"Include Uppercase? (True/False): \"))\n",
    "lowercase = eval(input(\"Include Lowercase? (True/False): \"))\n",
    "digits    = eval(input(\"Include Digits?    (True/False): \"))\n",
    "symbols   = eval(input(\"Include Symbols?   (True/False): \"))\n",
    "\n",
    "password = generate_password(length, uppercase, lowercase, digits, symbols)\n",
    "print(f\"\\nGenerated password is: {password}\")\n"
   ]
  },
  {
   "cell_type": "markdown",
   "id": "fd1cfd7f",
   "metadata": {},
   "source": [
    "24. Create a program that implements a simple text-based adventure game with branching scenarios."
   ]
  },
  {
   "cell_type": "code",
   "execution_count": 51,
   "id": "d3d8534b",
   "metadata": {},
   "outputs": [
    {
     "name": "stdout",
     "output_type": "stream",
     "text": [
      "Let's begin the Adventure Game!\n",
      "You are lost in a forest.\n",
      "You can choose to walk in multiple directions to find a way out.\n",
      "\n",
      "Enter your name to begin the game: Gaurav\n",
      "\n",
      "All the best, Gaurav!\n",
      "\n",
      "\n",
      "You reached an old hut. You are looking something for your safety and found two objects.\n",
      "Which object would you pick up? (left/right) left\n",
      "\n",
      "You picked up a wooden stick.\n",
      "A lion enters the hut. Would you use the stick to attack? (yes/no) no\n",
      "The lion goes back to the jungle as he is not hungry. You now look for something else\n",
      "\n",
      "You reached an old hut. You are looking something for your safety and found two objects.\n",
      "Which object would you pick up? (left/right) right\n",
      "\n",
      "You picked up a gun. You found a smuggler wanting to hide in the hut.\n",
      "Do you want to fight with smuggler? (yes/no) yes\n",
      "You killed the smuggler and handed over his items to the police later. Game over!\n"
     ]
    }
   ],
   "source": [
    "def location1():\n",
    "    print(\"\\nYou reached an old hut. You are looking something for your safety and found two objects.\")\n",
    "    choice = input(\"Which object would you pick up? (left/right) \")\n",
    "    if choice == \"left\":\n",
    "        object1()\n",
    "    elif choice == \"right\":\n",
    "        object2()\n",
    "    else:\n",
    "        print(\"Invalid choice. Please try again.\")\n",
    "        location1()\n",
    "\n",
    "def object1():\n",
    "    print(\"\\nYou picked up a wooden stick.\")\n",
    "    choice = input(\"A lion enters the hut. Would you use the stick to attack? (yes/no) \")\n",
    "    if choice == \"yes\":\n",
    "        print(\"The lion attacks you back. And your game is over!\")\n",
    "    elif choice == \"no\":\n",
    "        print(\"The lion goes back to the jungle as he is not hungry. You now look for something else\")\n",
    "        location1()\n",
    "    else:\n",
    "        print(\"Invalid choice. Please try again.\")\n",
    "        object1()\n",
    "\n",
    "def object2():\n",
    "    print(\"\\nYou picked up a gun. You found a smuggler wanting to hide in the hut.\")\n",
    "    choice = input(\"Do you want to fight with smuggler? (yes/no) \")\n",
    "    if choice == \"yes\":\n",
    "        print(\"You killed the smuggler and handed over his items to the police later. Game over!\")\n",
    "    elif choice == \"no\":\n",
    "        print(\"You run away from the smuggler and continue on your adventure.\")\n",
    "        location1()\n",
    "    else:\n",
    "        print(\"Invalid choice. Please try again.\")\n",
    "        object2()\n",
    "\n",
    "\n",
    "print(\"Let's begin the Adventure Game!\")\n",
    "print(\"You are lost in a forest.\")\n",
    "print(\"You can choose to walk in multiple directions to find a way out.\")\n",
    "print(\"\")\n",
    "name = input(\"Enter your name to begin the game: \")\n",
    "print(f\"\\nAll the best, {name}!\\n\")\n",
    "\n",
    "#start\n",
    "location1()\n"
   ]
  },
  {
   "cell_type": "markdown",
   "id": "c64b1ef5",
   "metadata": {},
   "source": [
    "25. Build a program that solves a linear equation  for x, considering different cases."
   ]
  },
  {
   "cell_type": "code",
   "execution_count": 4,
   "id": "a5d6b522",
   "metadata": {},
   "outputs": [
    {
     "name": "stdout",
     "output_type": "stream",
     "text": [
      "Enter the coefficient a: 1\n",
      "Enter the coefficient b: -5\n",
      "x = 5.0\n"
     ]
    }
   ],
   "source": [
    "def solve_linear_equation(a, b):\n",
    "    if a == 0 and b == 0:\n",
    "        return \"Infinite solutions\"\n",
    "    elif a == 0 and b != 0:\n",
    "        return \"No solution\"\n",
    "    else:\n",
    "        x = -b / a\n",
    "        return x\n",
    "\n",
    "# Linear equation: ax+b=0\n",
    "# Get coefficients a and b\n",
    "a = int(input(\"Enter the coefficient a: \"))\n",
    "b = int(input(\"Enter the coefficient b: \"))\n",
    "\n",
    "print(f\"x = {solve_linear_equation(a, b)}\")\n"
   ]
  },
  {
   "cell_type": "markdown",
   "id": "87497c02",
   "metadata": {},
   "source": [
    "26. Write a program that simulates a basic quiz game with multiple-choice questions and scoring."
   ]
  },
  {
   "cell_type": "code",
   "execution_count": 9,
   "id": "a417d856",
   "metadata": {},
   "outputs": [
    {
     "name": "stdout",
     "output_type": "stream",
     "text": [
      "Which city is situated at the banks of Yamuna river?\n",
      "1. Chennai\n",
      "2. Delhi\n",
      "3. Ahmedabad\n",
      "4. Surat\n",
      "Enter your answer (1-4): 2\n",
      "Correct!\n",
      "What is the Chandrayan mission related to?\n",
      "1. Sun\n",
      "2. Space\n",
      "3. Moon\n",
      "4. Indian Ocean\n",
      "Enter your answer (1-4): 4\n",
      "Incorrect!\n",
      "Who founded Indian National Army?\n",
      "1. M K Gandhi\n",
      "2. J L Nehru\n",
      "3. S C Bose\n",
      "4. Sardar Patel\n",
      "Enter your answer (1-4): 3\n",
      "Correct!\n",
      "Your final score is 2 out of 3.\n"
     ]
    }
   ],
   "source": [
    "def quiz():\n",
    "    score = 0\n",
    "    questions = [\n",
    "        {\n",
    "            \"question\": \"Which city is situated at the banks of Yamuna river?\",\n",
    "            \"options\": [\"Chennai\", \"Delhi\", \"Ahmedabad\", \"Surat\"],\n",
    "            \"answer\": \"Delhi\"\n",
    "        },\n",
    "        {\n",
    "            \"question\": \"What is the Chandrayan mission related to?\",\n",
    "            \"options\": [\"Sun\", \"Space\", \"Moon\", \"Indian Ocean\"],\n",
    "            \"answer\": \"Moon\"\n",
    "        },\n",
    "        {\n",
    "            \"question\": \"Who founded Indian National Army?\",\n",
    "            \"options\": [\"M K Gandhi\", \"J L Nehru\", \"S C Bose\", \"Sardar Patel\"],\n",
    "            \"answer\": \"S C Bose\"\n",
    "        }\n",
    "    ]\n",
    "\n",
    "    for question in questions:\n",
    "        print(question[\"question\"])\n",
    "        for i, option in enumerate(question[\"options\"], start=1):\n",
    "            print(f\"{i}. {option}\")\n",
    "        user_answer = input(\"Enter your answer (1-4): \")\n",
    "        if user_answer == str(question[\"options\"].index(question[\"answer\"]) + 1):\n",
    "            print(\"Correct!\")\n",
    "            score += 1\n",
    "        else:\n",
    "            print(\"Incorrect!\")\n",
    "    print(f\"Your final score is {score} out of {len(questions)}.\")\n",
    "\n",
    "quiz()\n"
   ]
  },
  {
   "cell_type": "markdown",
   "id": "6f9394eb",
   "metadata": {},
   "source": [
    "27. Develop a program that determines whether a given year is a prime number or not."
   ]
  },
  {
   "cell_type": "code",
   "execution_count": 11,
   "id": "7eabea92",
   "metadata": {},
   "outputs": [
    {
     "name": "stdout",
     "output_type": "stream",
     "text": [
      "Enter a year: 1931\n",
      "1931 is a prime year.\n"
     ]
    }
   ],
   "source": [
    "num27 = int(input(\"Enter a year: \"))\n",
    "\n",
    "# Check if the number is valid\n",
    "if num27 <= 0:\n",
    "    print(\"Invalid year. Please enter a valid year.\")\n",
    "else:\n",
    "    if num27 == 1:\n",
    "        print(\"1 is neither prime nor composite.\")\n",
    "    else:\n",
    "        # Set flag as True\n",
    "        prime = True\n",
    "        # Loop from 2 to the square root of the number\n",
    "        for i in range(2, int(num27**0.5) + 1):\n",
    "            # Check if the number is divisible by i\n",
    "            if num27 % i == 0:\n",
    "                # The number is not prime\n",
    "                prime = False\n",
    "                break\n",
    "                \n",
    "        # Check the value of prime\n",
    "        if prime:\n",
    "            print(f\"{num27} is a prime year.\")\n",
    "        else:\n",
    "            print(f\"{num27} is not a prime year.\")\n"
   ]
  },
  {
   "cell_type": "markdown",
   "id": "939ae1e9",
   "metadata": {},
   "source": [
    "28. Create a program that sorts three numbers in ascending order using conditional statements."
   ]
  },
  {
   "cell_type": "code",
   "execution_count": 54,
   "id": "cda45932",
   "metadata": {},
   "outputs": [
    {
     "name": "stdout",
     "output_type": "stream",
     "text": [
      "Enter the first number: 10\n",
      "Enter the second number: 30\n",
      "Enter the third number: 21\n",
      "The numbers in ascending order are 10, 21, and 30.\n"
     ]
    }
   ],
   "source": [
    "a = int(input(\"Enter the first number: \"))\n",
    "b = int(input(\"Enter the second number: \"))\n",
    "c = int(input(\"Enter the third number: \"))\n",
    "\n",
    "if a <= b and a <= c:\n",
    "    smallest = a\n",
    "    if b <= c:\n",
    "        middle = b\n",
    "        largest = c\n",
    "    else:\n",
    "        middle = c\n",
    "        largest = b\n",
    "elif b <= a and b <= c:\n",
    "    smallest = b\n",
    "    if a <= c:\n",
    "        middle = a\n",
    "        largest = c\n",
    "    else:\n",
    "        middle = c\n",
    "        largest = a\n",
    "else:\n",
    "    smallest = c\n",
    "    if a <= b:\n",
    "        middle = a\n",
    "        largest = b\n",
    "    else:\n",
    "        middle = b\n",
    "        largest = a\n",
    "\n",
    "print(f\"The numbers in ascending order are {smallest}, {middle}, and {largest}.\")\n"
   ]
  },
  {
   "cell_type": "markdown",
   "id": "74e376c8",
   "metadata": {},
   "source": [
    "29. Build a program that determines the roots of a quartic equation using numerical methods."
   ]
  },
  {
   "cell_type": "code",
   "execution_count": null,
   "id": "015aafdb",
   "metadata": {},
   "outputs": [],
   "source": [
    "# Newton-Raphson method\n",
    "def solve_quartic_equation(a, b, c, d, e):\n",
    "    x = 1.0\n",
    "    for i in range(100):\n",
    "        fx = a*x**4 + b*x**3 + c*x**2 + d*x + e\n",
    "        fpx = 4*a*x**3 + 3*b*x**2 + 2*c*x + d\n",
    "        x = x - fx/fpx\n",
    "    return x\n",
    "\n",
    "a = float(input(\"Enter the coefficient of x^4: \"))\n",
    "b = float(input(\"Enter the coefficient of x^3: \"))\n",
    "c = float(input(\"Enter the coefficient of x^2: \"))\n",
    "d = float(input(\"Enter the coefficient of x: \"))\n",
    "e = float(input(\"Enter the constant term: \"))\n",
    "\n",
    "root = solve_quartic_equation(a, b, c, d, e)\n",
    "print(f\"The root of the quartic equation is {root}.\")\n"
   ]
  },
  {
   "cell_type": "markdown",
   "id": "577f7eac",
   "metadata": {},
   "source": [
    "30. Write a program that calculates the BMI (Body Mass Index) and provides health recommendations based \n",
    "on the user's input."
   ]
  },
  {
   "cell_type": "code",
   "execution_count": 48,
   "id": "34dbba35",
   "metadata": {},
   "outputs": [
    {
     "name": "stdout",
     "output_type": "stream",
     "text": [
      "Enter the weight in kilograms: 90\n",
      "Enter the height in meters: 1.65\n",
      "Your BMI is 33.06 and you are obese.\n",
      "Recommendation: You need to workout atleast 6 times a week. Eat mindfully.\n"
     ]
    }
   ],
   "source": [
    "weight = float(input(\"Enter the weight in kilograms: \"))\n",
    "height = float(input(\"Enter the height in meters: \"))\n",
    "\n",
    "recommendation = \"\"\n",
    "\n",
    "# Calculate the BMI using the formula: BMI = weight / height^2\n",
    "bmi = weight / (height ** 2)\n",
    "\n",
    "# Check if the BMI is valid\n",
    "if bmi <= 0:\n",
    "    print(\"Invalid BMI. Please enter correct details.\")\n",
    "else:\n",
    "    if bmi < 18.5:\n",
    "        category = \"underweight\"\n",
    "        recommendation = \"You need to increase your muscle mass. Eat protein and fibre rich foods.\"\n",
    "    elif bmi < 25:\n",
    "        category = \"normal\"\n",
    "        recommendation = \"You are already doing great. Keep it up.\"\n",
    "    elif bmi < 30:\n",
    "        category = \"overweight\"\n",
    "        recommendation = \"You need to workout atleast 3 times a week. Eat protein, fibre rich foods.\"\n",
    "    else:\n",
    "        category = \"obese\"\n",
    "        recommendation = \"You need to workout atleast 6 times a week. Eat mindfully.\"\n",
    "    # Print the result\n",
    "    print(f\"Your BMI is {bmi:.2f} and you are {category}.\")\n",
    "    print(f\"Recommendation: {recommendation}\")\n"
   ]
  },
  {
   "cell_type": "markdown",
   "id": "95ac5fcc",
   "metadata": {},
   "source": [
    "## Challenge Level: "
   ]
  },
  {
   "cell_type": "markdown",
   "id": "fa630c4a",
   "metadata": {},
   "source": [
    "31. Create a program that validates a password based on complexity rules (length, characters, etc.)."
   ]
  },
  {
   "cell_type": "code",
   "execution_count": 15,
   "id": "afbb7503",
   "metadata": {},
   "outputs": [
    {
     "name": "stdout",
     "output_type": "stream",
     "text": [
      "Enter a password: Password@$!%48\n",
      "Password is valid.\n"
     ]
    }
   ],
   "source": [
    "import re\n",
    "\n",
    "def is_valid_password(password):\n",
    "    # Check if the password length is at least 8 characters\n",
    "    if len(password) < 8:\n",
    "        return False\n",
    "    \n",
    "    # Check for at least one uppercase letter\n",
    "    if not re.search(r'[A-Z]', password):\n",
    "        return False\n",
    "    \n",
    "    # Check for at least one lowercase letter\n",
    "    if not re.search(r'[a-z]', password):\n",
    "        return False\n",
    "    \n",
    "    # Check for at least one digit\n",
    "    if not re.search(r'[0-9]', password):\n",
    "        return False\n",
    "    \n",
    "    # Check for at least one special character\n",
    "    if not re.search(r'[!@#$%^&*()-_=+[\\]{}|;:\\'\",.<>?/]', password):\n",
    "        return False\n",
    "    \n",
    "    # If all conditions are met, the password is valid\n",
    "    return True\n",
    "\n",
    "# Test the password validation function\n",
    "password = input(\"Enter a password: \")\n",
    "\n",
    "if is_valid_password(password):\n",
    "    print(\"Password is valid.\")\n",
    "else:\n",
    "    print(\"Password is not valid\")\n"
   ]
  },
  {
   "cell_type": "markdown",
   "id": "6253844c",
   "metadata": {},
   "source": [
    "32. Develop a program that performs matrix addition and subtraction based on user input."
   ]
  },
  {
   "cell_type": "code",
   "execution_count": 21,
   "id": "f43c0c2f",
   "metadata": {},
   "outputs": [
    {
     "name": "stdout",
     "output_type": "stream",
     "text": [
      "Matrix 1:\n",
      "[[1 2]\n",
      " [3 4]]\n",
      "Matrix 2:\n",
      "[[4 5]\n",
      " [6 7]]\n",
      "Addition of matrices:\n",
      "[[ 5  7]\n",
      " [ 9 11]]\n",
      "Subtraction of matrices:\n",
      "[[-3 -3]\n",
      " [-3 -3]]\n"
     ]
    }
   ],
   "source": [
    "import numpy as np\n",
    "\n",
    "def addition(m1, m2):\n",
    "    return np.add(m1, m2)\n",
    "\n",
    "def subtraction(m1, m2):\n",
    "    return np.subtract(m1, m2)\n",
    "\n",
    "# Matrices m1 and m2\n",
    "m1 = np.array([[1, 2], [3, 4]])\n",
    "m2 = np.array([[4, 5], [6, 7]])\n",
    "\n",
    "print(\"Matrix 1:\")\n",
    "print(m1)\n",
    "print(\"Matrix 2:\")\n",
    "print(m2)\n",
    "print(\"Addition of matrices:\")\n",
    "print(addition(m1, m2))\n",
    "print(\"Subtraction of matrices:\")\n",
    "print(subtraction(m1, m2))\n"
   ]
  },
  {
   "cell_type": "markdown",
   "id": "ce42cc73",
   "metadata": {},
   "source": [
    "33. Write a program that calculates the greatest common divisor (GCD) of two numbers using the Euclidean algorithm."
   ]
  },
  {
   "cell_type": "code",
   "execution_count": 24,
   "id": "e2e0b767",
   "metadata": {},
   "outputs": [
    {
     "name": "stdout",
     "output_type": "stream",
     "text": [
      "Enter first number: 24\n",
      "Enter first number: 18\n",
      "The GCD of 24 and 18 is 6\n"
     ]
    }
   ],
   "source": [
    "def gcd(a, b):\n",
    "    while b:\n",
    "        a, b = b, a % b\n",
    "    return abs(a)\n",
    "\n",
    "num1 = int(input(\"Enter first number: \"))\n",
    "num2 = int(input(\"Enter first number: \"))\n",
    "\n",
    "print(\"The GCD of\", num1, \"and\", num2, \"is\", gcd(num1, num2))\n"
   ]
  },
  {
   "cell_type": "markdown",
   "id": "a348f0e8",
   "metadata": {},
   "source": [
    "34. Build a program that performs matrix multiplication using nested loops and conditional statements."
   ]
  },
  {
   "cell_type": "code",
   "execution_count": 32,
   "id": "daac8456",
   "metadata": {},
   "outputs": [
    {
     "name": "stdout",
     "output_type": "stream",
     "text": [
      "Matrix 1:\n",
      "[1, 3]\n",
      "[4, 2]\n",
      "Matrix 2:\n",
      "[8, 5]\n",
      "[7, 6]\n",
      "Multiplication of matrices:\n",
      "[29, 23]\n",
      "[46, 32]\n"
     ]
    }
   ],
   "source": [
    "def multiplication(matrix1, matrix2):\n",
    "    #initialize with 0\n",
    "    result = [[0 for j in range(len(matrix2[0]))] for i in range(len(matrix1))]\n",
    "    \n",
    "    for i in range(len(matrix1)):\n",
    "        for j in range(len(matrix2[0])):\n",
    "            for k in range(len(matrix2)):\n",
    "                result[i][j] += matrix1[i][k] * matrix2[k][j]\n",
    "    return result\n",
    "\n",
    "matrix1 = [[1, 3], [4, 2]]\n",
    "matrix2 = [[8, 5], [7, 6]]\n",
    "\n",
    "print(\"Matrix 1:\")\n",
    "for row in matrix1:\n",
    "    print(row)\n",
    "print(\"Matrix 2:\")\n",
    "for row in matrix2:\n",
    "    print(row)\n",
    "    \n",
    "print(\"Multiplication of matrices:\")\n",
    "for row in multiplication(matrix1, matrix2):\n",
    "    print(row)"
   ]
  },
  {
   "cell_type": "markdown",
   "id": "fb8a1815",
   "metadata": {},
   "source": [
    "36. Write a program that generates Fibonacci numbers up to a specified term using iterative methods."
   ]
  },
  {
   "cell_type": "code",
   "execution_count": 34,
   "id": "5193a237",
   "metadata": {},
   "outputs": [
    {
     "name": "stdout",
     "output_type": "stream",
     "text": [
      "Specify the term. Enter the value of n: 10\n",
      "Fibonacci sequence upto 10: \n",
      "0\n",
      "1\n",
      "1\n",
      "2\n",
      "3\n",
      "5\n",
      "8\n",
      "13\n",
      "21\n",
      "34\n"
     ]
    }
   ],
   "source": [
    "def fibonacci_sequence(x: int):\n",
    "    # initialize the first two terms\n",
    "    a, b = 0, 1\n",
    "\n",
    "    # check if n is a valid number\n",
    "    if n <= 0:\n",
    "        print(\"Please enter a positive integer greater than 0\")\n",
    "    elif n == 1:\n",
    "        print(f\"Fibonacci sequence upto {n}: \")\n",
    "        print(a)\n",
    "    else:\n",
    "        print(f\"Fibonacci sequence upto {n}: \")\n",
    "        for i in range(n):\n",
    "            print(a)\n",
    "            c = a + b\n",
    "            # update values\n",
    "            a = b\n",
    "            b = c\n",
    "\n",
    "n = int(input(\"Specify the term. Enter the value of n: \"))\n",
    "fibonacci_sequence(n)\n"
   ]
  },
  {
   "cell_type": "markdown",
   "id": "e73dd1f7",
   "metadata": {},
   "source": [
    "37. Develop a program that calculates the nth term of the Fibonacci sequence using memoization."
   ]
  },
  {
   "cell_type": "code",
   "execution_count": 37,
   "id": "3e34aade",
   "metadata": {},
   "outputs": [
    {
     "name": "stdout",
     "output_type": "stream",
     "text": [
      "The 6 th term of the Fibonacci sequence is 8\n"
     ]
    }
   ],
   "source": [
    "def fibonacci(n, memo={}):\n",
    "    if n in memo:\n",
    "        return memo[n]\n",
    "    if n <= 2:\n",
    "        return 1\n",
    "    memo[n] = fibonacci(n - 1, memo) + fibonacci(n - 2, memo)\n",
    "    return memo[n]\n",
    "\n",
    "# Define term\n",
    "n = 6\n",
    "print(\"The\", n, \"th term of the Fibonacci sequence is\", fibonacci(n))\n"
   ]
  },
  {
   "cell_type": "markdown",
   "id": "42514866",
   "metadata": {},
   "source": [
    "38. Create a program that generates a calendar for a given month and year using conditional statements."
   ]
  },
  {
   "cell_type": "code",
   "execution_count": 47,
   "id": "ae968fe9",
   "metadata": {},
   "outputs": [
    {
     "name": "stdout",
     "output_type": "stream",
     "text": [
      "September 2023\n",
      "Su Mo Tu We Th Fr Sa\n",
      "             1  2  3 \n",
      " 4  5  6  7  8  9 10 \n",
      "11 12 13 14 15 16 17 \n",
      "18 19 20 21 22 23 24 \n",
      "25 26 27 28 29 30 \n"
     ]
    }
   ],
   "source": [
    "import calendar\n",
    "\n",
    "def generate_calendar(month, year):\n",
    "    # Find the number of days in a month\n",
    "    num_days = calendar.monthrange(year, list(calendar.month_name).index(month))[1]\n",
    "\n",
    "    # Find the first day of the month\n",
    "    first_day_of_month = calendar.weekday(year, list(calendar.month_name).index(month), 1)\n",
    "\n",
    "    # Print the calendar\n",
    "    print(f\"{month} {year}\")\n",
    "    print(\"Su Mo Tu We Th Fr Sa\")\n",
    "    for i in range(first_day_of_month):\n",
    "        print(\"   \", end=\"\")\n",
    "    for i in range(1, num_days + 1):\n",
    "        print(f\"{i:2d} \", end=\"\")\n",
    "        if (i + first_day_of_month) % 7 == 0:\n",
    "            print()\n",
    "    if (i + first_day_of_month) % 7 != 0:\n",
    "        print()\n",
    "\n",
    "# Example usage\n",
    "generate_calendar(\"September\", 2023)\n"
   ]
  },
  {
   "cell_type": "markdown",
   "id": "f986e2b3",
   "metadata": {},
   "source": [
    "40. Write a program that generates the prime factors of a given number using trial division."
   ]
  },
  {
   "cell_type": "code",
   "execution_count": 52,
   "id": "e02f1873",
   "metadata": {},
   "outputs": [
    {
     "name": "stdout",
     "output_type": "stream",
     "text": [
      "The prime factors of 60 are [2, 2, 3, 5]\n"
     ]
    }
   ],
   "source": [
    "def trial_division(n):\n",
    "    factors = []\n",
    "    d = 2\n",
    "    while d * d <= n:\n",
    "        while (n % d) == 0:\n",
    "            factors.append(d)\n",
    "            n //= d\n",
    "        d += 1\n",
    "    if n > 1:\n",
    "        factors.append(n)\n",
    "    return factors\n",
    "\n",
    "\n",
    "n = 60\n",
    "print(\"The prime factors of\", n, \"are\", trial_division(n))\n"
   ]
  },
  {
   "cell_type": "code",
   "execution_count": null,
   "id": "010c8b14",
   "metadata": {},
   "outputs": [],
   "source": []
  }
 ],
 "metadata": {
  "kernelspec": {
   "display_name": "Python 3 (ipykernel)",
   "language": "python",
   "name": "python3"
  },
  "language_info": {
   "codemirror_mode": {
    "name": "ipython",
    "version": 3
   },
   "file_extension": ".py",
   "mimetype": "text/x-python",
   "name": "python",
   "nbconvert_exporter": "python",
   "pygments_lexer": "ipython3",
   "version": "3.9.12"
  }
 },
 "nbformat": 4,
 "nbformat_minor": 5
}
